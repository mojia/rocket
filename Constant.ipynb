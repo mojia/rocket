{
 "cells": [
  {
   "cell_type": "code",
   "execution_count": 6,
   "metadata": {},
   "outputs": [],
   "source": [
    "day_dir = '/Users/xinwang/stock/data/day/'\n",
    "week_dir = '/Users/xinwang/stock/data/week/'\n",
    "report_dir = '/Users/xinwang/stock/data/report/'\n",
    "section_dir = '/Users/xinwang/stock/data/sections/'\n",
    "original_section_dir = '/Users/xinwang/stock/data/original_sections/'\n",
    "\n",
    "\n",
    "debug=False\n",
    "\n",
    "level_30F = '30F'\n",
    "level_day = 'Day'\n",
    "level_week = 'Week'\n",
    "\n",
    "k_columns = ['date','open','high','low','close','volume','amount']\n",
    "\n",
    "\n",
    "# 当变更了划分波段的逻辑时，需要升版本号\n",
    "section_version='V0.5'\n",
    "section_columns=['symbol','s_date','e_date','ampl','ma_per',\n",
    "                 'periods','boll','price_incre_per',\n",
    "                 'ma_short_direction','ma_mid_direction',\n",
    "                 'break_mid_ma_price_incre'\n",
    "                ]\n",
    "\n",
    "\n",
    "day_level_prefix='D_'\n",
    "week_level_prefix='W_'\n",
    "\n",
    "\n",
    "\n",
    "\n",
    "ma_upturn_direction='Up'\n",
    "ma_downturn_direction='Down'\n",
    "ma_unknow_direction='Unknown'"
   ]
  },
  {
   "cell_type": "code",
   "execution_count": null,
   "metadata": {},
   "outputs": [],
   "source": []
  }
 ],
 "metadata": {
  "kernelspec": {
   "display_name": "ai",
   "language": "python",
   "name": "ai"
  },
  "language_info": {
   "codemirror_mode": {
    "name": "ipython",
    "version": 3
   },
   "file_extension": ".py",
   "mimetype": "text/x-python",
   "name": "python",
   "nbconvert_exporter": "python",
   "pygments_lexer": "ipython3",
   "version": "3.6.6"
  }
 },
 "nbformat": 4,
 "nbformat_minor": 2
}
