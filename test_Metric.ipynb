{
 "cells": [
  {
   "cell_type": "code",
   "execution_count": 27,
   "metadata": {},
   "outputs": [
    {
     "name": "stdout",
     "output_type": "stream",
     "text": [
      "         date     open     high      low    close    volume        amount  \\\n",
      "0  2000-02-14  1591.44  1674.13  1587.81  1673.94  43645603  2.658769e+10   \n",
      "1  2000-02-15  1709.22  1746.44  1663.00  1670.67  52609049  3.893643e+10   \n",
      "2  2000-02-16  1674.93  1695.88  1649.69  1693.10  37505374  3.601422e+10   \n",
      "3  2000-02-17  1734.26  1770.88  1615.62  1640.64  51469905  4.991534e+10   \n",
      "4  2000-02-18  1623.96  1668.16  1583.58  1668.09  26813271  2.699497e+10   \n",
      "5  2000-02-21  1681.36  1697.01  1652.47  1677.13  31115033  3.385358e+10   \n",
      "6  2000-02-22  1681.29  1687.51  1627.46  1632.29  24350054  2.708901e+10   \n",
      "7  2000-02-23  1618.00  1630.54  1586.63  1594.93  19271226  1.942353e+10   \n",
      "8  2000-02-24  1593.94  1634.32  1593.92  1634.30  14011418  1.527643e+10   \n",
      "9  2000-02-25  1639.91  1650.36  1618.17  1631.57  17118013  1.915608e+10   \n",
      "\n",
      "    datetime  year  week  \n",
      "0 2000-02-14  2000     7  \n",
      "1 2000-02-15  2000     7  \n",
      "2 2000-02-16  2000     7  \n",
      "3 2000-02-17  2000     7  \n",
      "4 2000-02-18  2000     7  \n",
      "5 2000-02-21  2000     8  \n",
      "6 2000-02-22  2000     8  \n",
      "7 2000-02-23  2000     8  \n",
      "8 2000-02-24  2000     8  \n",
      "9 2000-02-25  2000     8  \n"
     ]
    },
    {
     "data": {
      "text/plain": [
       "1631.57"
      ]
     },
     "execution_count": 27,
     "metadata": {},
     "output_type": "execute_result"
    }
   ],
   "source": [
    "%run Util.ipynb\n",
    "%run Metric.ipynb\n",
    "\n",
    "import pandas as pd\n",
    "\n",
    "symbol='SH#999999'\n",
    "metric = Metric(symbol,level_day,30,60)\n",
    "\n",
    "metric.get_latest_price('2000-02-25')\n"
   ]
  },
  {
   "cell_type": "code",
   "execution_count": null,
   "metadata": {},
   "outputs": [],
   "source": [
    "%run Util.ipynb\n",
    "%run Metric.ipynb\n",
    "\n",
    "import pandas as pd\n",
    "\n",
    "symbol='SZ#002591'\n",
    "\n",
    "\n",
    "metric = Metric(symbol,level_day,30,60)\n",
    "\n",
    "\n",
    "for date in ['2019-01-02','2019-01-03','2019-01-04','2019-01-07','2019-01-08',\n",
    "            '2019-01-09','2019-01-10','2019-01-11','2019-01-14','2019-01-15',\n",
    "             '2019-01-16','2019-01-17']:\n",
    "    print(date+ ' ' +metric.ma_direction(date, 30)+'\\n')\n",
    "\n"
   ]
  },
  {
   "cell_type": "code",
   "execution_count": null,
   "metadata": {},
   "outputs": [],
   "source": []
  }
 ],
 "metadata": {
  "kernelspec": {
   "display_name": "ai",
   "language": "python",
   "name": "ai"
  },
  "language_info": {
   "codemirror_mode": {
    "name": "ipython",
    "version": 3
   },
   "file_extension": ".py",
   "mimetype": "text/x-python",
   "name": "python",
   "nbconvert_exporter": "python",
   "pygments_lexer": "ipython3",
   "version": "3.6.6"
  }
 },
 "nbformat": 4,
 "nbformat_minor": 2
}
