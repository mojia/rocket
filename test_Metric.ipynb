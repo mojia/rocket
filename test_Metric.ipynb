{
 "cells": [
  {
   "cell_type": "code",
   "execution_count": 27,
   "metadata": {},
   "outputs": [
    {
     "name": "stdout",
     "output_type": "stream",
     "text": [
      "           date     open     high      low    close    volume        amount  \\\n",
      "238  2001-02-09  1935.18  1963.32  1935.18  1956.97  11237019  8.405288e+09   \n",
      "\n",
      "      datetime  year  week  \n",
      "238 2001-02-09  2001     6  \n",
      "------------------------\n",
      "art_value 35.400999999999975\n"
     ]
    }
   ],
   "source": [
    "%run Util.ipynb\n",
    "%run Metric.ipynb\n",
    "\n",
    "import pandas as pd\n",
    "\n",
    "symbol='SH#999999'\n",
    "metric = Metric(symbol,level_day,30,60)\n",
    "\n",
    "metric.get_latest_price('2000-02-25')\n",
    "\n",
    "yester = metric.yesterday('2001-02-12')\n",
    "print(str(yester))\n",
    "\n",
    "print('------------------------')\n",
    "art_value = metric.art('2001-02-12')\n",
    "print('art_value '+str(art_value))"
   ]
  },
  {
   "cell_type": "code",
   "execution_count": null,
   "metadata": {},
   "outputs": [],
   "source": [
    "%run Util.ipynb\n",
    "%run Metric.ipynb\n",
    "\n",
    "import pandas as pd\n",
    "\n",
    "symbol='SZ#002591'\n",
    "\n",
    "\n",
    "metric = Metric(symbol,level_day,30,60)\n",
    "\n",
    "\n",
    "for date in ['2019-01-02','2019-01-03','2019-01-04','2019-01-07','2019-01-08',\n",
    "            '2019-01-09','2019-01-10','2019-01-11','2019-01-14','2019-01-15',\n",
    "             '2019-01-16','2019-01-17']:\n",
    "    print(date+ ' ' +metric.ma_direction(date, 30)+'\\n')\n",
    "\n"
   ]
  },
  {
   "cell_type": "code",
   "execution_count": 8,
   "metadata": {},
   "outputs": [
    {
     "data": {
      "text/plain": [
       "True"
      ]
     },
     "execution_count": 8,
     "metadata": {},
     "output_type": "execute_result"
    }
   ],
   "source": [
    "%run Util.ipynb\n",
    "%run Metric.ipynb\n",
    "\n",
    "import pandas as pd\n",
    "\n",
    "symbol='SZ#300128'\n",
    "metric = Metric(symbol,level_day,30,60)\n",
    "killed = metric.be_killed('2016-06-23','2016-08-17',10)\n",
    "killed"
   ]
  },
  {
   "cell_type": "code",
   "execution_count": null,
   "metadata": {},
   "outputs": [],
   "source": []
  }
 ],
 "metadata": {
  "kernelspec": {
   "display_name": "ai",
   "language": "python",
   "name": "ai"
  },
  "language_info": {
   "codemirror_mode": {
    "name": "ipython",
    "version": 3
   },
   "file_extension": ".py",
   "mimetype": "text/x-python",
   "name": "python",
   "nbconvert_exporter": "python",
   "pygments_lexer": "ipython3",
   "version": "3.6.6"
  }
 },
 "nbformat": 4,
 "nbformat_minor": 2
}
