{
 "cells": [
  {
   "cell_type": "code",
   "execution_count": null,
   "metadata": {},
   "outputs": [],
   "source": [
    "def test():\n",
    "    initial_money=100000\n",
    "\n",
    "    report_summary = pd.DataFrame(columns=report_columns)\n",
    "    summary = buy_and_sell('2007-07-05','2010-10-18',report_summary, short=10, mid=50)\n",
    "    print(summary)\n",
    "    print('Done')\n",
    "\n",
    "    \n",
    "# test()"
   ]
  },
  {
   "cell_type": "code",
   "execution_count": null,
   "metadata": {},
   "outputs": [],
   "source": [
    "def grid_search_ma():\n",
    "    shorts = range(5,40,10)\n",
    "    mids = range(10,80,10)\n",
    "    \n",
    "    initial_money=100000\n",
    "    report_summary = pd.DataFrame(columns=report_columns)\n",
    "    \n",
    "    for short_item in shorts:\n",
    "        for mid_item in mids:\n",
    "            if(mid_item>short_item):\n",
    "                summary = buy_and_sell('2011-06-02','2019-02-15', report_summary, short_item, mid_item)\n",
    "                print('done search MA(' + str(short_item) + ',' + str(mid_item) + ')')\n",
    "\n",
    "    return report_summary\n",
    "\n",
    "# summary = grid_search_ma()\n",
    "# summary.sort_values(by=['total_profit','retrace_score','period_score'], ascending=False)"
   ]
  }
 ],
 "metadata": {
  "kernelspec": {
   "display_name": "ai",
   "language": "python",
   "name": "ai"
  },
  "language_info": {
   "codemirror_mode": {
    "name": "ipython",
    "version": 3
   },
   "file_extension": ".py",
   "mimetype": "text/x-python",
   "name": "python",
   "nbconvert_exporter": "python",
   "pygments_lexer": "ipython3",
   "version": "3.6.6"
  }
 },
 "nbformat": 4,
 "nbformat_minor": 2
}
