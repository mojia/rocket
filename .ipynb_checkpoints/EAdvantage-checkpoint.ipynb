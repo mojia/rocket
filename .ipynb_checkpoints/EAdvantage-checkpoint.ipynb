{
 "cells": [
  {
   "cell_type": "code",
   "execution_count": null,
   "metadata": {
    "scrolled": false
   },
   "outputs": [
    {
     "name": "stdout",
     "output_type": "stream",
     "text": [
      "build SZ#000001 break sections\n",
      "start to analyse Day level SZ#000001 all break sections...\n"
     ]
    }
   ],
   "source": [
    "%run BreakHighestAnalyser.ipynb\n",
    "\n",
    "class EAdvantage:\n",
    "    \n",
    "    def __init__(self,scale,short,mid):\n",
    "        self.scale = scale\n",
    "        self.short = short\n",
    "        self.mid = mid\n",
    "        \n",
    "    def compute_E_rate(self):\n",
    "        analyser = BreakHighestAnalyser(self.scale,level_day,self.short,self.mid)\n",
    "        sections_df = analyser.get_all_sections_of_all_symbols()\n",
    "        \n",
    "        total = e_df.shape[0]\n",
    "        avg_mfe = sections_df['mfe'].sum()/total\n",
    "        avg_mae = sections_df['mae'].sum()/total\n",
    "        \n",
    "        e_rate = avg_mfe/avg_mae\n",
    "        \n",
    "        return e_rate\n",
    "        \n",
    "    \n",
    "eAdvantage = EAdvantage(100,30,60)\n",
    "e_rate = eAdvantage.compute_E_rate()\n",
    "e_rate\n",
    "        "
   ]
  },
  {
   "cell_type": "code",
   "execution_count": null,
   "metadata": {},
   "outputs": [],
   "source": []
  }
 ],
 "metadata": {
  "kernelspec": {
   "display_name": "ai",
   "language": "python",
   "name": "ai"
  },
  "language_info": {
   "codemirror_mode": {
    "name": "ipython",
    "version": 3
   },
   "file_extension": ".py",
   "mimetype": "text/x-python",
   "name": "python",
   "nbconvert_exporter": "python",
   "pygments_lexer": "ipython3",
   "version": "3.6.6"
  }
 },
 "nbformat": 4,
 "nbformat_minor": 2
}
