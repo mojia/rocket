{
 "cells": [
  {
   "cell_type": "code",
   "execution_count": 7,
   "metadata": {},
   "outputs": [
    {
     "name": "stdout",
     "output_type": "stream",
     "text": [
      "2015-11-06 latest_on_boll False\n",
      "2015-11-06 boll_direc Down\n"
     ]
    },
    {
     "data": {
      "text/plain": [
       "1800"
      ]
     },
     "execution_count": 7,
     "metadata": {},
     "output_type": "execute_result"
    }
   ],
   "source": [
    "%run Risk.ipynb\n",
    "%run Account.ipynb\n",
    "\n",
    "\n",
    "short=30\n",
    "mid=60\n",
    "symbol = 'SZ#002274'\n",
    "\n",
    "account = Account(100000, '2015-05-22', '2016-01-08',short,mid)\n",
    "risk = Risk(account,symbol,short,mid)\n",
    "\n",
    "risk.buy_how_many('2015-11-10',11.10)\n"
   ]
  },
  {
   "cell_type": "code",
   "execution_count": null,
   "metadata": {},
   "outputs": [],
   "source": []
  }
 ],
 "metadata": {
  "kernelspec": {
   "display_name": "Python 3",
   "language": "python",
   "name": "python3"
  },
  "language_info": {
   "codemirror_mode": {
    "name": "ipython",
    "version": 3
   },
   "file_extension": ".py",
   "mimetype": "text/x-python",
   "name": "python",
   "nbconvert_exporter": "python",
   "pygments_lexer": "ipython3",
   "version": "3.6.8"
  }
 },
 "nbformat": 4,
 "nbformat_minor": 2
}
