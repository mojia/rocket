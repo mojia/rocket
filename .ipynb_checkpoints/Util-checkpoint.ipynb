{
 "cells": [
  {
   "cell_type": "code",
   "execution_count": 24,
   "metadata": {},
   "outputs": [],
   "source": [
    "import datetime as dt\n",
    "from datetime import datetime\n",
    "import time\n",
    "\n",
    "import os\n",
    "\n",
    "%run Constant.ipynb\n",
    "\n",
    "debug=True\n",
    "\n",
    "def tostr(float_number):\n",
    "    return '%.2f' % float_number\n",
    "\n",
    "def out_of_range(date,start_datetime,end_datetime):\n",
    "    year_s, mon_s, day_s = date.split('-')\n",
    "    cur_datetime = datetime(int(year_s), int(mon_s), int(day_s))\n",
    "    \n",
    "    return cur_datetime<start_datetime or cur_datetime>end_datetime\n",
    "    "
   ]
  },
  {
   "cell_type": "code",
   "execution_count": 25,
   "metadata": {},
   "outputs": [],
   "source": [
    "YMD_format = '%Y-%m-%d'\n",
    "\n",
    "def to_date_str(datetime_value):\n",
    "    return datetime_value.strftime(YMD_format)\n",
    "\n",
    "def to_datetime(date_str):\n",
    "    return datetime.strptime(date_str,YMD_format) \n",
    "\n",
    "\n",
    "def to_pd_datetime(date_str):\n",
    "    var_datetime = to_datetime(date_str)\n",
    "    return pd.datetime(var_datetime.year,var_datetime.month,var_datetime.day)\n",
    "\n",
    "def to_seconds(date_str):\n",
    "    datetime_value = to_datetime(date_str)\n",
    "    return time.mktime(datetime_value.timetuple())\n",
    "\n",
    "\n",
    "def the_early_date(dates):\n",
    "    min_time = 9999999999.0\n",
    "    early_date = ''\n",
    "    \n",
    "    for date in dates:\n",
    "        sections_value = to_seconds(date)\n",
    "        if(sections_value<min_time):\n",
    "            early_date = date\n",
    "        \n",
    "    return early_date\n",
    "    \n",
    "    \n",
    "def get_all_dates_between(start_date, end_date):\n",
    "    start_datetime = to_datetime(start_date)\n",
    "    end_datetime = to_datetime(end_date)\n",
    "    \n",
    "    all_dates = []\n",
    "    while(start_datetime<=end_datetime):\n",
    "        all_dates.append(start_datetime.strftime(YMD_format))\n",
    "        \n",
    "        start_datetime = start_datetime + dt.timedelta(days = 1)\n",
    "        \n",
    "    return all_dates\n",
    "    \n",
    "    "
   ]
  },
  {
   "cell_type": "code",
   "execution_count": 27,
   "metadata": {},
   "outputs": [],
   "source": [
    "def get_all_symbols():\n",
    "    symbol_list = []\n",
    "    for line in open(home+'symbols.txt'):\n",
    "        line = line.strip()\n",
    "        items = line.split(',')\n",
    "\n",
    "        symbol_list += items\n",
    "\n",
    "    return symbol_list\n",
    "\n",
    "\n",
    "def get_symbols(scale):\n",
    "    symbols = get_all_symbols()\n",
    "    return symbols[:scale]\n"
   ]
  },
  {
   "cell_type": "code",
   "execution_count": null,
   "metadata": {},
   "outputs": [],
   "source": []
  }
 ],
 "metadata": {
  "kernelspec": {
   "display_name": "ai",
   "language": "python",
   "name": "ai"
  },
  "language_info": {
   "codemirror_mode": {
    "name": "ipython",
    "version": 3
   },
   "file_extension": ".py",
   "mimetype": "text/x-python",
   "name": "python",
   "nbconvert_exporter": "python",
   "pygments_lexer": "ipython3",
   "version": "3.6.6"
  }
 },
 "nbformat": 4,
 "nbformat_minor": 2
}
