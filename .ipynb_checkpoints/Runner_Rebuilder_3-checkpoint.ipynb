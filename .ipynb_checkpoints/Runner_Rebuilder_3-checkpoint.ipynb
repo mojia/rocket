{
 "cells": [
  {
   "cell_type": "code",
   "execution_count": 3,
   "metadata": {},
   "outputs": [
    {
     "name": "stdout",
     "output_type": "stream",
     "text": [
      "rebuild_all_sections get 10 symbols\n",
      "build SZ#000012 sections\n",
      "start to analyse Day level SZ#000012 all cross sections...\n",
      "build SZ#000667 sections\n",
      "start to analyse Day level SZ#000667 all cross sections...\n",
      "20.0 build SZ#000971 sections\n",
      "start to analyse Day level SZ#000971 all cross sections...\n",
      "build SZ#002187 sections\n",
      "start to analyse Day level SZ#002187 all cross sections...\n",
      "40.0 build SZ#002401 sections\n",
      "start to analyse Day level SZ#002401 all cross sections...\n",
      "build SZ#002615 sections\n",
      "start to analyse Day level SZ#002615 all cross sections...\n",
      "60.0 build SZ#002839 sections\n",
      "start to analyse Day level SZ#002839 all cross sections...\n",
      "build SZ#300119 sections\n",
      "start to analyse Day level SZ#300119 all cross sections...\n",
      "80.0 build SZ#300333 sections\n",
      "start to analyse Day level SZ#300333 all cross sections...\n",
      "build SZ#300550 sections\n",
      "start to analyse Day level SZ#300550 all cross sections...\n",
      "100.0 "
     ]
    }
   ],
   "source": [
    "%run BasicDataRebuilder.ipynb\n",
    "\n",
    "\n",
    "rebuild = BasicDataRebuilder()\n",
    "rebuild.rebuild_all_sections(300,400,30,60)\n"
   ]
  },
  {
   "cell_type": "code",
   "execution_count": null,
   "metadata": {},
   "outputs": [],
   "source": []
  },
  {
   "cell_type": "code",
   "execution_count": 4,
   "metadata": {},
   "outputs": [
    {
     "name": "stdout",
     "output_type": "stream",
     "text": [
      "rebuild chan data get 20 symbols\n",
      "10.0 "
     ]
    },
    {
     "name": "stderr",
     "output_type": "stream",
     "text": [
      "/Users/xinwang/ai/lib/python3.6/site-packages/ipykernel_launcher.py:227: RuntimeWarning: divide by zero encountered in double_scalars\n"
     ]
    },
    {
     "name": "stdout",
     "output_type": "stream",
     "text": [
      "20.0 30.0 40.0 50.0 60.0 70.0 80.0 90.0 100.0 "
     ]
    }
   ],
   "source": [
    "%run BasicDataRebuilder.ipynb\n",
    "\n",
    "\n",
    "rebuild = BasicDataRebuilder()\n",
    "rebuild.rebuild_chan_data(30,50,30,60)\n"
   ]
  },
  {
   "cell_type": "code",
   "execution_count": null,
   "metadata": {},
   "outputs": [],
   "source": []
  }
 ],
 "metadata": {
  "kernelspec": {
   "display_name": "ai",
   "language": "python",
   "name": "ai"
  },
  "language_info": {
   "codemirror_mode": {
    "name": "ipython",
    "version": 3
   },
   "file_extension": ".py",
   "mimetype": "text/x-python",
   "name": "python",
   "nbconvert_exporter": "python",
   "pygments_lexer": "ipython3",
   "version": "3.6.6"
  }
 },
 "nbformat": 4,
 "nbformat_minor": 2
}
