{
 "cells": [
  {
   "cell_type": "code",
   "execution_count": 4,
   "metadata": {},
   "outputs": [
    {
     "name": "stdout",
     "output_type": "stream",
     "text": [
      "rebuild_all_sections get 10 symbols\n",
      "build SZ#000010 sections\n",
      "start to analyse Day level SZ#000010 all cross sections...\n",
      "build SZ#000665 sections\n",
      "start to analyse Day level SZ#000665 all cross sections...\n",
      "20.0 build SZ#000969 sections\n",
      "start to analyse Day level SZ#000969 all cross sections...\n",
      "build SZ#002185 sections\n",
      "start to analyse Day level SZ#002185 all cross sections...\n",
      "40.0 build SZ#002399 sections\n",
      "start to analyse Day level SZ#002399 all cross sections...\n",
      "build SZ#002613 sections\n",
      "start to analyse Day level SZ#002613 all cross sections...\n",
      "60.0 build SZ#002837 sections\n",
      "start to analyse Day level SZ#002837 all cross sections...\n",
      "build SZ#300117 sections\n",
      "start to analyse Day level SZ#300117 all cross sections...\n",
      "80.0 build SZ#300331 sections\n",
      "start to analyse Day level SZ#300331 all cross sections...\n",
      "build SZ#300548 sections\n",
      "start to analyse Day level SZ#300548 all cross sections...\n",
      "100.0 "
     ]
    }
   ],
   "source": [
    "%run BasicDataRebuilder.ipynb\n",
    "\n",
    "\n",
    "rebuild = BasicDataRebuilder()\n",
    "rebuild.rebuild_all_sections(100,200,30,60)\n"
   ]
  },
  {
   "cell_type": "code",
   "execution_count": null,
   "metadata": {},
   "outputs": [],
   "source": []
  },
  {
   "cell_type": "code",
   "execution_count": null,
   "metadata": {},
   "outputs": [],
   "source": []
  },
  {
   "cell_type": "code",
   "execution_count": 8,
   "metadata": {},
   "outputs": [
    {
     "name": "stdout",
     "output_type": "stream",
     "text": [
      "rebuild chan data get 10 symbols\n",
      "20.0 40.0 60.0 80.0 100.0 "
     ]
    }
   ],
   "source": [
    "%run BasicDataRebuilder.ipynb\n",
    "\n",
    "\n",
    "rebuild = BasicDataRebuilder()\n",
    "rebuild.rebuild_chan_data(90,100,30,60)\n"
   ]
  },
  {
   "cell_type": "code",
   "execution_count": null,
   "metadata": {},
   "outputs": [],
   "source": []
  }
 ],
 "metadata": {
  "kernelspec": {
   "display_name": "ai",
   "language": "python",
   "name": "ai"
  },
  "language_info": {
   "codemirror_mode": {
    "name": "ipython",
    "version": 3
   },
   "file_extension": ".py",
   "mimetype": "text/x-python",
   "name": "python",
   "nbconvert_exporter": "python",
   "pygments_lexer": "ipython3",
   "version": "3.6.6"
  }
 },
 "nbformat": 4,
 "nbformat_minor": 2
}
