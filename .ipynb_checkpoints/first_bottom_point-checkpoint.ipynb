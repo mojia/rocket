{
 "cells": [
  {
   "cell_type": "code",
   "execution_count": null,
   "metadata": {},
   "outputs": [],
   "source": [
    "                    "
   ]
  },
  {
   "cell_type": "code",
   "execution_count": null,
   "metadata": {},
   "outputs": [],
   "source": []
  },
  {
   "cell_type": "code",
   "execution_count": null,
   "metadata": {},
   "outputs": [],
   "source": []
  },
  {
   "cell_type": "code",
   "execution_count": null,
   "metadata": {},
   "outputs": [],
   "source": []
  },
  {
   "cell_type": "code",
   "execution_count": null,
   "metadata": {},
   "outputs": [],
   "source": []
  },
  {
   "cell_type": "code",
   "execution_count": null,
   "metadata": {},
   "outputs": [],
   "source": []
  },
  {
   "cell_type": "code",
   "execution_count": null,
   "metadata": {},
   "outputs": [],
   "source": []
  },
  {
   "cell_type": "code",
   "execution_count": null,
   "metadata": {},
   "outputs": [],
   "source": []
  },
  {
   "cell_type": "code",
   "execution_count": null,
   "metadata": {},
   "outputs": [],
   "source": []
  },
  {
   "cell_type": "code",
   "execution_count": null,
   "metadata": {},
   "outputs": [],
   "source": []
  },
  {
   "cell_type": "code",
   "execution_count": null,
   "metadata": {
    "scrolled": false
   },
   "outputs": [],
   "source": [
    "import pandas as pd\n",
    "\n",
    "%run SectionAnalyser.ipynb\n",
    "%run Util.ipynb\n",
    "%run Constant.ipynb\n",
    "%run ChanBiAnalyser.ipynb\n",
    "\n",
    "\n",
    "# 分析第一笔走多远\n",
    "\n",
    "def get_cut_bins_percent(array):    \n",
    "    total = len(array)\n",
    "    \n",
    "    per_array = [total]\n",
    "    for i in [-40,-30,-20,-15,-10,-5,0,5,10,20,30,40,50,100,10000]:\n",
    "        bins=[-100,i]\n",
    "        cuts = pd.cut(array,bins)\n",
    "        \n",
    "        cuts_counts = pd.value_counts(cuts)\n",
    "        \n",
    "        increase_per = round(100*pd.value_counts(cuts).values[0]/total,2)\n",
    "    \n",
    "        per_array.append(increase_per)\n",
    "    \n",
    "    print(str(per_array))\n",
    "\n",
    "def how_far_of_one_chan_bi(scale,short,mid,which_bi=1):\n",
    "    sectionAnalyser = SectionAnalyser(scale, short, mid)\n",
    "    day_sections_df = sectionAnalyser.build_cross_resonate_on_week_and_day()\n",
    "    day_sections_df =  day_sections_df[day_sections_df['d_ma_mid_dire']=='Up']\n",
    "\n",
    "    incre_array = []\n",
    "    for key,row in day_sections_df.iterrows():\n",
    "        chanBiAnalyser = ChanBiAnalyser(row['symbol'],level_day,short,mid)\n",
    "        chan_bi_df = chanBiAnalyser.get_chan_bis_between(row['d_s_date'],row['d_e_date'])\n",
    "        if(chan_bi_df.shape[0]>2):\n",
    "            anchor_price = chan_bi_df.iloc[0]['price']\n",
    "            price = chan_bi_df.iloc[1]['price']\n",
    "\n",
    "            increase_per = round(100*(price-anchor_price)/anchor_price,2)\n",
    "            incre_array.append(increase_per)\n",
    "        \n",
    "    return incre_array\n",
    "        \n",
    "    \n",
    "scale=3\n",
    "short=60\n",
    "mid=120\n",
    "\n",
    "incre_array = how_far_of_one_chan_bi(scale,short,mid,which_bi=1)\n",
    "get_cut_bins_percent(incre_array)"
   ]
  },
  {
   "cell_type": "code",
   "execution_count": null,
   "metadata": {},
   "outputs": [],
   "source": []
  }
 ],
 "metadata": {
  "kernelspec": {
   "display_name": "ai",
   "language": "python",
   "name": "ai"
  },
  "language_info": {
   "codemirror_mode": {
    "name": "ipython",
    "version": 3
   },
   "file_extension": ".py",
   "mimetype": "text/x-python",
   "name": "python",
   "nbconvert_exporter": "python",
   "pygments_lexer": "ipython3",
   "version": "3.6.6"
  }
 },
 "nbformat": 4,
 "nbformat_minor": 2
}
