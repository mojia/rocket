{
 "cells": [
  {
   "cell_type": "code",
   "execution_count": null,
   "metadata": {},
   "outputs": [],
   "source": [
    "# strategy\n",
    "break_strategy=\"break\"\n",
    "two_ma_strategy=\"two_ma\"\n",
    "\n",
    "\n",
    "# Rocket break\n",
    "buy_approach_rocket_break = \"rocket_break\"\n",
    "stop_loss_approach_fixed_percent = 'fixed_percent'\n",
    "stop_loss_approach_ATR = \"fixed_ATR\"\n",
    "sell_method_break_lowest='break_lowest'\n",
    "\n",
    "\n",
    "# sell\n",
    "sell_type_hold = 0\n",
    "sell_type_stop_loss=1\n",
    "sell_type_ma_down_cross=2\n",
    "sell_type_stop_profit=3\n",
    "sell_type_break_lowest=4\n",
    "\n",
    "\n",
    "\n",
    "# MA Cross\n",
    "buy_approach_ma_cross = \"ma_cross\"\n",
    "\n",
    "\n",
    "# position\n",
    "strong_market=\"strong_market\"\n",
    "weak_market=\"weak_market\"\n",
    "unknow_market=\"unknow_market\"\n",
    "\n",
    "\n",
    "# runtime\n",
    "Debug=\"Debug\"\n",
    "Info=\"Info\"\n",
    "Error=\"Error\"\n"
   ]
  }
 ],
 "metadata": {
  "kernelspec": {
   "display_name": "Python 3",
   "language": "python",
   "name": "python3"
  },
  "language_info": {
   "codemirror_mode": {
    "name": "ipython",
    "version": 3
   },
   "file_extension": ".py",
   "mimetype": "text/x-python",
   "name": "python",
   "nbconvert_exporter": "python",
   "pygments_lexer": "ipython3",
   "version": "3.6.8"
  }
 },
 "nbformat": 4,
 "nbformat_minor": 2
}
