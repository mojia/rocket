{
 "cells": [
  {
   "cell_type": "code",
   "execution_count": null,
   "metadata": {},
   "outputs": [
    {
     "name": "stdout",
     "output_type": "stream",
     "text": [
      "rebuild_all_sections get 100 symbols\n",
      "build SZ#000050 sections\n",
      "start to analyse Day level SZ#000050 all cross sections...\n"
     ]
    }
   ],
   "source": [
    "%run BasicDataRebuilder.ipynb\n",
    "\n",
    "\n",
    "rebuild = BasicDataRebuilder()\n",
    "rebuild.rebuild_all_sections(400,500,30,60)\n"
   ]
  },
  {
   "cell_type": "code",
   "execution_count": null,
   "metadata": {},
   "outputs": [],
   "source": []
  },
  {
   "cell_type": "code",
   "execution_count": null,
   "metadata": {},
   "outputs": [],
   "source": []
  },
  {
   "cell_type": "code",
   "execution_count": 4,
   "metadata": {},
   "outputs": [
    {
     "name": "stdout",
     "output_type": "stream",
     "text": [
      "rebuild chan data get 20 symbols\n",
      "10.0 20.0 30.0 40.0 50.0 60.0 70.0 80.0 90.0 100.0 "
     ]
    }
   ],
   "source": [
    "%run BasicDataRebuilder.ipynb\n",
    "\n",
    "\n",
    "rebuild = BasicDataRebuilder()\n",
    "rebuild.rebuild_chan_data(50,70,30,60)\n"
   ]
  },
  {
   "cell_type": "code",
   "execution_count": null,
   "metadata": {},
   "outputs": [],
   "source": []
  }
 ],
 "metadata": {
  "kernelspec": {
   "display_name": "ai",
   "language": "python",
   "name": "ai"
  },
  "language_info": {
   "codemirror_mode": {
    "name": "ipython",
    "version": 3
   },
   "file_extension": ".py",
   "mimetype": "text/x-python",
   "name": "python",
   "nbconvert_exporter": "python",
   "pygments_lexer": "ipython3",
   "version": "3.6.6"
  }
 },
 "nbformat": 4,
 "nbformat_minor": 2
}
