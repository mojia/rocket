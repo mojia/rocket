{
 "cells": [
  {
   "cell_type": "code",
   "execution_count": 7,
   "metadata": {},
   "outputs": [
    {
     "name": "stdout",
     "output_type": "stream",
     "text": [
      "max_asset\n",
      "[ 1  2  3  4  5  5  5  6  8 10 10 10]\n",
      "drawndown\n",
      "[0 0 0 0 0 3 1 0 0 0 2 1]\n"
     ]
    },
    {
     "data": {
      "text/plain": [
       "60.0"
      ]
     },
     "execution_count": 7,
     "metadata": {},
     "output_type": "execute_result"
    }
   ],
   "source": [
    "%run Evaluation_Metric.ipynb\n",
    "\n",
    "\n",
    "array=[1,2,3,4,5,2,4,6,8,10,8,9]\n",
    "metric = Evaluation_Metric(None)\n",
    "drawdown = metric.max_drawdown_per(array)\n",
    "drawdown"
   ]
  },
  {
   "cell_type": "code",
   "execution_count": 11,
   "metadata": {},
   "outputs": [
    {
     "data": {
      "text/plain": [
       "5"
      ]
     },
     "execution_count": 11,
     "metadata": {},
     "output_type": "execute_result"
    }
   ],
   "source": [
    "%run Evaluation_Metric.ipynb\n",
    "\n",
    "\n",
    "metric = Evaluation_Metric(None)\n",
    "profits=[2,-1,-2,-3,4,5,-1,-3,6,-1,-2,-1,-2,-4,1,9,8]\n",
    "loss_times = metric.continue_loss_times(profits)\n",
    "loss_times"
   ]
  },
  {
   "cell_type": "code",
   "execution_count": 29,
   "metadata": {
    "scrolled": false
   },
   "outputs": [
    {
     "data": {
      "text/plain": [
       "23.333333333333332"
      ]
     },
     "execution_count": 29,
     "metadata": {},
     "output_type": "execute_result"
    }
   ],
   "source": [
    "%run Evaluation_Metric.ipynb\n",
    "%run Constant.ipynb\n",
    "%run Account.ipynb\n",
    "\n",
    "policy_name = 'rocket_break_baseline.json'\n",
    "policy_loader = Policy_Loader(policy_name)\n",
    "context = policy_loader.get_context()\n",
    "        \n",
    "\n",
    "account = Account('','',context,policy_name)\n",
    "asset_df = pd.read_csv(report_dir+'SZ#000573_10_240_Day_account_asset.csv')\n",
    "account.asset = asset_df\n",
    "\n",
    "metric = Evaluation_Metric(account)\n",
    "metric.avg_max_drawdown_days()\n"
   ]
  },
  {
   "cell_type": "code",
   "execution_count": 46,
   "metadata": {},
   "outputs": [
    {
     "data": {
      "image/png": "[encoded data removed]",
      "text/plain": [
       "<Figure size 432x288 with 1 Axes>"
      ]
     },
     "metadata": {},
     "output_type": "display_data"
    },
    {
     "data": {
      "text/plain": [
       "array([-5.99404762])"
      ]
     },
     "execution_count": 46,
     "metadata": {},
     "output_type": "execute_result"
    }
   ],
   "source": [
    "%run Evaluation_Metric.ipynb\n",
    "%run Constant.ipynb\n",
    "%run Account.ipynb\n",
    "\n",
    "policy_name = 'rocket_break_baseline.json'\n",
    "policy_loader = Policy_Loader(policy_name)\n",
    "context = policy_loader.get_context()\n",
    "        \n",
    "\n",
    "account = Account('','',context,policy_name)\n",
    "asset_df = pd.read_csv(report_dir+'SZ#000573_10_240_Day_account_asset.csv')\n",
    "account.asset = asset_df\n",
    "\n",
    "metric = Evaluation_Metric(account)\n",
    "metric.get_RAR()\n"
   ]
  },
  {
   "cell_type": "code",
   "execution_count": 42,
   "metadata": {},
   "outputs": [
    {
     "name": "stdout",
     "output_type": "stream",
     "text": [
      "[23.399999999999999, 77.200000000000003, 45.799999999999997, 29.100000000000001, 16.5, 12.199999999999999, 15.0, 12.1]\n"
     ]
    }
   ],
   "source": [
    "%run Evaluation_Metric.ipynb\n",
    "%run Constant.ipynb\n",
    "%run Account.ipynb\n",
    "\n",
    "policy_name = 'rocket_break_baseline.json'\n",
    "policy_loader = Policy_Loader(policy_name)\n",
    "context = policy_loader.get_context()\n",
    "        \n",
    "\n",
    "account = Account('','',context,policy_name)\n",
    "asset_df = pd.read_csv(report_dir+'SZ#000573_10_240_Day_account_asset.csv')\n",
    "account.asset = asset_df\n",
    "\n",
    "metric = Evaluation_Metric(account)\n",
    "metric.get_CAGR_array()\n",
    "\n"
   ]
  },
  {
   "cell_type": "code",
   "execution_count": 60,
   "metadata": {
    "scrolled": false
   },
   "outputs": [
    {
     "name": "stdout",
     "output_type": "stream",
     "text": [
      "\\drawndown_array\n",
      "[ 57.16841667  57.16841667  56.70076708  56.70076708  56.54488389\n",
      "  55.99929271  55.66426017  55.28734857  55.28734857  55.28734857\n",
      "  54.75222715  54.72198116  54.72198116  54.72198116  54.43929746\n",
      "  54.43929746  53.59124634  53.49701844  53.40279054  53.02587894\n",
      "  52.93165104  52.56986243  52.49192083  52.17782783  51.86838805\n",
      "  51.42400462  50.104814    50.104814    47.73748339  47.6595418\n",
      "  46.95806742  46.56835943  46.25659304  46.17865145  45.94482666\n",
      "  45.86688506  45.83314914  45.47089521  45.32129388  44.7757027\n",
      "  44.46393631  44.38599471  43.84040353  43.68452033  43.37275394\n",
      "  43.29481235  43.29481235  43.21687075  43.06098755  42.74922117\n",
      "  42.51539637  42.28157158  42.20362998  42.06659237  41.6580388\n",
      "  41.58009721  41.57241938  41.51751127  41.40769505  41.40769505\n",
      "  41.02333827  41.02333827  40.72273964  40.72273964  40.69388961\n",
      "  40.48891484  40.17714845  39.74602672  39.74602672  39.70554363\n",
      "  39.67390166]\n"
     ]
    }
   ],
   "source": [
    "%run Evaluation_Metric.ipynb\n",
    "%run Constant.ipynb\n",
    "%run Account.ipynb\n",
    "\n",
    "policy_name = 'rocket_break_baseline.json'\n",
    "policy_loader = Policy_Loader(policy_name)\n",
    "context = policy_loader.get_context()\n",
    "        \n",
    "\n",
    "account = Account('','',context,policy_name)\n",
    "asset_df = pd.read_csv(report_dir+'SZ#000573_10_240_Day_account_asset.csv')\n",
    "account.asset = asset_df\n",
    "\n",
    "metric = Evaluation_Metric(account)\n",
    "metric.avg_max_drawdown()\n"
   ]
  },
  {
   "cell_type": "code",
   "execution_count": 61,
   "metadata": {},
   "outputs": [
    {
     "data": {
      "image/png": "[encoded data removed]",
      "text/plain": [
       "<Figure size 432x288 with 1 Axes>"
      ]
     },
     "metadata": {},
     "output_type": "display_data"
    },
    {
     "ename": "NameError",
     "evalue": "name 'avg_max_drawdown' is not defined",
     "output_type": "error",
     "traceback": [
      "\u001b[0;31m---------------------------------------------------------------------------\u001b[0m",
      "\u001b[0;31mNameError\u001b[0m                                 Traceback (most recent call last)",
      "\u001b[0;32m<ipython-input-61-f6870b74e5a9>\u001b[0m in \u001b[0;36m<module>\u001b[0;34m\u001b[0m\n\u001b[1;32m     13\u001b[0m \u001b[0;34m\u001b[0m\u001b[0m\n\u001b[1;32m     14\u001b[0m \u001b[0mmetric\u001b[0m \u001b[0;34m=\u001b[0m \u001b[0mEvaluation_Metric\u001b[0m\u001b[0;34m(\u001b[0m\u001b[0maccount\u001b[0m\u001b[0;34m)\u001b[0m\u001b[0;34m\u001b[0m\u001b[0;34m\u001b[0m\u001b[0m\n\u001b[0;32m---> 15\u001b[0;31m \u001b[0mmetric\u001b[0m\u001b[0;34m.\u001b[0m\u001b[0mget_R2\u001b[0m\u001b[0;34m(\u001b[0m\u001b[0;34m)\u001b[0m\u001b[0;34m\u001b[0m\u001b[0;34m\u001b[0m\u001b[0m\n\u001b[0m",
      "\u001b[0;32m<ipython-input-61-40e87ad2e8ed>\u001b[0m in \u001b[0;36mget_R2\u001b[0;34m(self)\u001b[0m\n\u001b[1;32m    310\u001b[0m     \u001b[0;32mdef\u001b[0m \u001b[0mget_R2\u001b[0m\u001b[0;34m(\u001b[0m\u001b[0mself\u001b[0m\u001b[0;34m)\u001b[0m\u001b[0;34m:\u001b[0m\u001b[0;34m\u001b[0m\u001b[0;34m\u001b[0m\u001b[0m\n\u001b[1;32m    311\u001b[0m         \u001b[0mrar\u001b[0m \u001b[0;34m=\u001b[0m \u001b[0mself\u001b[0m\u001b[0;34m.\u001b[0m\u001b[0mget_RAR\u001b[0m\u001b[0;34m(\u001b[0m\u001b[0;34m)\u001b[0m\u001b[0;34m\u001b[0m\u001b[0;34m\u001b[0m\u001b[0m\n\u001b[0;32m--> 312\u001b[0;31m         \u001b[0madjust_length\u001b[0m \u001b[0;34m=\u001b[0m \u001b[0mself\u001b[0m\u001b[0;34m.\u001b[0m\u001b[0mavg_max_drawdown_days\u001b[0m\u001b[0;34m(\u001b[0m\u001b[0;34m)\u001b[0m\u001b[0;34m*\u001b[0m\u001b[0mavg_max_drawdown\u001b[0m\u001b[0;34m\u001b[0m\u001b[0;34m\u001b[0m\u001b[0m\n\u001b[0m\u001b[1;32m    313\u001b[0m \u001b[0;34m\u001b[0m\u001b[0m\n\u001b[1;32m    314\u001b[0m         \u001b[0;32mreturn\u001b[0m \u001b[0;36m1.0\u001b[0m\u001b[0;34m*\u001b[0m\u001b[0mrar\u001b[0m\u001b[0;34m/\u001b[0m\u001b[0madjust_length\u001b[0m\u001b[0;34m\u001b[0m\u001b[0;34m\u001b[0m\u001b[0m\n",
      "\u001b[0;31mNameError\u001b[0m: name 'avg_max_drawdown' is not defined"
     ]
    }
   ],
   "source": [
    "%run Evaluation_Metric.ipynb\n",
    "%run Constant.ipynb\n",
    "%run Account.ipynb\n",
    "\n",
    "policy_name = 'rocket_break_baseline.json'\n",
    "policy_loader = Policy_Loader(policy_name)\n",
    "context = policy_loader.get_context()\n",
    "        \n",
    "\n",
    "account = Account('','',context,policy_name)\n",
    "asset_df = pd.read_csv(report_dir+'SZ#000573_10_240_Day_account_asset.csv')\n",
    "account.asset = asset_df\n",
    "\n",
    "metric = Evaluation_Metric(account)\n",
    "metric.get_R2()\n"
   ]
  },
  {
   "cell_type": "code",
   "execution_count": null,
   "metadata": {},
   "outputs": [],
   "source": []
  }
 ],
 "metadata": {
  "kernelspec": {
   "display_name": "Python 3",
   "language": "python",
   "name": "python3"
  },
  "language_info": {
   "codemirror_mode": {
    "name": "ipython",
    "version": 3
   },
   "file_extension": ".py",
   "mimetype": "text/x-python",
   "name": "python",
   "nbconvert_exporter": "python",
   "pygments_lexer": "ipython3",
   "version": "3.6.8"
  }
 },
 "nbformat": 4,
 "nbformat_minor": 2
}
