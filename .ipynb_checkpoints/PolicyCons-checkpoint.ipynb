{
 "cells": [
  {
   "cell_type": "code",
   "execution_count": null,
   "metadata": {},
   "outputs": [],
   "source": [
    "\n",
    "class PolicyCons:\n",
    "    # strategy\n",
    "    break_strategy=\"break\"\n",
    "    two_ma_strategy=\"two_ma\"\n",
    "\n",
    "\n",
    "    # Rocket break\n",
    "    buy_approach_rocket_break = \"rocket_break\"\n",
    "    stop_loss_approach_fixed_percent = 'fixed_percent_stop_loss'\n",
    "    stop_loss_approach_ATR = \"fixed_ATR\"\n",
    "    sell_method_break_lowest='break_lowest'\n",
    "\n",
    "    # sell\n",
    "    sell_type_hold = 'keep'\n",
    "    sell_type_stop_loss='stop_loss'\n",
    "    sell_type_reducing_position='reducing_position'\n",
    "    sell_type_ma_down_cross='ma_down_cross'\n",
    "    sell_type_stop_profit='stop_profit'\n",
    "    sell_type_break_lowest='break_lowest'\n",
    "    \n",
    "    sell_reason_=''\n",
    "    buy_reason_break_highest = 'break_highest'\n",
    "    buy_reason_break_highest_and_support_filter = 'break_highest_and_support_filter'\n",
    "    buy_reason_increase_per = 'buy_reason_increase_per'\n",
    "    \n",
    "    #risk\n",
    "    previous_high_ATR=\"HHigh_ATR\"\n",
    "    stop_profit_ATR_approach = \"previous_high_ATR\"\n",
    "\n",
    "    # MA Cross\n",
    "    buy_approach_ma_cross = \"ma_cross\"\n",
    "\n",
    "\n",
    "    # position\n",
    "    strong_market=\"strong_market\"\n",
    "    weak_market=\"weak_market\"\n",
    "    unknow_market=\"unknow_market\"\n",
    "    ma_filter=\"ma\"\n",
    "    direction_up=\"up\"\n",
    "    \n",
    "    \n",
    "    adding_position_by_increase_percent = \"based_on_increase_percent\"\n",
    "    adding_position_by_break_high_point = \"based_on_new_break_point\"\n",
    "\n",
    "    # runtime\n",
    "    Debug=\"Debug\"\n",
    "    Info=\"Info\"\n",
    "    Error=\"Error\"\n",
    "\n",
    "    def __init__(self):\n",
    "        pass\n"
   ]
  },
  {
   "cell_type": "code",
   "execution_count": null,
   "metadata": {},
   "outputs": [],
   "source": []
  }
 ],
 "metadata": {
  "kernelspec": {
   "display_name": "Python 3",
   "language": "python",
   "name": "python3"
  },
  "language_info": {
   "codemirror_mode": {
    "name": "ipython",
    "version": 3
   },
   "file_extension": ".py",
   "mimetype": "text/x-python",
   "name": "python",
   "nbconvert_exporter": "python",
   "pygments_lexer": "ipython3",
   "version": "3.6.8"
  }
 },
 "nbformat": 4,
 "nbformat_minor": 2
}
