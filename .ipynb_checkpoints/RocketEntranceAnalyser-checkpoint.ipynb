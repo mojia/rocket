{
 "cells": [
  {
   "cell_type": "code",
   "execution_count": 43,
   "metadata": {
    "scrolled": false
   },
   "outputs": [
    {
     "name": "stdout",
     "output_type": "stream",
     "text": [
      "get_all_sections_of_all_symbols done total:2649\n",
      "[0, 4, 5, 6, 7, 8, 9, 10, 11, 12, 13, 14, 15]\n",
      "[2649, 14.72, 23.41, 33.18, 41.45, 49.45, 57.57, 65.99, 73.27, 78.78, 83.5, 87.09, 89.73]\n"
     ]
    }
   ],
   "source": [
    "# 突破高点入场信号质量评测\n",
    "import pandas as pd\n",
    "import numpy as np\n",
    "import pandas as pd\n",
    "import matplotlib as mpl\n",
    "import matplotlib.pyplot as plt\n",
    "import matplotlib.pylab as pylab\n",
    "import seaborn as sns\n",
    "from pandas.tools.plotting import scatter_matrix\n",
    "\n",
    "mpl.style.use('ggplot')\n",
    "plt.rcParams['savefig.dpi'] = 300 #图片像素\n",
    "plt.rcParams['figure.dpi'] = 300 #分辨率\n",
    "plt.rc('figure', figsize=(14, 10))#设置图片大小\n",
    "sns.set_style('white')\n",
    "\n",
    "%matplotlib inline\n",
    "%run BreakSectionAnalyser.ipynb\n",
    "%run Metric.ipynb\n",
    "%run Constant.ipynb\n",
    "\n",
    "LOSS_PER = [4,5,6,7,8,9,10,11,12,13,14,15]\n",
    "common_columns = ['symbol','s_date','e_date','short','mid','total']\n",
    "loss_columns = ['4','5','6','7','8','9','10','11','12','13','14','15']\n",
    "entrance_statistic_columns = ['short','mid','total'] + list(loss_columns)\n",
    "\n",
    "class RocketEntranceAnalyser:\n",
    "    def __init__(self,scale_start,scale_end,short,mid):\n",
    "        self.scale_start = scale_start\n",
    "        self.scale_end = scale_end\n",
    "        \n",
    "        self.analyser = BreakSectionAnalyser(scale_start,scale_end,short,mid)\n",
    "        \n",
    "        \n",
    "    def get_loss_deep(self):\n",
    "        sections = self.analyser.get_all_sections_of_all_symbols(level_day)\n",
    "        \n",
    "        sections['loss_deep'] = 100.0*(sections['d_s_price']-sections['lowest_price'])/sections['d_s_price']\n",
    "        return sections['loss_deep']\n",
    "       \n",
    "    \n",
    "analyser = RocketEntranceAnalyser(0,100,5,10)\n",
    "loss_deep=analyser.get_loss_deep()\n",
    "\n",
    "bins = [4,5,6,7,8,9,10,11,12,13,14,15]\n",
    "distribute = get_range_percent_distribute(loss_deep,bins)\n",
    "print(str([0]+bins))\n",
    "print(str(distribute))"
   ]
  },
  {
   "cell_type": "code",
   "execution_count": null,
   "metadata": {},
   "outputs": [],
   "source": []
  }
 ],
 "metadata": {
  "kernelspec": {
   "display_name": "ai",
   "language": "python",
   "name": "ai"
  },
  "language_info": {
   "codemirror_mode": {
    "name": "ipython",
    "version": 3
   },
   "file_extension": ".py",
   "mimetype": "text/x-python",
   "name": "python",
   "nbconvert_exporter": "python",
   "pygments_lexer": "ipython3",
   "version": "3.6.6"
  }
 },
 "nbformat": 4,
 "nbformat_minor": 2
}
