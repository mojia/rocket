{
 "cells": [
  {
   "cell_type": "code",
   "execution_count": 1,
   "metadata": {},
   "outputs": [],
   "source": [
    "%run Metric.ipynb\n",
    "%run Util.ipynb\n",
    "\n",
    "Strong_market='Strong'\n",
    "Weak_market='Weak'\n",
    "Unknown_market='Unknown'\n",
    "\n",
    "class Market:\n",
    "    market_index_symbol='SH#999999'\n",
    "    \n",
    "    def __init__(self,short,mid):\n",
    "        self.short = short\n",
    "        self.mid = mid\n",
    "        \n",
    "        self.metric = Metric(self.market_index_symbol,level_week,self.short,self.mid)\n",
    "        \n",
    "        \n",
    "    def get_market_status(self,cur_date):\n",
    "        if(self.is_strong_market(cur_date)==True):\n",
    "            return Strong_market\n",
    "        elif(self.is_week_market(cur_date)==True):\n",
    "            return Weak_market\n",
    "        else:\n",
    "            return Unknown_market\n",
    "    \n",
    "    \n",
    "    def convert_to_week_k_cur_date(self, cur_date):\n",
    "        year = int(cur_date.split('-')[0])\n",
    "        week = int(to_datetime(cur_date).isocalendar()[1])\n",
    "        \n",
    "        week_k_cur_date = self.metric.data[(self.metric.data['year']==year) & (self.metric.data['week']==week)]['date'].values[0]\n",
    "        \n",
    "        return week_k_cur_date\n",
    "    \n",
    "        \n",
    "    def is_strong_market(self,cur_date):\n",
    "        week_cur_date = self.convert_to_week_k_cur_date(cur_date)\n",
    "        \n",
    "        latest_on_boll = self.metric.is_latest_n_keep_on_boll(week_cur_date,latest_n=5)\n",
    "        boll_direc = self.metric.boll_direction(week_cur_date,latest_n=5)\n",
    "            \n",
    "        if((latest_on_boll==True) and (boll_direc==boll_upturn_direction)):\n",
    "            return True\n",
    "        else:\n",
    "            return False\n",
    "    \n",
    "    def is_week_market(self,cur_date):\n",
    "        week_cur_date = self.convert_to_week_k_cur_date(cur_date)\n",
    "        \n",
    "        boll_direc = self.metric.boll_direction(week_cur_date,latest_n=5)\n",
    "            \n",
    "        if(boll_direc==boll_downturn_direction):\n",
    "            return True\n",
    "        else:\n",
    "            return False\n",
    "    \n",
    "        "
   ]
  },
  {
   "cell_type": "code",
   "execution_count": null,
   "metadata": {},
   "outputs": [],
   "source": []
  }
 ],
 "metadata": {
  "kernelspec": {
   "display_name": "ai",
   "language": "python",
   "name": "ai"
  },
  "language_info": {
   "codemirror_mode": {
    "name": "ipython",
    "version": 3
   },
   "file_extension": ".py",
   "mimetype": "text/x-python",
   "name": "python",
   "nbconvert_exporter": "python",
   "pygments_lexer": "ipython3",
   "version": "3.6.6"
  }
 },
 "nbformat": 4,
 "nbformat_minor": 2
}
