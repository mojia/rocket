{
 "cells": [
  {
   "cell_type": "code",
   "execution_count": null,
   "metadata": {},
   "outputs": [],
   "source": [
    "\n",
    "class Two_MA_Operation:\n",
    "    \n",
    "    def __init__(self, account, context, metric, policy_loader):\n",
    "        self.account = account\n",
    "        self.context = context\n",
    "        self.metric = metric\n",
    "        self.policy_loader = policy_loader\n",
    "    \n",
    "    \n",
    "    def which_sell_type(self,cur_date):\n",
    "        return 0\n",
    "#         if(self.is_stop_profit(cur_date)):\n",
    "#                 return Sell_type_stop_profit\n",
    "\n",
    "#             if(self.is_over_stop_loss(cur_date)):\n",
    "#                 return Sell_type_stop_loss\n",
    "\n",
    "#             if(self.policy_loader.sell_method_break_lowest()==sell_method_break_lowest):\n",
    "#                 break_sell = self.metric.does_break_lowest(cur_date)\n",
    "#                 if(break_sell==True):\n",
    "#                     return Sell_type_break_lowest\n",
    "#                 else:\n",
    "#                     return 0\n",
    "#             else:\n",
    "#                 ma_sell = self.is_ma_cross_sell_point(cur_date)\n",
    "#                 if(ma_sell==True):\n",
    "#                     return Sell_type_ma_down_cross\n",
    "#                 else:\n",
    "#                     return 0"
   ]
  }
 ],
 "metadata": {
  "kernelspec": {
   "display_name": "Python 3",
   "language": "python",
   "name": "python3"
  },
  "language_info": {
   "codemirror_mode": {
    "name": "ipython",
    "version": 3
   },
   "file_extension": ".py",
   "mimetype": "text/x-python",
   "name": "python",
   "nbconvert_exporter": "python",
   "pygments_lexer": "ipython3",
   "version": "3.6.8"
  }
 },
 "nbformat": 4,
 "nbformat_minor": 2
}
