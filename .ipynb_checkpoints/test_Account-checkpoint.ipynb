{
 "cells": [
  {
   "cell_type": "code",
   "execution_count": 17,
   "metadata": {},
   "outputs": [
    {
     "data": {
      "text/plain": [
       "1    10\n",
       "Name: price, dtype: object"
      ]
     },
     "execution_count": 17,
     "metadata": {},
     "output_type": "execute_result"
    }
   ],
   "source": [
    "%run Account.ipynb\n",
    "%run Util.ipynb\n",
    "\n",
    "account = Account(100000, '2000-01-01','2019-01-01', short=30, mid=60)\n",
    "\n",
    "symbol = get_symbols(scale=1)[0]\n",
    "account.buy_stock(symbol,'2001-01-01',10,100)\n",
    "\n",
    "account.get_open_position_price(symbol)\n",
    "\n"
   ]
  },
  {
   "cell_type": "code",
   "execution_count": 36,
   "metadata": {},
   "outputs": [
    {
     "name": "stdout",
     "output_type": "stream",
     "text": [
      "100\n",
      "False\n",
      "      symbol        date price shares type  space status\n",
      "1  SZ#002603  2001-01-01    10    100  Buy    1.0   open\n",
      "10\n",
      "2001-01-01\n",
      "{'SZ#002603': 100}\n",
      "      symbol        date price shares type  space status\n",
      "1  SZ#002603  2001-01-01    10    100  Buy    1.0   open\n",
      "\n",
      "-----------------------------------------\n",
      "\n",
      "清仓\n",
      "{}\n",
      "      symbol        date price shares  type  space status\n",
      "1  SZ#002603  2001-01-01    10    100   Buy    1.0   done\n",
      "2  SZ#002603  2001-10-01    20    100  Sell    0.0   done\n"
     ]
    }
   ],
   "source": [
    "%run Account.ipynb\n",
    "%run Util.ipynb\n",
    "\n",
    "account = Account(100000, '2000-01-01','2019-01-01', short=30, mid=60)\n",
    "symbol = get_symbols(scale=1)[0]\n",
    "\n",
    "account.buy_stock(symbol,'2001-01-01',10,100)\n",
    "\n",
    "print(account.get_shares(symbol))\n",
    "print(account.can_open_new_stock())\n",
    "print(account.get_latest_deal(symbol))\n",
    "print(account.get_open_position_price(symbol))\n",
    "print(account.get_open_position_date(symbol))\n",
    "print(str(account.position))\n",
    "print(str(account.deal_df))\n",
    "print('\\n-----------------------------------------\\n')\n",
    "\n",
    "account.sell_stock(symbol,'2001-10-01',20,100)\n",
    "print(str(account.position))\n",
    "print(str(account.deal_df))"
   ]
  },
  {
   "cell_type": "code",
   "execution_count": 37,
   "metadata": {},
   "outputs": [
    {
     "name": "stdout",
     "output_type": "stream",
     "text": [
      "100\n",
      "False\n",
      "      symbol        date price shares type  space status\n",
      "1  SZ#300210  2001-01-01    10    100  Buy    1.0   open\n",
      "10\n",
      "2001-01-01\n",
      "{'SZ#300210': 100}\n",
      "      symbol        date price shares type  space status\n",
      "1  SZ#300210  2001-01-01    10    100  Buy    1.0   open\n",
      "\n",
      "-----------------------------------------\n",
      "\n",
      "清仓\n",
      "{}\n",
      "      symbol        date price shares  type  space status\n",
      "1  SZ#300210  2001-01-01    10    100   Buy    1.0   done\n",
      "2  SZ#300210  2001-10-01    20    100  Sell    0.0   done\n",
      "\n",
      "-----------------------------------------\n",
      "\n",
      "{'SZ#300479': 200}\n",
      "      symbol        date price shares  type     space status\n",
      "1  SZ#300210  2001-01-01    10    100   Buy  1.000000   done\n",
      "2  SZ#300210  2001-10-01    20    100  Sell  0.000000   done\n",
      "3  SZ#300479  2004-01-01    10    200   Buy  1.980198   open\n"
     ]
    }
   ],
   "source": [
    "%run Account.ipynb\n",
    "%run Util.ipynb\n",
    "\n",
    "account = Account(100000, '2000-01-01','2019-01-01', short=30, mid=60)\n",
    "symbol = get_symbols(scale=2)[0]\n",
    "\n",
    "account.buy_stock(symbol,'2001-01-01',10,100)\n",
    "\n",
    "print(account.get_shares(symbol))\n",
    "print(account.can_open_new_stock())\n",
    "print(account.get_latest_deal(symbol))\n",
    "print(account.get_open_position_price(symbol))\n",
    "print(account.get_open_position_date(symbol))\n",
    "print(str(account.position))\n",
    "print(str(account.deal_df))\n",
    "print('\\n-----------------------------------------\\n')\n",
    "\n",
    "account.sell_stock(symbol,'2001-10-01',20,100)\n",
    "print(str(account.position))\n",
    "print(str(account.deal_df))\n",
    "print('\\n-----------------------------------------\\n')\n",
    "\n",
    "symbol = get_symbols(scale=2)[1]\n",
    "account.buy_stock(symbol,'2004-01-01',10,200)\n",
    "print(str(account.position))\n",
    "print(str(account.deal_df))"
   ]
  },
  {
   "cell_type": "code",
   "execution_count": 46,
   "metadata": {},
   "outputs": [
    {
     "name": "stdout",
     "output_type": "stream",
     "text": [
      "position {'SZ#002603': 10}\n"
     ]
    },
    {
     "data": {
      "text/plain": [
       "True"
      ]
     },
     "execution_count": 46,
     "metadata": {},
     "output_type": "execute_result"
    }
   ],
   "source": [
    "%run Account.ipynb\n",
    "%run Util.ipynb\n",
    "\n",
    "account = Account(100000, '2000-01-01','2019-01-01', short=30, mid=60)\n",
    "\n",
    "symbol = get_symbols(scale=1)[0]\n",
    "account.buy_stock(symbol,'2001-01-01',10,100)\n",
    "account.sell_stock(symbol,'2001-02-01',11,90)\n",
    "\n",
    "\n",
    "print('position ' + str(account.position))\n",
    "account.has_shares()"
   ]
  },
  {
   "cell_type": "code",
   "execution_count": 57,
   "metadata": {},
   "outputs": [
    {
     "name": "stdout",
     "output_type": "stream",
     "text": [
      "position {'SZ#002603': 100}\n",
      "last_time_buy_price:10\n",
      "\n",
      "position {'SZ#002603': 10}\n",
      "last_time_buy_price:10\n",
      "\n",
      "清仓\n",
      "position {}\n",
      "last_time_buy_price:10\n",
      "\n",
      "position {'SZ#000655': 100}\n",
      "last_time_buy_price:100\n",
      "\n"
     ]
    }
   ],
   "source": [
    "%run Account.ipynb\n",
    "%run Util.ipynb\n",
    "\n",
    "account = Account(100000, '2000-01-01','2019-01-01', short=30, mid=60)\n",
    "\n",
    "symbol = get_symbols(scale=1)[0]\n",
    "account.buy_stock(symbol,'2001-01-01',10,100)\n",
    "print('position ' + str(account.position))\n",
    "print('last_time_buy_price:'+ str(account.get_open_position_price(symbol)))\n",
    "print()\n",
    "\n",
    "account.sell_stock(symbol,'2001-02-01',11,90)\n",
    "print('position ' + str(account.position))\n",
    "print('last_time_buy_price:'+ str(account.get_open_position_price(symbol)))\n",
    "print()\n",
    "\n",
    "account.sell_stock(symbol,'2001-03-01',20,10)\n",
    "print('position ' + str(account.position))\n",
    "print('last_time_buy_price:'+ str(account.get_open_position_price(symbol)))\n",
    "print()\n",
    "\n",
    "symbol = get_symbols(scale=2)[2]\n",
    "account.buy_stock(symbol,'2005-01-01',100,100)\n",
    "print('position ' + str(account.position))\n",
    "print('last_time_buy_price:'+ str(account.get_open_position_price(symbol)))\n",
    "print()"
   ]
  },
  {
   "cell_type": "code",
   "execution_count": null,
   "metadata": {},
   "outputs": [],
   "source": []
  }
 ],
 "metadata": {
  "kernelspec": {
   "display_name": "Python 3",
   "language": "python",
   "name": "python3"
  },
  "language_info": {
   "codemirror_mode": {
    "name": "ipython",
    "version": 3
   },
   "file_extension": ".py",
   "mimetype": "text/x-python",
   "name": "python",
   "nbconvert_exporter": "python",
   "pygments_lexer": "ipython3",
   "version": "3.6.8"
  }
 },
 "nbformat": 4,
 "nbformat_minor": 2
}
