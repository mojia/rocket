{
 "cells": [
  {
   "cell_type": "code",
   "execution_count": null,
   "metadata": {
    "scrolled": false
   },
   "outputs": [],
   "source": [
    "# 将打破第一个低点的波段的分笔画出来\n",
    "\n",
    "%run KPainter.ipynb\n",
    "%run SectionAnalyser.ipynb\n",
    "%run Util.ipynb\n",
    "%run ChanBiManager.ipynb\n",
    "\n",
    "\n",
    "def is_stop_loss(chan_bi_df):\n",
    "    up_chan_bi_df = chan_bi_df[chan_bi_df['turning_point']=='bottom']\n",
    "\n",
    "    if(up_chan_bi_df.shape[0]>1):\n",
    "        the_first_bottom = up_chan_bi_df.iloc[0]\n",
    "        the_second_bottom = up_chan_bi_df.iloc[1]\n",
    "\n",
    "        if(the_second_bottom['price']<the_first_bottom['price']):\n",
    "            return True\n",
    "\n",
    "    return False\n",
    "            \n",
    "\n",
    "\n",
    "def paint_break_the_first_bottom_sections(scale,short,mid):\n",
    "    sectionAnalyser = SectionAnalyser(scale, short, mid)\n",
    "    day_sections_df = sectionAnalyser.build_cross_resonate_on_week_and_day()\n",
    "    day_sections_df =  day_sections_df[day_sections_df['d_ma_mid_dire']=='Up']\n",
    "\n",
    "    good_count=0\n",
    "    stop_loss_count=0\n",
    "    \n",
    "    first_top_count=0\n",
    "    first_bottom_count=0\n",
    "    for key,row in day_sections_df.iterrows():\n",
    "        analyser = ChanBiManager().get_analyser(row['symbol'],level_day,short,mid)\n",
    "        chan_bi_df = analyser.get_chan_bis_between(row['d_s_date'],row['d_e_date'])\n",
    "        \n",
    "        painter = KPainter()\n",
    "        painter.draw_single_level_chan_bi(row['symbol'],level_day,row['d_s_date'],row['d_e_date'],short,mid)\n",
    "\n",
    "        if(chan_bi_df.shape[0]>0):\n",
    "            the_first_bi = chan_bi_df.iloc[0]\n",
    "            \n",
    "            if(the_first_bi['turning_point']=='top'):\n",
    "                first_top_count += 1\n",
    "            else:\n",
    "                first_bottom_count += 1\n",
    "            \n",
    "            if(is_stop_loss(chan_bi_df)):\n",
    "                stop_loss_count += 1\n",
    "            else:\n",
    "                good_count += 1\n",
    "                    \n",
    "        print(row['symbol']+' '+row['d_s_date']+'===>'+row['d_e_date']+' first_top_count:'+str(first_top_count) +' first_bottom_count:'+str(first_bottom_count))\n",
    "        print(row['symbol']+' '+row['d_s_date']+'===>'+row['d_e_date']+' stop_loss_count:'+str(stop_loss_count) +' good_count:'+str(good_count))\n",
    "        \n",
    "short=30\n",
    "mid=60\n",
    "scale=20\n",
    "\n",
    "paint_break_the_first_bottom_sections(scale,short,mid)\n",
    "\n"
   ]
  },
  {
   "cell_type": "code",
   "execution_count": null,
   "metadata": {},
   "outputs": [],
   "source": []
  },
  {
   "cell_type": "code",
   "execution_count": null,
   "metadata": {},
   "outputs": [],
   "source": []
  },
  {
   "cell_type": "code",
   "execution_count": null,
   "metadata": {},
   "outputs": [],
   "source": [
    "# 将打破第一个低点的波段的分笔画出来\n",
    "\n",
    "%run KPainter.ipynb\n",
    "%run SectionAnalyser.ipynb\n",
    "%run Util.ipynb\n",
    "%run ChanBiManager.ipynb\n",
    "\n",
    "\n",
    "def is_stop_loss(chan_bi_df):\n",
    "    up_chan_bi_df = chan_bi_df[chan_bi_df['turning_point']=='bottom']\n",
    "\n",
    "    if(up_chan_bi_df.shape[0]>1):\n",
    "        the_first_bottom = up_chan_bi_df.iloc[0]\n",
    "        the_second_bottom = up_chan_bi_df.iloc[1]\n",
    "\n",
    "        if(the_second_bottom['price']<the_first_bottom['price']):\n",
    "            return True\n",
    "\n",
    "    return False\n",
    "            \n",
    "\n",
    "\n",
    "def paint_break_the_first_bottom_sections(scale,short,mid):\n",
    "    sectionAnalyser = SectionAnalyser(scale, short, mid)\n",
    "    day_sections_df = sectionAnalyser.build_cross_resonate_on_week_and_day()\n",
    "    day_sections_df =  day_sections_df[day_sections_df['d_ma_mid_dire']=='Up']\n",
    "\n",
    "    good_count=0\n",
    "    stop_loss_count=0\n",
    "    \n",
    "    first_top_count=0\n",
    "    first_bottom_count=0\n",
    "    \n",
    "    stop_loss_df = pd.DataFrame(columns=['symbol','start_date','end_date','first_direc','break_bottom'])\n",
    "    for key,row in day_sections_df.iterrows():\n",
    "        analyser = ChanBiManager().get_analyser(row['symbol'],level_day,short,mid)\n",
    "        chan_bi_df = analyser.get_chan_bis_between(row['d_s_date'],row['d_e_date'])\n",
    "        \n",
    "        if(chan_bi_df.shape[0]>0):\n",
    "            the_first_bi = chan_bi_df.iloc[0]\n",
    "\n",
    "            break_bottom = is_stop_loss(chan_bi_df)\n",
    "            stop_loss_df.loc[stop_loss_df.shape[0]+1] = [row['symbol'],row['d_s_date'],row['d_e_date'],the_first_bi['turning_point'],break_bottom]\n",
    "                    \n",
    "    print(row['symbol']+' '+row['d_s_date']+'===>'+row['d_e_date']+' first_top_count:'+str(first_top_count) +' first_bottom_count:'+str(first_bottom_count))\n",
    "    print(row['symbol']+' '+row['d_s_date']+'===>'+row['d_e_date']+' stop_loss_count:'+str(stop_loss_count) +' good_count:'+str(good_count))\n",
    "    return stop_loss_df\n",
    "        \n",
    "short=30\n",
    "mid=60\n",
    "scale=300\n",
    "\n",
    "stop_loss_df = paint_break_the_first_bottom_sections(scale,short,mid)\n",
    "\n",
    "stop_loss_df"
   ]
  },
  {
   "cell_type": "code",
   "execution_count": null,
   "metadata": {},
   "outputs": [],
   "source": []
  },
  {
   "cell_type": "code",
   "execution_count": null,
   "metadata": {},
   "outputs": [],
   "source": []
  },
  {
   "cell_type": "code",
   "execution_count": null,
   "metadata": {},
   "outputs": [],
   "source": []
  },
  {
   "cell_type": "code",
   "execution_count": null,
   "metadata": {},
   "outputs": [],
   "source": []
  },
  {
   "cell_type": "code",
   "execution_count": null,
   "metadata": {},
   "outputs": [],
   "source": []
  },
  {
   "cell_type": "code",
   "execution_count": null,
   "metadata": {},
   "outputs": [],
   "source": []
  },
  {
   "cell_type": "code",
   "execution_count": null,
   "metadata": {},
   "outputs": [],
   "source": []
  },
  {
   "cell_type": "code",
   "execution_count": null,
   "metadata": {},
   "outputs": [],
   "source": []
  },
  {
   "cell_type": "code",
   "execution_count": null,
   "metadata": {},
   "outputs": [],
   "source": []
  },
  {
   "cell_type": "code",
   "execution_count": null,
   "metadata": {},
   "outputs": [],
   "source": []
  },
  {
   "cell_type": "code",
   "execution_count": null,
   "metadata": {
    "scrolled": false
   },
   "outputs": [
    {
     "name": "stdout",
     "output_type": "stream",
     "text": [
      "load SZ#000001 sections from file\n",
      "section_df shape 39\n"
     ]
    },
    {
     "data": {
      "image/png": "[encoded data removed]",
      "text/plain": [
       "<Figure size 864x576 with 1 Axes>"
      ]
     },
     "metadata": {},
     "output_type": "display_data"
    }
   ],
   "source": [
    "# 将每个波段的笔画出来\n",
    "\n",
    "%run KPainter.ipynb\n",
    "%run SectionManager.ipynb\n",
    "%run Util.ipynb\n",
    "\n",
    "short=30\n",
    "mid=60\n",
    "\n",
    "symbols = get_symbol_slices(0,1)\n",
    "for symbol in symbols:\n",
    "    sectionManager = SectionManager(symbol, level_day, short, mid)\n",
    "    section_df = sectionManager.get_all_cross_sections()\n",
    "    print('section_df shape ' + str(section_df.shape[0]))\n",
    "\n",
    "    biInSectionService = BiInSectionService(symbol, level_day, short, mid)\n",
    "    for key,row in section_df.iterrows():\n",
    "        painter = KPainter(symbol, level_day, short, mid)\n",
    "        painter.draw_single_level_chan_bi(row['s_date'],row['e_date'],row['s_price'],row['e_price'])\n",
    "\n"
   ]
  },
  {
   "cell_type": "code",
   "execution_count": null,
   "metadata": {},
   "outputs": [],
   "source": []
  }
 ],
 "metadata": {
  "kernelspec": {
   "display_name": "ai",
   "language": "python",
   "name": "ai"
  },
  "language_info": {
   "codemirror_mode": {
    "name": "ipython",
    "version": 3
   },
   "file_extension": ".py",
   "mimetype": "text/x-python",
   "name": "python",
   "nbconvert_exporter": "python",
   "pygments_lexer": "ipython3",
   "version": "3.6.6"
  }
 },
 "nbformat": 4,
 "nbformat_minor": 2
}
