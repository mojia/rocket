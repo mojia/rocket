{
 "cells": [
  {
   "cell_type": "code",
   "execution_count": 42,
   "metadata": {
    "scrolled": false
   },
   "outputs": [
    {
     "name": "stdout",
     "output_type": "stream",
     "text": [
      "find all cross sections...\n",
      "start to run operation regression...\n",
      "清仓\n",
      "清仓\n",
      "清仓\n",
      "清仓\n"
     ]
    },
    {
     "data": {
      "text/html": [
       "<div>\n",
       "<style scoped>\n",
       "    .dataframe tbody tr th:only-of-type {\n",
       "        vertical-align: middle;\n",
       "    }\n",
       "\n",
       "    .dataframe tbody tr th {\n",
       "        vertical-align: top;\n",
       "    }\n",
       "\n",
       "    .dataframe thead th {\n",
       "        text-align: right;\n",
       "    }\n",
       "</style>\n",
       "<table border=\"1\" class=\"dataframe\">\n",
       "  <thead>\n",
       "    <tr style=\"text-align: right;\">\n",
       "      <th></th>\n",
       "      <th>symbol</th>\n",
       "      <th>buy_date</th>\n",
       "      <th>sell_date</th>\n",
       "      <th>buy_price</th>\n",
       "      <th>sell_price</th>\n",
       "      <th>shares</th>\n",
       "      <th>space</th>\n",
       "      <th>profit_rate</th>\n",
       "      <th>cash</th>\n",
       "    </tr>\n",
       "  </thead>\n",
       "  <tbody>\n",
       "    <tr>\n",
       "      <th>3</th>\n",
       "      <td>SZ#000001</td>\n",
       "      <td>2015-04-01</td>\n",
       "      <td>2015-06-26</td>\n",
       "      <td>10.54</td>\n",
       "      <td>11.05</td>\n",
       "      <td>4000</td>\n",
       "      <td>0</td>\n",
       "      <td>4.838710</td>\n",
       "      <td>102040.0</td>\n",
       "    </tr>\n",
       "    <tr>\n",
       "      <th>2</th>\n",
       "      <td>SZ#000001</td>\n",
       "      <td>2015-11-11</td>\n",
       "      <td>2016-01-04</td>\n",
       "      <td>10.04</td>\n",
       "      <td>9.02</td>\n",
       "      <td>4300</td>\n",
       "      <td>0</td>\n",
       "      <td>-10.159363</td>\n",
       "      <td>97654.0</td>\n",
       "    </tr>\n",
       "    <tr>\n",
       "      <th>1</th>\n",
       "      <td>SZ#000001</td>\n",
       "      <td>2017-02-27</td>\n",
       "      <td>2017-04-11</td>\n",
       "      <td>9.14</td>\n",
       "      <td>8.86</td>\n",
       "      <td>4500</td>\n",
       "      <td>0</td>\n",
       "      <td>-3.063457</td>\n",
       "      <td>96394.0</td>\n",
       "    </tr>\n",
       "    <tr>\n",
       "      <th>0</th>\n",
       "      <td>SZ#000001</td>\n",
       "      <td>2017-06-23</td>\n",
       "      <td>2018-03-06</td>\n",
       "      <td>8.96</td>\n",
       "      <td>11.96</td>\n",
       "      <td>4600</td>\n",
       "      <td>0</td>\n",
       "      <td>33.482143</td>\n",
       "      <td>110194.0</td>\n",
       "    </tr>\n",
       "  </tbody>\n",
       "</table>\n",
       "</div>"
      ],
      "text/plain": [
       "      symbol    buy_date   sell_date  buy_price  sell_price shares space  \\\n",
       "3  SZ#000001  2015-04-01  2015-06-26      10.54       11.05   4000     0   \n",
       "2  SZ#000001  2015-11-11  2016-01-04      10.04        9.02   4300     0   \n",
       "1  SZ#000001  2017-02-27  2017-04-11       9.14        8.86   4500     0   \n",
       "0  SZ#000001  2017-06-23  2018-03-06       8.96       11.96   4600     0   \n",
       "\n",
       "   profit_rate      cash  \n",
       "3     4.838710  102040.0  \n",
       "2   -10.159363   97654.0  \n",
       "1    -3.063457   96394.0  \n",
       "0    33.482143  110194.0  "
      ]
     },
     "execution_count": 42,
     "metadata": {},
     "output_type": "execute_result"
    }
   ],
   "source": [
    "%run Util.ipynb\n",
    "%run OperationRegression.ipynb\n",
    "\n",
    "import matplotlib as mpl\n",
    "import matplotlib.pyplot as plt\n",
    "import matplotlib.pylab as pylab\n",
    "import seaborn as sns\n",
    "from pandas.tools.plotting import scatter_matrix\n",
    "\n",
    "%matplotlib inline\n",
    "mpl.style.use('ggplot')\n",
    "sns.set_style('white')\n",
    "\n",
    "symbols = get_symbols(scale=1)\n",
    "regression = OperationRegression(symbols, '2015-01-01','2019-01-01', short=30, mid=60)\n",
    "regression.run()\n",
    "\n",
    "operations = regression.get_operations()\n",
    "operations"
   ]
  },
  {
   "cell_type": "code",
   "execution_count": 31,
   "metadata": {},
   "outputs": [
    {
     "name": "stdout",
     "output_type": "stream",
     "text": [
      "每年增长幅度为:[0.0, -3.9, 295.0, -3.8, -3.0, -5.6, -0.1, -0.3, 4.4, 13.7, -4.3, -1.3, 14.3]\n"
     ]
    },
    {
     "data": {
      "text/html": [
       "<div>\n",
       "<style scoped>\n",
       "    .dataframe tbody tr th:only-of-type {\n",
       "        vertical-align: middle;\n",
       "    }\n",
       "\n",
       "    .dataframe tbody tr th {\n",
       "        vertical-align: top;\n",
       "    }\n",
       "\n",
       "    .dataframe thead th {\n",
       "        text-align: right;\n",
       "    }\n",
       "</style>\n",
       "<table border=\"1\" class=\"dataframe\">\n",
       "  <thead>\n",
       "    <tr style=\"text-align: right;\">\n",
       "      <th></th>\n",
       "      <th>total_profit</th>\n",
       "      <th>win_rate</th>\n",
       "      <th>loss_times</th>\n",
       "      <th>retrace</th>\n",
       "      <th>deal_count</th>\n",
       "      <th>win_count</th>\n",
       "      <th>period_profit_score</th>\n",
       "      <th>retrace_score</th>\n",
       "    </tr>\n",
       "  </thead>\n",
       "  <tbody>\n",
       "    <tr>\n",
       "      <th>1</th>\n",
       "      <td>326.814</td>\n",
       "      <td>40.0</td>\n",
       "      <td>5.0</td>\n",
       "      <td>14.22</td>\n",
       "      <td>15.0</td>\n",
       "      <td>6.0</td>\n",
       "      <td>23.1</td>\n",
       "      <td>71.56</td>\n",
       "    </tr>\n",
       "  </tbody>\n",
       "</table>\n",
       "</div>"
      ],
      "text/plain": [
       "   total_profit  win_rate  loss_times  retrace  deal_count  win_count  \\\n",
       "1       326.814      40.0         5.0    14.22        15.0        6.0   \n",
       "\n",
       "   period_profit_score  retrace_score  \n",
       "1                 23.1          71.56  "
      ]
     },
     "execution_count": 31,
     "metadata": {},
     "output_type": "execute_result"
    }
   ],
   "source": [
    "part_report = regression.report()\n",
    "part_report"
   ]
  },
  {
   "cell_type": "code",
   "execution_count": 44,
   "metadata": {},
   "outputs": [
    {
     "data": {
      "text/plain": [
       "<matplotlib.axes._subplots.AxesSubplot at 0x112a83358>"
      ]
     },
     "execution_count": 44,
     "metadata": {},
     "output_type": "execute_result"
    },
    {
     "data": {
      "image/png": "[encoded data removed]",
      "text/plain": [
       "<Figure size 432x288 with 1 Axes>"
      ]
     },
     "metadata": {},
     "output_type": "display_data"
    }
   ],
   "source": [
    "asset_df = regression.get_asset_df()\n",
    "asset_df.plot()\n"
   ]
  },
  {
   "cell_type": "code",
   "execution_count": null,
   "metadata": {},
   "outputs": [],
   "source": []
  },
  {
   "cell_type": "code",
   "execution_count": null,
   "metadata": {},
   "outputs": [],
   "source": []
  },
  {
   "cell_type": "code",
   "execution_count": null,
   "metadata": {},
   "outputs": [],
   "source": []
  },
  {
   "cell_type": "code",
   "execution_count": 8,
   "metadata": {},
   "outputs": [
    {
     "name": "stdout",
     "output_type": "stream",
     "text": [
      "每年增长幅度为:[15.2, 3.4, -4.4, -3.9, 295.1, -4.6, -3.0, -2.2, -1.1, -2.5, 9.4, 0.2, -3.5, -1.3, 10.3]\n"
     ]
    },
    {
     "data": {
      "text/html": [
       "<div>\n",
       "<style scoped>\n",
       "    .dataframe tbody tr th:only-of-type {\n",
       "        vertical-align: middle;\n",
       "    }\n",
       "\n",
       "    .dataframe tbody tr th {\n",
       "        vertical-align: top;\n",
       "    }\n",
       "\n",
       "    .dataframe thead th {\n",
       "        text-align: right;\n",
       "    }\n",
       "</style>\n",
       "<table border=\"1\" class=\"dataframe\">\n",
       "  <thead>\n",
       "    <tr style=\"text-align: right;\">\n",
       "      <th></th>\n",
       "      <th>total_profit</th>\n",
       "      <th>win_rate</th>\n",
       "      <th>loss_times</th>\n",
       "      <th>retrace</th>\n",
       "      <th>deal_count</th>\n",
       "      <th>win_count</th>\n",
       "      <th>period_profit_score</th>\n",
       "      <th>retrace_score</th>\n",
       "    </tr>\n",
       "  </thead>\n",
       "  <tbody>\n",
       "    <tr>\n",
       "      <th>1</th>\n",
       "      <td>334.439</td>\n",
       "      <td>32.0</td>\n",
       "      <td>6.0</td>\n",
       "      <td>14.95</td>\n",
       "      <td>25.0</td>\n",
       "      <td>8.0</td>\n",
       "      <td>20.0</td>\n",
       "      <td>70.1</td>\n",
       "    </tr>\n",
       "  </tbody>\n",
       "</table>\n",
       "</div>"
      ],
      "text/plain": [
       "   total_profit  win_rate  loss_times  retrace  deal_count  win_count  \\\n",
       "1       334.439      32.0         6.0    14.95        25.0        8.0   \n",
       "\n",
       "   period_profit_score  retrace_score  \n",
       "1                 20.0           70.1  "
      ]
     },
     "execution_count": 8,
     "metadata": {},
     "output_type": "execute_result"
    }
   ],
   "source": []
  },
  {
   "cell_type": "code",
   "execution_count": null,
   "metadata": {},
   "outputs": [],
   "source": []
  },
  {
   "cell_type": "code",
   "execution_count": null,
   "metadata": {},
   "outputs": [],
   "source": []
  },
  {
   "cell_type": "code",
   "execution_count": null,
   "metadata": {},
   "outputs": [],
   "source": []
  },
  {
   "cell_type": "code",
   "execution_count": 12,
   "metadata": {
    "scrolled": false
   },
   "outputs": [
    {
     "name": "stdout",
     "output_type": "stream",
     "text": [
      "symbols 400\n",
      "find all cross sections...\n",
      "1.25% 2.5% 3.75% 5.0% 6.25% 7.5% 8.75% 10.0% 11.25% 12.5% 13.75% 15.0% 16.25% 17.5% 18.75% 20.0% 21.25% 22.5% 23.75% 25.0% 26.25% 27.5% 28.75% 30.0% 31.25% 32.5% 33.75% 35.0% 36.25% 37.5% 38.75% 40.0% 41.25% 42.5% 43.75% 45.0% 46.25% 47.5% 48.75% 50.0% 51.25% 52.5% 53.75% 55.0% 56.25% 57.5% 58.75% 60.0% 61.25% 62.5% 63.75% 65.0% 66.25% 67.5% 68.75% 70.0% 71.25% 72.5% 73.75% 75.0% 76.25% 77.5% 78.75% 80.0% 81.25% 82.5% 83.75% 85.0% 86.25% 87.5% 88.75% 90.0% 91.25% 92.5% 93.75% 95.0% 96.25% 97.5% 98.75% 100.0% start to run operation regression...\n",
      "每年增长幅度为:[-12.6, -8.4, -15.2, 108.7, 8.9, 502.0, 207.6, -31.2, -10.4, 4.0, -7.7, -15.2, -3.1, 4.5, 46.5, -17.8, 3.6, -19.9]\n",
      "find all cross sections...\n",
      "1.25% 2.5% 3.75% 5.0% 6.25% 7.5% 8.75% 10.0% 11.25% 12.5% 13.75% 15.0% 16.25% 17.5% 18.75% 20.0% 21.25% 22.5% 23.75% 25.0% 26.25% 27.5% 28.75% 30.0% 31.25% 32.5% 33.75% 35.0% 36.25% 37.5% 38.75% 40.0% 41.25% 42.5% 43.75% 45.0% 46.25% 47.5% 48.75% 50.0% 51.25% 52.5% 53.75% 55.0% 56.25% 57.5% 58.75% 60.0% 61.25% 62.5% 63.75% 65.0% 66.25% 67.5% 68.75% 70.0% 71.25% 72.5% 73.75% 75.0% 76.25% 77.5% 78.75% 80.0% 81.25% 82.5% 83.75% 85.0% 86.25% 87.5% 88.75% 90.0% 91.25% 92.5% 93.75% 95.0% 96.25% 97.5% 98.75% 100.0% start to run operation regression...\n",
      "每年增长幅度为:[-11.9, -11.4, -15.3, 108.7, 8.9, 501.9, 207.7, 10.8, -10.4, 3.6, -7.7, -15.2, -3.1, 4.5, 63.0, -26.2, 27.0, -8.8]\n",
      "find all cross sections...\n",
      "1.25% 2.5% 3.75% 5.0% 6.25% 7.5% 8.75% 10.0% 11.25% 12.5% 13.75% 15.0% 16.25% 17.5% 18.75% 20.0% 21.25% 22.5% 23.75% 25.0% 26.25% 27.5% 28.75% 30.0% 31.25% 32.5% 33.75% 35.0% 36.25% 37.5% 38.75% 40.0% 41.25% 42.5% 43.75% 45.0% 46.25% 47.5% 48.75% 50.0% 51.25% 52.5% 53.75% 55.0% 56.25% 57.5% 58.75% 60.0% 61.25% 62.5% 63.75% 65.0% 66.25% 67.5% 68.75% 70.0% 71.25% 72.5% 73.75% 75.0% 76.25% 77.5% 78.75% 80.0% 81.25% 82.5% 83.75% 85.0% 86.25% 87.5% 88.75% 90.0% 91.25% 92.5% 93.75% 95.0% 96.25% 97.5% 98.75% 100.0% start to run operation regression...\n",
      "每年增长幅度为:[17.9, 502.1, 207.7, -30.8, -10.4, 0.7, -27.1, -15.2, -3.1, 4.5, 48.6, -7.9, 11.8, -22.3]\n",
      "find all cross sections...\n",
      "1.25% 2.5% 3.75% 5.0% 6.25% 7.5% 8.75% 10.0% 11.25% 12.5% 13.75% 15.0% 16.25% 17.5% 18.75% 20.0% 21.25% 22.5% 23.75% 25.0% 26.25% 27.5% 28.75% 30.0% 31.25% 32.5% 33.75% 35.0% 36.25% 37.5% 38.75% 40.0% 41.25% 42.5% 43.75% 45.0% 46.25% 47.5% 48.75% 50.0% 51.25% 52.5% 53.75% 55.0% 56.25% 57.5% 58.75% 60.0% 61.25% 62.5% 63.75% 65.0% 66.25% 67.5% 68.75% 70.0% 71.25% 72.5% 73.75% 75.0% 76.25% 77.5% 78.75% 80.0% 81.25% 82.5% 83.75% 85.0% 86.25% 87.5% 88.75% 90.0% 91.25% 92.5% 93.75% 95.0% 96.25% 97.5% 98.75% 100.0% start to run operation regression...\n",
      "每年增长幅度为:[9.0, 502.1, 207.7, -31.2, -10.4, 0.7, -27.1, -15.2, -3.1, 4.5, 46.5, -17.8, 3.6, -19.9]\n",
      "find all cross sections...\n",
      "1.25% 2.5% 3.75% 5.0% 6.25% 7.5% 8.75% 10.0% 11.25% 12.5% 13.75% 15.0% 16.25% 17.5% 18.75% 20.0% 21.25% 22.5% 23.75% 25.0% 26.25% 27.5% 28.75% 30.0% 31.25% 32.5% 33.75% 35.0% 36.25% 37.5% 38.75% 40.0% 41.25% 42.5% 43.75% 45.0% 46.25% 47.5% 48.75% 50.0% 51.25% 52.5% 53.75% 55.0% 56.25% 57.5% 58.75% 60.0% 61.25% 62.5% 63.75% 65.0% 66.25% 67.5% 68.75% 70.0% 71.25% 72.5% 73.75% 75.0% 76.25% 77.5% 78.75% 80.0% 81.25% 82.5% 83.75% 85.0% 86.25% 87.5% 88.75% 90.0% 91.25% 92.5% 93.75% 95.0% 96.25% 97.5% 98.75% 100.0% start to run operation regression...\n",
      "每年增长幅度为:[59.5, -31.0, -10.3, -0.3, -26.9, -15.1, -3.0, 4.5, 18.3, -17.4, 4.0, -19.2]\n",
      "find all cross sections...\n",
      "1.25% 2.5% 3.75% 5.0% 6.25% 7.5% 8.75% 10.0% 11.25% 12.5% 13.75% 15.0% 16.25% 17.5% 18.75% 20.0% 21.25% 22.5% 23.75% 25.0% 26.25% 27.5% 28.75% 30.0% 31.25% 32.5% 33.75% 35.0% 36.25% 37.5% 38.75% 40.0% 41.25% 42.5% 43.75% 45.0% 46.25% 47.5% 48.75% 50.0% 51.25% 52.5% 53.75% 55.0% 56.25% 57.5% 58.75% 60.0% 61.25% 62.5% 63.75% 65.0% 66.25% 67.5% 68.75% 70.0% 71.25% 72.5% 73.75% 75.0% 76.25% 77.5% 78.75% 80.0% 81.25% 82.5% 83.75% 85.0% 86.25% 87.5% 88.75% 90.0% 91.25% 92.5% 93.75% 95.0% 96.25% 97.5% 98.75% 100.0% start to run operation regression...\n",
      "每年增长幅度为:[20.7, -26.8, -15.1, -3.0, 4.6, 38.3, -17.0, 4.3, -19.4]\n",
      "find all cross sections...\n",
      "1.25% 2.5% 3.75% 5.0% 6.25% 7.5% 8.75% 10.0% 11.25% 12.5% 13.75% 15.0% 16.25% 17.5% 18.75% 20.0% 21.25% 22.5% 23.75% 25.0% 26.25% 27.5% 28.75% 30.0% 31.25% 32.5% 33.75% 35.0% 36.25% 37.5% 38.75% 40.0% 41.25% 42.5% 43.75% 45.0% 46.25% 47.5% 48.75% 50.0% 51.25% 52.5% 53.75% 55.0% 56.25% 57.5% 58.75% 60.0% 61.25% 62.5% 63.75% 65.0% 66.25% 67.5% 68.75% 70.0% 71.25% 72.5% 73.75% 75.0% 76.25% 77.5% 78.75% 80.0% 81.25% 82.5% 83.75% 85.0% 86.25% 87.5% 88.75% 90.0% 91.25% 92.5% 93.75% 95.0% 96.25% 97.5% 98.75% 100.0% start to run operation regression...\n",
      "每年增长幅度为:[-13.9, -3.0, 4.5, 38.8, -17.1, 11.8, -21.9]\n",
      "find all cross sections...\n",
      "1.25% 2.5% 3.75% 5.0% 6.25% 7.5% 8.75% 10.0% 11.25% 12.5% 13.75% 15.0% 16.25% 17.5% 18.75% 20.0% 21.25% 22.5% 23.75% 25.0% 26.25% 27.5% 28.75% 30.0% 31.25% 32.5% 33.75% 35.0% 36.25% 37.5% 38.75% 40.0% 41.25% 42.5% 43.75% 45.0% 46.25% 47.5% 48.75% 50.0% 51.25% 52.5% 53.75% 55.0% 56.25% 57.5% 58.75% 60.0% 61.25% 62.5% 63.75% 65.0% 66.25% 67.5% 68.75% 70.0% 71.25% 72.5% 73.75% 75.0% 76.25% 77.5% 78.75% 80.0% 81.25% 82.5% 83.75% 85.0% 86.25% 87.5% 88.75% 90.0% 91.25% 92.5% 93.75% 95.0% 96.25% 97.5% 98.75% 100.0% start to run operation regression...\n",
      "每年增长幅度为:[8.6, -6.6, -7.1, 25.7, -22.0]\n"
     ]
    },
    {
     "data": {
      "text/html": [
       "<div>\n",
       "<style scoped>\n",
       "    .dataframe tbody tr th:only-of-type {\n",
       "        vertical-align: middle;\n",
       "    }\n",
       "\n",
       "    .dataframe tbody tr th {\n",
       "        vertical-align: top;\n",
       "    }\n",
       "\n",
       "    .dataframe thead th {\n",
       "        text-align: right;\n",
       "    }\n",
       "</style>\n",
       "<table border=\"1\" class=\"dataframe\">\n",
       "  <thead>\n",
       "    <tr style=\"text-align: right;\">\n",
       "      <th></th>\n",
       "      <th>total_profit</th>\n",
       "      <th>win_rate</th>\n",
       "      <th>loss_times</th>\n",
       "      <th>retrace</th>\n",
       "      <th>deal_count</th>\n",
       "      <th>win_count</th>\n",
       "      <th>period_profit_score</th>\n",
       "      <th>retrace_score</th>\n",
       "    </tr>\n",
       "  </thead>\n",
       "  <tbody>\n",
       "    <tr>\n",
       "      <th>0</th>\n",
       "      <td>-7.622</td>\n",
       "      <td>24.137931</td>\n",
       "      <td>6.0</td>\n",
       "      <td>23.39</td>\n",
       "      <td>29.0</td>\n",
       "      <td>7.0</td>\n",
       "      <td>20.0</td>\n",
       "      <td>49.83</td>\n",
       "    </tr>\n",
       "    <tr>\n",
       "      <th>1</th>\n",
       "      <td>-12.377</td>\n",
       "      <td>27.906977</td>\n",
       "      <td>6.0</td>\n",
       "      <td>27.62</td>\n",
       "      <td>43.0</td>\n",
       "      <td>12.0</td>\n",
       "      <td>28.6</td>\n",
       "      <td>37.14</td>\n",
       "    </tr>\n",
       "    <tr>\n",
       "      <th>2</th>\n",
       "      <td>-26.672</td>\n",
       "      <td>28.070175</td>\n",
       "      <td>6.0</td>\n",
       "      <td>40.05</td>\n",
       "      <td>57.0</td>\n",
       "      <td>16.0</td>\n",
       "      <td>22.2</td>\n",
       "      <td>-0.25</td>\n",
       "    </tr>\n",
       "    <tr>\n",
       "      <th>3</th>\n",
       "      <td>-49.183</td>\n",
       "      <td>24.675325</td>\n",
       "      <td>12.0</td>\n",
       "      <td>68.14</td>\n",
       "      <td>77.0</td>\n",
       "      <td>19.0</td>\n",
       "      <td>16.7</td>\n",
       "      <td>-100.00</td>\n",
       "    </tr>\n",
       "    <tr>\n",
       "      <th>4</th>\n",
       "      <td>684.912</td>\n",
       "      <td>25.609756</td>\n",
       "      <td>12.0</td>\n",
       "      <td>63.01</td>\n",
       "      <td>82.0</td>\n",
       "      <td>21.0</td>\n",
       "      <td>21.4</td>\n",
       "      <td>-100.00</td>\n",
       "    </tr>\n",
       "    <tr>\n",
       "      <th>5</th>\n",
       "      <td>915.054</td>\n",
       "      <td>28.750000</td>\n",
       "      <td>12.0</td>\n",
       "      <td>62.75</td>\n",
       "      <td>80.0</td>\n",
       "      <td>23.0</td>\n",
       "      <td>35.7</td>\n",
       "      <td>-100.00</td>\n",
       "    </tr>\n",
       "    <tr>\n",
       "      <th>6</th>\n",
       "      <td>3055.160</td>\n",
       "      <td>32.183908</td>\n",
       "      <td>6.0</td>\n",
       "      <td>33.96</td>\n",
       "      <td>87.0</td>\n",
       "      <td>28.0</td>\n",
       "      <td>33.3</td>\n",
       "      <td>18.12</td>\n",
       "    </tr>\n",
       "    <tr>\n",
       "      <th>7</th>\n",
       "      <td>1352.927</td>\n",
       "      <td>26.595745</td>\n",
       "      <td>12.0</td>\n",
       "      <td>51.62</td>\n",
       "      <td>94.0</td>\n",
       "      <td>25.0</td>\n",
       "      <td>22.2</td>\n",
       "      <td>-58.10</td>\n",
       "    </tr>\n",
       "  </tbody>\n",
       "</table>\n",
       "</div>"
      ],
      "text/plain": [
       "   total_profit   win_rate  loss_times  retrace  deal_count  win_count  \\\n",
       "0        -7.622  24.137931         6.0    23.39        29.0        7.0   \n",
       "1       -12.377  27.906977         6.0    27.62        43.0       12.0   \n",
       "2       -26.672  28.070175         6.0    40.05        57.0       16.0   \n",
       "3       -49.183  24.675325        12.0    68.14        77.0       19.0   \n",
       "4       684.912  25.609756        12.0    63.01        82.0       21.0   \n",
       "5       915.054  28.750000        12.0    62.75        80.0       23.0   \n",
       "6      3055.160  32.183908         6.0    33.96        87.0       28.0   \n",
       "7      1352.927  26.595745        12.0    51.62        94.0       25.0   \n",
       "\n",
       "   period_profit_score  retrace_score  \n",
       "0                 20.0          49.83  \n",
       "1                 28.6          37.14  \n",
       "2                 22.2          -0.25  \n",
       "3                 16.7        -100.00  \n",
       "4                 21.4        -100.00  \n",
       "5                 35.7        -100.00  \n",
       "6                 33.3          18.12  \n",
       "7                 22.2         -58.10  "
      ]
     },
     "execution_count": 12,
     "metadata": {},
     "output_type": "execute_result"
    }
   ],
   "source": [
    "symbols = get_symbols(scale=3)\n",
    "print('symbols ' + str(len(symbols)))\n",
    "\n",
    "\n",
    "report_df=pd.DataFrame(columns=system_report_columns)\n",
    "dates = ['1990-01-01','2000-06-01','2004-09-01','2005-01-01','2007-01-01','2010-01-01',\n",
    "        '2012-01-01','2014-01-01']\n",
    "for i in range(0,3):\n",
    "    regression = OperationRegression(symbols, '1990-01-01','2019-01-01', short=30, mid=60)\n",
    "    regression.run()\n",
    "    part_report = regression.report()\n",
    "    \n",
    "    report_df = pd.concat([part_report,report_df], ignore_index=True, sort=False)\n",
    "    \n",
    "report_df"
   ]
  },
  {
   "cell_type": "code",
   "execution_count": null,
   "metadata": {},
   "outputs": [],
   "source": []
  },
  {
   "cell_type": "code",
   "execution_count": null,
   "metadata": {},
   "outputs": [],
   "source": []
  },
  {
   "cell_type": "code",
   "execution_count": null,
   "metadata": {},
   "outputs": [],
   "source": [
    "operation_df[['sell_date','cash']].plot()"
   ]
  },
  {
   "cell_type": "code",
   "execution_count": null,
   "metadata": {},
   "outputs": [],
   "source": []
  }
 ],
 "metadata": {
  "kernelspec": {
   "display_name": "ai",
   "language": "python",
   "name": "ai"
  },
  "language_info": {
   "codemirror_mode": {
    "name": "ipython",
    "version": 3
   },
   "file_extension": ".py",
   "mimetype": "text/x-python",
   "name": "python",
   "nbconvert_exporter": "python",
   "pygments_lexer": "ipython3",
   "version": "3.6.6"
  }
 },
 "nbformat": 4,
 "nbformat_minor": 2
}
