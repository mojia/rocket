{
 "cells": [
  {
   "cell_type": "code",
   "execution_count": null,
   "metadata": {
    "scrolled": false
   },
   "outputs": [],
   "source": [
    "%run Util.ipynb\n",
    "%run OperationRegression.ipynb\n",
    "\n",
    "import numpy as np\n",
    "import matplotlib as mpl\n",
    "import matplotlib.pyplot as plt\n",
    "import matplotlib.pylab as pylab\n",
    "import seaborn as sns\n",
    "from pandas.tools.plotting import scatter_matrix\n",
    "\n",
    "%matplotlib inline\n",
    "mpl.style.use('ggplot')\n",
    "plt.rcParams['savefig.dpi'] = 300 #图片像素\n",
    "plt.rcParams['figure.dpi'] = 300 #分辨率\n",
    "sns.set_style('white')\n",
    "\n",
    "regression = OperationRegression(3,'2015-01-01','2019-01-01', short=30, mid=60)\n",
    "regression.run()\n",
    "\n",
    "operations = regression.get_operations()\n",
    "operations\n"
   ]
  },
  {
   "cell_type": "code",
   "execution_count": null,
   "metadata": {
    "scrolled": false
   },
   "outputs": [],
   "source": [
    "part_report = regression.report()\n",
    "part_report"
   ]
  },
  {
   "cell_type": "code",
   "execution_count": null,
   "metadata": {},
   "outputs": [],
   "source": [
    "title='MA(30.60); 7% losss, sell price is that day stop loss price; one stock; risk asset is 3%;\\n'\n",
    "regression.draw_asset(title)\n"
   ]
  },
  {
   "cell_type": "code",
   "execution_count": null,
   "metadata": {
    "scrolled": false
   },
   "outputs": [],
   "source": []
  },
  {
   "cell_type": "code",
   "execution_count": null,
   "metadata": {},
   "outputs": [],
   "source": []
  },
  {
   "cell_type": "code",
   "execution_count": null,
   "metadata": {},
   "outputs": [],
   "source": []
  },
  {
   "cell_type": "code",
   "execution_count": null,
   "metadata": {},
   "outputs": [],
   "source": []
  },
  {
   "cell_type": "code",
   "execution_count": null,
   "metadata": {},
   "outputs": [],
   "source": []
  },
  {
   "cell_type": "code",
   "execution_count": null,
   "metadata": {
    "scrolled": false
   },
   "outputs": [],
   "source": [
    "%run Util.ipynb\n",
    "%run OperationRegression.ipynb\n",
    "\n",
    "import numpy as np\n",
    "import matplotlib as mpl\n",
    "import matplotlib.pyplot as plt\n",
    "import matplotlib.pylab as pylab\n",
    "import seaborn as sns\n",
    "from pandas.tools.plotting import scatter_matrix\n",
    "\n",
    "%matplotlib inline\n",
    "mpl.style.use('ggplot')\n",
    "plt.rcParams['savefig.dpi'] = 300 #图片像素\n",
    "plt.rcParams['figure.dpi'] = 300 #分辨率\n",
    "sns.set_style('white')\n",
    "\n",
    "\n",
    "regression = OperationRegression(100, '2000-06-01', '2019-01-01', short=30, mid=60)\n",
    "regression.run()\n",
    "report_df = regression.report()\n",
    "\n",
    "title='MA(30.60); 7% losss, sell price is that day close price; one stock; risk asset is 3%;\\n'\n",
    "regression.draw_asset(title)\n",
    "\n",
    "    \n",
    "print('report_df\\n'+str(report_df))\n",
    "report_df.describe()"
   ]
  },
  {
   "cell_type": "code",
   "execution_count": null,
   "metadata": {},
   "outputs": [],
   "source": [
    "operations = regression.get_operations()\n",
    "operations[:30]"
   ]
  },
  {
   "cell_type": "code",
   "execution_count": null,
   "metadata": {},
   "outputs": [],
   "source": [
    "space_df = regression.account.space\n",
    "\n",
    "plt.rc('figure', figsize=(14, 10))#设置图片大小\n",
    "space_df['date'] = pd.to_datetime(space_df['date'])\n",
    "\n",
    "space_df = space_df.set_index('date')\n",
    "space_df.plot()"
   ]
  },
  {
   "cell_type": "code",
   "execution_count": null,
   "metadata": {},
   "outputs": [],
   "source": []
  },
  {
   "cell_type": "code",
   "execution_count": null,
   "metadata": {},
   "outputs": [],
   "source": []
  },
  {
   "cell_type": "code",
   "execution_count": null,
   "metadata": {},
   "outputs": [],
   "source": []
  },
  {
   "cell_type": "code",
   "execution_count": null,
   "metadata": {},
   "outputs": [],
   "source": []
  },
  {
   "cell_type": "code",
   "execution_count": null,
   "metadata": {},
   "outputs": [],
   "source": []
  },
  {
   "cell_type": "code",
   "execution_count": null,
   "metadata": {},
   "outputs": [],
   "source": []
  },
  {
   "cell_type": "code",
   "execution_count": null,
   "metadata": {},
   "outputs": [],
   "source": []
  },
  {
   "cell_type": "code",
   "execution_count": null,
   "metadata": {
    "scrolled": false
   },
   "outputs": [
    {
     "name": "stdout",
     "output_type": "stream",
     "text": [
      "find all cross sections...\n",
      "1.25% 2.5% "
     ]
    }
   ],
   "source": [
    "%run Util.ipynb\n",
    "%run OperationRegression.ipynb\n",
    "\n",
    "import numpy as np\n",
    "import matplotlib as mpl\n",
    "import matplotlib.pyplot as plt\n",
    "import matplotlib.pylab as pylab\n",
    "import seaborn as sns\n",
    "from pandas.tools.plotting import scatter_matrix\n",
    "\n",
    "%matplotlib inline\n",
    "mpl.style.use('ggplot')\n",
    "plt.rcParams['savefig.dpi'] = 300 #图片像素\n",
    "plt.rcParams['figure.dpi'] = 300 #分辨率\n",
    "sns.set_style('white')\n",
    "\n",
    "\n",
    "report_df=pd.DataFrame(columns=system_report_columns)\n",
    "dates = ['2000-06-01','2004-09-01','2005-01-01','2007-01-01','2010-01-01',\n",
    "        '2012-01-01','2014-01-01','2016-01-01']\n",
    "\n",
    "regression_map = {}\n",
    "for date in dates:\n",
    "    regression = OperationRegression(400, date, '2019-01-01', short=30, mid=60)\n",
    "    regression.run()\n",
    "\n",
    "    part_report = regression.report()\n",
    "    report_df = pd.concat([part_report,report_df], ignore_index=True, sort=False)\n",
    "    \n",
    "    regression_map[date]=regression\n",
    "    \n",
    "    title='MA(30.60); 7% losss, sell price is that day close price; one stock; risk asset is 3%;\\n'\n",
    "    regression.draw_asset(title)\n",
    "    \n",
    "    \n",
    "print('report_df\\n'+str(report_df))\n",
    "report_df.describe()"
   ]
  },
  {
   "cell_type": "code",
   "execution_count": null,
   "metadata": {},
   "outputs": [],
   "source": []
  },
  {
   "cell_type": "code",
   "execution_count": null,
   "metadata": {},
   "outputs": [],
   "source": []
  },
  {
   "cell_type": "code",
   "execution_count": null,
   "metadata": {},
   "outputs": [],
   "source": []
  },
  {
   "cell_type": "code",
   "execution_count": null,
   "metadata": {},
   "outputs": [],
   "source": []
  },
  {
   "cell_type": "code",
   "execution_count": null,
   "metadata": {},
   "outputs": [],
   "source": []
  },
  {
   "cell_type": "code",
   "execution_count": null,
   "metadata": {},
   "outputs": [],
   "source": []
  },
  {
   "cell_type": "code",
   "execution_count": null,
   "metadata": {},
   "outputs": [],
   "source": [
    "%run DataSourceManager.ipynb\n",
    "%run Util.ipynb\n",
    "\n",
    "operations = regression.get_operations()\n",
    "for key,row in operations.iterrows():\n",
    "    buy_date = row['buy_date']\n",
    "    sell_date = row['sell_date']\n",
    "    \n",
    "    data = DataSourceManager().get_data_source(row['symbol'], level_day).get_data()\n",
    "    part = data[(data['datetime']>=to_datetime(buy_date)) & (data['datetime']<=to_datetime(sell_date))]\n",
    "    part.plot(x='datetime',y='close', title=row['symbol']+'_'+buy_date+','+sell_date)"
   ]
  }
 ],
 "metadata": {
  "kernelspec": {
   "display_name": "ai",
   "language": "python",
   "name": "ai"
  },
  "language_info": {
   "codemirror_mode": {
    "name": "ipython",
    "version": 3
   },
   "file_extension": ".py",
   "mimetype": "text/x-python",
   "name": "python",
   "nbconvert_exporter": "python",
   "pygments_lexer": "ipython3",
   "version": "3.6.6"
  }
 },
 "nbformat": 4,
 "nbformat_minor": 2
}
