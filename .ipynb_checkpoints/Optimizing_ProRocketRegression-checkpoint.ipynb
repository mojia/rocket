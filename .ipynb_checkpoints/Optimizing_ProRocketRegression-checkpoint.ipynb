{
 "cells": [
  {
   "cell_type": "code",
   "execution_count": 16,
   "metadata": {},
   "outputs": [
    {
     "data": {
      "application/javascript": [
       "if (!(\"Notification\" in window)) {\n",
       "    alert(\"This browser does not support desktop notifications, so the %%notify magic will not work.\");\n",
       "} else if (Notification.permission !== 'granted' && Notification.permission !== 'denied') {\n",
       "    Notification.requestPermission(function (permission) {\n",
       "        if(!('permission' in Notification)) {\n",
       "            Notification.permission = permission;\n",
       "        }\n",
       "    })\n",
       "}\n"
      ],
      "text/plain": [
       "<IPython.core.display.Javascript object>"
      ]
     },
     "metadata": {},
     "output_type": "display_data"
    }
   ],
   "source": [
    "from multiprocessing import Pool, TimeoutError\n",
    "\n",
    "%run ProRocketRegression.ipynb\n",
    "%run Constant.ipynb\n",
    "%run Util.ipynb\n",
    "\n",
    "\n",
    "class Optimizing_ProRocketRegression:\n",
    "    \n",
    "    def __init__(self,symbols):\n",
    "        self.symbols = symbols\n",
    "    \n",
    "    \n",
    "    def simulate(self,start_date,end_date,draw_pic=False):\n",
    "        policy_name='rocket_break_v7_upgrade_honor_account_v0.3.json'\n",
    "\n",
    "        regression = ProRocketRegression(self.symbols,start_date,end_date,policy_name)\n",
    "        evaluation_df = regression.start_regression(True)\n",
    "\n",
    "        return evaluation_df\n",
    "    \n",
    "    \n",
    "    def case_regression_optimizing_stocks(self):        \n",
    "        start_date = '2010-01-01'\n",
    "        end_date = '2019-01-01'\n",
    "        evaluation_df = self.simulate(start_date,end_date,True)\n",
    "        \n",
    "        return evaluation_df\n",
    "    \n",
    "    \n",
    "    # 单支股票对于不同周期测试\n",
    "    def case_compare_the_same_single_stock_in_two_decades(process_num,max_stocks):\n",
    "        pool = Pool(processes=process_num)\n",
    "\n",
    "        start_1 = '2000-01-01'\n",
    "        end_1 = '2010-01-01'\n",
    "        start_2 = '2010-01-01'\n",
    "        end_2 = '2019-01-01'\n",
    "\n",
    "        tasks = []\n",
    "        for i in range(0,max_stocks):\n",
    "            task = pool.apply_async(simulate, (i,i+1,start_1,end_1))\n",
    "            tasks.append(task)\n",
    "            task = pool.apply_async(simulate, (i,i+1,start_2,end_2))\n",
    "            tasks.append(task)\n",
    "\n",
    "        evaluation_df = pd.DataFrame(columns=evaluation_columns)\n",
    "        for task in tasks:\n",
    "            try:\n",
    "                one_evaluation = task.get()\n",
    "                evaluation_df = pd.concat([one_evaluation,evaluation_df], ignore_index=True, sort=False)\n",
    "            except Exception as e:\n",
    "                print(str(e))\n",
    "\n",
    "        pool.close()\n",
    "        pool.join()\n",
    "\n",
    "        evaluation_df.to_csv(report_dir+'all_single_stocks_in_two_decades_evaluation_df.csv',index=False)\n",
    "\n",
    "        return evaluation_df\n",
    "\n",
    "    \n",
    "\n",
    "    def filter_missing_symbols(evaluation_df):\n",
    "        count_df = evaluation_df[['symbol','start_date','end_date','avg_year_return']].groupby(by='symbol')['start_date'].count()\n",
    "        symbols = list(count_df[count_df==1].index.values)\n",
    "\n",
    "        for symbol in symbols:\n",
    "            evaluation_df = evaluation_df[evaluation_df['symbol']!=symbol]\n",
    "\n",
    "        return evaluation_df\n"
   ]
  },
  {
   "cell_type": "code",
   "execution_count": 20,
   "metadata": {},
   "outputs": [
    {
     "data": {
      "text/html": [
       "<div>\n",
       "<style scoped>\n",
       "    .dataframe tbody tr th:only-of-type {\n",
       "        vertical-align: middle;\n",
       "    }\n",
       "\n",
       "    .dataframe tbody tr th {\n",
       "        vertical-align: top;\n",
       "    }\n",
       "\n",
       "    .dataframe thead th {\n",
       "        text-align: right;\n",
       "    }\n",
       "</style>\n",
       "<table border=\"1\" class=\"dataframe\">\n",
       "  <thead>\n",
       "    <tr style=\"text-align: right;\">\n",
       "      <th></th>\n",
       "      <th>symbol</th>\n",
       "      <th>start_date</th>\n",
       "      <th>end_date</th>\n",
       "      <th>in_hand_asset_drawdown</th>\n",
       "      <th>avg_drawdown</th>\n",
       "      <th>float_profit_drawdown</th>\n",
       "      <th>avg_year_return</th>\n",
       "      <th>year_regular_return</th>\n",
       "      <th>mean_year_return</th>\n",
       "      <th>mean_month_return</th>\n",
       "      <th>profit_month_rate</th>\n",
       "    </tr>\n",
       "  </thead>\n",
       "  <tbody>\n",
       "    <tr>\n",
       "      <th>1</th>\n",
       "      <td>all_symbols</td>\n",
       "      <td>2010-01-01</td>\n",
       "      <td>2019-01-01</td>\n",
       "      <td>9.92</td>\n",
       "      <td>8.873225</td>\n",
       "      <td>33.24</td>\n",
       "      <td>15.17</td>\n",
       "      <td>13.78</td>\n",
       "      <td>7.206667</td>\n",
       "      <td>0.575278</td>\n",
       "      <td>56.48</td>\n",
       "    </tr>\n",
       "  </tbody>\n",
       "</table>\n",
       "</div>"
      ],
      "text/plain": [
       "        symbol  start_date    end_date  in_hand_asset_drawdown  avg_drawdown  \\\n",
       "1  all_symbols  2010-01-01  2019-01-01                    9.92      8.873225   \n",
       "\n",
       "   float_profit_drawdown  avg_year_return  year_regular_return  \\\n",
       "1                  33.24            15.17                13.78   \n",
       "\n",
       "   mean_year_return  mean_month_return  profit_month_rate  \n",
       "1          7.206667           0.575278              56.48  "
      ]
     },
     "execution_count": 20,
     "metadata": {},
     "output_type": "execute_result"
    }
   ],
   "source": [
    "evaluation_df[display_columns]"
   ]
  },
  {
   "cell_type": "code",
   "execution_count": null,
   "metadata": {},
   "outputs": [],
   "source": []
  }
 ],
 "metadata": {
  "kernelspec": {
   "display_name": "Python 3",
   "language": "python",
   "name": "python3"
  },
  "language_info": {
   "codemirror_mode": {
    "name": "ipython",
    "version": 3
   },
   "file_extension": ".py",
   "mimetype": "text/x-python",
   "name": "python",
   "nbconvert_exporter": "python",
   "pygments_lexer": "ipython3",
   "version": "3.6.8"
  }
 },
 "nbformat": 4,
 "nbformat_minor": 2
}
