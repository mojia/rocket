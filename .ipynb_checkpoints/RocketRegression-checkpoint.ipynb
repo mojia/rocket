{
 "cells": [
  {
   "cell_type": "code",
   "execution_count": 10,
   "metadata": {
    "scrolled": false
   },
   "outputs": [],
   "source": [
    "import datetime as dt\n",
    "import logging as log\n",
    "\n",
    "%run BreakSectionManager.ipynb\n",
    "%run Util.ipynb\n",
    "%run Constant.ipynb\n",
    "%run Metric.ipynb\n",
    "%run Operation.ipynb\n",
    "%run Account.ipynb\n",
    "%run Policy_Loader.ipynb\n",
    "%run Evaluation.ipynb\n",
    "\n",
    "%run Evaluation_Metric.ipynb\n",
    "\n",
    "\n",
    "class RocketRegression:\n",
    "    \n",
    "    def __init__(self, policy_name):\n",
    "        self.policy_name = policy_name\n",
    "        self.policy_loader = Policy_Loader(self.policy_name)\n",
    "        self.debug = self.policy_loader.enabled_log_debug()\n",
    "        self.context = self.policy_loader.get_context()\n",
    "        \n",
    "        self.level = self.context['level']\n",
    "        self.short = self.context['short']\n",
    "        self.mid = self.context['mid']\n",
    "        \n",
    "    def start_regression_on_one_stock(self,symbol,regression_end_date):\n",
    "        sectionManager = BreakSectionManager(symbol,self.context)\n",
    "        section_df = sectionManager.get_all_break_sections()\n",
    "        section_df = section_df[section_df['d_s_datetime']<to_datetime(regression_end_date)]\n",
    "        \n",
    "        metric = Metric(symbol,self.context)\n",
    "        \n",
    "        stock_start_date = metric.get_stock_start_date()\n",
    "        stock_end_date = metric.get_stock_end_date()\n",
    "        log.info('stock_start_date ' + stock_start_date+' stock_end_date:'+stock_end_date)\n",
    "        \n",
    "        account = Account(stock_start_date,stock_end_date,self.context,self.policy_name)\n",
    "        operation = Operation(account,symbol,self.context,self.policy_name)\n",
    "        \n",
    "        for key,row in section_df.iterrows():\n",
    "            start_date = row['d_s_date']\n",
    "            end_date = row['d_e_date']\n",
    "            \n",
    "            start_datetime = to_datetime(start_date)\n",
    "            end_datetime = to_datetime(end_date)\n",
    "\n",
    "            buy_price = metric.get_cur_price(start_date)\n",
    "            \n",
    "            if(self.debug==True):\n",
    "                print('\\nsection '+start_date+'===>'+end_date)\n",
    "            while(start_datetime<=end_datetime):\n",
    "                cur_date = start_datetime.strftime(YMD_format)\n",
    "                \n",
    "                if(metric.is_today_open(cur_date)):\n",
    "                    account.daily_audit(cur_date)\n",
    "\n",
    "                    if(account.can_open_new_stock()==True):\n",
    "                        if(operation.is_buy_point(cur_date)==True):\n",
    "                            operation.open_opsition(cur_date)\n",
    "\n",
    "                    if(account.has_shares()==True):\n",
    "                        if(operation.is_sell_point(cur_date)==True):\n",
    "                            operation.sell_stock(cur_date)\n",
    "\n",
    "                start_datetime += dt.timedelta(days = 1)\n",
    "                    \n",
    "                        \n",
    "        operation_df = operation.get_operations()\n",
    "        \n",
    "        evaluation = Evaluation(account,self.context)\n",
    "        evaluation_df = evaluation.get_evaluation_report(symbol,stock_start_date,stock_end_date,\n",
    "                                                        self.policy_name,operation_df)\n",
    "\n",
    "        return evaluation_df\n",
    "    \n",
    "    \n",
    "    def start_regression(self,scale,regression_end_date):\n",
    "        print('context:' + str(self.context))\n",
    "        \n",
    "        evaluation_df = pd.DataFrame(columns=evaluation_columns)\n",
    "        \n",
    "        symbols = get_symbols(scale)\n",
    "        \n",
    "        for symbol in symbols:\n",
    "            one_evaluation = self.start_regression_on_one_stock(symbol,regression_end_date)\n",
    "            \n",
    "            evaluation_df = pd.concat([one_evaluation,evaluation_df], ignore_index=True, sort=False)\n",
    "        \n",
    "        return evaluation_df\n",
    "    "
   ]
  },
  {
   "cell_type": "code",
   "execution_count": null,
   "metadata": {},
   "outputs": [
    {
     "name": "stdout",
     "output_type": "stream",
     "text": [
      "context:{'short': 5, 'mid': 10, 'scale_start': 0, 'scale_end': 3, 'level': 'Day'}\n",
      "build SZ#000573 break sections\n",
      "start to analyse Day level SZ#000573 all break sections...\n"
     ]
    }
   ],
   "source": [
    "regression = RocketRegression('rocket_break_baseline.json')\n",
    "\n",
    "regression_end='2019-05-30'\n",
    "scale=3\n",
    "evaluation_df = regression.start_regression(scale,regression_end)\n",
    "evaluation_df"
   ]
  },
  {
   "cell_type": "code",
   "execution_count": null,
   "metadata": {},
   "outputs": [],
   "source": []
  }
 ],
 "metadata": {
  "kernelspec": {
   "display_name": "Python 3",
   "language": "python",
   "name": "python3"
  },
  "language_info": {
   "codemirror_mode": {
    "name": "ipython",
    "version": 3
   },
   "file_extension": ".py",
   "mimetype": "text/x-python",
   "name": "python",
   "nbconvert_exporter": "python",
   "pygments_lexer": "ipython3",
   "version": "3.6.8"
  }
 },
 "nbformat": 4,
 "nbformat_minor": 2
}
