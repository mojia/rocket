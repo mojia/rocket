{
 "cells": [
  {
   "cell_type": "code",
   "execution_count": 30,
   "metadata": {},
   "outputs": [
    {
     "data": {
      "application/javascript": [
       "if (!(\"Notification\" in window)) {\n",
       "    alert(\"This browser does not support desktop notifications, so the %%notify magic will not work.\");\n",
       "} else if (Notification.permission !== 'granted' && Notification.permission !== 'denied') {\n",
       "    Notification.requestPermission(function (permission) {\n",
       "        if(!('permission' in Notification)) {\n",
       "            Notification.permission = permission;\n",
       "        }\n",
       "    })\n",
       "}\n"
      ],
      "text/plain": [
       "<IPython.core.display.Javascript object>"
      ]
     },
     "metadata": {},
     "output_type": "display_data"
    }
   ],
   "source": [
    "import pandas as pd\n",
    "import numpy as np\n",
    "import matplotlib as mpl\n",
    "import matplotlib.pyplot as plt\n",
    "import matplotlib.pylab as pylab\n",
    "import seaborn as sns\n",
    "from pandas.tools.plotting import scatter_matrix\n",
    "from IPython.core.interactiveshell import InteractiveShell\n",
    "from IPython.display import display\n",
    "InteractiveShell.ast_node_interactivity = \"all\"\n",
    "import jupyternotify\n",
    "ip = get_ipython()\n",
    "ip.register_magics(jupyternotify.JupyterNotifyMagics)\n",
    "\n",
    "\n",
    "mpl.style.use('ggplot')\n",
    "plt.rcParams['savefig.dpi'] = 300 #图片像素\n",
    "plt.rcParams['figure.dpi'] = 300 #分辨率\n",
    "plt.rc('figure', figsize=(14, 10))#设置图片大小\n",
    "sns.set_style('white')\n",
    "\n",
    "%run Util.ipynb\n",
    "%run Constant.ipynb\n",
    "%run Policy_Loader.ipynb\n",
    "%run BreakSectionManager.ipynb\n",
    "%run Operation.ipynb\n",
    "%run Evaluation.ipynb\n",
    "%run AccountSavior.ipynb\n",
    "\n",
    "\n",
    "# 沿着时间线，模拟买卖\n",
    "class ProRocketRegression:\n",
    "    \n",
    "    def __init__(self,symbols,start_date,end_date,policy_name):\n",
    "        self.symbols = symbols\n",
    "        \n",
    "        self.start_date = start_date\n",
    "        self.end_date = end_date\n",
    "        self.policy_name = policy_name\n",
    "        \n",
    "        self.policy_loader = Policy_Loader(self.policy_name)\n",
    "        self.debug = self.policy_loader.enabled_log_debug()\n",
    "        self.context = self.policy_loader.get_context()\n",
    "        \n",
    "        self.level = self.context['level']\n",
    "        self.short = self.context['short']\n",
    "        self.mid = self.context['mid']\n",
    "        \n",
    "        self.account_savior = AccountSavior(is_on_prod=False)\n",
    "        \n",
    "        self.operations={}\n",
    "        \n",
    "        \n",
    "    def get_to_buy_candidate_stocks(self,cur_date,account,all_sections):\n",
    "        already_bought = set(account.get_already_bought_symbols())\n",
    "        \n",
    "        part = all_sections[all_sections['d_s_date']==cur_date]\n",
    "        \n",
    "        if(part.shape[0]>0):\n",
    "            stocks = part['symbol'].values\n",
    "            \n",
    "            for s in stocks:\n",
    "                already_bought.add(s)\n",
    "    \n",
    "            if(self.debug==True):\n",
    "                print(cur_date+' found to buy stocks '+ str(already_bought))\n",
    "                \n",
    "        return list(already_bought)\n",
    "    \n",
    "    \n",
    "    def get_to_sell_candidate_stocks(self,cur_date,account):\n",
    "        symbols = list(set(account.get_all_position_symbols()))\n",
    "        \n",
    "        return symbols\n",
    "        \n",
    "    def get_all_sections(self):\n",
    "        all_sections = pd.DataFrame(columns=break_section_columns)\n",
    "        for symbol in self.symbols:\n",
    "            sectionManager = BreakSectionManager(symbol,self.context)\n",
    "            section_df = sectionManager.get_all_break_sections()\n",
    "            \n",
    "            all_sections = pd.concat([section_df,all_sections], ignore_index=True, sort=False)\n",
    "            \n",
    "        return all_sections\n",
    "    \n",
    "    def try_to_buy(self,cur_date,candidates,account):\n",
    "        if(candidates is None):\n",
    "            return\n",
    "        \n",
    "        for symbol in candidates:\n",
    "            operation = Operation(account,symbol,self.context,self.policy_name)\n",
    "        \n",
    "            if(operation.is_buy_point(cur_date)==True):\n",
    "                operation.open_opsition(cur_date)\n",
    "\n",
    "\n",
    "    def try_to_sell(self,cur_date,candidates,account):\n",
    "        for symbol in candidates:\n",
    "            operation = Operation(account,symbol,self.context,self.policy_name)\n",
    "            \n",
    "            if(operation.is_sell_point(cur_date)==True):\n",
    "                if(self.debug==True):\n",
    "                    print('try to sell '+ symbol)\n",
    "\n",
    "                operation.sell_stock(cur_date)\n",
    "            \n",
    "    def build_asset_file_path(self):\n",
    "        return multip_report+'multip_stocks_account_asset_'+str(self.short)+'_'+str(self.mid)+'_'+self.level+'_'+operation_version+'.csv'\n",
    "    \n",
    "    def build_deal_file_path(self):\n",
    "        return multip_report+'multip_stocks_deals_'+str(self.short)+'_'+str(self.mid)+'_'+self.level+'_'+operation_version+'.csv'\n",
    "    \n",
    "    def persist(self,account):\n",
    "        account.get_asset_df().to_csv(self.build_asset_file_path(),index=False)\n",
    "        account.deal_df.to_csv(self.build_deal_file_path(),index=False)\n",
    "        \n",
    "    def draw_asset(self):\n",
    "        if(self.policy_loader.enable_painter()==True):\n",
    "            painter = AssetPainter()\n",
    "\n",
    "            asset_file = self.build_asset_file_path()\n",
    "            painter.draw_month_profit_bars(asset_file)\n",
    "            painter.draw_audit_asset_bars(asset_file)\n",
    "\n",
    "    def start_regression(self,draw_pic=False):\n",
    "        start_datetime = to_datetime(self.start_date)\n",
    "        end_datetime = to_datetime(self.end_date)\n",
    "       \n",
    "        all_sections = self.get_all_sections()\n",
    "        market = Metric('SH#999999',self.context)\n",
    "\n",
    "        account = Account(self.context,self.policy_name)\n",
    "        while(start_datetime<=end_datetime):\n",
    "            cur_date = start_datetime.strftime(YMD_format)\n",
    "            \n",
    "            if(self.policy_loader.enabled_account_snapshot()==True):\n",
    "                yesterday_account = self.account_savior.restore_account(get_yesterday(cur_date))\n",
    "                if(yesterday_account is not None):\n",
    "                    account = yesterday_account\n",
    "            \n",
    "            if(market.is_today_open(cur_date)):\n",
    "                account.daily_audit(cur_date)\n",
    "\n",
    "                if(account.can_open_new_stock()==True):\n",
    "                    candidates = self.get_to_buy_candidate_stocks(cur_date,account,all_sections)\n",
    "                    self.try_to_buy(cur_date,candidates,account)\n",
    "                    \n",
    "                if(account.has_shares()==True):\n",
    "                    candidates = self.get_to_sell_candidate_stocks(cur_date,account)\n",
    "                    self.try_to_sell(cur_date,candidates,account)\n",
    "                    \n",
    "                    \n",
    "            if(self.policy_loader.enabled_account_snapshot()==True):\n",
    "                self.account_savior.persist_account(account,cur_date)\n",
    "            start_datetime += dt.timedelta(days = 1)\n",
    "            \n",
    "            if((int(cur_date.split('-')[2])==28) and (int(cur_date.split('-')[1])==2)):\n",
    "                print(cur_date,end=' ')\n",
    "      \n",
    "        self.persist(account)\n",
    "        self.draw_asset()\n",
    "        evaluation = Evaluation(account,self.context,self.policy_name)\n",
    "        evaluation_df = evaluation.get_evaluation_report_of_multip_stocks(self.start_date,self.end_date)\n",
    "        if(len(self.symbols)==1):\n",
    "            evaluation_df['symbol'] = self.symbols[0]\n",
    "        \n",
    "        if(draw_pic==True):\n",
    "            plt.rc('figure', figsize=(18,12))\n",
    "            account.asset['assets'].plot(kind='bar')\n",
    "            plt.show()\n",
    "\n",
    "            account.asset['space_per'].plot(kind='bar')\n",
    "            plt.show()\n",
    "\n",
    "        print('regression done !')\n",
    "            \n",
    "        return evaluation_df\n",
    "\n"
   ]
  },
  {
   "cell_type": "code",
   "execution_count": 31,
   "metadata": {
    "scrolled": false
   },
   "outputs": [
    {
     "name": "stdout",
     "output_type": "stream",
     "text": [
      "2007-02-28 "
     ]
    },
    {
     "name": "stderr",
     "output_type": "stream",
     "text": [
      "/opt/conda/lib/python3.6/site-packages/ipykernel_launcher.py:24: RuntimeWarning: divide by zero encountered in true_divide\n"
     ]
    },
    {
     "name": "stdout",
     "output_type": "stream",
     "text": [
      "\n",
      "year_returns\n",
      "[37.23]\n",
      "Compound avg year rate\n",
      "[]\n"
     ]
    },
    {
     "data": {
      "image/png": "[encoded data removed]",
      "text/plain": [
       "<Figure size 1296x864 with 1 Axes>"
      ]
     },
     "metadata": {
      "needs_background": "light"
     },
     "output_type": "display_data"
    },
    {
     "data": {
      "image/png": "[encoded data removed]",
      "text/plain": [
       "<Figure size 1296x864 with 1 Axes>"
      ]
     },
     "metadata": {
      "needs_background": "light"
     },
     "output_type": "display_data"
    },
    {
     "name": "stdout",
     "output_type": "stream",
     "text": [
      "regression done !\n"
     ]
    },
    {
     "data": {
      "text/html": [
       "<div>\n",
       "<style scoped>\n",
       "    .dataframe tbody tr th:only-of-type {\n",
       "        vertical-align: middle;\n",
       "    }\n",
       "\n",
       "    .dataframe tbody tr th {\n",
       "        vertical-align: top;\n",
       "    }\n",
       "\n",
       "    .dataframe thead th {\n",
       "        text-align: right;\n",
       "    }\n",
       "</style>\n",
       "<table border=\"1\" class=\"dataframe\">\n",
       "  <thead>\n",
       "    <tr style=\"text-align: right;\">\n",
       "      <th></th>\n",
       "      <th>symbol</th>\n",
       "      <th>start_date</th>\n",
       "      <th>end_date</th>\n",
       "      <th>avg_drawdown</th>\n",
       "      <th>float_profit_drawdown</th>\n",
       "      <th>avg_year_return</th>\n",
       "      <th>year_regular_return</th>\n",
       "      <th>mean_year_return</th>\n",
       "      <th>mean_month_return</th>\n",
       "      <th>profit_month_rate</th>\n",
       "    </tr>\n",
       "  </thead>\n",
       "  <tbody>\n",
       "    <tr>\n",
       "      <th>1</th>\n",
       "      <td>all_symbols</td>\n",
       "      <td>2007-01-01</td>\n",
       "      <td>2008-01-01</td>\n",
       "      <td>8.219893</td>\n",
       "      <td>9.75</td>\n",
       "      <td>inf</td>\n",
       "      <td>214.37</td>\n",
       "      <td>37.23</td>\n",
       "      <td>4.110833</td>\n",
       "      <td>83.33</td>\n",
       "    </tr>\n",
       "  </tbody>\n",
       "</table>\n",
       "</div>"
      ],
      "text/plain": [
       "        symbol  start_date    end_date  avg_drawdown  float_profit_drawdown  \\\n",
       "1  all_symbols  2007-01-01  2008-01-01      8.219893                   9.75   \n",
       "\n",
       "   avg_year_return  year_regular_return  mean_year_return  mean_month_return  \\\n",
       "1              inf               214.37             37.23           4.110833   \n",
       "\n",
       "   profit_month_rate  \n",
       "1              83.33  "
      ]
     },
     "execution_count": 31,
     "metadata": {},
     "output_type": "execute_result"
    }
   ],
   "source": [
    "start = '2007-01-01'\n",
    "end = '2008-01-01'\n",
    "policy_name='rocket_break_v8_start_real_world_v0.1.json'\n",
    "\n",
    "symbols = get_symbol_slices(0,3,data_dir)\n",
    "regression = ProRocketRegression(symbols,start,end,policy_name)\n",
    "evaluation_df = regression.start_regression(True)\n",
    "\n",
    "evaluation_df[display_evaluation_columns]"
   ]
  },
  {
   "cell_type": "code",
   "execution_count": null,
   "metadata": {},
   "outputs": [],
   "source": [
    "metric = Evaluation_Metric(regression.account)\n",
    "metric.year_return_rate_array()\n",
    "plt.plot(range(0,len(metric.get_CAGR_array())),metric.get_CAGR_array())"
   ]
  },
  {
   "cell_type": "code",
   "execution_count": null,
   "metadata": {},
   "outputs": [],
   "source": []
  },
  {
   "cell_type": "code",
   "execution_count": null,
   "metadata": {},
   "outputs": [],
   "source": []
  },
  {
   "cell_type": "code",
   "execution_count": null,
   "metadata": {},
   "outputs": [],
   "source": []
  },
  {
   "cell_type": "code",
   "execution_count": null,
   "metadata": {},
   "outputs": [],
   "source": []
  },
  {
   "cell_type": "code",
   "execution_count": null,
   "metadata": {},
   "outputs": [],
   "source": []
  },
  {
   "cell_type": "code",
   "execution_count": null,
   "metadata": {},
   "outputs": [],
   "source": []
  },
  {
   "cell_type": "code",
   "execution_count": null,
   "metadata": {},
   "outputs": [],
   "source": []
  },
  {
   "cell_type": "code",
   "execution_count": null,
   "metadata": {},
   "outputs": [],
   "source": [
    "# 不同的选股对于算法稳定性的检查\n",
    "def simulate(scale_start,scale_end):\n",
    "    scale = 60\n",
    "    start = '2000-02-01'\n",
    "    end = '2019-08-30'\n",
    "    policy_name='rocket_break_v7_upgrade_honor_account_v0.4.json'\n",
    "\n",
    "    regression = ProRocketRegression(scale_start,scale_end,start,end,policy_name)\n",
    "    evaluation_df = regression.start_regression()\n",
    "    \n",
    "    columns = ['policy_name','short','mid','in_hand_asset_drawdown','avg_drawdown','float_profit_drawdown','avg_year_return',\n",
    "              'year_regular_return','mean_year_return','std_year_return','mean_month_return','std_month_return','profit_month_rate']\n",
    "    display(evaluation_df[columns])\n",
    "    plt.rc('figure', figsize=(18,12))\n",
    "    regression.account.asset['assets'].plot(kind='bar')\n",
    "    plt.show()\n",
    "    \n",
    "    plt.rc('figure', figsize=(18,12))\n",
    "    regression.account.asset['space_per'].plot(kind='bar')\n",
    "    plt.show()\n",
    "    \n",
    "\n",
    "# simulate(0,120)\n",
    "# simulate(120,240)\n",
    "# simulate(240,360)\n",
    "# simulate(360,480)\n",
    "\n"
   ]
  }
 ],
 "metadata": {
  "kernelspec": {
   "display_name": "Python 3",
   "language": "python",
   "name": "python3"
  },
  "language_info": {
   "codemirror_mode": {
    "name": "ipython",
    "version": 3
   },
   "file_extension": ".py",
   "mimetype": "text/x-python",
   "name": "python",
   "nbconvert_exporter": "python",
   "pygments_lexer": "ipython3",
   "version": "3.6.8"
  }
 },
 "nbformat": 4,
 "nbformat_minor": 2
}
