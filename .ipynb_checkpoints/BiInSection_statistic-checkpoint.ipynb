{
 "cells": [
  {
   "cell_type": "code",
   "execution_count": null,
   "metadata": {
    "scrolled": false
   },
   "outputs": [
    {
     "name": "stdout",
     "output_type": "stream",
     "text": [
      "load SZ#002605 sections from file\n",
      "SZ#002605 section_df shape 17\n",
      "load SZ#002828 sections from file\n",
      "SZ#002828 section_df shape 3\n",
      "load SZ#300109 sections from file\n",
      "SZ#300109 section_df shape 20\n",
      "load SZ#300323 sections from file\n",
      "SZ#300323 section_df shape 9\n",
      "load SZ#300539 sections from file\n",
      "SZ#300539 section_df shape 3\n"
     ]
    }
   ],
   "source": [
    "%run SectionManager.ipynb\n",
    "%run BiInSectionService.ipynb\n",
    "%run Util.ipynb\n",
    "%run KPainter.ipynb\n",
    "\n",
    "short=30\n",
    "mid=60\n",
    "\n",
    "def get_all_breaked_sections(scale_start,scale_end,short,mid):\n",
    "    symbols = get_symbol_slices(scale_start,scale_end)\n",
    "\n",
    "    all_breaked_df = pd.DataFrame(columns=['symbol','section_start','section_end','s_price','e_price','first_k_direc_up','break'])\n",
    "    for symbol in symbols:\n",
    "        sectionManager = SectionManager(symbol, level_day, short, mid)\n",
    "        section_df = sectionManager.get_all_cross_sections()\n",
    "        print(symbol+' section_df shape ' + str(section_df.shape[0]))\n",
    "\n",
    "        biInSectionService = BiInSectionService(symbol,level_day,short,mid)\n",
    "        breaked_df = biInSectionService.break_the_enter_point_distribution(section_df)\n",
    "\n",
    "        if(breaked_df.shape[0]>0):\n",
    "            all_breaked_df = pd.concat([breaked_df,all_breaked_df], ignore_index=True, sort=False)\n",
    "\n",
    "    return all_breaked_df\n",
    "\n",
    "\n",
    "all_breaked_df = get_all_breaked_sections(5,10,short,mid)\n",
    "\n",
    "for key,row in all_breaked_df.iterrows():\n",
    "    if(row['break']==True):\n",
    "        painter = KPainter(row['symbol'],level_day,30,60)\n",
    "        painter.draw_single_level_chan_bi(row['section_start'],row['section_end'],row['s_price'],row['e_price'])\n",
    "        print(row['symbol']+' '+row['section_start']+'===>'+row['section_end'])\n",
    "\n",
    "\n",
    "all_breaked_df[:5]"
   ]
  },
  {
   "cell_type": "code",
   "execution_count": null,
   "metadata": {},
   "outputs": [],
   "source": []
  },
  {
   "cell_type": "code",
   "execution_count": null,
   "metadata": {},
   "outputs": [],
   "source": []
  },
  {
   "cell_type": "code",
   "execution_count": null,
   "metadata": {},
   "outputs": [],
   "source": []
  },
  {
   "cell_type": "code",
   "execution_count": null,
   "metadata": {},
   "outputs": [],
   "source": []
  },
  {
   "cell_type": "code",
   "execution_count": null,
   "metadata": {},
   "outputs": [],
   "source": [
    "# 信号K所在的第一笔，信号K为起点，到第一个高点（或者低点）的价格幅度\n",
    "\n",
    "%run SectionManager.ipynb\n",
    "%run BiInSectionService.ipynb\n",
    "%run Util.ipynb\n",
    "\n",
    "\n",
    "short=30\n",
    "mid=60\n",
    "\n",
    "symbols = get_symbol_slices(0,100)\n",
    "\n",
    "all_bi_df = pd.DataFrame(columns=['symbol','section_start','section_end','first_bi_direc','first_bi_price_range'])\n",
    "for symbol in symbols:\n",
    "    sectionManager = SectionManager(symbol, level_day, short, mid)\n",
    "    section_df = sectionManager.get_all_cross_sections()\n",
    "    print(symbol+' section_df shape ' + str(section_df.shape[0]))\n",
    "\n",
    "    biInSectionService = BiInSectionService(symbol,level_day,short,mid)\n",
    "    part_df = biInSectionService.the_first_bi_price_probability_distribution()\n",
    "    \n",
    "    if(part_df.shape[0]>0):\n",
    "        all_bi_df = pd.concat([part_df,all_bi_df], ignore_index=True, sort=False)\n",
    "\n",
    "\n",
    "first_bi_direc_distribute = all_bi_df['first_bi_direc'].value_counts()\n",
    "print()\n",
    "print(str(first_bi_direc_distribute))\n",
    "print()\n",
    "\n",
    "cuts = [-20,-15,-10,-5,0,5,10,15,20,30,40,50,1000]\n",
    "distribute = get_range_percent_distribute(all_bi_df['first_bi_price_range'],cuts)\n",
    "print(str([0]+cuts))\n",
    "print(str(distribute))"
   ]
  },
  {
   "cell_type": "code",
   "execution_count": null,
   "metadata": {},
   "outputs": [],
   "source": [
    "first_k_down = all_breaked_df[all_breaked_df['first_k_direc_up']==False].shape[0]\n",
    "print('first_k_down '+ str(first_k_down))\n",
    "\n",
    "first_k_down_break = all_breaked_df[(all_breaked_df['first_k_direc_up']==False) & (all_breaked_df['break']==True)].shape[0]\n",
    "print('first_k_down_break '+str(first_k_down_break))\n",
    "\n"
   ]
  },
  {
   "cell_type": "code",
   "execution_count": null,
   "metadata": {},
   "outputs": [],
   "source": [
    "all_breaked_df[:3]"
   ]
  },
  {
   "cell_type": "code",
   "execution_count": null,
   "metadata": {},
   "outputs": [],
   "source": []
  }
 ],
 "metadata": {
  "kernelspec": {
   "display_name": "ai",
   "language": "python",
   "name": "ai"
  },
  "language_info": {
   "codemirror_mode": {
    "name": "ipython",
    "version": 3
   },
   "file_extension": ".py",
   "mimetype": "text/x-python",
   "name": "python",
   "nbconvert_exporter": "python",
   "pygments_lexer": "ipython3",
   "version": "3.6.6"
  }
 },
 "nbformat": 4,
 "nbformat_minor": 2
}
