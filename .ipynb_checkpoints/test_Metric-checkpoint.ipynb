{
 "cells": [
  {
   "cell_type": "code",
   "execution_count": 8,
   "metadata": {},
   "outputs": [
    {
     "name": "stdout",
     "output_type": "stream",
     "text": [
      "************************************\n",
      "2001-02-09\n",
      "------------------------\n",
      "art_value 34.73\n"
     ]
    }
   ],
   "source": [
    "%run Util.ipynb\n",
    "%run Metric.ipynb\n",
    "\n",
    "import pandas as pd\n",
    "\n",
    "symbol='SH#999999'\n",
    "context = {}\n",
    "context['level'] = level_day\n",
    "context['short'] = 30\n",
    "context['mid'] = 60\n",
    "metric = Metric(symbol,context)\n",
    "\n",
    "metric.get_latest_price('2000-02-25')\n",
    "\n",
    "print('************************************')\n",
    "yester = metric.get_fixed_day('2001-02-13',-1)\n",
    "print(str(yester['date'].values[0]))\n",
    "\n",
    "print('------------------------')\n",
    "art_value = metric.atr('2001-02-12')\n",
    "print('art_value '+str(art_value))"
   ]
  },
  {
   "cell_type": "code",
   "execution_count": null,
   "metadata": {},
   "outputs": [],
   "source": [
    "%run Util.ipynb\n",
    "%run Metric.ipynb\n",
    "\n",
    "import pandas as pd\n",
    "\n",
    "symbol='SZ#002591'\n",
    "\n",
    "\n",
    "metric = Metric(symbol,level_day,30,60)\n",
    "\n",
    "\n",
    "for date in ['2019-01-02','2019-01-03','2019-01-04','2019-01-07','2019-01-08',\n",
    "            '2019-01-09','2019-01-10','2019-01-11','2019-01-14','2019-01-15',\n",
    "             '2019-01-16','2019-01-17']:\n",
    "    print(date+ ' ' +metric.ma_direction(date, 30)+'\\n')\n",
    "\n"
   ]
  },
  {
   "cell_type": "code",
   "execution_count": 8,
   "metadata": {},
   "outputs": [
    {
     "data": {
      "text/plain": [
       "True"
      ]
     },
     "execution_count": 8,
     "metadata": {},
     "output_type": "execute_result"
    }
   ],
   "source": [
    "%run Util.ipynb\n",
    "%run Metric.ipynb\n",
    "\n",
    "import pandas as pd\n",
    "\n",
    "symbol='SZ#300128'\n",
    "metric = Metric(symbol,level_day,30,60)\n",
    "killed = metric.be_killed('2016-06-23','2016-08-17',10)\n",
    "killed"
   ]
  },
  {
   "cell_type": "code",
   "execution_count": null,
   "metadata": {},
   "outputs": [],
   "source": []
  }
 ],
 "metadata": {
  "kernelspec": {
   "display_name": "Python 3",
   "language": "python",
   "name": "python3"
  },
  "language_info": {
   "codemirror_mode": {
    "name": "ipython",
    "version": 3
   },
   "file_extension": ".py",
   "mimetype": "text/x-python",
   "name": "python",
   "nbconvert_exporter": "python",
   "pygments_lexer": "ipython3",
   "version": "3.6.8"
  }
 },
 "nbformat": 4,
 "nbformat_minor": 2
}
