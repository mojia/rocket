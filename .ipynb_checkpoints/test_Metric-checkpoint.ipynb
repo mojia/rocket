{
 "cells": [
  {
   "cell_type": "code",
   "execution_count": 5,
   "metadata": {},
   "outputs": [
    {
     "name": "stdout",
     "output_type": "stream",
     "text": [
      "2019-01-02 Up\n",
      "\n",
      "2019-01-03 Up\n",
      "\n",
      "2019-01-04 Up\n",
      "\n",
      "2019-01-07 Unknown\n",
      "\n",
      "2019-01-08 Unknown\n",
      "\n",
      "2019-01-09 Down\n",
      "\n",
      "2019-01-10 Down\n",
      "\n",
      "2019-01-11 Down\n",
      "\n",
      "2019-01-14 Down\n",
      "\n",
      "2019-01-15 Down\n",
      "\n",
      "2019-01-16 Down\n",
      "\n",
      "2019-01-17 Down\n",
      "\n"
     ]
    }
   ],
   "source": [
    "%run Util.ipynb\n",
    "%run Metric.ipynb\n",
    "\n",
    "import pandas as pd\n",
    "\n",
    "symbol='SZ#002591'\n",
    "\n",
    "\n",
    "metric = Metric(symbol,level_day,30,60)\n",
    "\n",
    "\n",
    "for date in ['2019-01-02','2019-01-03','2019-01-04','2019-01-07','2019-01-08',\n",
    "            '2019-01-09','2019-01-10','2019-01-11','2019-01-14','2019-01-15',\n",
    "             '2019-01-16','2019-01-17']:\n",
    "    print(date+ ' ' +metric.ma_direction(date, 30)+'\\n')\n",
    "\n"
   ]
  },
  {
   "cell_type": "code",
   "execution_count": null,
   "metadata": {},
   "outputs": [],
   "source": []
  }
 ],
 "metadata": {
  "kernelspec": {
   "display_name": "ai",
   "language": "python",
   "name": "ai"
  },
  "language_info": {
   "codemirror_mode": {
    "name": "ipython",
    "version": 3
   },
   "file_extension": ".py",
   "mimetype": "text/x-python",
   "name": "python",
   "nbconvert_exporter": "python",
   "pygments_lexer": "ipython3",
   "version": "3.6.6"
  }
 },
 "nbformat": 4,
 "nbformat_minor": 2
}
