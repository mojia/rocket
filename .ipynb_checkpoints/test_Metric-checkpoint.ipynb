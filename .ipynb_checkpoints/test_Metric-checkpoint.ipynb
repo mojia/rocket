{
 "cells": [
  {
   "cell_type": "code",
   "execution_count": 26,
   "metadata": {},
   "outputs": [
    {
     "name": "stdout",
     "output_type": "stream",
     "text": [
      "           date     open     high      low    close    volume        amount  \\\n",
      "238  2001-02-09  1935.18  1963.32  1935.18  1956.97  11237019  8.405288e+09   \n",
      "\n",
      "      datetime  year  week  \n",
      "238 2001-02-09  2001     6  \n",
      "------------------------\n",
      "cur_tr 38.24000000000001\n",
      "yester_high_tr 13.5\n",
      "yester_low_tr 24.74000000000001\n",
      "values [38.24000000000001, 13.5, 24.74000000000001]\n",
      "cur_tr 16.940000000000055\n",
      "yester_high_tr 2.8099999999999454\n",
      "yester_low_tr 14.13000000000011\n",
      "values [16.940000000000055, 2.8099999999999454, 14.13000000000011]\n",
      "cur_tr 15.779999999999973\n",
      "yester_high_tr 14.769999999999982\n",
      "yester_low_tr 1.009999999999991\n",
      "values [15.779999999999973, 14.769999999999982, 1.009999999999991]\n",
      "cur_tr 21.329999999999927\n",
      "yester_high_tr 24.75999999999999\n",
      "yester_low_tr 3.4300000000000637\n",
      "values [21.329999999999927, 24.75999999999999, 3.4300000000000637]\n",
      "cur_tr 66.8599999999999\n",
      "yester_high_tr 6.940000000000055\n",
      "yester_low_tr 59.919999999999845\n",
      "values [66.8599999999999, 6.940000000000055, 59.919999999999845]\n",
      "cur_tr 43.549999999999955\n",
      "yester_high_tr 8.309999999999945\n",
      "yester_low_tr 51.8599999999999\n",
      "values [43.549999999999955, 8.309999999999945, 51.8599999999999]\n",
      "cur_tr 19.660000000000082\n",
      "yester_high_tr 2.9400000000000546\n",
      "yester_low_tr 16.720000000000027\n",
      "values [19.660000000000082, 2.9400000000000546, 16.720000000000027]\n",
      "cur_tr 60.49000000000001\n",
      "yester_high_tr 6.960000000000036\n",
      "yester_low_tr 53.52999999999997\n",
      "values [60.49000000000001, 6.960000000000036, 53.52999999999997]\n",
      "cur_tr 28.139999999999873\n",
      "yester_high_tr 33.18999999999983\n",
      "yester_low_tr 5.0499999999999545\n",
      "values [28.139999999999873, 33.18999999999983, 5.0499999999999545]\n",
      "cur_tr 26.230000000000018\n",
      "yester_high_tr 4.839999999999918\n",
      "yester_low_tr 21.3900000000001\n",
      "values [26.230000000000018, 4.839999999999918, 21.3900000000001]\n",
      "art_value 35.400999999999975\n"
     ]
    }
   ],
   "source": [
    "%run Util.ipynb\n",
    "%run Metric.ipynb\n",
    "\n",
    "import pandas as pd\n",
    "\n",
    "symbol='SH#999999'\n",
    "metric = Metric(symbol,level_day,30,60)\n",
    "\n",
    "metric.get_latest_price('2000-02-25')\n",
    "\n",
    "yester = metric.yesterday('2001-02-12')\n",
    "print(str(yester))\n",
    "\n",
    "print('------------------------')\n",
    "art_value = metric.art('2001-02-12')\n",
    "print('art_value '+str(art_value))"
   ]
  },
  {
   "cell_type": "code",
   "execution_count": null,
   "metadata": {},
   "outputs": [],
   "source": [
    "%run Util.ipynb\n",
    "%run Metric.ipynb\n",
    "\n",
    "import pandas as pd\n",
    "\n",
    "symbol='SZ#002591'\n",
    "\n",
    "\n",
    "metric = Metric(symbol,level_day,30,60)\n",
    "\n",
    "\n",
    "for date in ['2019-01-02','2019-01-03','2019-01-04','2019-01-07','2019-01-08',\n",
    "            '2019-01-09','2019-01-10','2019-01-11','2019-01-14','2019-01-15',\n",
    "             '2019-01-16','2019-01-17']:\n",
    "    print(date+ ' ' +metric.ma_direction(date, 30)+'\\n')\n",
    "\n"
   ]
  },
  {
   "cell_type": "code",
   "execution_count": 8,
   "metadata": {},
   "outputs": [
    {
     "data": {
      "text/plain": [
       "True"
      ]
     },
     "execution_count": 8,
     "metadata": {},
     "output_type": "execute_result"
    }
   ],
   "source": [
    "%run Util.ipynb\n",
    "%run Metric.ipynb\n",
    "\n",
    "import pandas as pd\n",
    "\n",
    "symbol='SZ#300128'\n",
    "metric = Metric(symbol,level_day,30,60)\n",
    "killed = metric.be_killed('2016-06-23','2016-08-17',10)\n",
    "killed"
   ]
  },
  {
   "cell_type": "code",
   "execution_count": null,
   "metadata": {},
   "outputs": [],
   "source": []
  }
 ],
 "metadata": {
  "kernelspec": {
   "display_name": "ai",
   "language": "python",
   "name": "ai"
  },
  "language_info": {
   "codemirror_mode": {
    "name": "ipython",
    "version": 3
   },
   "file_extension": ".py",
   "mimetype": "text/x-python",
   "name": "python",
   "nbconvert_exporter": "python",
   "pygments_lexer": "ipython3",
   "version": "3.6.6"
  }
 },
 "nbformat": 4,
 "nbformat_minor": 2
}
