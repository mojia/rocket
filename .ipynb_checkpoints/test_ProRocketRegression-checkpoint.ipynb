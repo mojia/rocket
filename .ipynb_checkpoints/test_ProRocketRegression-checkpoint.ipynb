{
 "cells": [
  {
   "cell_type": "code",
   "execution_count": 15,
   "metadata": {
    "scrolled": true
   },
   "outputs": [
    {
     "data": {
      "application/javascript": [
       "if (!(\"Notification\" in window)) {\n",
       "    alert(\"This browser does not support desktop notifications, so the %%notify magic will not work.\");\n",
       "} else if (Notification.permission !== 'granted' && Notification.permission !== 'denied') {\n",
       "    Notification.requestPermission(function (permission) {\n",
       "        if(!('permission' in Notification)) {\n",
       "            Notification.permission = permission;\n",
       "        }\n",
       "    })\n",
       "}\n"
      ],
      "text/plain": [
       "<IPython.core.display.Javascript object>"
      ]
     },
     "metadata": {},
     "output_type": "display_data"
    },
    {
     "name": "stdout",
     "output_type": "stream",
     "text": [
      "regression start scale[3,4]\n",
      "regression start scale[9,10]\n",
      "regression start scale[2,3]\n",
      "regression start scale[6,7]\n",
      "regression start scale[6,7]\n",
      "regression start scale[0,1]\n",
      "regression start scale[5,6]\n",
      "regression start scale[1,2]\n",
      "regression start scale[11,12]\n",
      "regression start scale[10,11]\n",
      "regression start scale[7,8]\n",
      "regression start scale[4,5]\n",
      "regression start scale[9,10]\n",
      "regression start scale[11,12]\n",
      "regression start scale[0,1]\n",
      "regression start scale[5,6]\n",
      "regression start scale[3,4]\n",
      "regression start scale[1,2]\n",
      "regression start scale[8,9]\n",
      "regression start scale[4,5]\n",
      "regression start scale[8,9]\n",
      "regression start scale[7,8]\n",
      "regression start scale[2,3]\n",
      "regression start scale[10,11]\n",
      "2000-02-28 2001-02-28 2002-02-28 2003-02-28 2004-02-28 2005-02-28 2006-02-28 2007-02-28 2008-02-28 2009-02-28 regression start scale[12,13]\n",
      "2000-02-28 2001-02-28 2002-02-28 2003-02-28 2004-02-28 2005-02-28 2006-02-28 2007-02-28 2008-02-28 2009-02-28 regression start scale[12,13]\n",
      "2000-02-28 2001-02-28 2002-02-28 2003-02-28 2004-02-28 2005-02-28 2006-02-28 2007-02-28 2008-02-28 2009-02-28 regression start scale[13,14]\n",
      "2000-02-28 2001-02-28 2002-02-28 2003-02-28 2004-02-28 2005-02-28 2006-02-28 2007-02-28 2008-02-28 2009-02-28 regression start scale[13,14]\n"
     ]
    },
    {
     "name": "stderr",
     "output_type": "stream",
     "text": [
      "/opt/conda/lib/python3.6/site-packages/numpy/core/fromnumeric.py:2909: RuntimeWarning: Mean of empty slice.\n",
      "  out=out, **kwargs)\n",
      "/opt/conda/lib/python3.6/site-packages/numpy/core/_methods.py:80: RuntimeWarning: invalid value encountered in true_divide\n",
      "  ret = ret.dtype.type(ret / rcount)\n",
      "/opt/conda/lib/python3.6/site-packages/ipykernel_launcher.py:24: RuntimeWarning: divide by zero encountered in true_divide\n",
      "/opt/conda/lib/python3.6/site-packages/ipykernel_launcher.py:132: RuntimeWarning: divide by zero encountered in double_scalars\n"
     ]
    },
    {
     "name": "stdout",
     "output_type": "stream",
     "text": [
      "2000-02-28 2001-02-28 2002-02-28 2003-02-28 2004-02-28 2005-02-28 2006-02-28 2007-02-28 2008-02-28 2009-02-28 regression done !\n",
      "regression start scale[14,15]\n",
      "2000-02-28 2001-02-28 2002-02-28 2003-02-28 2004-02-28 2005-02-28 2006-02-28 2007-02-28 2008-02-28 2009-02-28 regression start scale[14,15]\n",
      "2000-02-28 2001-02-28 2002-02-28 2003-02-28 2004-02-28 2005-02-28 2006-02-28 2007-02-28 2008-02-28 2009-02-28 regression done !\n",
      "regression start scale[15,16]\n"
     ]
    },
    {
     "name": "stderr",
     "output_type": "stream",
     "text": [
      "/opt/conda/lib/python3.6/site-packages/numpy/core/fromnumeric.py:2909: RuntimeWarning: Mean of empty slice.\n",
      "  out=out, **kwargs)\n",
      "/opt/conda/lib/python3.6/site-packages/numpy/core/_methods.py:80: RuntimeWarning: invalid value encountered in true_divide\n",
      "  ret = ret.dtype.type(ret / rcount)\n"
     ]
    },
    {
     "name": "stdout",
     "output_type": "stream",
     "text": [
      "2010-02-28 2011-02-28 2012-02-28 2013-02-28 2014-02-28 2015-02-28 2016-02-28 2017-02-28 2018-02-28 regression done !\n",
      "regression start scale[15,16]\n",
      "2010-02-28 2011-02-28 2012-02-28 2013-02-28 2014-02-28 2015-02-28 2016-02-28 2017-02-28 2018-02-28 regression done !\n",
      "2010-02-28 2011-02-28 2012-02-28 2013-02-28 2014-02-28 2015-02-28 2016-02-28 2017-02-28 2018-02-28 regression done !\n",
      "regression start scale[16,17]\n",
      "regression start scale[16,17]\n"
     ]
    },
    {
     "name": "stderr",
     "output_type": "stream",
     "text": [
      "/opt/conda/lib/python3.6/site-packages/numpy/core/fromnumeric.py:2909: RuntimeWarning: Mean of empty slice.\n",
      "  out=out, **kwargs)\n",
      "/opt/conda/lib/python3.6/site-packages/numpy/core/_methods.py:80: RuntimeWarning: invalid value encountered in true_divide\n",
      "  ret = ret.dtype.type(ret / rcount)\n"
     ]
    },
    {
     "name": "stdout",
     "output_type": "stream",
     "text": [
      "2010-02-28 2011-02-28 2012-02-28 2013-02-28 2014-02-28 2015-02-28 2016-02-28 2017-02-28 2018-02-28 regression done !\n",
      "regression start scale[17,18]\n",
      "2010-02-28 2011-02-28 2012-02-28 2013-02-28 2014-02-28 2015-02-28 2016-02-28 2017-02-28 2018-02-28 regression done !\n",
      "2000-02-28 2001-02-28 2002-02-28 2003-02-28 2004-02-28 2005-02-28 2006-02-28 2007-02-28 2008-02-28 2009-02-28 regression done !\n",
      "regression start scale[17,18]\n",
      "regression start scale[18,19]\n",
      "2010-02-28 2011-02-28 2012-02-28 2013-02-28 2014-02-28 2015-02-28 2016-02-28 2017-02-28 2018-02-28 regression done !\n",
      "regression start scale[18,19]\n",
      "2010-02-28 2011-02-28 2012-02-28 2013-02-28 2014-02-28 2015-02-28 2016-02-28 2017-02-28 2018-02-28 regression done !\n",
      "regression start scale[19,20]\n",
      "2000-02-28 2001-02-28 2002-02-28 2003-02-28 2004-02-28 2005-02-28 2006-02-28 2007-02-28 2008-02-28 2009-02-28 regression done !\n",
      "regression start scale[19,20]\n",
      "2000-02-28 2001-02-28 2002-02-28 2003-02-28 2004-02-28 2005-02-28 2006-02-28 2007-02-28 2008-02-28 2009-02-28 regression done !\n",
      "attempt to get argmax of an empty sequence\n",
      "regression start scale[20,21]\n",
      "2000-02-28 2001-02-28 2002-02-28 2003-02-28 2004-02-28 2005-02-28 2006-02-28 2007-02-28 2008-02-28 2009-02-28 regression start scale[20,21]\n",
      "2010-02-28 2011-02-28 2012-02-28 2013-02-28 2014-02-28 2015-02-28 2016-02-28 2017-02-28 2018-02-28 regression done !\n",
      "regression start scale[21,22]\n",
      "2010-02-28 2011-02-28 2012-02-28 2013-02-28 2014-02-28 2015-02-28 2016-02-28 2017-02-28 2018-02-28 regression done !\n",
      "2000-02-28 2001-02-28 2002-02-28 2003-02-28 2004-02-28 2005-02-28 2006-02-28 2007-02-28 2008-02-28 2009-02-28 regression done !\n",
      "regression start scale[22,23]\n",
      "regression start scale[21,22]\n",
      "2000-02-28 2001-02-28 2002-02-28 2003-02-28 2004-02-28 2005-02-28 2006-02-28 2007-02-28 2008-02-28 2009-02-28 regression done !\n",
      "regression start scale[22,23]\n",
      "2010-02-28 2011-02-28 2012-02-28 2013-02-28 2014-02-28 2015-02-28 2016-02-28 2017-02-28 2018-02-28 regression done !\n",
      "regression start scale[23,24]\n",
      "2010-02-28 2011-02-28 2012-02-28 2013-02-28 2014-02-28 2015-02-28 2016-02-28 2017-02-28 2018-02-28 regression done !\n",
      "regression start scale[23,24]\n",
      "2010-02-28 2011-02-28 2012-02-28 2013-02-28 2014-02-28 2015-02-28 2016-02-28 2017-02-28 2018-02-28 regression done !\n",
      "attempt to get argmax of an empty sequence\n",
      "attempt to get argmax of an empty sequence\n",
      "attempt to get argmax of an empty sequence\n",
      "attempt to get argmax of an empty sequence\n",
      "attempt to get argmax of an empty sequence\n",
      "regression start scale[24,25]\n"
     ]
    },
    {
     "name": "stderr",
     "output_type": "stream",
     "text": [
      "/opt/conda/lib/python3.6/site-packages/numpy/core/fromnumeric.py:2909: RuntimeWarning: Mean of empty slice.\n",
      "  out=out, **kwargs)\n",
      "/opt/conda/lib/python3.6/site-packages/numpy/core/_methods.py:80: RuntimeWarning: invalid value encountered in true_divide\n",
      "  ret = ret.dtype.type(ret / rcount)\n"
     ]
    },
    {
     "name": "stdout",
     "output_type": "stream",
     "text": [
      "2000-02-28 2001-02-28 2002-02-28 2003-02-28 2004-02-28 2005-02-28 2006-02-28 2007-02-28 2008-02-28 2009-02-28 regression done !\n",
      "regression start scale[24,25]\n",
      "2010-02-28 2011-02-28 2012-02-28 2013-02-28 2014-02-28 2015-02-28 2016-02-28 2017-02-28 2018-02-28 regression done !\n",
      "regression start scale[25,26]\n",
      "2000-02-28 2001-02-28 2002-02-28 2003-02-28 2004-02-28 2005-02-28 2006-02-28 2007-02-28 2008-02-28 2009-02-28 regression start scale[25,26]\n",
      "2000-02-28 2001-02-28 2002-02-28 2003-02-28 2004-02-28 2005-02-28 2006-02-28 2007-02-28 2008-02-28 2009-02-28 regression start scale[26,27]\n",
      "2000-02-28 2001-02-28 2002-02-28 2003-02-28 2004-02-28 2005-02-28 2006-02-28 2007-02-28 2008-02-28 2009-02-28 regression start scale[26,27]\n",
      "2010-02-28 2011-02-28 2012-02-28 2013-02-28 2014-02-28 2015-02-28 2016-02-28 2017-02-28 2018-02-28 regression done !\n",
      "regression start scale[27,28]\n"
     ]
    },
    {
     "name": "stderr",
     "output_type": "stream",
     "text": [
      "/opt/conda/lib/python3.6/site-packages/numpy/core/fromnumeric.py:2909: RuntimeWarning: Mean of empty slice.\n",
      "  out=out, **kwargs)\n",
      "/opt/conda/lib/python3.6/site-packages/numpy/core/_methods.py:80: RuntimeWarning: invalid value encountered in true_divide\n",
      "  ret = ret.dtype.type(ret / rcount)\n"
     ]
    },
    {
     "name": "stdout",
     "output_type": "stream",
     "text": [
      "2010-02-28 2011-02-28 2012-02-28 2013-02-28 2014-02-28 2015-02-28 2016-02-28 2017-02-28 2018-02-28 regression done !\n",
      "regression start scale[27,28]\n",
      "2000-02-28 2001-02-28 2002-02-28 2003-02-28 2004-02-28 2005-02-28 2006-02-28 2007-02-28 2008-02-28 2009-02-28 regression done !\n",
      "regression start scale[28,29]\n",
      "2010-02-28 2011-02-28 2012-02-28 2013-02-28 2014-02-28 2015-02-28 2016-02-28 2017-02-28 2018-02-28 regression done !\n"
     ]
    },
    {
     "name": "stderr",
     "output_type": "stream",
     "text": [
      "/opt/conda/lib/python3.6/site-packages/numpy/core/fromnumeric.py:2909: RuntimeWarning: Mean of empty slice.\n",
      "  out=out, **kwargs)\n"
     ]
    },
    {
     "name": "stdout",
     "output_type": "stream",
     "text": [
      "regression start scale[28,29]\n"
     ]
    },
    {
     "name": "stderr",
     "output_type": "stream",
     "text": [
      "/opt/conda/lib/python3.6/site-packages/numpy/core/_methods.py:80: RuntimeWarning: invalid value encountered in true_divide\n",
      "  ret = ret.dtype.type(ret / rcount)\n",
      "/opt/conda/lib/python3.6/site-packages/ipykernel_launcher.py:24: RuntimeWarning: divide by zero encountered in true_divide\n",
      "/opt/conda/lib/python3.6/site-packages/ipykernel_launcher.py:132: RuntimeWarning: divide by zero encountered in double_scalars\n"
     ]
    },
    {
     "name": "stdout",
     "output_type": "stream",
     "text": [
      "2000-02-28 2001-02-28 2002-02-28 2003-02-28 2004-02-28 2005-02-28 2006-02-28 2007-02-28 2008-02-28 2009-02-28 regression done !\n",
      "regression start scale[29,30]\n",
      "2010-02-28 2011-02-28 2012-02-28 2013-02-28 2014-02-28 2015-02-28 2016-02-28 2017-02-28 2018-02-28 regression done !\n",
      "regression start scale[29,30]\n",
      "2010-02-28 2011-02-28 2012-02-28 2013-02-28 2014-02-28 2015-02-28 2016-02-28 2017-02-28 2018-02-28 regression done !\n",
      "regression start scale[30,31]\n",
      "2000-02-28 2001-02-28 2002-02-28 2003-02-28 2004-02-28 2005-02-28 2006-02-28 2007-02-28 2008-02-28 2009-02-28 regression done !\n",
      "regression start scale[30,31]\n"
     ]
    },
    {
     "name": "stderr",
     "output_type": "stream",
     "text": [
      "/opt/conda/lib/python3.6/site-packages/numpy/core/fromnumeric.py:2909: RuntimeWarning: Mean of empty slice.\n",
      "  out=out, **kwargs)\n",
      "/opt/conda/lib/python3.6/site-packages/numpy/core/_methods.py:80: RuntimeWarning: invalid value encountered in true_divide\n",
      "  ret = ret.dtype.type(ret / rcount)\n"
     ]
    },
    {
     "name": "stdout",
     "output_type": "stream",
     "text": [
      "2000-02-28 2001-02-28 2002-02-28 2003-02-28 2004-02-28 2005-02-28 2006-02-28 2007-02-28 2008-02-28 2009-02-28 regression done !\n",
      "regression start scale[31,32]\n",
      "2000-02-28 2001-02-28 2002-02-28 2003-02-28 2004-02-28 2005-02-28 2006-02-28 2007-02-28 2008-02-28 2009-02-28 regression start scale[31,32]\n",
      "2010-02-28 2011-02-28 2012-02-28 2013-02-28 2014-02-28 2015-02-28 2016-02-28 2017-02-28 2018-02-28 regression done !\n",
      "regression start scale[32,33]\n",
      "2010-02-28 2011-02-28 2012-02-28 2013-02-28 2014-02-28 2015-02-28 2016-02-28 2017-02-28 2018-02-28 regression done !\n",
      "regression start scale[32,33]\n",
      "2010-02-28 2011-02-28 2012-02-28 2013-02-28 2014-02-28 2015-02-28 2016-02-28 2017-02-28 2018-02-28 regression done !\n",
      "2010-02-28 2011-02-28 2012-02-28 2013-02-28 2014-02-28 2015-02-28 2016-02-28 2017-02-28 2018-02-28 regression done !\n",
      "2000-02-28 2001-02-28 2002-02-28 2003-02-28 2004-02-28 2005-02-28 2006-02-28 2007-02-28 2008-02-28 2009-02-28 regression start scale[33,34]\n",
      "regression start scale[33,34]\n",
      "regression start scale[34,35]\n",
      "2000-02-28 2001-02-28 2002-02-28 2003-02-28 2004-02-28 2005-02-28 2006-02-28 2007-02-28 2008-02-28 2009-02-28 regression done !\n",
      "regression start scale[34,35]\n",
      "2000-02-28 2001-02-28 2002-02-28 2003-02-28 2004-02-28 2005-02-28 2006-02-28 2007-02-28 2008-02-28 2009-02-28 regression done !\n",
      "regression start scale[35,36]\n",
      "2010-02-28 2011-02-28 2012-02-28 2013-02-28 2014-02-28 2015-02-28 2016-02-28 2017-02-28 2018-02-28 regression done !\n",
      "2000-02-28 2001-02-28 2002-02-28 2003-02-28 2004-02-28 2005-02-28 2006-02-28 2007-02-28 2008-02-28 2009-02-28 regression done !\n",
      "regression start scale[35,36]\n",
      "regression start scale[36,37]\n",
      "2000-02-28 2001-02-28 2002-02-28 2003-02-28 2004-02-28 2005-02-28 2006-02-28 2007-02-28 2008-02-28 2009-02-28 regression done !\n",
      "attempt to get argmax of an empty sequence\n",
      "attempt to get argmax of an empty sequence\n",
      "attempt to get argmax of an empty sequence\n",
      "2010-02-28 2011-02-28 2012-02-28 2013-02-28 2014-02-28 2015-02-28 2016-02-28 2017-02-28 2018-02-28 regression done !\n",
      "regression start scale[36,37]\n",
      "regression start scale[37,38]\n",
      "2010-02-28 2011-02-28 2012-02-28 2013-02-28 2014-02-28 2015-02-28 2016-02-28 2017-02-28 2018-02-28 regression done !\n",
      "regression start scale[37,38]\n",
      "2010-02-28 2011-02-28 2012-02-28 2013-02-28 2014-02-28 2015-02-28 2016-02-28 2017-02-28 2018-02-28 regression start scale[38,39]\n",
      "2010-02-28 2011-02-28 2012-02-28 2013-02-28 2014-02-28 2015-02-28 2016-02-28 2017-02-28 2018-02-28 regression done !\n",
      "attempt to get argmax of an empty sequence\n",
      "attempt to get argmax of an empty sequence\n",
      "regression start scale[38,39]\n",
      "2000-02-28 2001-02-28 2002-02-28 2003-02-28 2004-02-28 2005-02-28 2006-02-28 2007-02-28 2008-02-28 2009-02-28 regression start scale[39,40]\n",
      "2000-02-28 2001-02-28 2002-02-28 2003-02-28 2004-02-28 2005-02-28 2006-02-28 2007-02-28 2008-02-28 2009-02-28 regression done !\n",
      "regression start scale[39,40]\n",
      "2000-02-28 2001-02-28 2002-02-28 2003-02-28 2004-02-28 2005-02-28 2006-02-28 2007-02-28 2008-02-28 2009-02-28 regression start scale[40,41]\n",
      "2000-02-28 2001-02-28 2002-02-28 2003-02-28 2004-02-28 2005-02-28 2006-02-28 2007-02-28 2008-02-28 2009-02-28 regression start scale[40,41]\n",
      "2010-02-28 2011-02-28 2012-02-28 2013-02-28 2014-02-28 2015-02-28 2016-02-28 2017-02-28 2018-02-28 regression done !\n",
      "attempt to get argmax of an empty sequence\n",
      "regression start scale[41,42]\n",
      "2010-02-28 2011-02-28 2012-02-28 2013-02-28 2014-02-28 2015-02-28 2016-02-28 2017-02-28 2018-02-28 regression done !\n",
      "regression start scale[41,42]\n",
      "2000-02-28 2001-02-28 2002-02-28 2003-02-28 2004-02-28 2005-02-28 2006-02-28 2007-02-28 2008-02-28 2009-02-28 regression done !\n",
      "regression start scale[42,43]\n",
      "2010-02-28 2011-02-28 2012-02-28 2013-02-28 2014-02-28 2015-02-28 2016-02-28 2017-02-28 2018-02-28 regression done !\n",
      "regression start scale[42,43]\n",
      "2010-02-28 2011-02-28 2012-02-28 2013-02-28 2014-02-28 2015-02-28 2016-02-28 2017-02-28 2018-02-28 regression done !\n",
      "2010-02-28 2011-02-28 2012-02-28 2013-02-28 2014-02-28 2015-02-28 2016-02-28 2017-02-28 2018-02-28 regression done !\n",
      "regression start scale[43,44]\n",
      "regression start scale[43,44]\n",
      "2000-02-28 2001-02-28 2002-02-28 2003-02-28 2004-02-28 2005-02-28 2006-02-28 2007-02-28 2008-02-28 2009-02-28 regression start scale[44,45]\n",
      "2010-02-28 2011-02-28 2012-02-28 2013-02-28 2014-02-28 2015-02-28 2016-02-28 2017-02-28 2018-02-28 regression done !\n",
      "regression start scale[44,45]\n",
      "2000-02-28 2001-02-28 2002-02-28 2003-02-28 2004-02-28 2005-02-28 2006-02-28 2007-02-28 2008-02-28 2009-02-28 regression done !\n",
      "regression start scale[45,46]\n",
      "2000-02-28 2001-02-28 2002-02-28 2003-02-28 2004-02-28 2005-02-28 2006-02-28 2007-02-28 2008-02-28 2009-02-28 regression start scale[45,46]\n",
      "2000-02-28 2001-02-28 2002-02-28 2003-02-28 2004-02-28 2005-02-28 2006-02-28 2007-02-28 2008-02-28 2009-02-28 regression done !\n",
      "2010-02-28 2011-02-28 2012-02-28 2013-02-28 2014-02-28 2015-02-28 2016-02-28 2017-02-28 2018-02-28 regression done !\n",
      "2000-02-28 2001-02-28 2002-02-28 2003-02-28 2004-02-28 2005-02-28 2006-02-28 2007-02-28 2008-02-28 2009-02-28 regression done !\n",
      "regression start scale[46,47]\n",
      "regression start scale[46,47]\n",
      "attempt to get argmax of an empty sequence\n",
      "attempt to get argmax of an empty sequence\n",
      "attempt to get argmax of an empty sequence\n",
      "regression start scale[47,48]\n",
      "2000-02-28 2001-02-28 2002-02-28 2003-02-28 2004-02-28 2005-02-28 2006-02-28 2007-02-28 2008-02-28 2009-02-28 regression start scale[47,48]\n",
      "2000-02-28 2001-02-28 2002-02-28 2003-02-28 2004-02-28 2005-02-28 2006-02-28 2007-02-28 2008-02-28 2009-02-28 regression done !\n",
      "regression start scale[48,49]\n",
      "2010-02-28 2011-02-28 2012-02-28 2013-02-28 2014-02-28 2015-02-28 2016-02-28 2017-02-28 2018-02-28 regression done !\n",
      "regression start scale[48,49]\n",
      "2010-02-28 2011-02-28 2012-02-28 2013-02-28 2014-02-28 2015-02-28 2016-02-28 2017-02-28 2018-02-28 regression done !\n",
      "regression start scale[49,50]\n",
      "2000-02-28 2001-02-28 2002-02-28 2003-02-28 2004-02-28 2005-02-28 2006-02-28 2007-02-28 2008-02-28 2009-02-28 regression done !\n",
      "regression start scale[49,50]\n",
      "2010-02-28 2011-02-28 2012-02-28 2013-02-28 2014-02-28 2015-02-28 2016-02-28 2017-02-28 2018-02-28 regression done !\n",
      "regression start scale[50,51]\n",
      "2010-02-28 2011-02-28 2012-02-28 2013-02-28 2014-02-28 2015-02-28 2016-02-28 2017-02-28 2018-02-28 regression done !\n",
      "regression start scale[50,51]\n"
     ]
    },
    {
     "name": "stderr",
     "output_type": "stream",
     "text": [
      "/opt/conda/lib/python3.6/site-packages/numpy/core/fromnumeric.py:2909: RuntimeWarning: Mean of empty slice.\n",
      "  out=out, **kwargs)\n",
      "/opt/conda/lib/python3.6/site-packages/numpy/core/_methods.py:80: RuntimeWarning: invalid value encountered in true_divide\n",
      "  ret = ret.dtype.type(ret / rcount)\n"
     ]
    },
    {
     "name": "stdout",
     "output_type": "stream",
     "text": [
      "2000-02-28 2001-02-28 2002-02-28 2003-02-28 2004-02-28 2005-02-28 2006-02-28 2007-02-28 2008-02-28 2009-02-28 regression done !\n",
      "attempt to get argmax of an empty sequence\n",
      "regression start scale[51,52]\n",
      "2010-02-28 2011-02-28 2012-02-28 2013-02-28 2014-02-28 2015-02-28 2016-02-28 2017-02-28 2018-02-28 regression done !\n",
      "regression start scale[51,52]\n",
      "2010-02-28 2011-02-28 2012-02-28 2013-02-28 2014-02-28 2015-02-28 2016-02-28 2017-02-28 2018-02-28 regression done !\n",
      "attempt to get argmax of an empty sequence\n",
      "attempt to get argmax of an empty sequence\n",
      "regression start scale[52,53]\n"
     ]
    },
    {
     "name": "stderr",
     "output_type": "stream",
     "text": [
      "/opt/conda/lib/python3.6/site-packages/numpy/core/fromnumeric.py:2909: RuntimeWarning: Mean of empty slice.\n",
      "  out=out, **kwargs)\n",
      "/opt/conda/lib/python3.6/site-packages/numpy/core/_methods.py:80: RuntimeWarning: invalid value encountered in true_divide\n",
      "  ret = ret.dtype.type(ret / rcount)\n"
     ]
    },
    {
     "name": "stdout",
     "output_type": "stream",
     "text": [
      "2000-02-28 2001-02-28 2002-02-28 2003-02-28 2004-02-28 2005-02-28 2006-02-28 2007-02-28 2008-02-28 2009-02-28 regression done !\n",
      "regression start scale[52,53]\n",
      "2000-02-28 2001-02-28 2002-02-28 2003-02-28 2004-02-28 2005-02-28 2006-02-28 2007-02-28 2008-02-28 2009-02-28 regression start scale[53,54]\n",
      "2000-02-28 2001-02-28 2002-02-28 2003-02-28 2004-02-28 2005-02-28 2006-02-28 2007-02-28 2008-02-28 2009-02-28 regression start scale[53,54]\n",
      "2010-02-28 2011-02-28 2012-02-28 2013-02-28 2014-02-28 2015-02-28 2016-02-28 2017-02-28 2018-02-28 regression done !\n",
      "regression start scale[54,55]\n"
     ]
    },
    {
     "name": "stderr",
     "output_type": "stream",
     "text": [
      "/opt/conda/lib/python3.6/site-packages/numpy/core/fromnumeric.py:2909: RuntimeWarning: Mean of empty slice.\n",
      "  out=out, **kwargs)\n",
      "/opt/conda/lib/python3.6/site-packages/numpy/core/_methods.py:80: RuntimeWarning: invalid value encountered in true_divide\n",
      "  ret = ret.dtype.type(ret / rcount)\n",
      "/opt/conda/lib/python3.6/site-packages/ipykernel_launcher.py:24: RuntimeWarning: divide by zero encountered in true_divide\n",
      "/opt/conda/lib/python3.6/site-packages/ipykernel_launcher.py:132: RuntimeWarning: divide by zero encountered in double_scalars\n"
     ]
    },
    {
     "name": "stdout",
     "output_type": "stream",
     "text": [
      "2000-02-28 2001-02-28 2002-02-28 2003-02-28 2004-02-28 2005-02-28 2006-02-28 2007-02-28 2008-02-28 2009-02-28 regression done !\n",
      "regression start scale[54,55]\n",
      "2010-02-28 2011-02-28 2012-02-28 2013-02-28 2014-02-28 2015-02-28 2016-02-28 2017-02-28 2018-02-28 regression done !\n",
      "regression start scale[55,56]\n",
      "2000-02-28 2001-02-28 2002-02-28 2003-02-28 2004-02-28 2005-02-28 2006-02-28 2007-02-28 2008-02-28 2009-02-28 regression done !\n",
      "regression start scale[55,56]\n",
      "2000-02-28 2001-02-28 2002-02-28 2003-02-28 2004-02-28 2005-02-28 2006-02-28 2007-02-28 2008-02-28 2009-02-28 regression done !\n",
      "regression start scale[56,57]\n",
      "2000-02-28 2001-02-28 2002-02-28 2003-02-28 2004-02-28 2005-02-28 2006-02-28 2007-02-28 2008-02-28 2009-02-28 regression done !\n",
      "regression start scale[56,57]\n",
      "2010-02-28 2011-02-28 2012-02-28 2013-02-28 2014-02-28 2015-02-28 2016-02-28 2017-02-28 2018-02-28 regression done !\n",
      "regression start scale[57,58]\n",
      "2010-02-28 2011-02-28 2012-02-28 2013-02-28 2014-02-28 2015-02-28 2016-02-28 2017-02-28 2018-02-28 regression done !\n",
      "regression start scale[57,58]\n",
      "2010-02-28 2011-02-28 2012-02-28 2013-02-28 2014-02-28 2015-02-28 2016-02-28 2017-02-28 2018-02-28 regression done !\n",
      "regression start scale[58,59]\n"
     ]
    },
    {
     "name": "stderr",
     "output_type": "stream",
     "text": [
      "/opt/conda/lib/python3.6/site-packages/numpy/core/fromnumeric.py:2909: RuntimeWarning: Mean of empty slice.\n",
      "  out=out, **kwargs)\n",
      "/opt/conda/lib/python3.6/site-packages/numpy/core/_methods.py:80: RuntimeWarning: invalid value encountered in true_divide\n",
      "  ret = ret.dtype.type(ret / rcount)\n"
     ]
    },
    {
     "name": "stdout",
     "output_type": "stream",
     "text": [
      "2010-02-28 2011-02-28 2012-02-28 2013-02-28 2014-02-28 2015-02-28 2016-02-28 2017-02-28 2018-02-28 regression done !\n"
     ]
    },
    {
     "name": "stderr",
     "output_type": "stream",
     "text": [
      "/opt/conda/lib/python3.6/site-packages/numpy/core/fromnumeric.py:2909: RuntimeWarning: Mean of empty slice.\n",
      "  out=out, **kwargs)\n",
      "/opt/conda/lib/python3.6/site-packages/numpy/core/_methods.py:80: RuntimeWarning: invalid value encountered in true_divide\n",
      "  ret = ret.dtype.type(ret / rcount)\n",
      "/opt/conda/lib/python3.6/site-packages/ipykernel_launcher.py:24: RuntimeWarning: divide by zero encountered in true_divide\n"
     ]
    },
    {
     "name": "stdout",
     "output_type": "stream",
     "text": [
      "regression start scale[58,59]\n",
      "2010-02-28 2011-02-28 2012-02-28 2013-02-28 2014-02-28 2015-02-28 2016-02-28 2017-02-28 2018-02-28 regression done !\n",
      "regression start scale[59,60]\n"
     ]
    },
    {
     "name": "stderr",
     "output_type": "stream",
     "text": [
      "/opt/conda/lib/python3.6/site-packages/ipykernel_launcher.py:132: RuntimeWarning: divide by zero encountered in double_scalars\n"
     ]
    },
    {
     "name": "stdout",
     "output_type": "stream",
     "text": [
      "2000-02-28 2001-02-28 2002-02-28 2003-02-28 2004-02-28 2005-02-28 2006-02-28 2007-02-28 2008-02-28 2009-02-28 regression done !\n",
      "2010-02-28 2011-02-28 2012-02-28 2013-02-28 2014-02-28 2015-02-28 2016-02-28 2017-02-28 2018-02-28 regression done !\n",
      "regression start scale[59,60]\n",
      "2010-02-28 2011-02-28 2012-02-28 2013-02-28 2014-02-28 2015-02-28 2016-02-28 2017-02-28 2018-02-28 regression done !\n",
      "regression start scale[60,61]\n",
      "attempt to get argmax of an empty sequence\n",
      "attempt to get argmax of an empty sequence\n",
      "regression start scale[60,61]\n",
      "2000-02-28 2001-02-28 2002-02-28 2003-02-28 2004-02-28 2005-02-28 2006-02-28 2007-02-28 2008-02-28 2009-02-28 regression done !\n",
      "regression start scale[61,62]\n",
      "2000-02-28 2001-02-28 2002-02-28 2003-02-28 2004-02-28 2005-02-28 2006-02-28 2007-02-28 2008-02-28 2009-02-28 regression start scale[61,62]\n"
     ]
    },
    {
     "name": "stderr",
     "output_type": "stream",
     "text": [
      "/opt/conda/lib/python3.6/site-packages/numpy/core/fromnumeric.py:2909: RuntimeWarning: Mean of empty slice.\n",
      "  out=out, **kwargs)\n",
      "/opt/conda/lib/python3.6/site-packages/numpy/core/_methods.py:80: RuntimeWarning: invalid value encountered in true_divide\n",
      "  ret = ret.dtype.type(ret / rcount)\n"
     ]
    },
    {
     "name": "stdout",
     "output_type": "stream",
     "text": [
      "2010-02-28 2011-02-28 2012-02-28 2013-02-28 2014-02-28 2015-02-28 2016-02-28 2017-02-28 2018-02-28 regression done !\n",
      "2000-02-28 2001-02-28 2002-02-28 2003-02-28 2004-02-28 2005-02-28 2006-02-28 2007-02-28 2008-02-28 2009-02-28 regression done !\n",
      "regression start scale[62,63]\n",
      "regression start scale[62,63]\n",
      "2000-02-28 2001-02-28 2002-02-28 2003-02-28 2004-02-28 2005-02-28 2006-02-28 2007-02-28 2008-02-28 2009-02-28 regression done !\n",
      "regression start scale[63,64]\n",
      "2000-02-28 2001-02-28 2002-02-28 2003-02-28 2004-02-28 2005-02-28 2006-02-28 2007-02-28 2008-02-28 2009-02-28 regression start scale[63,64]\n",
      "2010-02-28 2011-02-28 2012-02-28 2013-02-28 2014-02-28 2015-02-28 2016-02-28 2017-02-28 2018-02-28 regression done !\n",
      "regression start scale[64,65]\n",
      "2000-02-28 2001-02-28 2002-02-28 2003-02-28 2004-02-28 2005-02-28 2006-02-28 2007-02-28 2008-02-28 2009-02-28 regression done !\n",
      "regression start scale[64,65]\n",
      "2010-02-28 2011-02-28 2012-02-28 2013-02-28 2014-02-28 2015-02-28 2016-02-28 2017-02-28 2018-02-28 regression done !\n",
      "2010-02-28 2011-02-28 2012-02-28 2013-02-28 2014-02-28 2015-02-28 2016-02-28 2017-02-28 2018-02-28 regression done !\n",
      "attempt to get argmax of an empty sequence\n",
      "regression start scale[65,66]\n",
      "regression start scale[65,66]\n",
      "2010-02-28 2011-02-28 2012-02-28 2013-02-28 2014-02-28 2015-02-28 2016-02-28 2017-02-28 2018-02-28 regression done !\n",
      "attempt to get argmax of an empty sequence\n",
      "regression start scale[66,67]\n",
      "2000-02-28 2001-02-28 2002-02-28 2003-02-28 2004-02-28 2005-02-28 2006-02-28 2007-02-28 2008-02-28 2009-02-28 regression start scale[66,67]\n"
     ]
    },
    {
     "name": "stderr",
     "output_type": "stream",
     "text": [
      "/opt/conda/lib/python3.6/site-packages/numpy/core/fromnumeric.py:2909: RuntimeWarning: Mean of empty slice.\n",
      "  out=out, **kwargs)\n",
      "/opt/conda/lib/python3.6/site-packages/numpy/core/_methods.py:80: RuntimeWarning: invalid value encountered in true_divide\n",
      "  ret = ret.dtype.type(ret / rcount)\n",
      "/opt/conda/lib/python3.6/site-packages/ipykernel_launcher.py:24: RuntimeWarning: divide by zero encountered in true_divide\n",
      "/opt/conda/lib/python3.6/site-packages/ipykernel_launcher.py:132: RuntimeWarning: divide by zero encountered in double_scalars\n"
     ]
    },
    {
     "name": "stdout",
     "output_type": "stream",
     "text": [
      "2000-02-28 2001-02-28 2002-02-28 2003-02-28 2004-02-28 2005-02-28 2006-02-28 2007-02-28 2008-02-28 2009-02-28 regression done !\n",
      "2010-02-28 2011-02-28 2012-02-28 2013-02-28 2014-02-28 2015-02-28 2016-02-28 2017-02-28 2018-02-28 regression done !\n",
      "regression start scale[67,68]\n",
      "regression start scale[67,68]\n",
      "2000-02-28 2001-02-28 2002-02-28 2003-02-28 2004-02-28 2005-02-28 2006-02-28 2007-02-28 2008-02-28 2009-02-28 regression done !\n",
      "2000-02-28 2001-02-28 2002-02-28 2003-02-28 2004-02-28 2005-02-28 2006-02-28 2007-02-28 2008-02-28 2009-02-28 regression start scale[68,69]\n",
      "regression start scale[68,69]\n"
     ]
    },
    {
     "name": "stderr",
     "output_type": "stream",
     "text": [
      "/opt/conda/lib/python3.6/site-packages/numpy/core/fromnumeric.py:2909: RuntimeWarning: Mean of empty slice.\n",
      "  out=out, **kwargs)\n",
      "/opt/conda/lib/python3.6/site-packages/numpy/core/_methods.py:80: RuntimeWarning: invalid value encountered in true_divide\n",
      "  ret = ret.dtype.type(ret / rcount)\n"
     ]
    },
    {
     "name": "stdout",
     "output_type": "stream",
     "text": [
      "2010-02-28 2011-02-28 2012-02-28 2013-02-28 2014-02-28 2015-02-28 2016-02-28 2017-02-28 2018-02-28 regression done !\n",
      "regression start scale[69,70]\n",
      "2010-02-28 2011-02-28 2012-02-28 2013-02-28 2014-02-28 2015-02-28 2016-02-28 2017-02-28 2018-02-28 regression done !\n",
      "regression start scale[69,70]\n",
      "2000-02-28 2001-02-28 2002-02-28 2003-02-28 2004-02-28 2005-02-28 2006-02-28 2007-02-28 2008-02-28 2009-02-28 regression done !\n",
      "regression start scale[70,71]\n"
     ]
    },
    {
     "name": "stderr",
     "output_type": "stream",
     "text": [
      "/opt/conda/lib/python3.6/site-packages/numpy/core/fromnumeric.py:2909: RuntimeWarning: Mean of empty slice.\n",
      "  out=out, **kwargs)\n",
      "/opt/conda/lib/python3.6/site-packages/numpy/core/_methods.py:80: RuntimeWarning: invalid value encountered in true_divide\n",
      "  ret = ret.dtype.type(ret / rcount)\n"
     ]
    },
    {
     "name": "stdout",
     "output_type": "stream",
     "text": [
      "2010-02-28 2011-02-28 2012-02-28 2013-02-28 2014-02-28 2015-02-28 2016-02-28 2017-02-28 2018-02-28 regression done !\n",
      "2010-02-28 2011-02-28 2012-02-28 2013-02-28 2014-02-28 2015-02-28 2016-02-28 2017-02-28 2018-02-28 regression done !\n",
      "regression start scale[70,71]\n",
      "regression start scale[71,72]\n",
      "2010-02-28 2011-02-28 2012-02-28 2013-02-28 2014-02-28 2015-02-28 2016-02-28 2017-02-28 2018-02-28 regression done !\n",
      "regression start scale[71,72]\n",
      "2010-02-28 2011-02-28 2012-02-28 2013-02-28 2014-02-28 2015-02-28 2016-02-28 2017-02-28 2018-02-28 regression done !\n",
      "regression start scale[72,73]\n",
      "2010-02-28 2011-02-28 2012-02-28 2013-02-28 2014-02-28 2015-02-28 2016-02-28 2017-02-28 2018-02-28 regression done !\n",
      "regression start scale[72,73]\n"
     ]
    },
    {
     "name": "stderr",
     "output_type": "stream",
     "text": [
      "/opt/conda/lib/python3.6/site-packages/numpy/core/fromnumeric.py:2909: RuntimeWarning: Mean of empty slice.\n",
      "  out=out, **kwargs)\n",
      "/opt/conda/lib/python3.6/site-packages/numpy/core/_methods.py:80: RuntimeWarning: invalid value encountered in true_divide\n",
      "  ret = ret.dtype.type(ret / rcount)\n"
     ]
    },
    {
     "name": "stdout",
     "output_type": "stream",
     "text": [
      "2000-02-28 2001-02-28 2002-02-28 2003-02-28 2004-02-28 2005-02-28 2006-02-28 2007-02-28 2008-02-28 2009-02-28 regression done !\n",
      "regression start scale[73,74]\n",
      "2000-02-28 2001-02-28 2002-02-28 2003-02-28 2004-02-28 2005-02-28 2006-02-28 2007-02-28 2008-02-28 2009-02-28 regression done !\n",
      "regression start scale[73,74]\n",
      "2000-02-28 2001-02-28 2002-02-28 2003-02-28 2004-02-28 2005-02-28 2006-02-28 2007-02-28 2008-02-28 2009-02-28 regression start scale[74,75]\n",
      "2000-02-28 2001-02-28 2002-02-28 2003-02-28 2004-02-28 2005-02-28 2006-02-28 2007-02-28 2008-02-28 2009-02-28 regression done !\n",
      "regression start scale[74,75]\n",
      "2010-02-28 2011-02-28 2012-02-28 2013-02-28 2014-02-28 2015-02-28 2016-02-28 2017-02-28 2018-02-28 regression done !\n",
      "attempt to get argmax of an empty sequence\n",
      "attempt to get argmax of an empty sequence\n",
      "regression start scale[75,76]\n",
      "2000-02-28 2001-02-28 2002-02-28 2003-02-28 2004-02-28 2005-02-28 2006-02-28 2007-02-28 2008-02-28 2009-02-28 regression start scale[75,76]\n",
      "2000-02-28 2001-02-28 2002-02-28 2003-02-28 2004-02-28 2005-02-28 2006-02-28 2007-02-28 2008-02-28 2009-02-28 regression start scale[76,77]\n",
      "2000-02-28 2001-02-28 2002-02-28 2003-02-28 2004-02-28 2005-02-28 2006-02-28 2007-02-28 2008-02-28 2009-02-28 regression done !\n",
      "2010-02-28 2011-02-28 2012-02-28 2013-02-28 2014-02-28 2015-02-28 2016-02-28 2017-02-28 2018-02-28 regression done !\n",
      "regression start scale[76,77]\n",
      "regression start scale[77,78]\n",
      "2010-02-28 2011-02-28 2012-02-28 2013-02-28 2014-02-28 2015-02-28 2016-02-28 2017-02-28 2018-02-28 regression done !\n",
      "regression start scale[77,78]\n",
      "2000-02-28 2001-02-28 2002-02-28 2003-02-28 2004-02-28 2005-02-28 2006-02-28 2007-02-28 2008-02-28 2009-02-28 regression done !\n",
      "regression start scale[78,79]\n",
      "2010-02-28 2011-02-28 2012-02-28 2013-02-28 2014-02-28 2015-02-28 2016-02-28 2017-02-28 2018-02-28 regression start scale[78,79]\n",
      "2000-02-28 2001-02-28 2002-02-28 2003-02-28 2004-02-28 2005-02-28 2006-02-28 2007-02-28 2008-02-28 2009-02-28 regression done !\n",
      "regression start scale[79,80]\n",
      "2010-02-28 2011-02-28 2012-02-28 2013-02-28 2014-02-28 2015-02-28 2016-02-28 2017-02-28 2018-02-28 regression done !\n",
      "regression start scale[79,80]\n",
      "2010-02-28 2011-02-28 2012-02-28 2013-02-28 2014-02-28 2015-02-28 2016-02-28 2017-02-28 2018-02-28 regression done !\n",
      "2010-02-28 2011-02-28 2012-02-28 2013-02-28 2014-02-28 2015-02-28 2016-02-28 2017-02-28 2018-02-28 regression done !\n",
      "attempt to get argmax of an empty sequence\n",
      "attempt to get argmax of an empty sequence\n",
      "attempt to get argmax of an empty sequence\n",
      "attempt to get argmax of an empty sequence\n",
      "regression start scale[80,81]\n",
      "regression start scale[80,81]\n",
      "2000-02-28 2001-02-28 2002-02-28 2003-02-28 2004-02-28 2005-02-28 2006-02-28 regression start scale[81,82]\n",
      "2000-02-28 2001-02-28 2002-02-28 2003-02-28 2004-02-28 2005-02-28 2006-02-28 2007-02-28 2008-02-28 2009-02-28 regression start scale[81,82]\n",
      "2000-02-28 2001-02-28 2002-02-28 2003-02-28 2004-02-28 2005-02-28 2006-02-28 2007-02-28 2008-02-28 2009-02-28 regression start scale[82,83]\n"
     ]
    },
    {
     "name": "stderr",
     "output_type": "stream",
     "text": [
      "/opt/conda/lib/python3.6/site-packages/numpy/core/fromnumeric.py:2909: RuntimeWarning: Mean of empty slice.\n",
      "  out=out, **kwargs)\n",
      "/opt/conda/lib/python3.6/site-packages/numpy/core/_methods.py:80: RuntimeWarning: invalid value encountered in true_divide\n",
      "  ret = ret.dtype.type(ret / rcount)\n",
      "/opt/conda/lib/python3.6/site-packages/ipykernel_launcher.py:24: RuntimeWarning: divide by zero encountered in true_divide\n",
      "/opt/conda/lib/python3.6/site-packages/ipykernel_launcher.py:132: RuntimeWarning: divide by zero encountered in double_scalars\n"
     ]
    },
    {
     "name": "stdout",
     "output_type": "stream",
     "text": [
      "2000-02-28 2001-02-28 2002-02-28 2003-02-28 2004-02-28 2005-02-28 2006-02-28 2007-02-28 2008-02-28 2009-02-28 regression done !\n",
      "regression start scale[82,83]\n",
      "2010-02-28 2011-02-28 2012-02-28 2013-02-28 2014-02-28 2015-02-28 2016-02-28 2017-02-28 2018-02-28 regression done !\n",
      "regression start scale[83,84]\n",
      "2000-02-28 2001-02-28 2002-02-28 2003-02-28 2004-02-28 2005-02-28 2006-02-28 2007-02-28 2008-02-28 2009-02-28 regression done !\n",
      "regression start scale[83,84]\n",
      "2000-02-28 2001-02-28 2002-02-28 2003-02-28 2004-02-28 2005-02-28 2006-02-28 2007-02-28 2008-02-28 2009-02-28 regression done !\n",
      "2000-02-28 2001-02-28 2002-02-28 2003-02-28 2004-02-28 2005-02-28 2006-02-28 2007-02-28 2008-02-28 2009-02-28 regression done !\n",
      "regression start scale[84,85]\n",
      "regression start scale[84,85]\n",
      "2010-02-28 2011-02-28 2012-02-28 2013-02-28 2014-02-28 2015-02-28 2016-02-28 2017-02-28 2018-02-28 regression done !\n",
      "regression start scale[85,86]\n"
     ]
    },
    {
     "name": "stderr",
     "output_type": "stream",
     "text": [
      "/opt/conda/lib/python3.6/site-packages/numpy/core/fromnumeric.py:2909: RuntimeWarning: Mean of empty slice.\n",
      "  out=out, **kwargs)\n",
      "/opt/conda/lib/python3.6/site-packages/numpy/core/_methods.py:80: RuntimeWarning: invalid value encountered in true_divide\n",
      "  ret = ret.dtype.type(ret / rcount)\n"
     ]
    },
    {
     "name": "stdout",
     "output_type": "stream",
     "text": [
      "2000-02-28 2001-02-28 2002-02-28 2003-02-28 2004-02-28 2005-02-28 2006-02-28 2007-02-28 2008-02-28 2009-02-28 regression done !\n",
      "regression start scale[85,86]\n",
      "2010-02-28 2011-02-28 2012-02-28 2013-02-28 2014-02-28 2015-02-28 2016-02-28 2017-02-28 2018-02-28 regression done !\n",
      "regression start scale[86,87]\n",
      "2010-02-28 2011-02-28 2012-02-28 2013-02-28 2014-02-28 2015-02-28 2016-02-28 2017-02-28 2018-02-28 regression done !\n",
      "regression start scale[86,87]\n",
      "2000-02-28 2001-02-28 2002-02-28 2003-02-28 2004-02-28 2005-02-28 2006-02-28 2007-02-28 2008-02-28 2009-02-28 regression done !\n",
      "regression start scale[87,88]\n",
      "2010-02-28 2011-02-28 2012-02-28 2013-02-28 2014-02-28 2015-02-28 2016-02-28 2017-02-28 2018-02-28 regression done !\n",
      "regression start scale[87,88]\n",
      "2000-02-28 2001-02-28 2002-02-28 2003-02-28 2004-02-28 2005-02-28 2006-02-28 2007-02-28 2008-02-28 2009-02-28 regression start scale[88,89]\n",
      "2010-02-28 2011-02-28 2012-02-28 2013-02-28 2014-02-28 2015-02-28 2016-02-28 2017-02-28 2018-02-28 regression done !\n",
      "attempt to get argmax of an empty sequence\n"
     ]
    },
    {
     "name": "stderr",
     "output_type": "stream",
     "text": [
      "/opt/conda/lib/python3.6/site-packages/numpy/core/fromnumeric.py:2909: RuntimeWarning: Mean of empty slice.\n",
      "  out=out, **kwargs)\n"
     ]
    },
    {
     "name": "stdout",
     "output_type": "stream",
     "text": [
      "regression start scale[88,89]\n"
     ]
    },
    {
     "name": "stderr",
     "output_type": "stream",
     "text": [
      "/opt/conda/lib/python3.6/site-packages/numpy/core/_methods.py:80: RuntimeWarning: invalid value encountered in true_divide\n",
      "  ret = ret.dtype.type(ret / rcount)\n",
      "/opt/conda/lib/python3.6/site-packages/ipykernel_launcher.py:24: RuntimeWarning: divide by zero encountered in true_divide\n",
      "/opt/conda/lib/python3.6/site-packages/ipykernel_launcher.py:132: RuntimeWarning: divide by zero encountered in double_scalars\n"
     ]
    },
    {
     "name": "stdout",
     "output_type": "stream",
     "text": [
      "2000-02-28 2001-02-28 2002-02-28 2003-02-28 2004-02-28 2005-02-28 2006-02-28 2007-02-28 2008-02-28 2009-02-28 regression done !\n",
      "regression start scale[89,90]\n",
      "2000-02-28 2001-02-28 2002-02-28 2003-02-28 2004-02-28 2005-02-28 2006-02-28 2007-02-28 2008-02-28 2009-02-28 regression start scale[89,90]\n",
      "2010-02-28 2011-02-28 2012-02-28 2013-02-28 2014-02-28 2015-02-28 2016-02-28 2017-02-28 2018-02-28 regression done !\n",
      "attempt to get argmax of an empty sequence\n",
      "attempt to get argmax of an empty sequence\n",
      "regression start scale[90,91]\n",
      "2000-02-28 2001-02-28 2002-02-28 2003-02-28 2004-02-28 2005-02-28 2006-02-28 2007-02-28 2008-02-28 2009-02-28 regression done !\n",
      "regression start scale[90,91]\n",
      "2010-02-28 2011-02-28 2012-02-28 2013-02-28 2014-02-28 2015-02-28 2016-02-28 2017-02-28 2018-02-28 regression done !\n",
      "regression start scale[91,92]\n",
      "2010-02-28 2011-02-28 2012-02-28 2013-02-28 2014-02-28 2015-02-28 2016-02-28 2017-02-28 2018-02-28 regression done !\n",
      "regression start scale[91,92]\n",
      "2010-02-28 2011-02-28 2012-02-28 2013-02-28 2014-02-28 2015-02-28 2016-02-28 2017-02-28 2018-02-28 regression done !\n",
      "regression start scale[92,93]\n",
      "2000-02-28 2001-02-28 2002-02-28 2003-02-28 2004-02-28 2005-02-28 2006-02-28 2007-02-28 2008-02-28 2009-02-28 regression done !\n",
      "regression start scale[92,93]\n",
      "2010-02-28 2011-02-28 2012-02-28 2013-02-28 2014-02-28 2015-02-28 2016-02-28 2017-02-28 2018-02-28 regression done !\n",
      "regression start scale[93,94]\n",
      "2010-02-28 2011-02-28 2012-02-28 2013-02-28 2014-02-28 2015-02-28 2016-02-28 2017-02-28 2018-02-28 regression done !\n",
      "regression start scale[93,94]\n",
      "2010-02-28 2011-02-28 2012-02-28 2013-02-28 2014-02-28 2015-02-28 2016-02-28 2017-02-28 2018-02-28 regression done !\n",
      "attempt to get argmax of an empty sequence\n",
      "attempt to get argmax of an empty sequence\n",
      "regression start scale[94,95]\n",
      "2010-02-28 2011-02-28 2012-02-28 2013-02-28 2014-02-28 2015-02-28 2016-02-28 2017-02-28 2018-02-28 regression done !\n",
      "regression start scale[94,95]\n"
     ]
    },
    {
     "name": "stderr",
     "output_type": "stream",
     "text": [
      "/opt/conda/lib/python3.6/site-packages/numpy/core/fromnumeric.py:2909: RuntimeWarning: Mean of empty slice.\n",
      "  out=out, **kwargs)\n",
      "/opt/conda/lib/python3.6/site-packages/numpy/core/_methods.py:80: RuntimeWarning: invalid value encountered in true_divide\n",
      "  ret = ret.dtype.type(ret / rcount)\n"
     ]
    },
    {
     "name": "stdout",
     "output_type": "stream",
     "text": [
      "2010-02-28 2011-02-28 2012-02-28 2013-02-28 2014-02-28 2015-02-28 2016-02-28 2017-02-28 2018-02-28 regression done !\n",
      "regression start scale[95,96]\n"
     ]
    },
    {
     "name": "stderr",
     "output_type": "stream",
     "text": [
      "/opt/conda/lib/python3.6/site-packages/numpy/core/fromnumeric.py:2909: RuntimeWarning: Mean of empty slice.\n",
      "  out=out, **kwargs)\n",
      "/opt/conda/lib/python3.6/site-packages/numpy/core/_methods.py:80: RuntimeWarning: invalid value encountered in true_divide\n",
      "  ret = ret.dtype.type(ret / rcount)\n",
      "/opt/conda/lib/python3.6/site-packages/ipykernel_launcher.py:24: RuntimeWarning: divide by zero encountered in true_divide\n"
     ]
    },
    {
     "name": "stdout",
     "output_type": "stream",
     "text": [
      "2000-02-28 2001-02-28 2002-02-28 2003-02-28 2004-02-28 2005-02-28 2006-02-28 2007-02-28 2008-02-28 2009-02-28 regression start scale[95,96]\n"
     ]
    },
    {
     "name": "stderr",
     "output_type": "stream",
     "text": [
      "/opt/conda/lib/python3.6/site-packages/ipykernel_launcher.py:132: RuntimeWarning: divide by zero encountered in double_scalars\n"
     ]
    },
    {
     "name": "stdout",
     "output_type": "stream",
     "text": [
      "2000-02-28 2001-02-28 2002-02-28 2003-02-28 2004-02-28 2005-02-28 2006-02-28 2007-02-28 2008-02-28 2009-02-28 regression done !\n",
      "regression start scale[96,97]\n",
      "2000-02-28 2001-02-28 2002-02-28 2003-02-28 2004-02-28 2005-02-28 2006-02-28 2007-02-28 2008-02-28 2009-02-28 regression start scale[96,97]\n",
      "2010-02-28 2011-02-28 2012-02-28 2013-02-28 2014-02-28 2015-02-28 2016-02-28 2017-02-28 2018-02-28 regression done !\n",
      "regression start scale[97,98]\n",
      "2010-02-28 2011-02-28 2012-02-28 2013-02-28 2014-02-28 2015-02-28 2016-02-28 2017-02-28 2018-02-28 regression done !\n",
      "regression start scale[97,98]\n",
      "2000-02-28 2001-02-28 2002-02-28 2003-02-28 2004-02-28 2005-02-28 2006-02-28 2007-02-28 2008-02-28 2009-02-28 regression done !\n",
      "regression start scale[98,99]\n",
      "2000-02-28 2001-02-28 2002-02-28 2003-02-28 2004-02-28 2005-02-28 2006-02-28 2007-02-28 2008-02-28 2009-02-28 regression done !\n",
      "2010-02-28 2011-02-28 2012-02-28 2013-02-28 2014-02-28 2015-02-28 2016-02-28 2017-02-28 2018-02-28 regression done !\n",
      "regression start scale[98,99]\n",
      "regression start scale[99,100]\n",
      "2000-02-28 2001-02-28 2002-02-28 2003-02-28 2004-02-28 2005-02-28 2006-02-28 2007-02-28 2008-02-28 2009-02-28 regression done !\n",
      "regression start scale[99,100]\n",
      "2010-02-28 2011-02-28 2012-02-28 2013-02-28 2014-02-28 2015-02-28 2016-02-28 2017-02-28 2018-02-28 regression done !\n",
      "regression start scale[100,101]\n"
     ]
    },
    {
     "name": "stderr",
     "output_type": "stream",
     "text": [
      "/opt/conda/lib/python3.6/site-packages/numpy/core/fromnumeric.py:2909: RuntimeWarning: Mean of empty slice.\n",
      "  out=out, **kwargs)\n",
      "/opt/conda/lib/python3.6/site-packages/numpy/core/_methods.py:80: RuntimeWarning: invalid value encountered in true_divide\n",
      "  ret = ret.dtype.type(ret / rcount)\n",
      "/opt/conda/lib/python3.6/site-packages/ipykernel_launcher.py:24: RuntimeWarning: divide by zero encountered in true_divide\n"
     ]
    },
    {
     "name": "stdout",
     "output_type": "stream",
     "text": [
      "2010-02-28 2011-02-28 2012-02-28 2013-02-28 2014-02-28 2015-02-28 2016-02-28 2017-02-28 2018-02-28 regression done !\n",
      "regression start scale[100,101]\n"
     ]
    },
    {
     "name": "stderr",
     "output_type": "stream",
     "text": [
      "/opt/conda/lib/python3.6/site-packages/ipykernel_launcher.py:132: RuntimeWarning: divide by zero encountered in double_scalars\n"
     ]
    },
    {
     "name": "stdout",
     "output_type": "stream",
     "text": [
      "2000-02-28 2001-02-28 2002-02-28 2003-02-28 2004-02-28 2005-02-28 2006-02-28 2007-02-28 2008-02-28 2009-02-28 regression done !\n",
      "regression start scale[101,102]\n",
      "2000-02-28 2001-02-28 2002-02-28 2003-02-28 2004-02-28 2005-02-28 2006-02-28 2007-02-28 2008-02-28 2009-02-28 regression done !\n",
      "regression start scale[101,102]\n",
      "2000-02-28 2001-02-28 2002-02-28 2003-02-28 2004-02-28 2005-02-28 2006-02-28 2007-02-28 2008-02-28 2009-02-28 regression done !\n",
      "2000-02-28 2001-02-28 2002-02-28 2003-02-28 2004-02-28 2005-02-28 2006-02-28 2007-02-28 2008-02-28 2009-02-28 regression start scale[102,103]\n",
      "regression start scale[102,103]\n",
      "2000-02-28 2001-02-28 2002-02-28 2003-02-28 2004-02-28 2005-02-28 2006-02-28 2007-02-28 2008-02-28 2009-02-28 regression start scale[103,104]\n"
     ]
    },
    {
     "name": "stderr",
     "output_type": "stream",
     "text": [
      "/opt/conda/lib/python3.6/site-packages/numpy/core/fromnumeric.py:2909: RuntimeWarning: Mean of empty slice.\n",
      "  out=out, **kwargs)\n",
      "/opt/conda/lib/python3.6/site-packages/numpy/core/_methods.py:80: RuntimeWarning: invalid value encountered in true_divide\n",
      "  ret = ret.dtype.type(ret / rcount)\n"
     ]
    },
    {
     "name": "stdout",
     "output_type": "stream",
     "text": [
      "2000-02-28 2001-02-28 2002-02-28 2003-02-28 2004-02-28 2005-02-28 2006-02-28 2007-02-28 2008-02-28 2009-02-28 regression done !\n",
      "regression start scale[103,104]\n",
      "2010-02-28 2011-02-28 2012-02-28 2013-02-28 2014-02-28 2015-02-28 2016-02-28 2017-02-28 2018-02-28 regression done !\n",
      "regression start scale[104,105]\n",
      "2010-02-28 2011-02-28 2012-02-28 2013-02-28 2014-02-28 2015-02-28 2016-02-28 2017-02-28 2018-02-28 regression done !\n",
      "regression start scale[104,105]\n",
      "2000-02-28 2001-02-28 2002-02-28 2003-02-28 2004-02-28 2005-02-28 2006-02-28 2007-02-28 2008-02-28 2009-02-28 regression done !\n",
      "regression start scale[105,106]\n",
      "2000-02-28 2001-02-28 2002-02-28 2003-02-28 2004-02-28 2005-02-28 2006-02-28 2007-02-28 2008-02-28 2009-02-28 regression done !\n",
      "2010-02-28 2011-02-28 2012-02-28 2013-02-28 2014-02-28 2015-02-28 2016-02-28 2017-02-28 2018-02-28 regression done !\n",
      "attempt to get argmax of an empty sequence\n",
      "attempt to get argmax of an empty sequence\n",
      "regression start scale[105,106]\n",
      "regression start scale[106,107]\n",
      "2010-02-28 2011-02-28 2012-02-28 2013-02-28 2014-02-28 2015-02-28 2016-02-28 2017-02-28 2018-02-28 regression done !\n",
      "regression start scale[106,107]\n",
      "2010-02-28 2011-02-28 2012-02-28 2013-02-28 2014-02-28 2015-02-28 2016-02-28 2017-02-28 2018-02-28 regression done !\n",
      "regression start scale[107,108]\n",
      "2010-02-28 2011-02-28 2012-02-28 2013-02-28 2014-02-28 2015-02-28 2016-02-28 2017-02-28 2018-02-28 regression done !\n",
      "regression start scale[107,108]\n",
      "2010-02-28 2011-02-28 2012-02-28 2013-02-28 2014-02-28 2015-02-28 2016-02-28 2017-02-28 2018-02-28 regression done !\n",
      "regression start scale[108,109]\n"
     ]
    },
    {
     "name": "stderr",
     "output_type": "stream",
     "text": [
      "/opt/conda/lib/python3.6/site-packages/numpy/core/fromnumeric.py:2909: RuntimeWarning: Mean of empty slice.\n",
      "  out=out, **kwargs)\n",
      "/opt/conda/lib/python3.6/site-packages/numpy/core/_methods.py:80: RuntimeWarning: invalid value encountered in true_divide\n",
      "  ret = ret.dtype.type(ret / rcount)\n"
     ]
    },
    {
     "name": "stdout",
     "output_type": "stream",
     "text": [
      "2010-02-28 2011-02-28 2012-02-28 2013-02-28 2014-02-28 2015-02-28 2016-02-28 2017-02-28 2018-02-28 regression done !\n",
      "attempt to get argmax of an empty sequence\n",
      "attempt to get argmax of an empty sequence\n",
      "2000-02-28 2001-02-28 2002-02-28 2003-02-28 2004-02-28 2005-02-28 2006-02-28 2007-02-28 2008-02-28 2009-02-28 regression done !\n",
      "regression start scale[108,109]\n",
      "regression start scale[109,110]\n",
      "2000-02-28 2001-02-28 2002-02-28 2003-02-28 2004-02-28 2005-02-28 2006-02-28 2007-02-28 2008-02-28 2009-02-28 regression start scale[109,110]\n",
      "2010-02-28 2011-02-28 2012-02-28 2013-02-28 2014-02-28 2015-02-28 2016-02-28 2017-02-28 2018-02-28 regression done !\n",
      "regression start scale[110,111]\n"
     ]
    },
    {
     "name": "stderr",
     "output_type": "stream",
     "text": [
      "/opt/conda/lib/python3.6/site-packages/numpy/core/fromnumeric.py:2909: RuntimeWarning: Mean of empty slice.\n",
      "  out=out, **kwargs)\n",
      "/opt/conda/lib/python3.6/site-packages/numpy/core/_methods.py:80: RuntimeWarning: invalid value encountered in true_divide\n",
      "  ret = ret.dtype.type(ret / rcount)\n",
      "/opt/conda/lib/python3.6/site-packages/ipykernel_launcher.py:24: RuntimeWarning: divide by zero encountered in true_divide\n"
     ]
    },
    {
     "name": "stdout",
     "output_type": "stream",
     "text": [
      "2000-02-28 2001-02-28 2002-02-28 2003-02-28 2004-02-28 2005-02-28 2006-02-28 2007-02-28 2008-02-28 2009-02-28 regression start scale[110,111]\n"
     ]
    },
    {
     "name": "stderr",
     "output_type": "stream",
     "text": [
      "/opt/conda/lib/python3.6/site-packages/ipykernel_launcher.py:132: RuntimeWarning: divide by zero encountered in double_scalars\n"
     ]
    },
    {
     "name": "stdout",
     "output_type": "stream",
     "text": [
      "2000-02-28 2001-02-28 2002-02-28 2003-02-28 2004-02-28 2005-02-28 2006-02-28 2007-02-28 2008-02-28 2009-02-28 regression done !\n",
      "regression start scale[111,112]\n",
      "2000-02-28 2001-02-28 2002-02-28 2003-02-28 2004-02-28 2005-02-28 2006-02-28 2007-02-28 2008-02-28 2009-02-28 regression done !\n",
      "regression start scale[111,112]\n"
     ]
    },
    {
     "name": "stderr",
     "output_type": "stream",
     "text": [
      "/opt/conda/lib/python3.6/site-packages/ipykernel_launcher.py:132: RuntimeWarning: divide by zero encountered in double_scalars\n"
     ]
    },
    {
     "name": "stdout",
     "output_type": "stream",
     "text": [
      "2000-02-28 2001-02-28 2002-02-28 2003-02-28 2004-02-28 2005-02-28 2006-02-28 2007-02-28 2008-02-28 2009-02-28 regression done !\n",
      "regression start scale[112,113]\n",
      "2010-02-28 2011-02-28 2012-02-28 2013-02-28 2014-02-28 2015-02-28 2016-02-28 2017-02-28 2018-02-28 regression done !\n",
      "regression start scale[112,113]\n",
      "2010-02-28 2011-02-28 2012-02-28 2013-02-28 2014-02-28 2015-02-28 2016-02-28 2017-02-28 2018-02-28 regression done !\n",
      "regression start scale[113,114]\n",
      "2010-02-28 2011-02-28 2012-02-28 2013-02-28 2014-02-28 2015-02-28 2016-02-28 2017-02-28 2018-02-28 regression done !\n",
      "regression start scale[113,114]\n",
      "2000-02-28 2001-02-28 2002-02-28 2003-02-28 2004-02-28 2005-02-28 2006-02-28 2007-02-28 2008-02-28 2009-02-28 regression done !\n",
      "regression start scale[114,115]\n",
      "2010-02-28 2011-02-28 2012-02-28 2013-02-28 2014-02-28 2015-02-28 2016-02-28 2017-02-28 2018-02-28 regression done !\n",
      "regression start scale[114,115]\n"
     ]
    },
    {
     "name": "stderr",
     "output_type": "stream",
     "text": [
      "/opt/conda/lib/python3.6/site-packages/numpy/core/fromnumeric.py:2909: RuntimeWarning: Mean of empty slice.\n",
      "  out=out, **kwargs)\n",
      "/opt/conda/lib/python3.6/site-packages/numpy/core/_methods.py:80: RuntimeWarning: invalid value encountered in true_divide\n",
      "  ret = ret.dtype.type(ret / rcount)\n",
      "/opt/conda/lib/python3.6/site-packages/ipykernel_launcher.py:24: RuntimeWarning: divide by zero encountered in true_divide\n"
     ]
    },
    {
     "name": "stdout",
     "output_type": "stream",
     "text": [
      "2000-02-28 2001-02-28 2002-02-28 2003-02-28 2004-02-28 2005-02-28 2006-02-28 2007-02-28 2008-02-28 2009-02-28 regression start scale[115,116]\n"
     ]
    },
    {
     "name": "stderr",
     "output_type": "stream",
     "text": [
      "/opt/conda/lib/python3.6/site-packages/ipykernel_launcher.py:132: RuntimeWarning: divide by zero encountered in double_scalars\n"
     ]
    },
    {
     "name": "stdout",
     "output_type": "stream",
     "text": [
      "2000-02-28 2001-02-28 2002-02-28 2003-02-28 2004-02-28 2005-02-28 2006-02-28 2007-02-28 2008-02-28 2009-02-28 regression done !\n",
      "regression start scale[115,116]\n",
      "2010-02-28 2011-02-28 2012-02-28 2013-02-28 2014-02-28 2015-02-28 2016-02-28 2017-02-28 2018-02-28 regression done !\n",
      "attempt to get argmax of an empty sequence\n",
      "attempt to get argmax of an empty sequence\n",
      "regression start scale[116,117]\n",
      "2010-02-28 2011-02-28 2012-02-28 2013-02-28 2014-02-28 2015-02-28 2016-02-28 2017-02-28 2018-02-28 regression done !\n",
      "regression start scale[116,117]\n",
      "2000-02-28 2001-02-28 2002-02-28 2003-02-28 2004-02-28 2005-02-28 2006-02-28 2007-02-28 2008-02-28 2009-02-28 regression start scale[117,118]\n",
      "2000-02-28 2001-02-28 2002-02-28 2003-02-28 2004-02-28 2005-02-28 2006-02-28 2007-02-28 2008-02-28 2009-02-28 regression done !\n",
      "regression start scale[117,118]\n",
      "2010-02-28 2011-02-28 2012-02-28 2013-02-28 2014-02-28 2015-02-28 2016-02-28 2017-02-28 2018-02-28 regression done !\n",
      "regression start scale[118,119]\n",
      "2000-02-28 2001-02-28 2002-02-28 2003-02-28 2004-02-28 2005-02-28 2006-02-28 2007-02-28 2008-02-28 2009-02-28 regression done !\n",
      "regression start scale[118,119]\n",
      "2010-02-28 2011-02-28 2012-02-28 2013-02-28 2014-02-28 2015-02-28 2016-02-28 2017-02-28 2018-02-28 regression done !\n",
      "regression start scale[119,120]\n",
      "2010-02-28 2011-02-28 2012-02-28 2013-02-28 2014-02-28 2015-02-28 2016-02-28 2017-02-28 2018-02-28 regression done !\n",
      "regression start scale[119,120]\n",
      "2010-02-28 2011-02-28 2012-02-28 2013-02-28 2014-02-28 2015-02-28 2016-02-28 2017-02-28 2018-02-28 regression done !\n",
      "2000-02-28 2001-02-28 2002-02-28 2003-02-28 2004-02-28 2005-02-28 2006-02-28 2007-02-28 2008-02-28 2009-02-28 regression done !\n",
      "regression start scale[120,121]\n",
      "regression start scale[120,121]\n",
      "2000-02-28 2001-02-28 2002-02-28 2003-02-28 2004-02-28 2005-02-28 2006-02-28 2007-02-28 2008-02-28 2009-02-28 regression done !\n",
      "regression start scale[121,122]\n",
      "2010-02-28 2011-02-28 2012-02-28 2013-02-28 2014-02-28 2015-02-28 2016-02-28 2017-02-28 2018-02-28 regression done !\n",
      "regression start scale[121,122]\n",
      "2010-02-28 2011-02-28 2012-02-28 2013-02-28 2014-02-28 2015-02-28 2016-02-28 2017-02-28 2018-02-28 regression done !\n"
     ]
    },
    {
     "name": "stderr",
     "output_type": "stream",
     "text": [
      "/opt/conda/lib/python3.6/site-packages/numpy/core/fromnumeric.py:2909: RuntimeWarning: Mean of empty slice.\n",
      "  out=out, **kwargs)\n",
      "/opt/conda/lib/python3.6/site-packages/numpy/core/_methods.py:80: RuntimeWarning: invalid value encountered in true_divide\n",
      "  ret = ret.dtype.type(ret / rcount)\n"
     ]
    },
    {
     "name": "stdout",
     "output_type": "stream",
     "text": [
      "regression start scale[122,123]\n",
      "2010-02-28 2011-02-28 2012-02-28 2013-02-28 2014-02-28 2015-02-28 2016-02-28 2017-02-28 2018-02-28 regression done !\n",
      "regression start scale[122,123]\n",
      "2000-02-28 2001-02-28 2002-02-28 2003-02-28 2004-02-28 2005-02-28 2006-02-28 2007-02-28 2008-02-28 2009-02-28 regression start scale[123,124]\n",
      "2000-02-28 2001-02-28 2002-02-28 2003-02-28 2004-02-28 2005-02-28 2006-02-28 2007-02-28 2008-02-28 2009-02-28 regression start scale[123,124]\n",
      "2000-02-28 2001-02-28 2002-02-28 2003-02-28 2004-02-28 2005-02-28 2006-02-28 2007-02-28 2008-02-28 2009-02-28 regression done !\n"
     ]
    },
    {
     "name": "stderr",
     "output_type": "stream",
     "text": [
      "/opt/conda/lib/python3.6/site-packages/numpy/core/fromnumeric.py:2909: RuntimeWarning: Mean of empty slice.\n",
      "  out=out, **kwargs)\n",
      "/opt/conda/lib/python3.6/site-packages/numpy/core/_methods.py:80: RuntimeWarning: invalid value encountered in true_divide\n",
      "  ret = ret.dtype.type(ret / rcount)\n",
      "/opt/conda/lib/python3.6/site-packages/ipykernel_launcher.py:24: RuntimeWarning: divide by zero encountered in true_divide\n"
     ]
    },
    {
     "name": "stdout",
     "output_type": "stream",
     "text": [
      "regression start scale[124,125]\n",
      "2000-02-28 2001-02-28 2002-02-28 2003-02-28 2004-02-28 2005-02-28 2006-02-28 2007-02-28 2008-02-28 2009-02-28 regression done !\n"
     ]
    },
    {
     "name": "stderr",
     "output_type": "stream",
     "text": [
      "/opt/conda/lib/python3.6/site-packages/ipykernel_launcher.py:132: RuntimeWarning: divide by zero encountered in double_scalars\n"
     ]
    },
    {
     "name": "stdout",
     "output_type": "stream",
     "text": [
      "2000-02-28 2001-02-28 2002-02-28 2003-02-28 2004-02-28 2005-02-28 2006-02-28 2007-02-28 2008-02-28 2009-02-28 regression done !\n",
      "regression start scale[124,125]\n",
      "regression start scale[125,126]\n",
      "2010-02-28 2011-02-28 2012-02-28 2013-02-28 2014-02-28 2015-02-28 2016-02-28 2017-02-28 2018-02-28 regression done !\n",
      "2010-02-28 2011-02-28 2012-02-28 2013-02-28 2014-02-28 2015-02-28 2016-02-28 2017-02-28 2018-02-28 regression done !\n",
      "attempt to get argmax of an empty sequence\n",
      "attempt to get argmax of an empty sequence\n",
      "2010-02-28 2011-02-28 2012-02-28 2013-02-28 2014-02-28 2015-02-28 2016-02-28 2017-02-28 2018-02-28 regression done !\n",
      "regression start scale[125,126]\n",
      "regression start scale[126,127]\n",
      "regression start scale[126,127]\n",
      "2000-02-28 2001-02-28 2002-02-28 2003-02-28 2004-02-28 2005-02-28 2006-02-28 2007-02-28 2008-02-28 2009-02-28 regression done !\n",
      "regression start scale[127,128]\n",
      "2010-02-28 2011-02-28 2012-02-28 2013-02-28 2014-02-28 2015-02-28 2016-02-28 2017-02-28 2018-02-28 regression done !\n",
      "regression start scale[127,128]\n"
     ]
    },
    {
     "name": "stderr",
     "output_type": "stream",
     "text": [
      "/opt/conda/lib/python3.6/site-packages/numpy/core/fromnumeric.py:2909: RuntimeWarning: Mean of empty slice.\n",
      "  out=out, **kwargs)\n",
      "/opt/conda/lib/python3.6/site-packages/numpy/core/_methods.py:80: RuntimeWarning: invalid value encountered in true_divide\n",
      "  ret = ret.dtype.type(ret / rcount)\n"
     ]
    },
    {
     "name": "stdout",
     "output_type": "stream",
     "text": [
      "2000-02-28 2001-02-28 2002-02-28 2003-02-28 2004-02-28 2005-02-28 2006-02-28 2007-02-28 2008-02-28 2009-02-28 regression done !\n",
      "regression start scale[128,129]\n",
      "2010-02-28 2011-02-28 2012-02-28 2013-02-28 2014-02-28 2015-02-28 2016-02-28 2017-02-28 2018-02-28 regression done !\n",
      "regression start scale[128,129]\n",
      "2010-02-28 2011-02-28 2012-02-28 2013-02-28 2014-02-28 2015-02-28 2016-02-28 2017-02-28 2018-02-28 regression done !\n",
      "regression start scale[129,130]\n",
      "2010-02-28 2011-02-28 2012-02-28 2013-02-28 2014-02-28 2015-02-28 2016-02-28 2017-02-28 2018-02-28 regression done !\n",
      "regression start scale[129,130]\n",
      "2010-02-28 2011-02-28 2012-02-28 2013-02-28 2014-02-28 2015-02-28 2016-02-28 2017-02-28 2018-02-28 regression done !\n",
      "2000-02-28 2001-02-28 2002-02-28 2003-02-28 2004-02-28 2005-02-28 2006-02-28 2007-02-28 2008-02-28 2009-02-28 regression start scale[130,131]\n",
      "regression start scale[130,131]\n",
      "2000-02-28 2001-02-28 2002-02-28 2003-02-28 2004-02-28 2005-02-28 2006-02-28 2007-02-28 2008-02-28 2009-02-28 regression start scale[131,132]\n",
      "2000-02-28 2001-02-28 2002-02-28 2003-02-28 2004-02-28 2005-02-28 2006-02-28 2007-02-28 2008-02-28 2009-02-28 regression start scale[131,132]\n",
      "2000-02-28 2001-02-28 2002-02-28 2003-02-28 2004-02-28 2005-02-28 2006-02-28 2007-02-28 2008-02-28 2009-02-28 regression done !\n",
      "attempt to get argmax of an empty sequence\n",
      "attempt to get argmax of an empty sequence\n",
      "regression start scale[132,133]\n",
      "2010-02-28 2011-02-28 2012-02-28 2013-02-28 2014-02-28 2015-02-28 2016-02-28 2017-02-28 2018-02-28 regression done !\n",
      "regression start scale[132,133]\n",
      "2000-02-28 2001-02-28 2002-02-28 2003-02-28 2004-02-28 2005-02-28 2006-02-28 2007-02-28 2008-02-28 2009-02-28 regression done !\n",
      "regression start scale[133,134]\n",
      "2010-02-28 2011-02-28 2012-02-28 2013-02-28 2014-02-28 2015-02-28 2016-02-28 2017-02-28 2018-02-28 regression done !\n",
      "regression start scale[133,134]\n",
      "2000-02-28 2001-02-28 2002-02-28 2003-02-28 2004-02-28 2005-02-28 2006-02-28 2007-02-28 2008-02-28 2009-02-28 regression done !\n",
      "regression start scale[134,135]\n",
      "2010-02-28 2011-02-28 2012-02-28 2013-02-28 2014-02-28 2015-02-28 2016-02-28 2017-02-28 2018-02-28 regression done !\n",
      "regression start scale[134,135]\n",
      "2010-02-28 2011-02-28 2012-02-28 2013-02-28 2014-02-28 2015-02-28 2016-02-28 2017-02-28 2018-02-28 regression done !\n",
      "regression start scale[135,136]\n",
      "2010-02-28 2011-02-28 2012-02-28 2013-02-28 2014-02-28 2015-02-28 2016-02-28 2017-02-28 2018-02-28 regression done !\n",
      "regression start scale[135,136]\n",
      "2000-02-28 2001-02-28 2002-02-28 2003-02-28 2004-02-28 2005-02-28 2006-02-28 2007-02-28 2008-02-28 2009-02-28 regression done !\n",
      "attempt to get argmax of an empty sequence\n",
      "attempt to get argmax of an empty sequence\n",
      "attempt to get argmax of an empty sequence\n",
      "regression start scale[136,137]\n",
      "2010-02-28 2011-02-28 2012-02-28 2013-02-28 2014-02-28 2015-02-28 2016-02-28 2017-02-28 2018-02-28 regression done !\n",
      "regression start scale[136,137]\n"
     ]
    },
    {
     "name": "stderr",
     "output_type": "stream",
     "text": [
      "/opt/conda/lib/python3.6/site-packages/ipykernel_launcher.py:24: RuntimeWarning: divide by zero encountered in true_divide\n",
      "/opt/conda/lib/python3.6/site-packages/ipykernel_launcher.py:132: RuntimeWarning: divide by zero encountered in double_scalars\n"
     ]
    },
    {
     "name": "stdout",
     "output_type": "stream",
     "text": [
      "2000-02-28 2001-02-28 2002-02-28 2003-02-28 2004-02-28 2005-02-28 2006-02-28 2007-02-28 2008-02-28 2009-02-28 regression done !\n",
      "regression start scale[137,138]\n",
      "2000-02-28 2001-02-28 2002-02-28 2003-02-28 2004-02-28 2005-02-28 2006-02-28 2007-02-28 2008-02-28 2009-02-28 regression start scale[137,138]\n",
      "2000-02-28 2001-02-28 2002-02-28 2003-02-28 2004-02-28 2005-02-28 2006-02-28 2007-02-28 2008-02-28 2009-02-28 regression start scale[138,139]\n",
      "2010-02-28 2011-02-28 2012-02-28 2013-02-28 2014-02-28 2015-02-28 2016-02-28 2017-02-28 2018-02-28 regression done !\n",
      "regression start scale[138,139]\n",
      "2000-02-28 2001-02-28 2002-02-28 2003-02-28 2004-02-28 2005-02-28 2006-02-28 2007-02-28 2008-02-28 2009-02-28 regression done !\n",
      "regression start scale[139,140]\n",
      "2000-02-28 2001-02-28 2002-02-28 2003-02-28 2004-02-28 2005-02-28 2006-02-28 2007-02-28 2008-02-28 2009-02-28 regression done !\n",
      "regression start scale[139,140]\n",
      "2000-02-28 2001-02-28 2002-02-28 2003-02-28 2004-02-28 2005-02-28 2006-02-28 2007-02-28 2008-02-28 2009-02-28 regression done !\n",
      "regression start scale[140,141]\n",
      "2010-02-28 2011-02-28 2012-02-28 2013-02-28 2014-02-28 2015-02-28 2016-02-28 2017-02-28 2018-02-28 regression done !\n",
      "regression start scale[140,141]\n",
      "2000-02-28 2001-02-28 2002-02-28 2003-02-28 2004-02-28 2005-02-28 2006-02-28 2007-02-28 2008-02-28 2009-02-28 regression done !\n",
      "regression start scale[141,142]\n",
      "2010-02-28 2011-02-28 2012-02-28 2013-02-28 2014-02-28 2015-02-28 2016-02-28 2017-02-28 2018-02-28 regression done !\n",
      "2010-02-28 2011-02-28 2012-02-28 2013-02-28 2014-02-28 2015-02-28 2016-02-28 2017-02-28 2018-02-28 regression done !\n",
      "regression start scale[141,142]\n",
      "regression start scale[142,143]\n",
      "2010-02-28 2011-02-28 2012-02-28 2013-02-28 2014-02-28 2015-02-28 2016-02-28 2017-02-28 2018-02-28 regression done !\n",
      "regression start scale[142,143]\n",
      "2010-02-28 2011-02-28 2012-02-28 2013-02-28 2014-02-28 2015-02-28 2016-02-28 2017-02-28 2018-02-28 regression done !\n",
      "attempt to get argmax of an empty sequence\n",
      "attempt to get argmax of an empty sequence\n",
      "regression start scale[143,144]\n"
     ]
    },
    {
     "name": "stderr",
     "output_type": "stream",
     "text": [
      "/opt/conda/lib/python3.6/site-packages/numpy/core/fromnumeric.py:2909: RuntimeWarning: Mean of empty slice.\n",
      "  out=out, **kwargs)\n",
      "/opt/conda/lib/python3.6/site-packages/numpy/core/_methods.py:80: RuntimeWarning: invalid value encountered in true_divide\n",
      "  ret = ret.dtype.type(ret / rcount)\n"
     ]
    },
    {
     "name": "stdout",
     "output_type": "stream",
     "text": [
      "2010-02-28 2011-02-28 2012-02-28 2013-02-28 2014-02-28 2015-02-28 2016-02-28 2017-02-28 2018-02-28 regression done !\n",
      "regression start scale[143,144]\n",
      "2000-02-28 2001-02-28 2002-02-28 2003-02-28 2004-02-28 2005-02-28 2006-02-28 2007-02-28 2008-02-28 2009-02-28 regression start scale[144,145]\n"
     ]
    },
    {
     "name": "stderr",
     "output_type": "stream",
     "text": [
      "/opt/conda/lib/python3.6/site-packages/numpy/core/fromnumeric.py:2909: RuntimeWarning: Mean of empty slice.\n",
      "  out=out, **kwargs)\n",
      "/opt/conda/lib/python3.6/site-packages/numpy/core/_methods.py:80: RuntimeWarning: invalid value encountered in true_divide\n",
      "  ret = ret.dtype.type(ret / rcount)\n",
      "/opt/conda/lib/python3.6/site-packages/ipykernel_launcher.py:24: RuntimeWarning: divide by zero encountered in true_divide\n",
      "/opt/conda/lib/python3.6/site-packages/ipykernel_launcher.py:132: RuntimeWarning: divide by zero encountered in double_scalars\n"
     ]
    },
    {
     "name": "stdout",
     "output_type": "stream",
     "text": [
      "2000-02-28 2001-02-28 2002-02-28 2003-02-28 2004-02-28 2005-02-28 2006-02-28 2007-02-28 2008-02-28 2009-02-28 regression done !\n",
      "regression start scale[144,145]\n",
      "2000-02-28 2001-02-28 2002-02-28 2003-02-28 2004-02-28 2005-02-28 2006-02-28 2007-02-28 2008-02-28 2009-02-28 regression start scale[145,146]\n",
      "2010-02-28 2011-02-28 2012-02-28 2013-02-28 2014-02-28 2015-02-28 2016-02-28 2017-02-28 2018-02-28 regression done !\n",
      "2000-02-28 2001-02-28 2002-02-28 2003-02-28 2004-02-28 2005-02-28 2006-02-28 2007-02-28 2008-02-28 2009-02-28 regression done !\n",
      "regression start scale[145,146]\n",
      "regression start scale[146,147]\n",
      "2000-02-28 2001-02-28 2002-02-28 2003-02-28 2004-02-28 2005-02-28 2006-02-28 2007-02-28 2008-02-28 2009-02-28 regression done !\n",
      "regression start scale[146,147]\n"
     ]
    },
    {
     "name": "stderr",
     "output_type": "stream",
     "text": [
      "/opt/conda/lib/python3.6/site-packages/numpy/core/fromnumeric.py:2909: RuntimeWarning: Mean of empty slice.\n",
      "  out=out, **kwargs)\n",
      "/opt/conda/lib/python3.6/site-packages/numpy/core/_methods.py:80: RuntimeWarning: invalid value encountered in true_divide\n",
      "  ret = ret.dtype.type(ret / rcount)\n"
     ]
    },
    {
     "name": "stdout",
     "output_type": "stream",
     "text": [
      "2010-02-28 2011-02-28 2012-02-28 2013-02-28 2014-02-28 2015-02-28 2016-02-28 2017-02-28 2018-02-28 regression done !\n"
     ]
    },
    {
     "name": "stderr",
     "output_type": "stream",
     "text": [
      "/opt/conda/lib/python3.6/site-packages/numpy/core/fromnumeric.py:2909: RuntimeWarning: Mean of empty slice.\n",
      "  out=out, **kwargs)\n",
      "/opt/conda/lib/python3.6/site-packages/numpy/core/_methods.py:80: RuntimeWarning: invalid value encountered in true_divide\n",
      "  ret = ret.dtype.type(ret / rcount)\n"
     ]
    },
    {
     "name": "stdout",
     "output_type": "stream",
     "text": [
      "regression start scale[147,148]\n",
      "2010-02-28 2011-02-28 2012-02-28 2013-02-28 2014-02-28 2015-02-28 2016-02-28 2017-02-28 2018-02-28 regression done !\n",
      "regression start scale[147,148]\n",
      "2000-02-28 2001-02-28 2002-02-28 2003-02-28 2004-02-28 2005-02-28 2006-02-28 2007-02-28 2008-02-28 2009-02-28 regression done !\n",
      "regression start scale[148,149]\n",
      "2010-02-28 2011-02-28 2012-02-28 2013-02-28 2014-02-28 2015-02-28 2016-02-28 2017-02-28 2018-02-28 regression done !\n",
      "regression start scale[148,149]\n",
      "2010-02-28 2011-02-28 2012-02-28 2013-02-28 2014-02-28 2015-02-28 2016-02-28 2017-02-28 2018-02-28 regression done !\n",
      "regression start scale[149,150]\n",
      "2010-02-28 2011-02-28 2012-02-28 2013-02-28 2014-02-28 2015-02-28 2016-02-28 2017-02-28 2018-02-28 regression done !\n",
      "regression start scale[149,150]\n",
      "2010-02-28 2011-02-28 2012-02-28 2013-02-28 2014-02-28 2015-02-28 2016-02-28 2017-02-28 2018-02-28 regression done !\n",
      "regression start scale[150,151]\n",
      "2000-02-28 2001-02-28 2002-02-28 2003-02-28 2004-02-28 2005-02-28 2006-02-28 2007-02-28 2008-02-28 2009-02-28 regression start scale[150,151]\n",
      "2000-02-28 2001-02-28 2002-02-28 2003-02-28 2004-02-28 2005-02-28 2006-02-28 2007-02-28 2008-02-28 2009-02-28 regression start scale[151,152]\n",
      "2000-02-28 2001-02-28 2002-02-28 2003-02-28 2004-02-28 2005-02-28 2006-02-28 2007-02-28 2008-02-28 2009-02-28 regression start scale[151,152]\n",
      "2000-02-28 2001-02-28 2002-02-28 2003-02-28 2004-02-28 2005-02-28 2006-02-28 2007-02-28 2008-02-28 2009-02-28 regression done !\n",
      "attempt to get argmax of an empty sequence\n",
      "attempt to get argmax of an empty sequence\n",
      "regression start scale[152,153]\n",
      "2000-02-28 2001-02-28 2002-02-28 2003-02-28 2004-02-28 2005-02-28 2006-02-28 2007-02-28 2008-02-28 2009-02-28 regression done !\n",
      "regression start scale[152,153]\n",
      "2010-02-28 2011-02-28 2012-02-28 2013-02-28 2014-02-28 2015-02-28 2016-02-28 2017-02-28 2018-02-28 regression done !\n",
      "regression start scale[153,154]\n",
      "2000-02-28 2001-02-28 2002-02-28 2003-02-28 2004-02-28 2005-02-28 2006-02-28 2007-02-28 2008-02-28 2009-02-28 regression done !\n",
      "regression start scale[153,154]\n",
      "2010-02-28 2011-02-28 2012-02-28 2013-02-28 2014-02-28 2015-02-28 2016-02-28 2017-02-28 2018-02-28 regression done !\n",
      "2010-02-28 2011-02-28 2012-02-28 2013-02-28 2014-02-28 2015-02-28 2016-02-28 2017-02-28 2018-02-28 regression done !\n",
      "regression start scale[154,155]\n",
      "regression start scale[154,155]\n",
      "2000-02-28 2001-02-28 2002-02-28 2003-02-28 2004-02-28 2005-02-28 2006-02-28 2007-02-28 2008-02-28 2009-02-28 regression done !\n",
      "regression start scale[155,156]\n",
      "2000-02-28 2001-02-28 2002-02-28 2003-02-28 2004-02-28 2005-02-28 2006-02-28 2007-02-28 2008-02-28 2009-02-28 regression done !\n",
      "2010-02-28 2011-02-28 2012-02-28 2013-02-28 2014-02-28 2015-02-28 2016-02-28 2017-02-28 2018-02-28 regression done !\n",
      "regression start scale[155,156]\n",
      "regression start scale[156,157]\n",
      "2010-02-28 2011-02-28 2012-02-28 2013-02-28 2014-02-28 2015-02-28 2016-02-28 2017-02-28 2018-02-28 regression done !\n",
      "2010-02-28 2011-02-28 2012-02-28 2013-02-28 2014-02-28 2015-02-28 2016-02-28 2017-02-28 2018-02-28 regression done !\n",
      "regression start scale[157,158]\n",
      "regression start scale[156,157]\n",
      "2000-02-28 2001-02-28 2002-02-28 2003-02-28 2004-02-28 2005-02-28 2006-02-28 2007-02-28 2008-02-28 2009-02-28 regression start scale[157,158]\n",
      "2010-02-28 2011-02-28 2012-02-28 2013-02-28 2014-02-28 2015-02-28 2016-02-28 2017-02-28 2018-02-28 regression done !\n",
      "attempt to get argmax of an empty sequence\n",
      "attempt to get argmax of an empty sequence\n",
      "attempt to get argmax of an empty sequence\n",
      "regression start scale[158,159]\n",
      "2000-02-28 2001-02-28 2002-02-28 2003-02-28 2004-02-28 2005-02-28 2006-02-28 2007-02-28 2008-02-28 2009-02-28 regression start scale[158,159]\n",
      "2000-02-28 2001-02-28 2002-02-28 2003-02-28 2004-02-28 2005-02-28 2006-02-28 2007-02-28 2008-02-28 2009-02-28 regression done !\n",
      "2010-02-28 2011-02-28 2012-02-28 2013-02-28 2014-02-28 2015-02-28 2016-02-28 2017-02-28 2018-02-28 regression done !\n",
      "regression start scale[159,160]\n",
      "regression start scale[159,160]\n",
      "2000-02-28 2001-02-28 2002-02-28 2003-02-28 2004-02-28 2005-02-28 2006-02-28 2007-02-28 2008-02-28 2009-02-28 regression done !\n",
      "regression start scale[160,161]\n",
      "2000-02-28 2001-02-28 2002-02-28 2003-02-28 2004-02-28 2005-02-28 2006-02-28 2007-02-28 2008-02-28 2009-02-28 regression start scale[160,161]\n",
      "2000-02-28 2001-02-28 2002-02-28 2003-02-28 2004-02-28 2005-02-28 2006-02-28 2007-02-28 2008-02-28 2009-02-28 regression done !\n",
      "regression start scale[161,162]\n",
      "2010-02-28 2011-02-28 2012-02-28 2013-02-28 2014-02-28 2015-02-28 2016-02-28 2017-02-28 2018-02-28 regression done !\n",
      "regression start scale[161,162]\n",
      "2010-02-28 2011-02-28 2012-02-28 2013-02-28 2014-02-28 2015-02-28 2016-02-28 2017-02-28 2018-02-28 regression done !\n",
      "regression start scale[162,163]\n",
      "2010-02-28 2011-02-28 2012-02-28 2013-02-28 2014-02-28 2015-02-28 2016-02-28 2017-02-28 2018-02-28 regression start scale[162,163]\n",
      "2010-02-28 2011-02-28 2012-02-28 2013-02-28 2014-02-28 2015-02-28 2016-02-28 2017-02-28 2018-02-28 regression done !\n",
      "regression start scale[163,164]\n"
     ]
    },
    {
     "name": "stderr",
     "output_type": "stream",
     "text": [
      "/opt/conda/lib/python3.6/site-packages/numpy/core/fromnumeric.py:2909: RuntimeWarning: Mean of empty slice.\n",
      "  out=out, **kwargs)\n",
      "/opt/conda/lib/python3.6/site-packages/numpy/core/_methods.py:80: RuntimeWarning: invalid value encountered in true_divide\n",
      "  ret = ret.dtype.type(ret / rcount)\n",
      "/opt/conda/lib/python3.6/site-packages/ipykernel_launcher.py:24: RuntimeWarning: divide by zero encountered in true_divide\n"
     ]
    },
    {
     "name": "stdout",
     "output_type": "stream",
     "text": [
      "2010-02-28 2011-02-28 2012-02-28 2013-02-28 2014-02-28 2015-02-28 2016-02-28 2017-02-28 2018-02-28 regression done !\n",
      "regression start scale[163,164]\n"
     ]
    },
    {
     "name": "stderr",
     "output_type": "stream",
     "text": [
      "/opt/conda/lib/python3.6/site-packages/ipykernel_launcher.py:132: RuntimeWarning: divide by zero encountered in double_scalars\n"
     ]
    },
    {
     "name": "stdout",
     "output_type": "stream",
     "text": [
      "2000-02-28 2001-02-28 2002-02-28 2003-02-28 2004-02-28 2005-02-28 2006-02-28 2007-02-28 2008-02-28 2009-02-28 regression done !\n",
      "regression start scale[164,165]\n",
      "2000-02-28 2001-02-28 2002-02-28 2003-02-28 2004-02-28 2005-02-28 2006-02-28 2007-02-28 2008-02-28 2009-02-28 regression start scale[164,165]\n",
      "2000-02-28 2001-02-28 2002-02-28 2003-02-28 2004-02-28 2005-02-28 2006-02-28 2007-02-28 2008-02-28 2009-02-28 regression done !\n",
      "attempt to get argmax of an empty sequence\n",
      "regression start scale[165,166]\n"
     ]
    },
    {
     "name": "stderr",
     "output_type": "stream",
     "text": [
      "/opt/conda/lib/python3.6/site-packages/numpy/core/fromnumeric.py:2909: RuntimeWarning: Mean of empty slice.\n",
      "  out=out, **kwargs)\n",
      "/opt/conda/lib/python3.6/site-packages/numpy/core/_methods.py:80: RuntimeWarning: invalid value encountered in true_divide\n",
      "  ret = ret.dtype.type(ret / rcount)\n"
     ]
    },
    {
     "name": "stdout",
     "output_type": "stream",
     "text": [
      "2010-02-28 2011-02-28 2012-02-28 2013-02-28 2014-02-28 2015-02-28 2016-02-28 2017-02-28 2018-02-28 regression done !\n",
      "attempt to get argmax of an empty sequence\n",
      "attempt to get argmax of an empty sequence\n",
      "attempt to get argmax of an empty sequence\n",
      "regression start scale[165,166]\n",
      "2010-02-28 2011-02-28 2012-02-28 2013-02-28 2014-02-28 2015-02-28 2016-02-28 2017-02-28 2018-02-28 regression done !\n",
      "2000-02-28 2001-02-28 2002-02-28 2003-02-28 2004-02-28 2005-02-28 2006-02-28 2007-02-28 2008-02-28 2009-02-28 regression start scale[166,167]\n",
      "regression start scale[166,167]\n",
      "2010-02-28 2011-02-28 2012-02-28 2013-02-28 2014-02-28 2015-02-28 2016-02-28 2017-02-28 2018-02-28 regression done !\n",
      "regression start scale[167,168]\n"
     ]
    },
    {
     "name": "stderr",
     "output_type": "stream",
     "text": [
      "/opt/conda/lib/python3.6/site-packages/numpy/core/fromnumeric.py:2909: RuntimeWarning: Mean of empty slice.\n",
      "  out=out, **kwargs)\n",
      "/opt/conda/lib/python3.6/site-packages/numpy/core/_methods.py:80: RuntimeWarning: invalid value encountered in true_divide\n",
      "  ret = ret.dtype.type(ret / rcount)\n"
     ]
    },
    {
     "name": "stdout",
     "output_type": "stream",
     "text": [
      "2000-02-28 2001-02-28 2002-02-28 2003-02-28 2004-02-28 2005-02-28 2006-02-28 2007-02-28 2008-02-28 2009-02-28 regression done !\n",
      "regression start scale[167,168]\n",
      "2000-02-28 2001-02-28 2002-02-28 2003-02-28 2004-02-28 2005-02-28 2006-02-28 2007-02-28 2008-02-28 2009-02-28 regression done !\n",
      "regression start scale[168,169]\n"
     ]
    },
    {
     "name": "stderr",
     "output_type": "stream",
     "text": [
      "/opt/conda/lib/python3.6/site-packages/numpy/core/fromnumeric.py:2909: RuntimeWarning: Mean of empty slice.\n",
      "  out=out, **kwargs)\n",
      "/opt/conda/lib/python3.6/site-packages/numpy/core/_methods.py:80: RuntimeWarning: invalid value encountered in true_divide\n",
      "  ret = ret.dtype.type(ret / rcount)\n"
     ]
    },
    {
     "name": "stdout",
     "output_type": "stream",
     "text": [
      "2000-02-28 2001-02-28 2002-02-28 2003-02-28 2004-02-28 2005-02-28 2006-02-28 2007-02-28 2008-02-28 2009-02-28 regression done !\n",
      "regression start scale[168,169]\n",
      "2000-02-28 2001-02-28 2002-02-28 2003-02-28 2004-02-28 2005-02-28 2006-02-28 2007-02-28 2008-02-28 2009-02-28 regression done !\n",
      "2010-02-28 2011-02-28 2012-02-28 2013-02-28 2014-02-28 2015-02-28 2016-02-28 2017-02-28 2018-02-28 regression done !\n",
      "regression start scale[169,170]\n",
      "regression start scale[169,170]\n",
      "2010-02-28 2011-02-28 2012-02-28 2013-02-28 2014-02-28 2015-02-28 2016-02-28 2017-02-28 2018-02-28 regression done !\n",
      "regression start scale[170,171]\n",
      "2010-02-28 2011-02-28 2012-02-28 2013-02-28 2014-02-28 2015-02-28 2016-02-28 2017-02-28 2018-02-28 regression done !\n",
      "regression start scale[170,171]\n",
      "2010-02-28 2011-02-28 2012-02-28 2013-02-28 2014-02-28 2015-02-28 2016-02-28 2017-02-28 2018-02-28 regression done !\n",
      "regression start scale[171,172]\n",
      "2010-02-28 2011-02-28 2012-02-28 2013-02-28 2014-02-28 2015-02-28 2016-02-28 2017-02-28 2018-02-28 regression done !\n",
      "attempt to get argmax of an empty sequence\n",
      "attempt to get argmax of an empty sequence\n",
      "regression start scale[171,172]\n"
     ]
    },
    {
     "name": "stderr",
     "output_type": "stream",
     "text": [
      "/opt/conda/lib/python3.6/site-packages/numpy/core/fromnumeric.py:2909: RuntimeWarning: Mean of empty slice.\n",
      "  out=out, **kwargs)\n",
      "/opt/conda/lib/python3.6/site-packages/numpy/core/_methods.py:80: RuntimeWarning: invalid value encountered in true_divide\n",
      "  ret = ret.dtype.type(ret / rcount)\n",
      "/opt/conda/lib/python3.6/site-packages/ipykernel_launcher.py:24: RuntimeWarning: divide by zero encountered in true_divide\n",
      "/opt/conda/lib/python3.6/site-packages/ipykernel_launcher.py:132: RuntimeWarning: divide by zero encountered in double_scalars\n"
     ]
    },
    {
     "name": "stdout",
     "output_type": "stream",
     "text": [
      "2000-02-28 2001-02-28 2002-02-28 2003-02-28 2004-02-28 2005-02-28 2006-02-28 2007-02-28 2008-02-28 2009-02-28 regression done !\n",
      "regression start scale[172,173]\n",
      "2000-02-28 2001-02-28 2002-02-28 2003-02-28 2004-02-28 2005-02-28 2006-02-28 2007-02-28 2008-02-28 2009-02-28 regression start scale[172,173]\n"
     ]
    },
    {
     "name": "stderr",
     "output_type": "stream",
     "text": [
      "/opt/conda/lib/python3.6/site-packages/numpy/core/fromnumeric.py:2909: RuntimeWarning: Mean of empty slice.\n",
      "  out=out, **kwargs)\n",
      "/opt/conda/lib/python3.6/site-packages/numpy/core/_methods.py:80: RuntimeWarning: invalid value encountered in true_divide\n",
      "  ret = ret.dtype.type(ret / rcount)\n"
     ]
    },
    {
     "name": "stdout",
     "output_type": "stream",
     "text": [
      "2000-02-28 2001-02-28 2002-02-28 2003-02-28 2004-02-28 2005-02-28 2006-02-28 2007-02-28 2008-02-28 2009-02-28 regression start scale[173,174]\n",
      "2010-02-28 2011-02-28 2012-02-28 2013-02-28 2014-02-28 2015-02-28 2016-02-28 2017-02-28 2018-02-28 regression done !\n",
      "regression start scale[173,174]\n",
      "2010-02-28 2011-02-28 2012-02-28 2013-02-28 2014-02-28 2015-02-28 2016-02-28 2017-02-28 2018-02-28 regression done !\n",
      "regression start scale[174,175]\n",
      "2010-02-28 2011-02-28 2012-02-28 2013-02-28 2014-02-28 2015-02-28 2016-02-28 2017-02-28 2018-02-28 regression done !\n",
      "regression start scale[174,175]\n",
      "2000-02-28 2001-02-28 2002-02-28 2003-02-28 2004-02-28 2005-02-28 2006-02-28 2007-02-28 2008-02-28 2009-02-28 regression done !\n",
      "2000-02-28 2001-02-28 2002-02-28 2003-02-28 2004-02-28 2005-02-28 2006-02-28 2007-02-28 2008-02-28 2009-02-28 regression done !\n",
      "regression start scale[175,176]\n",
      "regression start scale[175,176]\n",
      "2000-02-28 2001-02-28 2002-02-28 2003-02-28 2004-02-28 2005-02-28 2006-02-28 2007-02-28 2008-02-28 2009-02-28 regression done !\n",
      "regression start scale[176,177]\n",
      "2000-02-28 2001-02-28 2002-02-28 2003-02-28 2004-02-28 2005-02-28 2006-02-28 2007-02-28 2008-02-28 2009-02-28 regression done !\n",
      "regression start scale[176,177]\n",
      "2010-02-28 2011-02-28 2012-02-28 2013-02-28 2014-02-28 2015-02-28 2016-02-28 2017-02-28 2018-02-28 regression done !\n",
      "2010-02-28 2011-02-28 2012-02-28 2013-02-28 2014-02-28 2015-02-28 2016-02-28 2017-02-28 2018-02-28 regression done !\n",
      "regression start scale[177,178]\n",
      "regression start scale[177,178]\n",
      "2010-02-28 2011-02-28 2012-02-28 2013-02-28 2014-02-28 2015-02-28 2016-02-28 2017-02-28 2018-02-28 regression done !\n",
      "regression start scale[178,179]\n"
     ]
    },
    {
     "name": "stderr",
     "output_type": "stream",
     "text": [
      "/opt/conda/lib/python3.6/site-packages/numpy/core/fromnumeric.py:2909: RuntimeWarning: Mean of empty slice.\n",
      "  out=out, **kwargs)\n",
      "/opt/conda/lib/python3.6/site-packages/numpy/core/_methods.py:80: RuntimeWarning: invalid value encountered in true_divide\n",
      "  ret = ret.dtype.type(ret / rcount)\n"
     ]
    },
    {
     "name": "stdout",
     "output_type": "stream",
     "text": [
      "2010-02-28 2011-02-28 2012-02-28 2013-02-28 2014-02-28 2015-02-28 2016-02-28 2017-02-28 2018-02-28 regression done !\n",
      "regression start scale[178,179]\n"
     ]
    },
    {
     "name": "stderr",
     "output_type": "stream",
     "text": [
      "/opt/conda/lib/python3.6/site-packages/numpy/core/fromnumeric.py:2909: RuntimeWarning: Mean of empty slice.\n",
      "  out=out, **kwargs)\n",
      "/opt/conda/lib/python3.6/site-packages/numpy/core/_methods.py:80: RuntimeWarning: invalid value encountered in true_divide\n",
      "  ret = ret.dtype.type(ret / rcount)\n",
      "/opt/conda/lib/python3.6/site-packages/ipykernel_launcher.py:24: RuntimeWarning: divide by zero encountered in true_divide\n",
      "/opt/conda/lib/python3.6/site-packages/ipykernel_launcher.py:132: RuntimeWarning: divide by zero encountered in double_scalars\n"
     ]
    },
    {
     "name": "stdout",
     "output_type": "stream",
     "text": [
      "2000-02-28 2001-02-28 2002-02-28 2003-02-28 2004-02-28 2005-02-28 2006-02-28 2007-02-28 2008-02-28 2009-02-28 regression done !\n",
      "regression start scale[179,180]\n",
      "2010-02-28 2011-02-28 2012-02-28 2013-02-28 2014-02-28 2015-02-28 2016-02-28 2017-02-28 2018-02-28 regression done !\n",
      "attempt to get argmax of an empty sequence\n",
      "attempt to get argmax of an empty sequence\n",
      "regression start scale[179,180]\n",
      "2000-02-28 2001-02-28 2002-02-28 2003-02-28 2004-02-28 2005-02-28 2006-02-28 2007-02-28 2008-02-28 2009-02-28 regression start scale[180,181]\n",
      "2010-02-28 2011-02-28 2012-02-28 2013-02-28 2014-02-28 2015-02-28 2016-02-28 2017-02-28 2018-02-28 regression done !\n",
      "regression start scale[180,181]\n",
      "2000-02-28 2001-02-28 2002-02-28 2003-02-28 2004-02-28 2005-02-28 2006-02-28 2007-02-28 2008-02-28 2009-02-28 regression start scale[181,182]\n",
      "2000-02-28 2001-02-28 2002-02-28 2003-02-28 2004-02-28 2005-02-28 2006-02-28 2007-02-28 2008-02-28 2009-02-28 regression done !\n",
      "regression start scale[181,182]\n",
      "2000-02-28 2001-02-28 2002-02-28 2003-02-28 2004-02-28 2005-02-28 2006-02-28 2007-02-28 2008-02-28 2009-02-28 regression done !\n",
      "2000-02-28 2001-02-28 2002-02-28 2003-02-28 2004-02-28 2005-02-28 2006-02-28 2007-02-28 2008-02-28 2009-02-28 regression done !\n",
      "regression start scale[182,183]\n",
      "regression start scale[182,183]\n",
      "2000-02-28 2001-02-28 2002-02-28 2003-02-28 2004-02-28 2005-02-28 2006-02-28 2007-02-28 2008-02-28 2009-02-28 regression done !\n",
      "regression start scale[183,184]\n",
      "2010-02-28 2011-02-28 2012-02-28 2013-02-28 2014-02-28 2015-02-28 2016-02-28 2017-02-28 2018-02-28 regression done !\n",
      "regression start scale[183,184]\n",
      "2010-02-28 2011-02-28 2012-02-28 2013-02-28 2014-02-28 2015-02-28 2016-02-28 2017-02-28 2018-02-28 regression done !\n",
      "2010-02-28 2011-02-28 2012-02-28 2013-02-28 2014-02-28 2015-02-28 2016-02-28 2017-02-28 2018-02-28 regression done !\n",
      "regression start scale[184,185]\n",
      "regression start scale[184,185]\n",
      "2000-02-28 2001-02-28 2002-02-28 2003-02-28 2004-02-28 2005-02-28 2006-02-28 2007-02-28 2008-02-28 2009-02-28 regression done !\n",
      "regression start scale[185,186]\n"
     ]
    },
    {
     "name": "stderr",
     "output_type": "stream",
     "text": [
      "/opt/conda/lib/python3.6/site-packages/numpy/core/fromnumeric.py:2909: RuntimeWarning: Mean of empty slice.\n",
      "  out=out, **kwargs)\n",
      "/opt/conda/lib/python3.6/site-packages/numpy/core/_methods.py:80: RuntimeWarning: invalid value encountered in true_divide\n",
      "  ret = ret.dtype.type(ret / rcount)\n",
      "/opt/conda/lib/python3.6/site-packages/ipykernel_launcher.py:24: RuntimeWarning: divide by zero encountered in true_divide\n",
      "/opt/conda/lib/python3.6/site-packages/ipykernel_launcher.py:132: RuntimeWarning: divide by zero encountered in double_scalars\n"
     ]
    },
    {
     "name": "stdout",
     "output_type": "stream",
     "text": [
      "2000-02-28 2001-02-28 2002-02-28 2003-02-28 2004-02-28 2005-02-28 2006-02-28 2007-02-28 2008-02-28 2009-02-28 regression done !\n",
      "regression start scale[185,186]\n",
      "2000-02-28 2001-02-28 2002-02-28 2003-02-28 2004-02-28 2005-02-28 2006-02-28 2007-02-28 2008-02-28 2009-02-28 regression start scale[186,187]\n",
      "2010-02-28 2011-02-28 2012-02-28 2013-02-28 2014-02-28 2015-02-28 2016-02-28 2017-02-28 2018-02-28 regression done !\n",
      "regression start scale[186,187]\n",
      "2010-02-28 2011-02-28 2012-02-28 2013-02-28 2014-02-28 2015-02-28 2016-02-28 2017-02-28 2018-02-28 regression done !\n",
      "attempt to get argmax of an empty sequence\n",
      "attempt to get argmax of an empty sequence\n",
      "regression start scale[187,188]\n",
      "2000-02-28 2001-02-28 2002-02-28 2003-02-28 2004-02-28 2005-02-28 2006-02-28 2007-02-28 2008-02-28 2009-02-28 regression start scale[187,188]\n",
      "2010-02-28 2011-02-28 2012-02-28 2013-02-28 2014-02-28 2015-02-28 2016-02-28 2017-02-28 2018-02-28 regression done !\n",
      "2010-02-28 2011-02-28 2012-02-28 2013-02-28 2014-02-28 2015-02-28 2016-02-28 2017-02-28 2018-02-28 regression done !\n",
      "regression start scale[188,189]\n",
      "regression start scale[188,189]\n"
     ]
    },
    {
     "name": "stderr",
     "output_type": "stream",
     "text": [
      "/opt/conda/lib/python3.6/site-packages/numpy/core/fromnumeric.py:2909: RuntimeWarning: Mean of empty slice.\n",
      "  out=out, **kwargs)\n",
      "/opt/conda/lib/python3.6/site-packages/numpy/core/_methods.py:80: RuntimeWarning: invalid value encountered in true_divide\n",
      "  ret = ret.dtype.type(ret / rcount)\n"
     ]
    },
    {
     "name": "stdout",
     "output_type": "stream",
     "text": [
      "2000-02-28 2001-02-28 2002-02-28 2003-02-28 2004-02-28 2005-02-28 2006-02-28 2007-02-28 2008-02-28 2009-02-28 regression done !\n",
      "regression start scale[189,190]\n",
      "2000-02-28 2001-02-28 2002-02-28 2003-02-28 2004-02-28 2005-02-28 2006-02-28 2007-02-28 2008-02-28 2009-02-28 regression done !\n",
      "regression start scale[189,190]\n",
      "2010-02-28 2011-02-28 2012-02-28 2013-02-28 2014-02-28 2015-02-28 2016-02-28 2017-02-28 2018-02-28 regression done !\n",
      "2000-02-28 2001-02-28 2002-02-28 2003-02-28 2004-02-28 2005-02-28 2006-02-28 2007-02-28 2008-02-28 2009-02-28 regression done !\n",
      "regression start scale[190,191]\n",
      "regression start scale[190,191]\n",
      "2010-02-28 2011-02-28 2012-02-28 2013-02-28 2014-02-28 2015-02-28 2016-02-28 2017-02-28 2018-02-28 regression done !\n",
      "regression start scale[191,192]\n",
      "2010-02-28 2011-02-28 2012-02-28 2013-02-28 2014-02-28 2015-02-28 2016-02-28 2017-02-28 2018-02-28 regression done !\n",
      "regression start scale[191,192]\n",
      "2010-02-28 2011-02-28 2012-02-28 2013-02-28 2014-02-28 2015-02-28 2016-02-28 2017-02-28 2018-02-28 regression done !\n",
      "attempt to get argmax of an empty sequence\n",
      "attempt to get argmax of an empty sequence\n",
      "regression start scale[192,193]\n",
      "2000-02-28 2001-02-28 2002-02-28 2003-02-28 2004-02-28 2005-02-28 2006-02-28 2007-02-28 2008-02-28 2009-02-28 regression done !\n",
      "regression start scale[192,193]\n"
     ]
    },
    {
     "name": "stderr",
     "output_type": "stream",
     "text": [
      "/opt/conda/lib/python3.6/site-packages/numpy/core/fromnumeric.py:2909: RuntimeWarning: Mean of empty slice.\n",
      "  out=out, **kwargs)\n",
      "/opt/conda/lib/python3.6/site-packages/numpy/core/_methods.py:80: RuntimeWarning: invalid value encountered in true_divide\n",
      "  ret = ret.dtype.type(ret / rcount)\n"
     ]
    },
    {
     "name": "stdout",
     "output_type": "stream",
     "text": [
      "2000-02-28 2001-02-28 2002-02-28 2003-02-28 2004-02-28 2005-02-28 2006-02-28 2007-02-28 2008-02-28 2009-02-28 regression start scale[193,194]\n",
      "2010-02-28 2011-02-28 2012-02-28 2013-02-28 2014-02-28 2015-02-28 2016-02-28 2017-02-28 2018-02-28 regression start scale[193,194]\n",
      "2000-02-28 2001-02-28 2002-02-28 2003-02-28 2004-02-28 2005-02-28 2006-02-28 2007-02-28 2008-02-28 2009-02-28 regression done !\n",
      "regression start scale[194,195]\n",
      "2000-02-28 2001-02-28 2002-02-28 2003-02-28 2004-02-28 2005-02-28 2006-02-28 2007-02-28 2008-02-28 2009-02-28 regression start scale[194,195]\n",
      "2000-02-28 2001-02-28 2002-02-28 2003-02-28 2004-02-28 2005-02-28 2006-02-28 2007-02-28 2008-02-28 2009-02-28 regression start scale[195,196]\n",
      "2010-02-28 2011-02-28 2012-02-28 2013-02-28 2014-02-28 2015-02-28 2016-02-28 2017-02-28 2018-02-28 regression done !\n",
      "regression start scale[195,196]\n",
      "2000-02-28 2001-02-28 2002-02-28 2003-02-28 2004-02-28 2005-02-28 2006-02-28 2007-02-28 2008-02-28 2009-02-28 regression done !\n",
      "regression start scale[196,197]\n",
      "2010-02-28 2011-02-28 2012-02-28 2013-02-28 2014-02-28 2015-02-28 2016-02-28 2017-02-28 2018-02-28 regression done !\n",
      "regression start scale[196,197]\n",
      "2010-02-28 2011-02-28 2012-02-28 2013-02-28 2014-02-28 2015-02-28 2016-02-28 2017-02-28 2018-02-28 regression done !\n",
      "regression start scale[197,198]\n",
      "2010-02-28 2011-02-28 2012-02-28 2013-02-28 2014-02-28 2015-02-28 2016-02-28 2017-02-28 2018-02-28 regression done !\n",
      "regression start scale[197,198]\n",
      "2010-02-28 2011-02-28 2012-02-28 2013-02-28 2014-02-28 2015-02-28 2016-02-28 2017-02-28 2018-02-28 regression done !\n",
      "regression start scale[198,199]\n",
      "2000-02-28 2001-02-28 2002-02-28 2003-02-28 2004-02-28 2005-02-28 2006-02-28 2007-02-28 2008-02-28 2009-02-28 regression done !\n",
      "attempt to get argmax of an empty sequence\n",
      "attempt to get argmax of an empty sequence\n",
      "regression start scale[198,199]\n",
      "2010-02-28 2011-02-28 2012-02-28 2013-02-28 2014-02-28 2015-02-28 2016-02-28 2017-02-28 2018-02-28 regression done !\n",
      "attempt to get argmax of an empty sequence\n",
      "attempt to get argmax of an empty sequence\n",
      "regression start scale[199,200]\n",
      "2010-02-28 2011-02-28 2012-02-28 2013-02-28 2014-02-28 2015-02-28 2016-02-28 2017-02-28 2018-02-28 regression done !\n",
      "regression start scale[199,200]\n",
      "2000-02-28 2001-02-28 2002-02-28 2003-02-28 2004-02-28 2005-02-28 2006-02-28 2007-02-28 2008-02-28 2009-02-28 regression done !\n",
      "regression start scale[200,201]\n",
      "2000-02-28 2001-02-28 2002-02-28 2003-02-28 2004-02-28 2005-02-28 2006-02-28 2007-02-28 2008-02-28 2009-02-28 regression start scale[200,201]\n",
      "2010-02-28 2011-02-28 2012-02-28 2013-02-28 2014-02-28 2015-02-28 2016-02-28 2017-02-28 2018-02-28 regression done !\n",
      "regression start scale[201,202]\n",
      "2000-02-28 2001-02-28 2002-02-28 2003-02-28 2004-02-28 2005-02-28 2006-02-28 2007-02-28 2008-02-28 2009-02-28 regression start scale[201,202]\n"
     ]
    },
    {
     "name": "stderr",
     "output_type": "stream",
     "text": [
      "/opt/conda/lib/python3.6/site-packages/numpy/core/fromnumeric.py:2909: RuntimeWarning: Mean of empty slice.\n",
      "  out=out, **kwargs)\n",
      "/opt/conda/lib/python3.6/site-packages/numpy/core/_methods.py:80: RuntimeWarning: invalid value encountered in true_divide\n",
      "  ret = ret.dtype.type(ret / rcount)\n",
      "/opt/conda/lib/python3.6/site-packages/ipykernel_launcher.py:24: RuntimeWarning: divide by zero encountered in true_divide\n",
      "/opt/conda/lib/python3.6/site-packages/ipykernel_launcher.py:132: RuntimeWarning: divide by zero encountered in double_scalars\n"
     ]
    },
    {
     "name": "stdout",
     "output_type": "stream",
     "text": [
      "2000-02-28 2001-02-28 2002-02-28 2003-02-28 2004-02-28 2005-02-28 2006-02-28 2007-02-28 2008-02-28 2009-02-28 regression done !\n",
      "regression start scale[202,203]\n",
      "2010-02-28 2011-02-28 2012-02-28 2013-02-28 2014-02-28 2015-02-28 2016-02-28 2017-02-28 2018-02-28 regression done !\n",
      "regression start scale[202,203]\n",
      "2000-02-28 2001-02-28 2002-02-28 2003-02-28 2004-02-28 2005-02-28 2006-02-28 2007-02-28 2008-02-28 2009-02-28 regression done !\n",
      "regression start scale[203,204]\n",
      "2010-02-28 2011-02-28 2012-02-28 2013-02-28 2014-02-28 2015-02-28 2016-02-28 2017-02-28 2018-02-28 regression start scale[203,204]\n",
      "2000-02-28 2001-02-28 2002-02-28 2003-02-28 2004-02-28 2005-02-28 2006-02-28 2007-02-28 2008-02-28 2009-02-28 regression done !\n",
      "regression start scale[204,205]\n",
      "2010-02-28 2011-02-28 2012-02-28 2013-02-28 2014-02-28 2015-02-28 2016-02-28 2017-02-28 2018-02-28 regression done !\n",
      "regression start scale[204,205]\n",
      "2000-02-28 2001-02-28 2002-02-28 2003-02-28 2004-02-28 2005-02-28 2006-02-28 2007-02-28 2008-02-28 2009-02-28 regression done !\n",
      "regression start scale[205,206]\n",
      "2010-02-28 2011-02-28 2012-02-28 2013-02-28 2014-02-28 2015-02-28 2016-02-28 2017-02-28 2018-02-28 regression done !\n",
      "regression start scale[205,206]\n",
      "2010-02-28 2011-02-28 2012-02-28 2013-02-28 2014-02-28 2015-02-28 2016-02-28 2017-02-28 2018-02-28 regression done !\n",
      "attempt to get argmax of an empty sequence\n",
      "attempt to get argmax of an empty sequence\n",
      "regression start scale[206,207]\n"
     ]
    },
    {
     "name": "stderr",
     "output_type": "stream",
     "text": [
      "/opt/conda/lib/python3.6/site-packages/numpy/core/fromnumeric.py:2909: RuntimeWarning: Mean of empty slice.\n",
      "  out=out, **kwargs)\n",
      "/opt/conda/lib/python3.6/site-packages/numpy/core/_methods.py:80: RuntimeWarning: invalid value encountered in true_divide\n",
      "  ret = ret.dtype.type(ret / rcount)\n"
     ]
    },
    {
     "name": "stdout",
     "output_type": "stream",
     "text": [
      "2010-02-28 2011-02-28 2012-02-28 2013-02-28 2014-02-28 2015-02-28 2016-02-28 2017-02-28 2018-02-28 regression done !\n",
      "2000-02-28 2001-02-28 2002-02-28 2003-02-28 2004-02-28 2005-02-28 2006-02-28 2007-02-28 2008-02-28 2009-02-28 regression done !\n",
      "regression start scale[206,207]\n"
     ]
    },
    {
     "name": "stderr",
     "output_type": "stream",
     "text": [
      "/opt/conda/lib/python3.6/site-packages/numpy/core/fromnumeric.py:2909: RuntimeWarning: Mean of empty slice.\n",
      "  out=out, **kwargs)\n",
      "/opt/conda/lib/python3.6/site-packages/numpy/core/_methods.py:80: RuntimeWarning: invalid value encountered in true_divide\n",
      "  ret = ret.dtype.type(ret / rcount)\n",
      "/opt/conda/lib/python3.6/site-packages/ipykernel_launcher.py:24: RuntimeWarning: divide by zero encountered in true_divide\n"
     ]
    },
    {
     "name": "stdout",
     "output_type": "stream",
     "text": [
      "regression start scale[207,208]\n"
     ]
    },
    {
     "name": "stderr",
     "output_type": "stream",
     "text": [
      "/opt/conda/lib/python3.6/site-packages/ipykernel_launcher.py:132: RuntimeWarning: divide by zero encountered in double_scalars\n"
     ]
    },
    {
     "name": "stdout",
     "output_type": "stream",
     "text": [
      "2000-02-28 2001-02-28 2002-02-28 2003-02-28 2004-02-28 2005-02-28 2006-02-28 2007-02-28 2008-02-28 2009-02-28 regression done !\n",
      "regression start scale[207,208]\n",
      "2000-02-28 2001-02-28 2002-02-28 2003-02-28 2004-02-28 2005-02-28 2006-02-28 2007-02-28 2008-02-28 2009-02-28 regression start scale[208,209]\n",
      "2010-02-28 2011-02-28 2012-02-28 2013-02-28 2014-02-28 2015-02-28 2016-02-28 2017-02-28 2018-02-28 regression done !\n",
      "regression start scale[208,209]\n",
      "2000-02-28 2001-02-28 2002-02-28 2003-02-28 2004-02-28 2005-02-28 2006-02-28 2007-02-28 2008-02-28 2009-02-28 regression start scale[209,210]\n",
      "2010-02-28 2011-02-28 2012-02-28 2013-02-28 2014-02-28 2015-02-28 2016-02-28 2017-02-28 2018-02-28 regression done !\n",
      "attempt to get argmax of an empty sequence\n",
      "regression start scale[209,210]\n",
      "2010-02-28 2011-02-28 2012-02-28 2013-02-28 2014-02-28 2015-02-28 2016-02-28 2017-02-28 2018-02-28 regression done !\n",
      "2000-02-28 2001-02-28 2002-02-28 2003-02-28 2004-02-28 2005-02-28 2006-02-28 2007-02-28 2008-02-28 2009-02-28 regression done !\n",
      "regression start scale[210,211]\n",
      "regression start scale[210,211]\n",
      "2000-02-28 2001-02-28 2002-02-28 2003-02-28 2004-02-28 2005-02-28 2006-02-28 2007-02-28 2008-02-28 2009-02-28 regression start scale[211,212]\n",
      "2010-02-28 2011-02-28 2012-02-28 2013-02-28 2014-02-28 2015-02-28 2016-02-28 2017-02-28 2018-02-28 regression done !\n",
      "regression start scale[211,212]\n",
      "2010-02-28 2011-02-28 2012-02-28 2013-02-28 2014-02-28 2015-02-28 2016-02-28 2017-02-28 2018-02-28 regression done !\n",
      "regression start scale[212,213]\n",
      "2010-02-28 2011-02-28 2012-02-28 2013-02-28 2014-02-28 2015-02-28 2016-02-28 2017-02-28 2018-02-28 regression done !\n",
      "regression start scale[212,213]\n",
      "2000-02-28 2001-02-28 2002-02-28 2003-02-28 2004-02-28 2005-02-28 2006-02-28 2007-02-28 2008-02-28 2009-02-28 regression done !\n",
      "attempt to get argmax of an empty sequence\n",
      "2010-02-28 2011-02-28 2012-02-28 2013-02-28 2014-02-28 2015-02-28 2016-02-28 2017-02-28 2018-02-28 regression done !\n",
      "2010-02-28 2011-02-28 2012-02-28 2013-02-28 2014-02-28 2015-02-28 2016-02-28 2017-02-28 2018-02-28 regression done !\n",
      "regression start scale[213,214]\n",
      "attempt to get argmax of an empty sequence\n",
      "attempt to get argmax of an empty sequence\n",
      "regression start scale[213,214]\n",
      "regression start scale[214,215]\n"
     ]
    },
    {
     "name": "stderr",
     "output_type": "stream",
     "text": [
      "/opt/conda/lib/python3.6/site-packages/numpy/core/fromnumeric.py:2909: RuntimeWarning: Mean of empty slice.\n",
      "  out=out, **kwargs)\n",
      "/opt/conda/lib/python3.6/site-packages/numpy/core/_methods.py:80: RuntimeWarning: invalid value encountered in true_divide\n",
      "  ret = ret.dtype.type(ret / rcount)\n",
      "/opt/conda/lib/python3.6/site-packages/ipykernel_launcher.py:24: RuntimeWarning: divide by zero encountered in true_divide\n",
      "/opt/conda/lib/python3.6/site-packages/ipykernel_launcher.py:132: RuntimeWarning: divide by zero encountered in double_scalars\n"
     ]
    },
    {
     "name": "stdout",
     "output_type": "stream",
     "text": [
      "2000-02-28 2001-02-28 2002-02-28 2003-02-28 2004-02-28 2005-02-28 2006-02-28 2007-02-28 2008-02-28 2009-02-28 regression done !\n",
      "regression start scale[214,215]\n",
      "2000-02-28 2001-02-28 2002-02-28 2003-02-28 2004-02-28 2005-02-28 2006-02-28 2007-02-28 2008-02-28 2009-02-28 regression done !\n",
      "2000-02-28 2001-02-28 2002-02-28 2003-02-28 2004-02-28 2005-02-28 2006-02-28 2007-02-28 2008-02-28 2009-02-28 regression start scale[215,216]\n",
      "regression start scale[215,216]\n",
      "2000-02-28 2001-02-28 2002-02-28 2003-02-28 2004-02-28 2005-02-28 2006-02-28 2007-02-28 2008-02-28 2009-02-28 regression start scale[216,217]\n"
     ]
    },
    {
     "name": "stderr",
     "output_type": "stream",
     "text": [
      "/opt/conda/lib/python3.6/site-packages/numpy/core/fromnumeric.py:2909: RuntimeWarning: Mean of empty slice.\n",
      "  out=out, **kwargs)\n",
      "/opt/conda/lib/python3.6/site-packages/numpy/core/_methods.py:80: RuntimeWarning: invalid value encountered in true_divide\n",
      "  ret = ret.dtype.type(ret / rcount)\n"
     ]
    },
    {
     "name": "stdout",
     "output_type": "stream",
     "text": [
      "2000-02-28 2001-02-28 2002-02-28 2003-02-28 2004-02-28 2005-02-28 2006-02-28 2007-02-28 2008-02-28 2009-02-28 regression done !\n",
      "regression start scale[216,217]\n",
      "2010-02-28 2011-02-28 2012-02-28 2013-02-28 2014-02-28 2015-02-28 2016-02-28 2017-02-28 2018-02-28 regression done !\n",
      "regression start scale[217,218]\n",
      "2000-02-28 2001-02-28 2002-02-28 2003-02-28 2004-02-28 2005-02-28 2006-02-28 2007-02-28 2008-02-28 2009-02-28 regression done !\n",
      "regression start scale[217,218]\n",
      "2010-02-28 2011-02-28 2012-02-28 2013-02-28 2014-02-28 2015-02-28 2016-02-28 2017-02-28 2018-02-28 regression done !\n",
      "regression start scale[218,219]\n",
      "2010-02-28 2011-02-28 2012-02-28 2013-02-28 2014-02-28 2015-02-28 2016-02-28 2017-02-28 2018-02-28 regression done !\n",
      "regression start scale[218,219]\n",
      "2000-02-28 2001-02-28 2002-02-28 2003-02-28 2004-02-28 2005-02-28 2006-02-28 2007-02-28 2008-02-28 2009-02-28 regression done !\n",
      "regression start scale[219,220]\n",
      "2010-02-28 2011-02-28 2012-02-28 2013-02-28 2014-02-28 2015-02-28 2016-02-28 2017-02-28 2018-02-28 regression done !\n",
      "regression start scale[219,220]\n",
      "2000-02-28 2001-02-28 2002-02-28 2003-02-28 2004-02-28 2005-02-28 2006-02-28 2007-02-28 2008-02-28 2009-02-28 regression start scale[220,221]\n",
      "2010-02-28 2011-02-28 2012-02-28 2013-02-28 2014-02-28 2015-02-28 2016-02-28 2017-02-28 2018-02-28 regression done !\n",
      "regression start scale[220,221]\n",
      "2010-02-28 2011-02-28 2012-02-28 2013-02-28 2014-02-28 2015-02-28 2016-02-28 2017-02-28 2018-02-28 regression done !\n",
      "attempt to get argmax of an empty sequence\n"
     ]
    },
    {
     "name": "stderr",
     "output_type": "stream",
     "text": [
      "/opt/conda/lib/python3.6/site-packages/numpy/core/fromnumeric.py:2909: RuntimeWarning: Mean of empty slice.\n",
      "  out=out, **kwargs)\n",
      "/opt/conda/lib/python3.6/site-packages/numpy/core/_methods.py:80: RuntimeWarning: invalid value encountered in true_divide\n",
      "  ret = ret.dtype.type(ret / rcount)\n",
      "/opt/conda/lib/python3.6/site-packages/ipykernel_launcher.py:24: RuntimeWarning: divide by zero encountered in true_divide\n"
     ]
    },
    {
     "name": "stdout",
     "output_type": "stream",
     "text": [
      "regression start scale[221,222]\n",
      "2000-02-28 2001-02-28 2002-02-28 2003-02-28 2004-02-28 2005-02-28 2006-02-28 2007-02-28 2008-02-28 2009-02-28 regression start scale[221,222]\n"
     ]
    },
    {
     "name": "stderr",
     "output_type": "stream",
     "text": [
      "/opt/conda/lib/python3.6/site-packages/ipykernel_launcher.py:132: RuntimeWarning: divide by zero encountered in double_scalars\n"
     ]
    },
    {
     "name": "stdout",
     "output_type": "stream",
     "text": [
      "2000-02-28 2001-02-28 2002-02-28 2003-02-28 2004-02-28 2005-02-28 2006-02-28 2007-02-28 2008-02-28 2009-02-28 regression done !\n",
      "regression start scale[222,223]\n",
      "2010-02-28 2011-02-28 2012-02-28 2013-02-28 2014-02-28 2015-02-28 2016-02-28 2017-02-28 2018-02-28 regression done !\n",
      "attempt to get argmax of an empty sequence\n",
      "regression start scale[222,223]\n",
      "2000-02-28 2001-02-28 2002-02-28 2003-02-28 2004-02-28 2005-02-28 2006-02-28 2007-02-28 2008-02-28 2009-02-28 regression done !\n",
      "2010-02-28 2011-02-28 2012-02-28 2013-02-28 2014-02-28 2015-02-28 2016-02-28 2017-02-28 2018-02-28 regression done !\n",
      "regression start scale[223,224]\n",
      "regression start scale[223,224]\n",
      "2000-02-28 2001-02-28 2002-02-28 2003-02-28 2004-02-28 2005-02-28 2006-02-28 2007-02-28 2008-02-28 2009-02-28 regression done !\n",
      "regression start scale[224,225]\n",
      "2000-02-28 2001-02-28 2002-02-28 2003-02-28 2004-02-28 2005-02-28 2006-02-28 2007-02-28 2008-02-28 2009-02-28 regression done !\n",
      "regression start scale[224,225]\n",
      "2010-02-28 2011-02-28 2012-02-28 2013-02-28 2014-02-28 2015-02-28 2016-02-28 2017-02-28 2018-02-28 regression done !\n",
      "regression start scale[225,226]\n",
      "2010-02-28 2011-02-28 2012-02-28 2013-02-28 2014-02-28 2015-02-28 2016-02-28 2017-02-28 2018-02-28 regression done !\n",
      "regression start scale[225,226]\n",
      "2010-02-28 2011-02-28 2012-02-28 2013-02-28 2014-02-28 2015-02-28 2016-02-28 2017-02-28 2018-02-28 regression done !\n",
      "2000-02-28 2001-02-28 2002-02-28 2003-02-28 2004-02-28 2005-02-28 2006-02-28 2007-02-28 2008-02-28 2009-02-28 regression done !\n",
      "regression start scale[226,227]\n",
      "regression start scale[226,227]\n",
      "2010-02-28 2011-02-28 2012-02-28 2013-02-28 2014-02-28 2015-02-28 2016-02-28 2017-02-28 2018-02-28 regression done !\n",
      "regression start scale[227,228]\n"
     ]
    },
    {
     "name": "stderr",
     "output_type": "stream",
     "text": [
      "/opt/conda/lib/python3.6/site-packages/numpy/core/fromnumeric.py:2909: RuntimeWarning: Mean of empty slice.\n",
      "  out=out, **kwargs)\n",
      "/opt/conda/lib/python3.6/site-packages/numpy/core/_methods.py:80: RuntimeWarning: invalid value encountered in true_divide\n",
      "  ret = ret.dtype.type(ret / rcount)\n"
     ]
    },
    {
     "name": "stdout",
     "output_type": "stream",
     "text": [
      "2010-02-28 2011-02-28 2012-02-28 2013-02-28 2014-02-28 2015-02-28 2016-02-28 2017-02-28 2018-02-28 regression done !\n",
      "regression start scale[227,228]\n",
      "2010-02-28 2011-02-28 2012-02-28 2013-02-28 2014-02-28 2015-02-28 2016-02-28 2017-02-28 2018-02-28 regression done !\n",
      "regression start scale[228,229]\n",
      "2000-02-28 2001-02-28 2002-02-28 2003-02-28 2004-02-28 2005-02-28 2006-02-28 2007-02-28 2008-02-28 2009-02-28 regression start scale[228,229]\n",
      "2000-02-28 2001-02-28 2002-02-28 2003-02-28 2004-02-28 2005-02-28 2006-02-28 2007-02-28 2008-02-28 2009-02-28 regression start scale[229,230]\n",
      "2000-02-28 2001-02-28 2002-02-28 2003-02-28 2004-02-28 2005-02-28 2006-02-28 2007-02-28 2008-02-28 2009-02-28 regression start scale[229,230]\n",
      "2000-02-28 2001-02-28 2002-02-28 2003-02-28 2004-02-28 2005-02-28 2006-02-28 2007-02-28 2008-02-28 2009-02-28 regression start scale[230,231]\n",
      "2010-02-28 2011-02-28 2012-02-28 2013-02-28 2014-02-28 2015-02-28 2016-02-28 2017-02-28 2018-02-28 regression done !\n",
      "attempt to get argmax of an empty sequence\n",
      "attempt to get argmax of an empty sequence\n",
      "regression start scale[230,231]\n",
      "2000-02-28 2001-02-28 2002-02-28 2003-02-28 2004-02-28 2005-02-28 2006-02-28 2007-02-28 2008-02-28 2009-02-28 regression done !\n",
      "regression start scale[231,232]\n",
      "2010-02-28 2011-02-28 2012-02-28 2013-02-28 2014-02-28 2015-02-28 2016-02-28 2017-02-28 2018-02-28 regression done !\n",
      "regression start scale[231,232]\n",
      "2000-02-28 2001-02-28 2002-02-28 2003-02-28 2004-02-28 2005-02-28 2006-02-28 2007-02-28 2008-02-28 2009-02-28 regression done !\n",
      "regression start scale[232,233]\n",
      "2000-02-28 2001-02-28 2002-02-28 2003-02-28 2004-02-28 2005-02-28 2006-02-28 2007-02-28 2008-02-28 2009-02-28 regression done !\n",
      "attempt to get argmax of an empty sequence\n",
      "regression start scale[232,233]\n"
     ]
    },
    {
     "name": "stderr",
     "output_type": "stream",
     "text": [
      "/opt/conda/lib/python3.6/site-packages/numpy/core/fromnumeric.py:2909: RuntimeWarning: Mean of empty slice.\n",
      "  out=out, **kwargs)\n",
      "/opt/conda/lib/python3.6/site-packages/numpy/core/_methods.py:80: RuntimeWarning: invalid value encountered in true_divide\n",
      "  ret = ret.dtype.type(ret / rcount)\n",
      "/opt/conda/lib/python3.6/site-packages/ipykernel_launcher.py:24: RuntimeWarning: divide by zero encountered in true_divide\n",
      "/opt/conda/lib/python3.6/site-packages/ipykernel_launcher.py:132: RuntimeWarning: divide by zero encountered in double_scalars\n"
     ]
    },
    {
     "name": "stdout",
     "output_type": "stream",
     "text": [
      "2000-02-28 2001-02-28 2002-02-28 2003-02-28 2004-02-28 2005-02-28 2006-02-28 2007-02-28 2008-02-28 2009-02-28 regression done !\n",
      "regression start scale[233,234]\n",
      "2010-02-28 2011-02-28 2012-02-28 2013-02-28 2014-02-28 2015-02-28 2016-02-28 2017-02-28 2018-02-28 regression done !\n",
      "2010-02-28 2011-02-28 2012-02-28 2013-02-28 2014-02-28 2015-02-28 2016-02-28 2017-02-28 2018-02-28 regression done !\n",
      "2010-02-28 2011-02-28 2012-02-28 2013-02-28 2014-02-28 2015-02-28 2016-02-28 2017-02-28 2018-02-28 regression done !\n",
      "regression start scale[234,235]\n",
      "regression start scale[233,234]\n",
      "regression start scale[234,235]\n",
      "2010-02-28 2011-02-28 2012-02-28 2013-02-28 2014-02-28 2015-02-28 2016-02-28 2017-02-28 2018-02-28 regression done !\n",
      "regression start scale[235,236]\n"
     ]
    },
    {
     "name": "stderr",
     "output_type": "stream",
     "text": [
      "/opt/conda/lib/python3.6/site-packages/numpy/core/fromnumeric.py:2909: RuntimeWarning: Mean of empty slice.\n",
      "  out=out, **kwargs)\n",
      "/opt/conda/lib/python3.6/site-packages/numpy/core/_methods.py:80: RuntimeWarning: invalid value encountered in true_divide\n",
      "  ret = ret.dtype.type(ret / rcount)\n",
      "/opt/conda/lib/python3.6/site-packages/ipykernel_launcher.py:24: RuntimeWarning: divide by zero encountered in true_divide\n",
      "/opt/conda/lib/python3.6/site-packages/ipykernel_launcher.py:132: RuntimeWarning: divide by zero encountered in double_scalars\n"
     ]
    },
    {
     "name": "stdout",
     "output_type": "stream",
     "text": [
      "2000-02-28 2001-02-28 2002-02-28 2003-02-28 2004-02-28 2005-02-28 2006-02-28 2007-02-28 2008-02-28 2009-02-28 regression done !\n",
      "regression start scale[235,236]\n",
      "2000-02-28 2001-02-28 2002-02-28 2003-02-28 2004-02-28 2005-02-28 2006-02-28 2007-02-28 2008-02-28 2009-02-28 regression start scale[236,237]\n",
      "2010-02-28 2011-02-28 2012-02-28 2013-02-28 2014-02-28 2015-02-28 2016-02-28 2017-02-28 2018-02-28 regression done !\n",
      "attempt to get argmax of an empty sequence\n",
      "attempt to get argmax of an empty sequence\n",
      "attempt to get argmax of an empty sequence\n",
      "regression start scale[236,237]\n"
     ]
    },
    {
     "name": "stderr",
     "output_type": "stream",
     "text": [
      "/opt/conda/lib/python3.6/site-packages/numpy/core/fromnumeric.py:2909: RuntimeWarning: Mean of empty slice.\n",
      "  out=out, **kwargs)\n",
      "/opt/conda/lib/python3.6/site-packages/numpy/core/_methods.py:80: RuntimeWarning: invalid value encountered in true_divide\n",
      "  ret = ret.dtype.type(ret / rcount)\n"
     ]
    },
    {
     "name": "stdout",
     "output_type": "stream",
     "text": [
      "2000-02-28 2001-02-28 2002-02-28 2003-02-28 2004-02-28 2005-02-28 2006-02-28 2007-02-28 2008-02-28 2009-02-28 regression done !\n",
      "regression start scale[237,238]\n",
      "2000-02-28 2001-02-28 2002-02-28 2003-02-28 2004-02-28 2005-02-28 2006-02-28 2007-02-28 2008-02-28 2009-02-28 regression start scale[237,238]\n",
      "2010-02-28 2011-02-28 2012-02-28 2013-02-28 2014-02-28 2015-02-28 2016-02-28 2017-02-28 2018-02-28 regression done !\n",
      "regression start scale[238,239]\n",
      "2010-02-28 2011-02-28 2012-02-28 2013-02-28 2014-02-28 2015-02-28 2016-02-28 2017-02-28 2018-02-28 regression done !\n",
      "regression start scale[238,239]\n",
      "2010-02-28 2011-02-28 2012-02-28 2013-02-28 2014-02-28 2015-02-28 2016-02-28 2017-02-28 2018-02-28 regression done !\n",
      "regression start scale[239,240]\n",
      "2000-02-28 2001-02-28 2002-02-28 2003-02-28 2004-02-28 2005-02-28 2006-02-28 2007-02-28 2008-02-28 2009-02-28 regression done !\n",
      "regression start scale[239,240]\n",
      "2000-02-28 2001-02-28 2002-02-28 2003-02-28 2004-02-28 2005-02-28 2006-02-28 2007-02-28 2008-02-28 2009-02-28 regression done !\n",
      "2010-02-28 2011-02-28 2012-02-28 2013-02-28 2014-02-28 2015-02-28 2016-02-28 2017-02-28 2018-02-28 regression done !\n",
      "regression start scale[240,241]\n",
      "regression start scale[240,241]\n",
      "2010-02-28 2011-02-28 2012-02-28 2013-02-28 2014-02-28 2015-02-28 2016-02-28 2017-02-28 2018-02-28 regression done !\n",
      "regression start scale[241,242]\n",
      "2010-02-28 2011-02-28 2012-02-28 2013-02-28 2014-02-28 2015-02-28 2016-02-28 2017-02-28 2018-02-28 regression done !\n",
      "attempt to get argmax of an empty sequence\n",
      "attempt to get argmax of an empty sequence\n",
      "regression start scale[241,242]\n",
      "2000-02-28 2001-02-28 2002-02-28 2003-02-28 2004-02-28 2005-02-28 2006-02-28 2007-02-28 2008-02-28 2009-02-28 regression start scale[242,243]\n"
     ]
    },
    {
     "name": "stderr",
     "output_type": "stream",
     "text": [
      "/opt/conda/lib/python3.6/site-packages/numpy/core/fromnumeric.py:2909: RuntimeWarning: Mean of empty slice.\n",
      "  out=out, **kwargs)\n",
      "/opt/conda/lib/python3.6/site-packages/numpy/core/_methods.py:80: RuntimeWarning: invalid value encountered in true_divide\n",
      "  ret = ret.dtype.type(ret / rcount)\n",
      "/opt/conda/lib/python3.6/site-packages/ipykernel_launcher.py:24: RuntimeWarning: divide by zero encountered in true_divide\n",
      "/opt/conda/lib/python3.6/site-packages/ipykernel_launcher.py:132: RuntimeWarning: divide by zero encountered in double_scalars\n"
     ]
    },
    {
     "name": "stdout",
     "output_type": "stream",
     "text": [
      "2000-02-28 2001-02-28 2002-02-28 2003-02-28 2004-02-28 2005-02-28 2006-02-28 2007-02-28 2008-02-28 2009-02-28 regression done !\n"
     ]
    },
    {
     "name": "stderr",
     "output_type": "stream",
     "text": [
      "/opt/conda/lib/python3.6/site-packages/numpy/core/fromnumeric.py:2909: RuntimeWarning: Mean of empty slice.\n",
      "  out=out, **kwargs)\n"
     ]
    },
    {
     "name": "stdout",
     "output_type": "stream",
     "text": [
      "regression start scale[242,243]\n"
     ]
    },
    {
     "name": "stderr",
     "output_type": "stream",
     "text": [
      "/opt/conda/lib/python3.6/site-packages/numpy/core/_methods.py:80: RuntimeWarning: invalid value encountered in true_divide\n",
      "  ret = ret.dtype.type(ret / rcount)\n",
      "/opt/conda/lib/python3.6/site-packages/ipykernel_launcher.py:24: RuntimeWarning: divide by zero encountered in true_divide\n",
      "/opt/conda/lib/python3.6/site-packages/ipykernel_launcher.py:132: RuntimeWarning: divide by zero encountered in double_scalars\n"
     ]
    },
    {
     "name": "stdout",
     "output_type": "stream",
     "text": [
      "2000-02-28 2001-02-28 2002-02-28 2003-02-28 2004-02-28 2005-02-28 2006-02-28 2007-02-28 2008-02-28 2009-02-28 regression done !\n",
      "regression start scale[243,244]\n",
      "2000-02-28 2001-02-28 2002-02-28 2003-02-28 2004-02-28 2005-02-28 2006-02-28 2007-02-28 2008-02-28 2009-02-28 regression start scale[243,244]\n",
      "2000-02-28 2001-02-28 2002-02-28 2003-02-28 2004-02-28 2005-02-28 2006-02-28 2007-02-28 2008-02-28 2009-02-28 regression start scale[244,245]\n",
      "2010-02-28 2011-02-28 2012-02-28 2013-02-28 2014-02-28 2015-02-28 2016-02-28 2017-02-28 2018-02-28 regression done !\n",
      "regression start scale[244,245]\n",
      "2010-02-28 2011-02-28 2012-02-28 2013-02-28 2014-02-28 2015-02-28 2016-02-28 2017-02-28 2018-02-28 regression done !\n",
      "regression start scale[245,246]\n",
      "2010-02-28 2011-02-28 2012-02-28 2013-02-28 2014-02-28 2015-02-28 2016-02-28 2017-02-28 2018-02-28 regression done !\n",
      "regression start scale[245,246]\n",
      "2000-02-28 2001-02-28 2002-02-28 2003-02-28 2004-02-28 2005-02-28 2006-02-28 2007-02-28 2008-02-28 2009-02-28 regression done !\n",
      "regression start scale[246,247]\n",
      "2010-02-28 2011-02-28 2012-02-28 2013-02-28 2014-02-28 2015-02-28 2016-02-28 2017-02-28 2018-02-28 regression done !\n",
      "regression start scale[246,247]\n",
      "2000-02-28 2001-02-28 2002-02-28 2003-02-28 2004-02-28 2005-02-28 2006-02-28 2007-02-28 2008-02-28 2009-02-28 regression done !\n",
      "2010-02-28 2011-02-28 2012-02-28 2013-02-28 2014-02-28 2015-02-28 2016-02-28 2017-02-28 2018-02-28 regression done !\n",
      "regression start scale[247,248]\n",
      "regression start scale[247,248]\n"
     ]
    },
    {
     "name": "stderr",
     "output_type": "stream",
     "text": [
      "/opt/conda/lib/python3.6/site-packages/numpy/core/fromnumeric.py:2909: RuntimeWarning: Mean of empty slice.\n",
      "  out=out, **kwargs)\n"
     ]
    },
    {
     "name": "stdout",
     "output_type": "stream",
     "text": [
      "2000-02-28 2001-02-28 2002-02-28 2003-02-28 2004-02-28 2005-02-28 2006-02-28 2007-02-28 2008-02-28 2009-02-28 regression done !\n"
     ]
    },
    {
     "name": "stderr",
     "output_type": "stream",
     "text": [
      "/opt/conda/lib/python3.6/site-packages/numpy/core/_methods.py:80: RuntimeWarning: invalid value encountered in true_divide\n",
      "  ret = ret.dtype.type(ret / rcount)\n"
     ]
    },
    {
     "name": "stdout",
     "output_type": "stream",
     "text": [
      "regression start scale[248,249]\n",
      "2010-02-28 2011-02-28 2012-02-28 2013-02-28 2014-02-28 2015-02-28 2016-02-28 2017-02-28 2018-02-28 regression done !\n",
      "regression start scale[248,249]\n"
     ]
    },
    {
     "name": "stderr",
     "output_type": "stream",
     "text": [
      "/opt/conda/lib/python3.6/site-packages/numpy/core/fromnumeric.py:2909: RuntimeWarning: Mean of empty slice.\n",
      "  out=out, **kwargs)\n",
      "/opt/conda/lib/python3.6/site-packages/numpy/core/_methods.py:80: RuntimeWarning: invalid value encountered in true_divide\n",
      "  ret = ret.dtype.type(ret / rcount)\n",
      "/opt/conda/lib/python3.6/site-packages/ipykernel_launcher.py:24: RuntimeWarning: divide by zero encountered in true_divide\n"
     ]
    },
    {
     "name": "stdout",
     "output_type": "stream",
     "text": [
      "2000-02-28 2001-02-28 2002-02-28 2003-02-28 2004-02-28 2005-02-28 2006-02-28 2007-02-28 2008-02-28 2009-02-28 regression done !\n",
      "regression start scale[249,250]\n"
     ]
    },
    {
     "name": "stderr",
     "output_type": "stream",
     "text": [
      "/opt/conda/lib/python3.6/site-packages/numpy/core/fromnumeric.py:2909: RuntimeWarning: Mean of empty slice.\n",
      "  out=out, **kwargs)\n",
      "/opt/conda/lib/python3.6/site-packages/numpy/core/_methods.py:80: RuntimeWarning: invalid value encountered in true_divide\n",
      "  ret = ret.dtype.type(ret / rcount)\n",
      "/opt/conda/lib/python3.6/site-packages/ipykernel_launcher.py:24: RuntimeWarning: divide by zero encountered in true_divide\n",
      "/opt/conda/lib/python3.6/site-packages/ipykernel_launcher.py:132: RuntimeWarning: divide by zero encountered in double_scalars\n"
     ]
    },
    {
     "name": "stdout",
     "output_type": "stream",
     "text": [
      "2000-02-28 2001-02-28 2002-02-28 2003-02-28 2004-02-28 2005-02-28 2006-02-28 2007-02-28 2008-02-28 2009-02-28 regression done !\n",
      "2010-02-28 2011-02-28 2012-02-28 2013-02-28 2014-02-28 2015-02-28 2016-02-28 2017-02-28 2018-02-28 regression done !\n",
      "regression start scale[249,250]\n",
      "regression start scale[250,251]\n",
      "2000-02-28 2001-02-28 2002-02-28 2003-02-28 2004-02-28 2005-02-28 2006-02-28 2007-02-28 2008-02-28 2009-02-28 regression start scale[250,251]\n",
      "2010-02-28 2011-02-28 2012-02-28 2013-02-28 2014-02-28 2015-02-28 2016-02-28 2017-02-28 2018-02-28 regression done !\n",
      "attempt to get argmax of an empty sequence\n",
      "attempt to get argmax of an empty sequence\n",
      "attempt to get argmax of an empty sequence\n",
      "regression start scale[251,252]\n",
      "2000-02-28 2001-02-28 2002-02-28 2003-02-28 2004-02-28 2005-02-28 2006-02-28 2007-02-28 2008-02-28 2009-02-28 regression start scale[251,252]\n",
      "2000-02-28 2001-02-28 2002-02-28 2003-02-28 2004-02-28 2005-02-28 2006-02-28 2007-02-28 2008-02-28 2009-02-28 regression done !\n",
      "regression start scale[252,253]\n",
      "2010-02-28 2011-02-28 2012-02-28 2013-02-28 2014-02-28 2015-02-28 2016-02-28 2017-02-28 2018-02-28 regression done !\n",
      "regression start scale[252,253]\n",
      "2010-02-28 2011-02-28 2012-02-28 2013-02-28 2014-02-28 2015-02-28 2016-02-28 2017-02-28 2018-02-28 regression done !\n",
      "regression start scale[253,254]\n",
      "2010-02-28 2011-02-28 2012-02-28 2013-02-28 2014-02-28 2015-02-28 2016-02-28 2017-02-28 2018-02-28 regression done !\n",
      "regression start scale[253,254]\n",
      "2010-02-28 2011-02-28 2012-02-28 2013-02-28 2014-02-28 2015-02-28 2016-02-28 2017-02-28 2018-02-28 regression done !\n",
      "regression start scale[254,255]\n",
      "2000-02-28 2001-02-28 2002-02-28 2003-02-28 2004-02-28 2005-02-28 2006-02-28 2007-02-28 2008-02-28 2009-02-28 regression start scale[254,255]\n",
      "2010-02-28 2011-02-28 2012-02-28 2013-02-28 2014-02-28 2015-02-28 2016-02-28 2017-02-28 2018-02-28 regression start scale[255,256]\n",
      "2010-02-28 2011-02-28 2012-02-28 2013-02-28 2014-02-28 2015-02-28 2016-02-28 2017-02-28 2018-02-28 regression done !\n",
      "regression start scale[255,256]\n",
      "2000-02-28 2001-02-28 2002-02-28 2003-02-28 2004-02-28 2005-02-28 2006-02-28 2007-02-28 2008-02-28 2009-02-28 regression done !\n",
      "attempt to get argmax of an empty sequence\n",
      "attempt to get argmax of an empty sequence\n",
      "attempt to get argmax of an empty sequence\n",
      "regression start scale[256,257]\n",
      "2000-02-28 2001-02-28 2002-02-28 2003-02-28 2004-02-28 2005-02-28 2006-02-28 2007-02-28 2008-02-28 2009-02-28 regression start scale[256,257]\n"
     ]
    },
    {
     "name": "stderr",
     "output_type": "stream",
     "text": [
      "/opt/conda/lib/python3.6/site-packages/numpy/core/fromnumeric.py:2909: RuntimeWarning: Mean of empty slice.\n",
      "  out=out, **kwargs)\n",
      "/opt/conda/lib/python3.6/site-packages/numpy/core/_methods.py:80: RuntimeWarning: invalid value encountered in true_divide\n",
      "  ret = ret.dtype.type(ret / rcount)\n",
      "/opt/conda/lib/python3.6/site-packages/ipykernel_launcher.py:24: RuntimeWarning: divide by zero encountered in true_divide\n"
     ]
    },
    {
     "name": "stdout",
     "output_type": "stream",
     "text": [
      "2000-02-28 2001-02-28 2002-02-28 2003-02-28 2004-02-28 2005-02-28 2006-02-28 2007-02-28 2008-02-28 2009-02-28 regression start scale[257,258]\n"
     ]
    },
    {
     "name": "stderr",
     "output_type": "stream",
     "text": [
      "/opt/conda/lib/python3.6/site-packages/ipykernel_launcher.py:132: RuntimeWarning: divide by zero encountered in double_scalars\n"
     ]
    },
    {
     "name": "stdout",
     "output_type": "stream",
     "text": [
      "2000-02-28 2001-02-28 2002-02-28 2003-02-28 2004-02-28 2005-02-28 2006-02-28 2007-02-28 2008-02-28 2009-02-28 regression done !\n",
      "regression start scale[257,258]\n",
      "2000-02-28 2001-02-28 2002-02-28 2003-02-28 2004-02-28 2005-02-28 2006-02-28 2007-02-28 2008-02-28 2009-02-28 regression done !\n",
      "2010-02-28 2011-02-28 2012-02-28 2013-02-28 2014-02-28 2015-02-28 2016-02-28 2017-02-28 2018-02-28 regression done !\n",
      "regression start scale[258,259]\n",
      "regression start scale[258,259]\n",
      "2000-02-28 2001-02-28 2002-02-28 2003-02-28 2004-02-28 2005-02-28 2006-02-28 2007-02-28 2008-02-28 2009-02-28 regression done !\n",
      "attempt to get argmax of an empty sequence\n",
      "regression start scale[259,260]\n",
      "2010-02-28 2011-02-28 2012-02-28 2013-02-28 2014-02-28 2015-02-28 2016-02-28 2017-02-28 2018-02-28 regression done !\n",
      "regression start scale[259,260]\n",
      "2010-02-28 2011-02-28 2012-02-28 2013-02-28 2014-02-28 2015-02-28 2016-02-28 2017-02-28 2018-02-28 regression done !\n",
      "regression start scale[260,261]\n",
      "2010-02-28 2011-02-28 2012-02-28 2013-02-28 2014-02-28 2015-02-28 2016-02-28 2017-02-28 2018-02-28 regression done !\n"
     ]
    },
    {
     "name": "stderr",
     "output_type": "stream",
     "text": [
      "/opt/conda/lib/python3.6/site-packages/numpy/core/fromnumeric.py:2909: RuntimeWarning: Mean of empty slice.\n",
      "  out=out, **kwargs)\n",
      "/opt/conda/lib/python3.6/site-packages/numpy/core/_methods.py:80: RuntimeWarning: invalid value encountered in true_divide\n",
      "  ret = ret.dtype.type(ret / rcount)\n"
     ]
    },
    {
     "name": "stdout",
     "output_type": "stream",
     "text": [
      "regression start scale[260,261]\n",
      "2000-02-28 2001-02-28 2002-02-28 2003-02-28 2004-02-28 2005-02-28 2006-02-28 2007-02-28 2008-02-28 2009-02-28 regression done !\n",
      "regression start scale[261,262]\n",
      "2010-02-28 2011-02-28 2012-02-28 2013-02-28 2014-02-28 2015-02-28 2016-02-28 2017-02-28 2018-02-28 regression done !\n",
      "2010-02-28 2011-02-28 2012-02-28 2013-02-28 2014-02-28 2015-02-28 2016-02-28 2017-02-28 2018-02-28 regression done !\n",
      "regression start scale[262,263]\n",
      "regression start scale[261,262]\n",
      "2000-02-28 2001-02-28 2002-02-28 2003-02-28 2004-02-28 2005-02-28 2006-02-28 2007-02-28 2008-02-28 2009-02-28 regression start scale[262,263]\n",
      "2010-02-28 2011-02-28 2012-02-28 2013-02-28 2014-02-28 2015-02-28 2016-02-28 2017-02-28 2018-02-28 regression done !\n",
      "2010-02-28 2011-02-28 2012-02-28 2013-02-28 2014-02-28 2015-02-28 2016-02-28 2017-02-28 2018-02-28 regression done !\n",
      "regression start scale[263,264]\n",
      "regression start scale[263,264]\n",
      "2000-02-28 2001-02-28 2002-02-28 2003-02-28 2004-02-28 2005-02-28 2006-02-28 2007-02-28 2008-02-28 2009-02-28 regression start scale[264,265]\n",
      "2010-02-28 2011-02-28 2012-02-28 2013-02-28 2014-02-28 2015-02-28 2016-02-28 2017-02-28 2018-02-28 regression done !\n",
      "regression start scale[264,265]\n",
      "2000-02-28 2001-02-28 2002-02-28 2003-02-28 2004-02-28 2005-02-28 2006-02-28 2007-02-28 2008-02-28 2009-02-28 regression start scale[265,266]\n",
      "2000-02-28 2001-02-28 2002-02-28 2003-02-28 2004-02-28 2005-02-28 2006-02-28 2007-02-28 2008-02-28 2009-02-28 regression done !\n",
      "2000-02-28 2001-02-28 2002-02-28 2003-02-28 2004-02-28 2005-02-28 2006-02-28 2007-02-28 2008-02-28 2009-02-28 regression done !\n",
      "regression start scale[265,266]\n",
      "attempt to get argmax of an empty sequence\n",
      "attempt to get argmax of an empty sequence\n",
      "regression start scale[266,267]\n",
      "2010-02-28 2011-02-28 2012-02-28 2013-02-28 2014-02-28 2015-02-28 2016-02-28 2017-02-28 2018-02-28 regression done !\n",
      "regression start scale[266,267]\n",
      "2010-02-28 2011-02-28 2012-02-28 2013-02-28 2014-02-28 2015-02-28 2016-02-28 2017-02-28 2018-02-28 regression done !\n",
      "regression start scale[267,268]\n",
      "2010-02-28 2011-02-28 2012-02-28 2013-02-28 2014-02-28 2015-02-28 2016-02-28 2017-02-28 2018-02-28 regression done !\n",
      "2000-02-28 2001-02-28 2002-02-28 2003-02-28 2004-02-28 2005-02-28 2006-02-28 2007-02-28 2008-02-28 2009-02-28 regression done !\n",
      "2010-02-28 2011-02-28 2012-02-28 2013-02-28 2014-02-28 2015-02-28 2016-02-28 2017-02-28 2018-02-28 regression done !\n",
      "regression start scale[267,268]\n",
      "regression start scale[268,269]\n",
      "regression start scale[268,269]\n",
      "2000-02-28 2001-02-28 2002-02-28 2003-02-28 2004-02-28 2005-02-28 2006-02-28 2007-02-28 2008-02-28 2009-02-28 regression done !\n",
      "regression start scale[269,270]\n",
      "2000-02-28 2001-02-28 2002-02-28 2003-02-28 2004-02-28 2005-02-28 2006-02-28 2007-02-28 2008-02-28 2009-02-28 regression start scale[269,270]\n",
      "2010-02-28 2011-02-28 2012-02-28 2013-02-28 2014-02-28 2015-02-28 2016-02-28 2017-02-28 2018-02-28 regression done !\n",
      "attempt to get argmax of an empty sequence\n",
      "attempt to get argmax of an empty sequence\n",
      "attempt to get argmax of an empty sequence\n",
      "regression start scale[270,271]\n"
     ]
    },
    {
     "name": "stderr",
     "output_type": "stream",
     "text": [
      "/opt/conda/lib/python3.6/site-packages/numpy/core/fromnumeric.py:2909: RuntimeWarning: Mean of empty slice.\n",
      "  out=out, **kwargs)\n",
      "/opt/conda/lib/python3.6/site-packages/numpy/core/_methods.py:80: RuntimeWarning: invalid value encountered in true_divide\n",
      "  ret = ret.dtype.type(ret / rcount)\n",
      "/opt/conda/lib/python3.6/site-packages/ipykernel_launcher.py:24: RuntimeWarning: divide by zero encountered in true_divide\n"
     ]
    },
    {
     "name": "stdout",
     "output_type": "stream",
     "text": [
      "2000-02-28 2001-02-28 2002-02-28 2003-02-28 2004-02-28 2005-02-28 2006-02-28 2007-02-28 2008-02-28 2009-02-28 regression done !\n",
      "regression start scale[271,272]\n",
      "2000-02-28 2001-02-28 2002-02-28 2003-02-28 2004-02-28 2005-02-28 2006-02-28 2007-02-28 2008-02-28 2009-02-28 regression start scale[270,271]\n"
     ]
    },
    {
     "name": "stderr",
     "output_type": "stream",
     "text": [
      "/opt/conda/lib/python3.6/site-packages/ipykernel_launcher.py:132: RuntimeWarning: divide by zero encountered in double_scalars\n"
     ]
    },
    {
     "name": "stdout",
     "output_type": "stream",
     "text": [
      "2000-02-28 2001-02-28 2002-02-28 2003-02-28 2004-02-28 2005-02-28 2006-02-28 2007-02-28 2008-02-28 2009-02-28 regression done !\n",
      "regression start scale[271,272]\n",
      "2000-02-28 2001-02-28 2002-02-28 2003-02-28 2004-02-28 2005-02-28 2006-02-28 2007-02-28 2008-02-28 2009-02-28 regression start scale[272,273]\n",
      "2010-02-28 2011-02-28 2012-02-28 2013-02-28 2014-02-28 2015-02-28 2016-02-28 2017-02-28 2018-02-28 regression done !\n",
      "regression start scale[272,273]\n",
      "2000-02-28 2001-02-28 2002-02-28 2003-02-28 2004-02-28 2005-02-28 2006-02-28 2007-02-28 2008-02-28 2009-02-28 regression done !\n",
      "regression start scale[273,274]\n",
      "2010-02-28 2011-02-28 2012-02-28 2013-02-28 2014-02-28 2015-02-28 2016-02-28 2017-02-28 2018-02-28 regression done !\n",
      "regression start scale[273,274]\n",
      "2000-02-28 2001-02-28 2002-02-28 2003-02-28 2004-02-28 2005-02-28 2006-02-28 2007-02-28 2008-02-28 2009-02-28 regression done !\n",
      "regression start scale[274,275]\n",
      "2010-02-28 2011-02-28 2012-02-28 2013-02-28 2014-02-28 2015-02-28 2016-02-28 2017-02-28 2018-02-28 regression done !\n",
      "attempt to get argmax of an empty sequence\n",
      "regression start scale[274,275]\n",
      "2000-02-28 2001-02-28 2002-02-28 2003-02-28 2004-02-28 2005-02-28 2006-02-28 2007-02-28 2008-02-28 2009-02-28 regression start scale[275,276]\n",
      "2010-02-28 2011-02-28 2012-02-28 2013-02-28 2014-02-28 2015-02-28 2016-02-28 2017-02-28 2018-02-28 regression done !\n",
      "regression start scale[275,276]\n",
      "2010-02-28 2011-02-28 2012-02-28 2013-02-28 2014-02-28 2015-02-28 2016-02-28 2017-02-28 2018-02-28 regression done !\n",
      "regression start scale[276,277]\n",
      "2010-02-28 2011-02-28 2012-02-28 2013-02-28 2014-02-28 2015-02-28 2016-02-28 2017-02-28 2018-02-28 regression done !\n",
      "attempt to get argmax of an empty sequence\n",
      "attempt to get argmax of an empty sequence\n",
      "regression start scale[276,277]\n"
     ]
    },
    {
     "name": "stderr",
     "output_type": "stream",
     "text": [
      "/opt/conda/lib/python3.6/site-packages/numpy/core/fromnumeric.py:2909: RuntimeWarning: Mean of empty slice.\n",
      "  out=out, **kwargs)\n",
      "/opt/conda/lib/python3.6/site-packages/numpy/core/_methods.py:80: RuntimeWarning: invalid value encountered in true_divide\n",
      "  ret = ret.dtype.type(ret / rcount)\n"
     ]
    },
    {
     "name": "stdout",
     "output_type": "stream",
     "text": [
      "2010-02-28 2011-02-28 2012-02-28 2013-02-28 2014-02-28 2015-02-28 2016-02-28 2017-02-28 2018-02-28 regression done !\n",
      "regression start scale[277,278]\n"
     ]
    },
    {
     "name": "stderr",
     "output_type": "stream",
     "text": [
      "/opt/conda/lib/python3.6/site-packages/numpy/core/fromnumeric.py:2909: RuntimeWarning: Mean of empty slice.\n",
      "  out=out, **kwargs)\n",
      "/opt/conda/lib/python3.6/site-packages/numpy/core/_methods.py:80: RuntimeWarning: invalid value encountered in true_divide\n",
      "  ret = ret.dtype.type(ret / rcount)\n",
      "/opt/conda/lib/python3.6/site-packages/ipykernel_launcher.py:24: RuntimeWarning: divide by zero encountered in true_divide\n",
      "/opt/conda/lib/python3.6/site-packages/ipykernel_launcher.py:132: RuntimeWarning: divide by zero encountered in double_scalars\n"
     ]
    },
    {
     "name": "stdout",
     "output_type": "stream",
     "text": [
      "2000-02-28 2001-02-28 2002-02-28 2003-02-28 2004-02-28 2005-02-28 2006-02-28 2007-02-28 2008-02-28 2009-02-28 regression done !\n"
     ]
    },
    {
     "name": "stderr",
     "output_type": "stream",
     "text": [
      "/opt/conda/lib/python3.6/site-packages/numpy/core/fromnumeric.py:2909: RuntimeWarning: Mean of empty slice.\n",
      "  out=out, **kwargs)\n",
      "/opt/conda/lib/python3.6/site-packages/numpy/core/_methods.py:80: RuntimeWarning: invalid value encountered in true_divide\n",
      "  ret = ret.dtype.type(ret / rcount)\n"
     ]
    },
    {
     "name": "stdout",
     "output_type": "stream",
     "text": [
      "regression start scale[277,278]\n",
      "2010-02-28 2011-02-28 2012-02-28 2013-02-28 2014-02-28 2015-02-28 2016-02-28 2017-02-28 2018-02-28 regression done !\n",
      "regression start scale[278,279]\n",
      "2000-02-28 2001-02-28 2002-02-28 2003-02-28 2004-02-28 2005-02-28 2006-02-28 2007-02-28 2008-02-28 2009-02-28 regression done !\n",
      "regression start scale[278,279]\n",
      "2000-02-28 2001-02-28 2002-02-28 2003-02-28 2004-02-28 2005-02-28 2006-02-28 2007-02-28 2008-02-28 2009-02-28 regression start scale[279,280]\n",
      "2000-02-28 2001-02-28 2002-02-28 2003-02-28 2004-02-28 2005-02-28 2006-02-28 2007-02-28 2008-02-28 2009-02-28 regression start scale[279,280]\n",
      "2000-02-28 2001-02-28 2002-02-28 2003-02-28 2004-02-28 2005-02-28 2006-02-28 2007-02-28 2008-02-28 2009-02-28 regression done !\n",
      "regression start scale[280,281]\n",
      "2010-02-28 2011-02-28 2012-02-28 2013-02-28 2014-02-28 2015-02-28 2016-02-28 2017-02-28 2018-02-28 regression done !\n",
      "regression start scale[280,281]\n",
      "2010-02-28 2011-02-28 2012-02-28 2013-02-28 2014-02-28 2015-02-28 2016-02-28 2017-02-28 2018-02-28 regression done !\n",
      "regression start scale[281,282]\n",
      "2010-02-28 2011-02-28 2012-02-28 2013-02-28 2014-02-28 2015-02-28 2016-02-28 2017-02-28 2018-02-28 regression done !\n",
      "regression start scale[281,282]\n",
      "2000-02-28 2001-02-28 2002-02-28 2003-02-28 2004-02-28 2005-02-28 2006-02-28 2007-02-28 2008-02-28 2009-02-28 regression done !\n",
      "attempt to get argmax of an empty sequence\n",
      "regression start scale[282,283]\n",
      "2010-02-28 2011-02-28 2012-02-28 2013-02-28 2014-02-28 2015-02-28 2016-02-28 2017-02-28 2018-02-28 regression done !\n",
      "regression start scale[282,283]\n"
     ]
    },
    {
     "name": "stderr",
     "output_type": "stream",
     "text": [
      "/opt/conda/lib/python3.6/site-packages/numpy/core/fromnumeric.py:2909: RuntimeWarning: Mean of empty slice.\n",
      "  out=out, **kwargs)\n",
      "/opt/conda/lib/python3.6/site-packages/numpy/core/_methods.py:80: RuntimeWarning: invalid value encountered in true_divide\n",
      "  ret = ret.dtype.type(ret / rcount)\n",
      "/opt/conda/lib/python3.6/site-packages/ipykernel_launcher.py:24: RuntimeWarning: divide by zero encountered in true_divide\n",
      "/opt/conda/lib/python3.6/site-packages/ipykernel_launcher.py:132: RuntimeWarning: divide by zero encountered in double_scalars\n"
     ]
    },
    {
     "name": "stdout",
     "output_type": "stream",
     "text": [
      "2000-02-28 2001-02-28 2002-02-28 2003-02-28 2004-02-28 2005-02-28 2006-02-28 2007-02-28 2008-02-28 2009-02-28 regression done !\n",
      "regression start scale[283,284]\n",
      "2010-02-28 2011-02-28 2012-02-28 2013-02-28 2014-02-28 2015-02-28 2016-02-28 2017-02-28 2018-02-28 regression done !\n",
      "regression start scale[283,284]\n",
      "2000-02-28 2001-02-28 2002-02-28 2003-02-28 2004-02-28 2005-02-28 2006-02-28 2007-02-28 2008-02-28 2009-02-28 regression start scale[284,285]\n",
      "2000-02-28 2001-02-28 2002-02-28 2003-02-28 2004-02-28 2005-02-28 2006-02-28 2007-02-28 2008-02-28 2009-02-28 regression done !\n",
      "regression start scale[284,285]\n",
      "2000-02-28 2001-02-28 2002-02-28 2003-02-28 2004-02-28 2005-02-28 2006-02-28 2007-02-28 2008-02-28 2009-02-28 regression start scale[285,286]\n",
      "2000-02-28 2001-02-28 2002-02-28 2003-02-28 2004-02-28 2005-02-28 2006-02-28 2007-02-28 2008-02-28 2009-02-28 regression start scale[285,286]\n",
      "2010-02-28 2011-02-28 2012-02-28 2013-02-28 2014-02-28 2015-02-28 2016-02-28 2017-02-28 2018-02-28 regression done !\n",
      "attempt to get argmax of an empty sequence\n",
      "attempt to get argmax of an empty sequence\n",
      "regression start scale[286,287]\n",
      "2010-02-28 2011-02-28 2012-02-28 2013-02-28 2014-02-28 2015-02-28 2016-02-28 2017-02-28 2018-02-28 regression done !\n",
      "regression start scale[286,287]\n",
      "2000-02-28 2001-02-28 2002-02-28 2003-02-28 2004-02-28 2005-02-28 2006-02-28 2007-02-28 2008-02-28 2009-02-28 regression done !\n",
      "regression start scale[287,288]\n",
      "2010-02-28 2011-02-28 2012-02-28 2013-02-28 2014-02-28 2015-02-28 2016-02-28 2017-02-28 2018-02-28 regression done !\n",
      "regression start scale[287,288]\n",
      "2010-02-28 2011-02-28 2012-02-28 2013-02-28 2014-02-28 2015-02-28 2016-02-28 2017-02-28 2018-02-28 regression done !\n",
      "regression start scale[288,289]\n",
      "2010-02-28 2011-02-28 2012-02-28 2013-02-28 2014-02-28 2015-02-28 2016-02-28 2017-02-28 2018-02-28 regression done !\n",
      "2010-02-28 2011-02-28 2012-02-28 2013-02-28 2014-02-28 2015-02-28 2016-02-28 2017-02-28 2018-02-28 regression done !\n",
      "regression start scale[288,289]\n",
      "regression start scale[289,290]\n",
      "2000-02-28 2001-02-28 2002-02-28 2003-02-28 2004-02-28 2005-02-28 2006-02-28 2007-02-28 2008-02-28 2009-02-28 regression done !\n",
      "attempt to get argmax of an empty sequence\n",
      "attempt to get argmax of an empty sequence\n",
      "regression start scale[289,290]\n",
      "2000-02-28 2001-02-28 2002-02-28 2003-02-28 2004-02-28 2005-02-28 2006-02-28 2007-02-28 2008-02-28 2009-02-28 regression done !\n",
      "regression start scale[290,291]\n",
      "2010-02-28 2011-02-28 2012-02-28 2013-02-28 2014-02-28 2015-02-28 2016-02-28 2017-02-28 2018-02-28 regression done !\n",
      "attempt to get argmax of an empty sequence\n",
      "regression start scale[290,291]\n",
      "2000-02-28 2001-02-28 2002-02-28 2003-02-28 2004-02-28 2005-02-28 2006-02-28 2007-02-28 2008-02-28 2009-02-28 regression start scale[291,292]\n",
      "2010-02-28 2011-02-28 2012-02-28 2013-02-28 2014-02-28 2015-02-28 2016-02-28 2017-02-28 2018-02-28 regression done !\n"
     ]
    },
    {
     "name": "stderr",
     "output_type": "stream",
     "text": [
      "/opt/conda/lib/python3.6/site-packages/numpy/core/fromnumeric.py:2909: RuntimeWarning: Mean of empty slice.\n",
      "  out=out, **kwargs)\n",
      "/opt/conda/lib/python3.6/site-packages/numpy/core/_methods.py:80: RuntimeWarning: invalid value encountered in true_divide\n",
      "  ret = ret.dtype.type(ret / rcount)\n"
     ]
    },
    {
     "name": "stdout",
     "output_type": "stream",
     "text": [
      "regression start scale[291,292]\n",
      "2000-02-28 2001-02-28 2002-02-28 2003-02-28 2004-02-28 2005-02-28 2006-02-28 2007-02-28 2008-02-28 2009-02-28 regression done !\n",
      "2000-02-28 2001-02-28 2002-02-28 2003-02-28 2004-02-28 2005-02-28 2006-02-28 2007-02-28 2008-02-28 2009-02-28 regression start scale[292,293]\n",
      "regression start scale[292,293]\n",
      "2000-02-28 2001-02-28 2002-02-28 2003-02-28 2004-02-28 2005-02-28 2006-02-28 2007-02-28 2008-02-28 2009-02-28 regression start scale[293,294]\n",
      "2010-02-28 2011-02-28 2012-02-28 2013-02-28 2014-02-28 2015-02-28 2016-02-28 2017-02-28 2018-02-28 regression done !\n",
      "regression start scale[293,294]\n",
      "2000-02-28 2001-02-28 2002-02-28 2003-02-28 2004-02-28 2005-02-28 2006-02-28 2007-02-28 2008-02-28 2009-02-28 regression done !\n",
      "regression start scale[294,295]\n",
      "2000-02-28 2001-02-28 2002-02-28 2003-02-28 2004-02-28 2005-02-28 2006-02-28 2007-02-28 2008-02-28 2009-02-28 regression done !\n",
      "regression start scale[294,295]\n"
     ]
    },
    {
     "name": "stderr",
     "output_type": "stream",
     "text": [
      "/opt/conda/lib/python3.6/site-packages/numpy/core/fromnumeric.py:2909: RuntimeWarning: Mean of empty slice.\n",
      "  out=out, **kwargs)\n",
      "/opt/conda/lib/python3.6/site-packages/numpy/core/_methods.py:80: RuntimeWarning: invalid value encountered in true_divide\n",
      "  ret = ret.dtype.type(ret / rcount)\n"
     ]
    },
    {
     "name": "stdout",
     "output_type": "stream",
     "text": [
      "2010-02-28 2011-02-28 2012-02-28 2013-02-28 2014-02-28 2015-02-28 2016-02-28 2017-02-28 2018-02-28 regression done !\n",
      "regression start scale[295,296]\n",
      "2010-02-28 2011-02-28 2012-02-28 2013-02-28 2014-02-28 2015-02-28 2016-02-28 2017-02-28 2018-02-28 regression done !\n",
      "regression start scale[295,296]\n",
      "2010-02-28 2011-02-28 2012-02-28 2013-02-28 2014-02-28 2015-02-28 2016-02-28 2017-02-28 2018-02-28 regression done !\n",
      "2010-02-28 2011-02-28 2012-02-28 2013-02-28 2014-02-28 2015-02-28 2016-02-28 2017-02-28 2018-02-28 regression done !\n",
      "regression start scale[296,297]\n",
      "regression start scale[296,297]\n",
      "2010-02-28 2011-02-28 2012-02-28 2013-02-28 2014-02-28 2015-02-28 2016-02-28 2017-02-28 2018-02-28 regression done !\n",
      "attempt to get argmax of an empty sequence\n"
     ]
    },
    {
     "name": "stderr",
     "output_type": "stream",
     "text": [
      "/opt/conda/lib/python3.6/site-packages/numpy/core/fromnumeric.py:2909: RuntimeWarning: Mean of empty slice.\n",
      "  out=out, **kwargs)\n",
      "/opt/conda/lib/python3.6/site-packages/numpy/core/_methods.py:80: RuntimeWarning: invalid value encountered in true_divide\n",
      "  ret = ret.dtype.type(ret / rcount)\n",
      "/opt/conda/lib/python3.6/site-packages/ipykernel_launcher.py:24: RuntimeWarning: divide by zero encountered in true_divide\n"
     ]
    },
    {
     "name": "stdout",
     "output_type": "stream",
     "text": [
      "2010-02-28 2011-02-28 2012-02-28 2013-02-28 2014-02-28 2015-02-28 2016-02-28 2017-02-28 2018-02-28 regression done !\n",
      "regression start scale[297,298]\n",
      "attempt to get argmax of an empty sequence\n",
      "attempt to get argmax of an empty sequence\n",
      "regression start scale[297,298]\n"
     ]
    },
    {
     "name": "stderr",
     "output_type": "stream",
     "text": [
      "/opt/conda/lib/python3.6/site-packages/numpy/core/fromnumeric.py:2909: RuntimeWarning: Mean of empty slice.\n",
      "  out=out, **kwargs)\n",
      "/opt/conda/lib/python3.6/site-packages/numpy/core/_methods.py:80: RuntimeWarning: invalid value encountered in true_divide\n",
      "  ret = ret.dtype.type(ret / rcount)\n",
      "/opt/conda/lib/python3.6/site-packages/ipykernel_launcher.py:24: RuntimeWarning: divide by zero encountered in true_divide\n",
      "/opt/conda/lib/python3.6/site-packages/ipykernel_launcher.py:132: RuntimeWarning: divide by zero encountered in double_scalars\n"
     ]
    },
    {
     "name": "stdout",
     "output_type": "stream",
     "text": [
      "2000-02-28 2001-02-28 2002-02-28 2003-02-28 2004-02-28 2005-02-28 2006-02-28 2007-02-28 2008-02-28 2009-02-28 regression done !\n",
      "regression start scale[298,299]\n"
     ]
    },
    {
     "name": "stderr",
     "output_type": "stream",
     "text": [
      "/opt/conda/lib/python3.6/site-packages/ipykernel_launcher.py:132: RuntimeWarning: divide by zero encountered in double_scalars\n"
     ]
    },
    {
     "name": "stdout",
     "output_type": "stream",
     "text": [
      "2000-02-28 2001-02-28 2002-02-28 2003-02-28 2004-02-28 2005-02-28 2006-02-28 2007-02-28 2008-02-28 2009-02-28 regression done !\n",
      "regression start scale[298,299]\n",
      "2000-02-28 2001-02-28 2002-02-28 2003-02-28 2004-02-28 2005-02-28 2006-02-28 2007-02-28 2008-02-28 2009-02-28 regression start scale[299,300]\n",
      "2000-02-28 2001-02-28 2002-02-28 2003-02-28 2004-02-28 2005-02-28 2006-02-28 2007-02-28 2008-02-28 2009-02-28 regression start scale[299,300]\n"
     ]
    },
    {
     "name": "stderr",
     "output_type": "stream",
     "text": [
      "/opt/conda/lib/python3.6/site-packages/ipykernel_launcher.py:91: RuntimeWarning: divide by zero encountered in double_scalars\n"
     ]
    },
    {
     "name": "stdout",
     "output_type": "stream",
     "text": [
      "2000-02-28 2001-02-28 2002-02-28 2003-02-28 2004-02-28 2005-02-28 2006-02-28 regression start scale[300,301]\n",
      "2000-02-28 2001-02-28 2002-02-28 2003-02-28 2004-02-28 2005-02-28 2006-02-28 2007-02-28 2008-02-28 2009-02-28 regression done !\n",
      "regression start scale[300,301]\n",
      "2010-02-28 2011-02-28 2012-02-28 2013-02-28 2014-02-28 2015-02-28 2016-02-28 2017-02-28 2018-02-28 regression done !\n",
      "regression start scale[301,302]\n",
      "2010-02-28 2011-02-28 2012-02-28 2013-02-28 2014-02-28 2015-02-28 2016-02-28 2017-02-28 2018-02-28 regression start scale[301,302]\n"
     ]
    },
    {
     "name": "stderr",
     "output_type": "stream",
     "text": [
      "/opt/conda/lib/python3.6/site-packages/numpy/core/fromnumeric.py:2909: RuntimeWarning: Mean of empty slice.\n",
      "  out=out, **kwargs)\n",
      "/opt/conda/lib/python3.6/site-packages/numpy/core/_methods.py:80: RuntimeWarning: invalid value encountered in true_divide\n",
      "  ret = ret.dtype.type(ret / rcount)\n"
     ]
    },
    {
     "name": "stdout",
     "output_type": "stream",
     "text": [
      "2000-02-28 2001-02-28 2002-02-28 2003-02-28 2004-02-28 2005-02-28 2006-02-28 2007-02-28 2008-02-28 2009-02-28 regression done !\n",
      "regression start scale[302,303]\n",
      "2010-02-28 2011-02-28 2012-02-28 2013-02-28 2014-02-28 2015-02-28 2016-02-28 2017-02-28 2018-02-28 regression done !\n",
      "regression start scale[302,303]\n",
      "2000-02-28 2001-02-28 2002-02-28 2003-02-28 2004-02-28 2005-02-28 2006-02-28 2007-02-28 2008-02-28 2009-02-28 regression done !\n",
      "attempt to get argmax of an empty sequence\n",
      "regression start scale[303,304]\n",
      "2010-02-28 2011-02-28 2012-02-28 2013-02-28 2014-02-28 2015-02-28 2016-02-28 2017-02-28 2018-02-28 regression done !\n",
      "regression start scale[303,304]\n",
      "2010-02-28 2011-02-28 2012-02-28 2013-02-28 2014-02-28 2015-02-28 2016-02-28 2017-02-28 2018-02-28 regression done !\n",
      "regression start scale[304,305]\n",
      "2010-02-28 2011-02-28 2012-02-28 2013-02-28 2014-02-28 2015-02-28 2016-02-28 2017-02-28 2018-02-28 regression done !\n",
      "2010-02-28 2011-02-28 2012-02-28 2013-02-28 2014-02-28 2015-02-28 2016-02-28 2017-02-28 2018-02-28 regression done !\n",
      "attempt to get argmax of an empty sequence\n",
      "attempt to get argmax of an empty sequence\n",
      "regression start scale[305,306]\n",
      "regression start scale[304,305]\n",
      "2000-02-28 2001-02-28 2002-02-28 2003-02-28 2004-02-28 2005-02-28 2006-02-28 2007-02-28 2008-02-28 2009-02-28 regression done !\n",
      "2010-02-28 2011-02-28 2012-02-28 2013-02-28 2014-02-28 2015-02-28 2016-02-28 2017-02-28 2018-02-28 regression done !\n",
      "regression start scale[305,306]\n",
      "regression start scale[306,307]\n",
      "2000-02-28 2001-02-28 2002-02-28 2003-02-28 2004-02-28 2005-02-28 2006-02-28 2007-02-28 2008-02-28 2009-02-28 regression start scale[306,307]\n",
      "2000-02-28 2001-02-28 2002-02-28 2003-02-28 2004-02-28 2005-02-28 2006-02-28 2007-02-28 2008-02-28 2009-02-28 regression start scale[307,308]\n"
     ]
    },
    {
     "name": "stderr",
     "output_type": "stream",
     "text": [
      "/opt/conda/lib/python3.6/site-packages/numpy/core/fromnumeric.py:2909: RuntimeWarning: Mean of empty slice.\n",
      "  out=out, **kwargs)\n",
      "/opt/conda/lib/python3.6/site-packages/numpy/core/_methods.py:80: RuntimeWarning: invalid value encountered in true_divide\n",
      "  ret = ret.dtype.type(ret / rcount)\n",
      "/opt/conda/lib/python3.6/site-packages/ipykernel_launcher.py:24: RuntimeWarning: divide by zero encountered in true_divide\n",
      "/opt/conda/lib/python3.6/site-packages/ipykernel_launcher.py:132: RuntimeWarning: divide by zero encountered in double_scalars\n"
     ]
    },
    {
     "name": "stdout",
     "output_type": "stream",
     "text": [
      "2000-02-28 2001-02-28 2002-02-28 2003-02-28 2004-02-28 2005-02-28 2006-02-28 2007-02-28 2008-02-28 2009-02-28 regression done !\n",
      "regression start scale[307,308]\n"
     ]
    },
    {
     "name": "stderr",
     "output_type": "stream",
     "text": [
      "/opt/conda/lib/python3.6/site-packages/numpy/core/fromnumeric.py:2909: RuntimeWarning: Mean of empty slice.\n",
      "  out=out, **kwargs)\n",
      "/opt/conda/lib/python3.6/site-packages/numpy/core/_methods.py:80: RuntimeWarning: invalid value encountered in true_divide\n",
      "  ret = ret.dtype.type(ret / rcount)\n"
     ]
    },
    {
     "name": "stdout",
     "output_type": "stream",
     "text": [
      "2000-02-28 2001-02-28 2002-02-28 2003-02-28 2004-02-28 2005-02-28 2006-02-28 2007-02-28 2008-02-28 2009-02-28 regression done !\n",
      "regression start scale[308,309]\n",
      "2010-02-28 2011-02-28 2012-02-28 2013-02-28 2014-02-28 2015-02-28 2016-02-28 2017-02-28 2018-02-28 regression done !\n",
      "regression start scale[308,309]\n",
      "2010-02-28 2011-02-28 2012-02-28 2013-02-28 2014-02-28 2015-02-28 2016-02-28 2017-02-28 2018-02-28 regression done !\n",
      "regression start scale[309,310]\n",
      "2010-02-28 2011-02-28 2012-02-28 2013-02-28 2014-02-28 2015-02-28 2016-02-28 2017-02-28 2018-02-28 regression done !\n",
      "regression start scale[309,310]\n",
      "2010-02-28 2011-02-28 2012-02-28 2013-02-28 2014-02-28 2015-02-28 2016-02-28 2017-02-28 2018-02-28 regression done !\n",
      "regression start scale[310,311]\n",
      "2010-02-28 2011-02-28 2012-02-28 2013-02-28 2014-02-28 2015-02-28 2016-02-28 2017-02-28 2018-02-28 regression done !\n",
      "regression start scale[310,311]\n"
     ]
    },
    {
     "name": "stderr",
     "output_type": "stream",
     "text": [
      "/opt/conda/lib/python3.6/site-packages/numpy/core/fromnumeric.py:2909: RuntimeWarning: Mean of empty slice.\n",
      "  out=out, **kwargs)\n",
      "/opt/conda/lib/python3.6/site-packages/numpy/core/_methods.py:80: RuntimeWarning: invalid value encountered in true_divide\n",
      "  ret = ret.dtype.type(ret / rcount)\n"
     ]
    },
    {
     "name": "stdout",
     "output_type": "stream",
     "text": [
      "2000-02-28 2001-02-28 2002-02-28 2003-02-28 2004-02-28 2005-02-28 2006-02-28 2007-02-28 2008-02-28 2009-02-28 regression done !\n",
      "cannot convert float infinity to integer\n",
      "attempt to get argmax of an empty sequence\n",
      "attempt to get argmax of an empty sequence\n",
      "regression start scale[311,312]\n",
      "2000-02-28 2001-02-28 2002-02-28 2003-02-28 2004-02-28 2005-02-28 2006-02-28 2007-02-28 2008-02-28 2009-02-28 regression done !\n",
      "regression start scale[311,312]\n",
      "2010-02-28 2011-02-28 2012-02-28 2013-02-28 2014-02-28 2015-02-28 2016-02-28 2017-02-28 2018-02-28 regression done !\n",
      "regression start scale[312,313]\n",
      "2000-02-28 2001-02-28 2002-02-28 2003-02-28 2004-02-28 2005-02-28 2006-02-28 2007-02-28 2008-02-28 2009-02-28 regression start scale[312,313]\n",
      "2010-02-28 2011-02-28 2012-02-28 2013-02-28 2014-02-28 2015-02-28 2016-02-28 2017-02-28 2018-02-28 regression done !\n",
      "regression start scale[313,314]\n",
      "2000-02-28 2001-02-28 2002-02-28 2003-02-28 2004-02-28 2005-02-28 2006-02-28 2007-02-28 2008-02-28 2009-02-28 regression start scale[313,314]\n",
      "2000-02-28 2001-02-28 2002-02-28 2003-02-28 2004-02-28 2005-02-28 2006-02-28 2007-02-28 2008-02-28 2009-02-28 regression done !\n",
      "regression start scale[314,315]\n"
     ]
    },
    {
     "name": "stderr",
     "output_type": "stream",
     "text": [
      "/opt/conda/lib/python3.6/site-packages/numpy/core/fromnumeric.py:2909: RuntimeWarning: Mean of empty slice.\n",
      "  out=out, **kwargs)\n",
      "/opt/conda/lib/python3.6/site-packages/numpy/core/_methods.py:80: RuntimeWarning: invalid value encountered in true_divide\n",
      "  ret = ret.dtype.type(ret / rcount)\n",
      "/opt/conda/lib/python3.6/site-packages/ipykernel_launcher.py:24: RuntimeWarning: divide by zero encountered in true_divide\n",
      "/opt/conda/lib/python3.6/site-packages/ipykernel_launcher.py:132: RuntimeWarning: divide by zero encountered in double_scalars\n"
     ]
    },
    {
     "name": "stdout",
     "output_type": "stream",
     "text": [
      "2000-02-28 2001-02-28 2002-02-28 2003-02-28 2004-02-28 2005-02-28 2006-02-28 2007-02-28 2008-02-28 2009-02-28 regression done !\n",
      "regression start scale[314,315]\n",
      "2000-02-28 2001-02-28 2002-02-28 2003-02-28 2004-02-28 2005-02-28 2006-02-28 2007-02-28 2008-02-28 2009-02-28 regression start scale[315,316]\n",
      "2010-02-28 2011-02-28 2012-02-28 2013-02-28 2014-02-28 2015-02-28 2016-02-28 2017-02-28 2018-02-28 regression done !\n",
      "regression start scale[315,316]\n"
     ]
    },
    {
     "name": "stderr",
     "output_type": "stream",
     "text": [
      "/opt/conda/lib/python3.6/site-packages/numpy/core/fromnumeric.py:2909: RuntimeWarning: Mean of empty slice.\n",
      "  out=out, **kwargs)\n",
      "/opt/conda/lib/python3.6/site-packages/numpy/core/_methods.py:80: RuntimeWarning: invalid value encountered in true_divide\n",
      "  ret = ret.dtype.type(ret / rcount)\n"
     ]
    },
    {
     "name": "stdout",
     "output_type": "stream",
     "text": [
      "2010-02-28 2011-02-28 2012-02-28 2013-02-28 2014-02-28 2015-02-28 2016-02-28 2017-02-28 2018-02-28 regression done !\n",
      "regression start scale[316,317]\n",
      "2010-02-28 2011-02-28 2012-02-28 2013-02-28 2014-02-28 2015-02-28 2016-02-28 2017-02-28 2018-02-28 regression done !\n",
      "regression start scale[316,317]\n",
      "2010-02-28 2011-02-28 2012-02-28 2013-02-28 2014-02-28 2015-02-28 2016-02-28 2017-02-28 2018-02-28 regression done !\n",
      "regression start scale[317,318]\n",
      "2010-02-28 2011-02-28 2012-02-28 2013-02-28 2014-02-28 2015-02-28 2016-02-28 2017-02-28 2018-02-28 regression done !\n",
      "2000-02-28 2001-02-28 2002-02-28 2003-02-28 2004-02-28 2005-02-28 2006-02-28 2007-02-28 2008-02-28 2009-02-28 regression done !\n",
      "attempt to get argmax of an empty sequence\n",
      "regression start scale[317,318]\n",
      "regression start scale[318,319]\n",
      "2000-02-28 2001-02-28 2002-02-28 2003-02-28 2004-02-28 2005-02-28 2006-02-28 2007-02-28 2008-02-28 2009-02-28 regression done !\n",
      "2000-02-28 2001-02-28 2002-02-28 2003-02-28 2004-02-28 2005-02-28 2006-02-28 2007-02-28 2008-02-28 2009-02-28 regression start scale[318,319]\n",
      "regression start scale[319,320]\n",
      "2010-02-28 2011-02-28 2012-02-28 2013-02-28 2014-02-28 2015-02-28 2016-02-28 2017-02-28 2018-02-28 regression done !\n",
      "regression start scale[319,320]\n",
      "2000-02-28 2001-02-28 2002-02-28 2003-02-28 2004-02-28 2005-02-28 2006-02-28 2007-02-28 2008-02-28 2009-02-28 regression start scale[320,321]\n"
     ]
    },
    {
     "name": "stderr",
     "output_type": "stream",
     "text": [
      "/opt/conda/lib/python3.6/site-packages/numpy/core/fromnumeric.py:2909: RuntimeWarning: Mean of empty slice.\n",
      "  out=out, **kwargs)\n",
      "/opt/conda/lib/python3.6/site-packages/numpy/core/_methods.py:80: RuntimeWarning: invalid value encountered in true_divide\n",
      "  ret = ret.dtype.type(ret / rcount)\n",
      "/opt/conda/lib/python3.6/site-packages/ipykernel_launcher.py:24: RuntimeWarning: divide by zero encountered in true_divide\n",
      "/opt/conda/lib/python3.6/site-packages/ipykernel_launcher.py:132: RuntimeWarning: divide by zero encountered in double_scalars\n"
     ]
    },
    {
     "name": "stdout",
     "output_type": "stream",
     "text": [
      "2000-02-28 2001-02-28 2002-02-28 2003-02-28 2004-02-28 2005-02-28 2006-02-28 2007-02-28 2008-02-28 2009-02-28 regression done !\n",
      "2000-02-28 2001-02-28 2002-02-28 2003-02-28 2004-02-28 2005-02-28 2006-02-28 2007-02-28 2008-02-28 2009-02-28 regression done !\n",
      "regression start scale[320,321]\n",
      "2010-02-28 2011-02-28 2012-02-28 2013-02-28 2014-02-28 2015-02-28 2016-02-28 2017-02-28 2018-02-28 regression done !\n",
      "regression start scale[321,322]\n",
      "attempt to get argmax of an empty sequence\n",
      "attempt to get argmax of an empty sequence\n",
      "regression start scale[321,322]\n",
      "2010-02-28 2011-02-28 2012-02-28 2013-02-28 2014-02-28 2015-02-28 2016-02-28 2017-02-28 2018-02-28 regression done !\n",
      "regression start scale[322,323]\n",
      "2010-02-28 2011-02-28 2012-02-28 2013-02-28 2014-02-28 2015-02-28 2016-02-28 2017-02-28 2018-02-28 regression done !\n",
      "regression start scale[322,323]\n",
      "2000-02-28 2001-02-28 2002-02-28 2003-02-28 2004-02-28 2005-02-28 2006-02-28 2007-02-28 2008-02-28 2009-02-28 regression done !\n",
      "regression start scale[323,324]\n",
      "2010-02-28 2011-02-28 2012-02-28 2013-02-28 2014-02-28 2015-02-28 2016-02-28 2017-02-28 2018-02-28 regression done !\n",
      "regression start scale[323,324]\n",
      "2010-02-28 2011-02-28 2012-02-28 2013-02-28 2014-02-28 2015-02-28 2016-02-28 2017-02-28 2018-02-28 regression done !\n",
      "regression start scale[324,325]\n",
      "2010-02-28 2011-02-28 2012-02-28 2013-02-28 2014-02-28 2015-02-28 2016-02-28 2017-02-28 2018-02-28 regression start scale[324,325]\n",
      "2000-02-28 2001-02-28 2002-02-28 2003-02-28 2004-02-28 2005-02-28 2006-02-28 2007-02-28 2008-02-28 2009-02-28 regression done !\n",
      "regression start scale[325,326]\n",
      "2010-02-28 2011-02-28 2012-02-28 2013-02-28 2014-02-28 2015-02-28 2016-02-28 2017-02-28 2018-02-28 regression done !\n",
      "regression start scale[325,326]\n",
      "2000-02-28 2001-02-28 2002-02-28 2003-02-28 2004-02-28 2005-02-28 2006-02-28 2007-02-28 2008-02-28 2009-02-28 regression start scale[326,327]\n"
     ]
    },
    {
     "name": "stderr",
     "output_type": "stream",
     "text": [
      "/opt/conda/lib/python3.6/site-packages/numpy/core/fromnumeric.py:2909: RuntimeWarning: Mean of empty slice.\n",
      "  out=out, **kwargs)\n",
      "/opt/conda/lib/python3.6/site-packages/numpy/core/_methods.py:80: RuntimeWarning: invalid value encountered in true_divide\n",
      "  ret = ret.dtype.type(ret / rcount)\n",
      "/opt/conda/lib/python3.6/site-packages/ipykernel_launcher.py:24: RuntimeWarning: divide by zero encountered in true_divide\n",
      "/opt/conda/lib/python3.6/site-packages/ipykernel_launcher.py:132: RuntimeWarning: divide by zero encountered in double_scalars\n"
     ]
    },
    {
     "name": "stdout",
     "output_type": "stream",
     "text": [
      "2000-02-28 2001-02-28 2002-02-28 2003-02-28 2004-02-28 2005-02-28 2006-02-28 2007-02-28 2008-02-28 2009-02-28 regression done !\n",
      "regression start scale[326,327]\n"
     ]
    },
    {
     "name": "stderr",
     "output_type": "stream",
     "text": [
      "/opt/conda/lib/python3.6/site-packages/numpy/core/fromnumeric.py:2909: RuntimeWarning: Mean of empty slice.\n",
      "  out=out, **kwargs)\n",
      "/opt/conda/lib/python3.6/site-packages/numpy/core/_methods.py:80: RuntimeWarning: invalid value encountered in true_divide\n",
      "  ret = ret.dtype.type(ret / rcount)\n"
     ]
    },
    {
     "name": "stdout",
     "output_type": "stream",
     "text": [
      "2000-02-28 2001-02-28 2002-02-28 2003-02-28 2004-02-28 2005-02-28 2006-02-28 2007-02-28 2008-02-28 2009-02-28 regression done !\n",
      "attempt to get argmax of an empty sequence\n",
      "attempt to get argmax of an empty sequence\n",
      "attempt to get argmax of an empty sequence\n",
      "regression start scale[327,328]\n",
      "2000-02-28 2001-02-28 2002-02-28 2003-02-28 2004-02-28 2005-02-28 2006-02-28 2007-02-28 2008-02-28 2009-02-28 regression done !\n",
      "regression start scale[327,328]\n",
      "2000-02-28 2001-02-28 2002-02-28 2003-02-28 2004-02-28 2005-02-28 2006-02-28 2007-02-28 2008-02-28 2009-02-28 regression done !\n",
      "regression start scale[328,329]\n",
      "2000-02-28 2001-02-28 2002-02-28 2003-02-28 2004-02-28 2005-02-28 2006-02-28 2007-02-28 2008-02-28 2009-02-28 regression start scale[328,329]\n",
      "2010-02-28 2011-02-28 2012-02-28 2013-02-28 2014-02-28 2015-02-28 2016-02-28 2017-02-28 2018-02-28 regression done !\n",
      "regression start scale[329,330]\n"
     ]
    },
    {
     "name": "stderr",
     "output_type": "stream",
     "text": [
      "/opt/conda/lib/python3.6/site-packages/numpy/core/fromnumeric.py:2909: RuntimeWarning: Mean of empty slice.\n",
      "  out=out, **kwargs)\n",
      "/opt/conda/lib/python3.6/site-packages/numpy/core/_methods.py:80: RuntimeWarning: invalid value encountered in true_divide\n",
      "  ret = ret.dtype.type(ret / rcount)\n"
     ]
    },
    {
     "name": "stdout",
     "output_type": "stream",
     "text": [
      "2010-02-28 2011-02-28 2012-02-28 2013-02-28 2014-02-28 2015-02-28 2016-02-28 2017-02-28 2018-02-28 regression done !\n",
      "regression start scale[329,330]\n",
      "2000-02-28 2001-02-28 2002-02-28 2003-02-28 2004-02-28 2005-02-28 2006-02-28 2007-02-28 2008-02-28 2009-02-28 regression done !\n",
      "regression start scale[330,331]\n",
      "2010-02-28 2011-02-28 2012-02-28 2013-02-28 2014-02-28 2015-02-28 2016-02-28 2017-02-28 2018-02-28 regression done !\n",
      "2010-02-28 2011-02-28 2012-02-28 2013-02-28 2014-02-28 2015-02-28 2016-02-28 2017-02-28 2018-02-28 regression done !\n",
      "regression start scale[331,332]\n",
      "regression start scale[330,331]\n",
      "2010-02-28 2011-02-28 2012-02-28 2013-02-28 2014-02-28 2015-02-28 2016-02-28 2017-02-28 2018-02-28 regression done !\n",
      "regression start scale[331,332]\n",
      "2010-02-28 2011-02-28 2012-02-28 2013-02-28 2014-02-28 2015-02-28 2016-02-28 2017-02-28 2018-02-28 regression done !\n",
      "attempt to get argmax of an empty sequence\n",
      "attempt to get argmax of an empty sequence\n",
      "regression start scale[332,333]\n",
      "2000-02-28 2001-02-28 2002-02-28 2003-02-28 2004-02-28 2005-02-28 2006-02-28 2007-02-28 2008-02-28 2009-02-28 regression start scale[332,333]\n"
     ]
    },
    {
     "name": "stderr",
     "output_type": "stream",
     "text": [
      "/opt/conda/lib/python3.6/site-packages/numpy/core/fromnumeric.py:2909: RuntimeWarning: Mean of empty slice.\n",
      "  out=out, **kwargs)\n",
      "/opt/conda/lib/python3.6/site-packages/numpy/core/_methods.py:80: RuntimeWarning: invalid value encountered in true_divide\n",
      "  ret = ret.dtype.type(ret / rcount)\n"
     ]
    },
    {
     "name": "stdout",
     "output_type": "stream",
     "text": [
      "2000-02-28 2001-02-28 2002-02-28 2003-02-28 2004-02-28 2005-02-28 2006-02-28 2007-02-28 2008-02-28 2009-02-28 regression done !\n",
      "regression start scale[333,334]\n",
      "2000-02-28 2001-02-28 2002-02-28 2003-02-28 2004-02-28 2005-02-28 2006-02-28 2007-02-28 2008-02-28 2009-02-28 regression start scale[333,334]\n",
      "2010-02-28 2011-02-28 2012-02-28 2013-02-28 2014-02-28 2015-02-28 2016-02-28 2017-02-28 2018-02-28 regression done !\n",
      "regression start scale[334,335]\n",
      "2000-02-28 2001-02-28 2002-02-28 2003-02-28 2004-02-28 2005-02-28 2006-02-28 2007-02-28 2008-02-28 2009-02-28 regression start scale[334,335]\n",
      "2010-02-28 2011-02-28 2012-02-28 2013-02-28 2014-02-28 2015-02-28 2016-02-28 2017-02-28 2018-02-28 regression done !\n",
      "regression start scale[335,336]\n",
      "2010-02-28 2011-02-28 2012-02-28 2013-02-28 2014-02-28 2015-02-28 2016-02-28 2017-02-28 2018-02-28 regression done !\n",
      "regression start scale[335,336]\n",
      "2010-02-28 2011-02-28 2012-02-28 2013-02-28 2014-02-28 2015-02-28 2016-02-28 2017-02-28 2018-02-28 regression done !\n",
      "regression start scale[336,337]\n",
      "2000-02-28 2001-02-28 2002-02-28 2003-02-28 2004-02-28 2005-02-28 2006-02-28 2007-02-28 2008-02-28 2009-02-28 regression done !\n",
      "regression start scale[336,337]\n",
      "2010-02-28 2011-02-28 2012-02-28 2013-02-28 2014-02-28 2015-02-28 2016-02-28 2017-02-28 2018-02-28 regression done !\n",
      "regression start scale[337,338]\n",
      "2010-02-28 2011-02-28 2012-02-28 2013-02-28 2014-02-28 2015-02-28 2016-02-28 2017-02-28 2018-02-28 regression done !\n",
      "regression start scale[337,338]\n"
     ]
    },
    {
     "name": "stderr",
     "output_type": "stream",
     "text": [
      "/opt/conda/lib/python3.6/site-packages/numpy/core/fromnumeric.py:2909: RuntimeWarning: Mean of empty slice.\n",
      "  out=out, **kwargs)\n",
      "/opt/conda/lib/python3.6/site-packages/numpy/core/_methods.py:80: RuntimeWarning: invalid value encountered in true_divide\n",
      "  ret = ret.dtype.type(ret / rcount)\n",
      "/opt/conda/lib/python3.6/site-packages/numpy/core/fromnumeric.py:2909: RuntimeWarning: Mean of empty slice.\n",
      "  out=out, **kwargs)\n",
      "/opt/conda/lib/python3.6/site-packages/numpy/core/_methods.py:80: RuntimeWarning: invalid value encountered in true_divide\n",
      "  ret = ret.dtype.type(ret / rcount)\n",
      "/opt/conda/lib/python3.6/site-packages/ipykernel_launcher.py:24: RuntimeWarning: divide by zero encountered in true_divide\n"
     ]
    },
    {
     "name": "stdout",
     "output_type": "stream",
     "text": [
      "2000-02-28 2001-02-28 2002-02-28 2003-02-28 2004-02-28 2005-02-28 2006-02-28 2007-02-28 2008-02-28 2009-02-28 regression done !\n",
      "2000-02-28 2001-02-28 2002-02-28 2003-02-28 2004-02-28 2005-02-28 2006-02-28 2007-02-28 2008-02-28 2009-02-28 regression done !\n",
      "regression start scale[338,339]\n"
     ]
    },
    {
     "name": "stderr",
     "output_type": "stream",
     "text": [
      "/opt/conda/lib/python3.6/site-packages/ipykernel_launcher.py:132: RuntimeWarning: divide by zero encountered in double_scalars\n"
     ]
    },
    {
     "name": "stdout",
     "output_type": "stream",
     "text": [
      "2000-02-28 2001-02-28 2002-02-28 2003-02-28 2004-02-28 2005-02-28 2006-02-28 2007-02-28 2008-02-28 2009-02-28 regression done !\n",
      "regression start scale[338,339]\n",
      "regression start scale[339,340]\n",
      "2000-02-28 2001-02-28 2002-02-28 2003-02-28 2004-02-28 2005-02-28 2006-02-28 2007-02-28 2008-02-28 2009-02-28 regression done !\n",
      "attempt to get argmax of an empty sequence\n",
      "regression start scale[339,340]\n",
      "2010-02-28 2011-02-28 2012-02-28 2013-02-28 2014-02-28 2015-02-28 2016-02-28 2017-02-28 2018-02-28 regression done !\n",
      "attempt to get argmax of an empty sequence\n",
      "attempt to get argmax of an empty sequence\n",
      "regression start scale[340,341]\n",
      "2000-02-28 2001-02-28 2002-02-28 2003-02-28 2004-02-28 2005-02-28 2006-02-28 2007-02-28 2008-02-28 2009-02-28 regression done !\n",
      "regression start scale[340,341]\n",
      "attempt to get argmax of an empty sequence\n",
      "2010-02-28 2011-02-28 2012-02-28 2013-02-28 2014-02-28 2015-02-28 2016-02-28 2017-02-28 2018-02-28 regression start scale[341,342]\n",
      "2000-02-28 2001-02-28 2002-02-28 2003-02-28 2004-02-28 2005-02-28 2006-02-28 2007-02-28 2008-02-28 2009-02-28 regression done !\n",
      "regression start scale[341,342]\n",
      "2000-02-28 2001-02-28 2002-02-28 2003-02-28 2004-02-28 2005-02-28 2006-02-28 2007-02-28 2008-02-28 2009-02-28 regression start scale[342,343]\n",
      "2010-02-28 2011-02-28 2012-02-28 2013-02-28 2014-02-28 2015-02-28 2016-02-28 2017-02-28 2018-02-28 regression done !\n",
      "2000-02-28 2001-02-28 2002-02-28 2003-02-28 2004-02-28 2005-02-28 2006-02-28 2007-02-28 2008-02-28 2009-02-28 regression done !\n",
      "regression start scale[342,343]\n",
      "regression start scale[343,344]\n",
      "2000-02-28 2001-02-28 2002-02-28 2003-02-28 2004-02-28 2005-02-28 2006-02-28 2007-02-28 2008-02-28 2009-02-28 regression start scale[343,344]\n",
      "2010-02-28 2011-02-28 2012-02-28 2013-02-28 2014-02-28 2015-02-28 2016-02-28 2017-02-28 2018-02-28 regression done !\n",
      "regression start scale[344,345]\n",
      "2010-02-28 2011-02-28 2012-02-28 2013-02-28 2014-02-28 2015-02-28 2016-02-28 2017-02-28 2018-02-28 regression done !\n",
      "regression start scale[344,345]\n",
      "2010-02-28 2011-02-28 2012-02-28 2013-02-28 2014-02-28 2015-02-28 2016-02-28 2017-02-28 2018-02-28 regression done !\n",
      "regression start scale[345,346]\n",
      "2010-02-28 2011-02-28 2012-02-28 2013-02-28 2014-02-28 2015-02-28 2016-02-28 2017-02-28 2018-02-28 regression done !\n",
      "regression start scale[345,346]\n",
      "2010-02-28 2011-02-28 2012-02-28 2013-02-28 2014-02-28 2015-02-28 2016-02-28 2017-02-28 2018-02-28 regression done !\n",
      "regression start scale[346,347]\n",
      "2000-02-28 2001-02-28 2002-02-28 2003-02-28 2004-02-28 2005-02-28 2006-02-28 2007-02-28 2008-02-28 2009-02-28 regression done !\n",
      "regression start scale[346,347]\n",
      "2000-02-28 2001-02-28 2002-02-28 2003-02-28 2004-02-28 2005-02-28 2006-02-28 2007-02-28 2008-02-28 2009-02-28 regression start scale[347,348]\n",
      "2000-02-28 2001-02-28 2002-02-28 2003-02-28 2004-02-28 2005-02-28 2006-02-28 2007-02-28 2008-02-28 2009-02-28 regression start scale[347,348]\n",
      "2010-02-28 2011-02-28 2012-02-28 2013-02-28 2014-02-28 2015-02-28 2016-02-28 2017-02-28 2018-02-28 regression done !\n",
      "attempt to get argmax of an empty sequence\n",
      "attempt to get argmax of an empty sequence\n",
      "regression start scale[348,349]\n"
     ]
    },
    {
     "name": "stderr",
     "output_type": "stream",
     "text": [
      "/opt/conda/lib/python3.6/site-packages/numpy/core/fromnumeric.py:2909: RuntimeWarning: Mean of empty slice.\n",
      "  out=out, **kwargs)\n",
      "/opt/conda/lib/python3.6/site-packages/numpy/core/_methods.py:80: RuntimeWarning: invalid value encountered in true_divide\n",
      "  ret = ret.dtype.type(ret / rcount)\n",
      "/opt/conda/lib/python3.6/site-packages/ipykernel_launcher.py:24: RuntimeWarning: divide by zero encountered in true_divide\n",
      "/opt/conda/lib/python3.6/site-packages/ipykernel_launcher.py:132: RuntimeWarning: divide by zero encountered in double_scalars\n"
     ]
    },
    {
     "name": "stdout",
     "output_type": "stream",
     "text": [
      "2000-02-28 2001-02-28 2002-02-28 2003-02-28 2004-02-28 2005-02-28 2006-02-28 2007-02-28 2008-02-28 2009-02-28 regression done !\n",
      "regression start scale[348,349]\n"
     ]
    },
    {
     "name": "stderr",
     "output_type": "stream",
     "text": [
      "/opt/conda/lib/python3.6/site-packages/numpy/core/fromnumeric.py:2909: RuntimeWarning: Mean of empty slice.\n",
      "  out=out, **kwargs)\n",
      "/opt/conda/lib/python3.6/site-packages/numpy/core/_methods.py:80: RuntimeWarning: invalid value encountered in true_divide\n",
      "  ret = ret.dtype.type(ret / rcount)\n",
      "/opt/conda/lib/python3.6/site-packages/ipykernel_launcher.py:24: RuntimeWarning: divide by zero encountered in true_divide\n",
      "/opt/conda/lib/python3.6/site-packages/ipykernel_launcher.py:132: RuntimeWarning: divide by zero encountered in double_scalars\n"
     ]
    },
    {
     "name": "stdout",
     "output_type": "stream",
     "text": [
      "2000-02-28 2001-02-28 2002-02-28 2003-02-28 2004-02-28 2005-02-28 2006-02-28 2007-02-28 2008-02-28 2009-02-28 regression done !\n",
      "regression start scale[349,350]\n",
      "2010-02-28 2011-02-28 2012-02-28 2013-02-28 2014-02-28 2015-02-28 2016-02-28 2017-02-28 2018-02-28 regression done !\n"
     ]
    },
    {
     "name": "stderr",
     "output_type": "stream",
     "text": [
      "/opt/conda/lib/python3.6/site-packages/numpy/core/fromnumeric.py:2909: RuntimeWarning: Mean of empty slice.\n",
      "  out=out, **kwargs)\n",
      "/opt/conda/lib/python3.6/site-packages/numpy/core/_methods.py:80: RuntimeWarning: invalid value encountered in true_divide\n",
      "  ret = ret.dtype.type(ret / rcount)\n"
     ]
    },
    {
     "name": "stdout",
     "output_type": "stream",
     "text": [
      "regression start scale[349,350]\n",
      "2010-02-28 2011-02-28 2012-02-28 2013-02-28 2014-02-28 2015-02-28 2016-02-28 2017-02-28 2018-02-28 regression done !\n",
      "regression start scale[350,351]\n",
      "2000-02-28 2001-02-28 2002-02-28 2003-02-28 2004-02-28 2005-02-28 2006-02-28 2007-02-28 2008-02-28 2009-02-28 regression done !\n",
      "regression start scale[350,351]\n"
     ]
    },
    {
     "name": "stderr",
     "output_type": "stream",
     "text": [
      "/opt/conda/lib/python3.6/site-packages/numpy/core/fromnumeric.py:2909: RuntimeWarning: Mean of empty slice.\n",
      "  out=out, **kwargs)\n",
      "/opt/conda/lib/python3.6/site-packages/numpy/core/_methods.py:80: RuntimeWarning: invalid value encountered in true_divide\n",
      "  ret = ret.dtype.type(ret / rcount)\n"
     ]
    },
    {
     "name": "stdout",
     "output_type": "stream",
     "text": [
      "2010-02-28 2011-02-28 2012-02-28 2013-02-28 2014-02-28 2015-02-28 2016-02-28 2017-02-28 2018-02-28 regression done !\n",
      "2010-02-28 2011-02-28 2012-02-28 2013-02-28 2014-02-28 2015-02-28 2016-02-28 2017-02-28 2018-02-28 regression done !\n",
      "regression start scale[351,352]\n",
      "regression start scale[351,352]\n",
      "2010-02-28 2011-02-28 2012-02-28 2013-02-28 2014-02-28 2015-02-28 2016-02-28 2017-02-28 2018-02-28 regression done !\n",
      "regression start scale[352,353]\n",
      "2010-02-28 2011-02-28 2012-02-28 2013-02-28 2014-02-28 2015-02-28 2016-02-28 2017-02-28 2018-02-28 regression done !\n",
      "2010-02-28 2011-02-28 2012-02-28 2013-02-28 2014-02-28 2015-02-28 2016-02-28 2017-02-28 2018-02-28 regression done !\n",
      "regression start scale[352,353]\n",
      "regression start scale[353,354]\n",
      "2000-02-28 2001-02-28 2002-02-28 2003-02-28 2004-02-28 2005-02-28 2006-02-28 2007-02-28 2008-02-28 2009-02-28 regression done !\n",
      "regression start scale[353,354]\n"
     ]
    },
    {
     "name": "stderr",
     "output_type": "stream",
     "text": [
      "/opt/conda/lib/python3.6/site-packages/numpy/core/fromnumeric.py:2909: RuntimeWarning: Mean of empty slice.\n",
      "  out=out, **kwargs)\n",
      "/opt/conda/lib/python3.6/site-packages/numpy/core/_methods.py:80: RuntimeWarning: invalid value encountered in true_divide\n",
      "  ret = ret.dtype.type(ret / rcount)\n"
     ]
    },
    {
     "name": "stdout",
     "output_type": "stream",
     "text": [
      "2000-02-28 2001-02-28 2002-02-28 2003-02-28 2004-02-28 2005-02-28 2006-02-28 2007-02-28 2008-02-28 2009-02-28 regression done !\n",
      "regression start scale[354,355]\n",
      "2000-02-28 2001-02-28 2002-02-28 2003-02-28 2004-02-28 2005-02-28 2006-02-28 2007-02-28 2008-02-28 2009-02-28 regression done !\n",
      "2010-02-28 2011-02-28 2012-02-28 2013-02-28 2014-02-28 2015-02-28 2016-02-28 2017-02-28 2018-02-28 regression done !\n",
      "regression start scale[355,356]\n",
      "2000-02-28 2001-02-28 2002-02-28 2003-02-28 2004-02-28 2005-02-28 2006-02-28 2007-02-28 2008-02-28 2009-02-28 regression start scale[354,355]\n",
      "regression start scale[355,356]\n",
      "2000-02-28 2001-02-28 2002-02-28 2003-02-28 2004-02-28 2005-02-28 2006-02-28 2007-02-28 2008-02-28 2009-02-28 regression done !\n",
      "attempt to get argmax of an empty sequence\n",
      "attempt to get argmax of an empty sequence\n",
      "regression start scale[356,357]\n",
      "2000-02-28 2001-02-28 2002-02-28 2003-02-28 2004-02-28 2005-02-28 2006-02-28 2007-02-28 2008-02-28 2009-02-28 regression start scale[356,357]\n",
      "2000-02-28 2001-02-28 2002-02-28 2003-02-28 2004-02-28 2005-02-28 2006-02-28 2007-02-28 2008-02-28 2009-02-28 regression start scale[357,358]\n",
      "2010-02-28 2011-02-28 2012-02-28 2013-02-28 2014-02-28 2015-02-28 2016-02-28 2017-02-28 2018-02-28 regression done !\n",
      "regression start scale[357,358]\n",
      "2000-02-28 2001-02-28 2002-02-28 2003-02-28 2004-02-28 2005-02-28 2006-02-28 2007-02-28 2008-02-28 2009-02-28 regression done !\n",
      "regression start scale[358,359]\n",
      "2010-02-28 2011-02-28 2012-02-28 2013-02-28 2014-02-28 2015-02-28 2016-02-28 2017-02-28 2018-02-28 regression done !\n",
      "regression start scale[358,359]\n",
      "2010-02-28 2011-02-28 2012-02-28 2013-02-28 2014-02-28 2015-02-28 2016-02-28 2017-02-28 2018-02-28 regression done !\n",
      "attempt to get argmax of an empty sequence\n",
      "regression start scale[359,360]\n"
     ]
    },
    {
     "name": "stderr",
     "output_type": "stream",
     "text": [
      "/opt/conda/lib/python3.6/site-packages/numpy/core/fromnumeric.py:2909: RuntimeWarning: Mean of empty slice.\n",
      "  out=out, **kwargs)\n",
      "/opt/conda/lib/python3.6/site-packages/numpy/core/_methods.py:80: RuntimeWarning: invalid value encountered in true_divide\n",
      "  ret = ret.dtype.type(ret / rcount)\n",
      "/opt/conda/lib/python3.6/site-packages/ipykernel_launcher.py:24: RuntimeWarning: divide by zero encountered in true_divide\n",
      "/opt/conda/lib/python3.6/site-packages/ipykernel_launcher.py:132: RuntimeWarning: divide by zero encountered in double_scalars\n"
     ]
    },
    {
     "name": "stdout",
     "output_type": "stream",
     "text": [
      "2010-02-28 2011-02-28 2012-02-28 2013-02-28 2014-02-28 2015-02-28 2016-02-28 2017-02-28 2018-02-28 regression done !\n",
      "2000-02-28 2001-02-28 2002-02-28 2003-02-28 2004-02-28 2005-02-28 2006-02-28 2007-02-28 2008-02-28 2009-02-28 regression done !\n",
      "regression start scale[359,360]\n",
      "regression start scale[360,361]\n",
      "2010-02-28 2011-02-28 2012-02-28 2013-02-28 2014-02-28 2015-02-28 2016-02-28 2017-02-28 2018-02-28 regression done !\n",
      "regression start scale[360,361]\n"
     ]
    },
    {
     "name": "stderr",
     "output_type": "stream",
     "text": [
      "/opt/conda/lib/python3.6/site-packages/numpy/core/fromnumeric.py:2909: RuntimeWarning: Mean of empty slice.\n",
      "  out=out, **kwargs)\n",
      "/opt/conda/lib/python3.6/site-packages/numpy/core/_methods.py:80: RuntimeWarning: invalid value encountered in true_divide\n",
      "  ret = ret.dtype.type(ret / rcount)\n",
      "/opt/conda/lib/python3.6/site-packages/ipykernel_launcher.py:24: RuntimeWarning: divide by zero encountered in true_divide\n"
     ]
    },
    {
     "name": "stdout",
     "output_type": "stream",
     "text": [
      "2000-02-28 2001-02-28 2002-02-28 2003-02-28 2004-02-28 2005-02-28 2006-02-28 2007-02-28 2008-02-28 2009-02-28 regression start scale[361,362]\n"
     ]
    },
    {
     "name": "stderr",
     "output_type": "stream",
     "text": [
      "/opt/conda/lib/python3.6/site-packages/ipykernel_launcher.py:132: RuntimeWarning: divide by zero encountered in double_scalars\n"
     ]
    },
    {
     "name": "stdout",
     "output_type": "stream",
     "text": [
      "2000-02-28 2001-02-28 2002-02-28 2003-02-28 2004-02-28 2005-02-28 2006-02-28 2007-02-28 2008-02-28 2009-02-28 regression done !\n",
      "regression start scale[361,362]\n",
      "2000-02-28 2001-02-28 2002-02-28 2003-02-28 2004-02-28 2005-02-28 2006-02-28 2007-02-28 2008-02-28 2009-02-28 regression start scale[362,363]\n",
      "2000-02-28 2001-02-28 2002-02-28 2003-02-28 2004-02-28 2005-02-28 2006-02-28 2007-02-28 2008-02-28 2009-02-28 regression done !\n",
      "regression start scale[362,363]\n",
      "2000-02-28 2001-02-28 2002-02-28 2003-02-28 2004-02-28 2005-02-28 2006-02-28 2007-02-28 2008-02-28 2009-02-28 regression done !\n",
      "regression start scale[363,364]\n",
      "2010-02-28 2011-02-28 2012-02-28 2013-02-28 2014-02-28 2015-02-28 2016-02-28 2017-02-28 2018-02-28 regression done !\n",
      "attempt to get argmax of an empty sequence\n",
      "attempt to get argmax of an empty sequence\n",
      "regression start scale[363,364]\n",
      "2010-02-28 2011-02-28 2012-02-28 2013-02-28 2014-02-28 2015-02-28 2016-02-28 2017-02-28 2018-02-28 regression done !\n",
      "regression start scale[364,365]\n"
     ]
    },
    {
     "name": "stderr",
     "output_type": "stream",
     "text": [
      "/opt/conda/lib/python3.6/site-packages/numpy/core/fromnumeric.py:2909: RuntimeWarning: Mean of empty slice.\n",
      "  out=out, **kwargs)\n",
      "/opt/conda/lib/python3.6/site-packages/numpy/core/_methods.py:80: RuntimeWarning: invalid value encountered in true_divide\n",
      "  ret = ret.dtype.type(ret / rcount)\n"
     ]
    },
    {
     "name": "stdout",
     "output_type": "stream",
     "text": [
      "2010-02-28 2011-02-28 2012-02-28 2013-02-28 2014-02-28 2015-02-28 2016-02-28 2017-02-28 2018-02-28 regression done !\n",
      "2010-02-28 2011-02-28 2012-02-28 2013-02-28 2014-02-28 2015-02-28 2016-02-28 2017-02-28 2018-02-28 regression done !\n",
      "regression start scale[364,365]\n",
      "regression start scale[365,366]\n",
      "2010-02-28 2011-02-28 2012-02-28 2013-02-28 2014-02-28 2015-02-28 2016-02-28 2017-02-28 2018-02-28 regression done !\n",
      "regression start scale[365,366]\n",
      "2010-02-28 2011-02-28 2012-02-28 2013-02-28 2014-02-28 2015-02-28 2016-02-28 2017-02-28 2018-02-28 regression done !\n",
      "regression start scale[366,367]\n",
      "2010-02-28 2011-02-28 2012-02-28 2013-02-28 2014-02-28 2015-02-28 2016-02-28 2017-02-28 2018-02-28 regression done !\n",
      "regression start scale[366,367]\n",
      "2000-02-28 2001-02-28 2002-02-28 2003-02-28 2004-02-28 2005-02-28 2006-02-28 2007-02-28 2008-02-28 2009-02-28 regression done !\n",
      "regression start scale[367,368]\n",
      "2010-02-28 2011-02-28 2012-02-28 2013-02-28 2014-02-28 2015-02-28 2016-02-28 2017-02-28 2018-02-28 regression done !\n",
      "attempt to get argmax of an empty sequence\n",
      "attempt to get argmax of an empty sequence\n",
      "regression start scale[367,368]\n"
     ]
    },
    {
     "name": "stderr",
     "output_type": "stream",
     "text": [
      "/opt/conda/lib/python3.6/site-packages/numpy/core/fromnumeric.py:2909: RuntimeWarning: Mean of empty slice.\n",
      "  out=out, **kwargs)\n",
      "/opt/conda/lib/python3.6/site-packages/numpy/core/_methods.py:80: RuntimeWarning: invalid value encountered in true_divide\n",
      "  ret = ret.dtype.type(ret / rcount)\n",
      "/opt/conda/lib/python3.6/site-packages/ipykernel_launcher.py:24: RuntimeWarning: divide by zero encountered in true_divide\n",
      "/opt/conda/lib/python3.6/site-packages/ipykernel_launcher.py:132: RuntimeWarning: divide by zero encountered in double_scalars\n"
     ]
    },
    {
     "name": "stdout",
     "output_type": "stream",
     "text": [
      "2000-02-28 2001-02-28 2002-02-28 2003-02-28 2004-02-28 2005-02-28 2006-02-28 2007-02-28 2008-02-28 2009-02-28 regression done !\n",
      "regression start scale[368,369]\n",
      "2010-02-28 2011-02-28 2012-02-28 2013-02-28 2014-02-28 2015-02-28 2016-02-28 2017-02-28 2018-02-28 regression done !\n",
      "regression start scale[368,369]\n",
      "2000-02-28 2001-02-28 2002-02-28 2003-02-28 2004-02-28 2005-02-28 2006-02-28 2007-02-28 2008-02-28 2009-02-28 regression start scale[369,370]\n",
      "2000-02-28 2001-02-28 2002-02-28 2003-02-28 2004-02-28 2005-02-28 2006-02-28 2007-02-28 2008-02-28 2009-02-28 regression start scale[369,370]\n",
      "2000-02-28 2001-02-28 2002-02-28 2003-02-28 2004-02-28 2005-02-28 2006-02-28 2007-02-28 2008-02-28 2009-02-28 regression done !\n",
      "regression start scale[370,371]\n",
      "2000-02-28 2001-02-28 2002-02-28 2003-02-28 2004-02-28 2005-02-28 2006-02-28 2007-02-28 2008-02-28 2009-02-28 regression start scale[370,371]\n",
      "2000-02-28 2001-02-28 2002-02-28 2003-02-28 2004-02-28 2005-02-28 2006-02-28 2007-02-28 2008-02-28 2009-02-28 regression done !\n",
      "regression start scale[371,372]\n"
     ]
    },
    {
     "name": "stderr",
     "output_type": "stream",
     "text": [
      "/opt/conda/lib/python3.6/site-packages/ipykernel_launcher.py:50: RuntimeWarning: divide by zero encountered in double_scalars\n"
     ]
    },
    {
     "name": "stdout",
     "output_type": "stream",
     "text": [
      "2000-02-28 2001-02-28 2002-02-28 2003-02-28 2004-02-28 2005-02-28 2006-02-28 2007-02-28 regression start scale[371,372]\n",
      "2010-02-28 2011-02-28 2012-02-28 2013-02-28 2014-02-28 2015-02-28 2016-02-28 2017-02-28 2018-02-28 regression done !\n",
      "regression start scale[372,373]\n",
      "2010-02-28 2011-02-28 2012-02-28 2013-02-28 2014-02-28 2015-02-28 2016-02-28 2017-02-28 2018-02-28 regression done !\n",
      "regression start scale[372,373]\n",
      "2000-02-28 2001-02-28 2002-02-28 2003-02-28 2004-02-28 2005-02-28 2006-02-28 2007-02-28 2008-02-28 2009-02-28 regression done !\n",
      "2010-02-28 2011-02-28 2012-02-28 2013-02-28 2014-02-28 2015-02-28 2016-02-28 2017-02-28 2018-02-28 regression done !\n",
      "regression start scale[373,374]\n"
     ]
    },
    {
     "name": "stderr",
     "output_type": "stream",
     "text": [
      "/opt/conda/lib/python3.6/site-packages/numpy/core/fromnumeric.py:2909: RuntimeWarning: Mean of empty slice.\n",
      "  out=out, **kwargs)\n",
      "/opt/conda/lib/python3.6/site-packages/numpy/core/_methods.py:80: RuntimeWarning: invalid value encountered in true_divide\n",
      "  ret = ret.dtype.type(ret / rcount)\n"
     ]
    },
    {
     "name": "stdout",
     "output_type": "stream",
     "text": [
      "regression start scale[373,374]\n",
      "2010-02-28 2011-02-28 2012-02-28 2013-02-28 2014-02-28 2015-02-28 2016-02-28 2017-02-28 2018-02-28 regression done !\n",
      "regression start scale[374,375]\n",
      "2010-02-28 2011-02-28 2012-02-28 2013-02-28 2014-02-28 2015-02-28 2016-02-28 2017-02-28 2018-02-28 regression done !\n",
      "regression start scale[374,375]\n",
      "2010-02-28 2011-02-28 2012-02-28 2013-02-28 2014-02-28 2015-02-28 2016-02-28 2017-02-28 2018-02-28 regression done !\n",
      "2000-02-28 2001-02-28 2002-02-28 2003-02-28 2004-02-28 2005-02-28 2006-02-28 2007-02-28 2008-02-28 2009-02-28 regression start scale[375,376]\n",
      "regression start scale[375,376]\n"
     ]
    },
    {
     "name": "stderr",
     "output_type": "stream",
     "text": [
      "/opt/conda/lib/python3.6/site-packages/numpy/core/fromnumeric.py:2909: RuntimeWarning: Mean of empty slice.\n",
      "  out=out, **kwargs)\n",
      "/opt/conda/lib/python3.6/site-packages/numpy/core/_methods.py:80: RuntimeWarning: invalid value encountered in true_divide\n",
      "  ret = ret.dtype.type(ret / rcount)\n",
      "/opt/conda/lib/python3.6/site-packages/ipykernel_launcher.py:24: RuntimeWarning: divide by zero encountered in true_divide\n",
      "/opt/conda/lib/python3.6/site-packages/ipykernel_launcher.py:132: RuntimeWarning: divide by zero encountered in double_scalars\n"
     ]
    },
    {
     "name": "stdout",
     "output_type": "stream",
     "text": [
      "2000-02-28 2001-02-28 2002-02-28 2003-02-28 2004-02-28 2005-02-28 2006-02-28 2007-02-28 2008-02-28 2009-02-28 regression done !\n",
      "2010-02-28 2011-02-28 2012-02-28 2013-02-28 2014-02-28 2015-02-28 2016-02-28 2017-02-28 2018-02-28 regression done !\n",
      "regression start scale[376,377]\n",
      "attempt to get argmax of an empty sequence\n",
      "attempt to get argmax of an empty sequence\n",
      "attempt to get argmax of an empty sequence\n",
      "regression start scale[376,377]\n",
      "2000-02-28 2001-02-28 2002-02-28 2003-02-28 2004-02-28 2005-02-28 2006-02-28 2007-02-28 2008-02-28 2009-02-28 regression start scale[377,378]\n",
      "2000-02-28 2001-02-28 2002-02-28 2003-02-28 2004-02-28 2005-02-28 2006-02-28 2007-02-28 2008-02-28 2009-02-28 regression start scale[377,378]\n",
      "2000-02-28 2001-02-28 2002-02-28 2003-02-28 2004-02-28 2005-02-28 2006-02-28 2007-02-28 2008-02-28 2009-02-28 regression done !\n",
      "attempt to get argmax of an empty sequence\n",
      "regression start scale[378,379]\n",
      "2010-02-28 2011-02-28 2012-02-28 2013-02-28 2014-02-28 2015-02-28 2016-02-28 2017-02-28 2018-02-28 regression done !\n",
      "regression start scale[378,379]\n",
      "2010-02-28 2011-02-28 2012-02-28 2013-02-28 2014-02-28 2015-02-28 2016-02-28 2017-02-28 2018-02-28 regression done !\n",
      "regression start scale[379,380]\n",
      "2010-02-28 2011-02-28 2012-02-28 2013-02-28 2014-02-28 2015-02-28 2016-02-28 2017-02-28 2018-02-28 regression done !\n",
      "regression start scale[379,380]\n",
      "2010-02-28 2011-02-28 2012-02-28 2013-02-28 2014-02-28 2015-02-28 2016-02-28 2017-02-28 2018-02-28 regression done !\n",
      "regression start scale[380,381]\n",
      "2000-02-28 2001-02-28 2002-02-28 2003-02-28 2004-02-28 2005-02-28 2006-02-28 2007-02-28 2008-02-28 2009-02-28 regression done !\n",
      "regression start scale[380,381]\n",
      "2000-02-28 2001-02-28 2002-02-28 2003-02-28 2004-02-28 2005-02-28 2006-02-28 2007-02-28 2008-02-28 2009-02-28 regression start scale[381,382]\n",
      "2000-02-28 2001-02-28 2002-02-28 2003-02-28 2004-02-28 2005-02-28 2006-02-28 2007-02-28 2008-02-28 2009-02-28 regression start scale[381,382]\n",
      "2000-02-28 2001-02-28 2002-02-28 2003-02-28 2004-02-28 2005-02-28 2006-02-28 2007-02-28 2008-02-28 2009-02-28 regression start scale[382,383]\n",
      "2010-02-28 2011-02-28 2012-02-28 2013-02-28 2014-02-28 2015-02-28 2016-02-28 2017-02-28 2018-02-28 regression done !\n",
      "2010-02-28 2011-02-28 2012-02-28 2013-02-28 2014-02-28 2015-02-28 2016-02-28 2017-02-28 2018-02-28 regression done !\n",
      "regression start scale[383,384]\n",
      "regression start scale[382,383]\n"
     ]
    },
    {
     "name": "stderr",
     "output_type": "stream",
     "text": [
      "/opt/conda/lib/python3.6/site-packages/numpy/core/fromnumeric.py:2909: RuntimeWarning: Mean of empty slice.\n",
      "  out=out, **kwargs)\n",
      "/opt/conda/lib/python3.6/site-packages/numpy/core/_methods.py:80: RuntimeWarning: invalid value encountered in true_divide\n",
      "  ret = ret.dtype.type(ret / rcount)\n"
     ]
    },
    {
     "name": "stdout",
     "output_type": "stream",
     "text": [
      "2000-02-28 2001-02-28 2002-02-28 2003-02-28 2004-02-28 2005-02-28 2006-02-28 2007-02-28 2008-02-28 2009-02-28 regression done !\n",
      "regression start scale[383,384]\n",
      "2010-02-28 2011-02-28 2012-02-28 2013-02-28 2014-02-28 2015-02-28 2016-02-28 2017-02-28 2018-02-28 regression done !\n",
      "regression start scale[384,385]\n",
      "2010-02-28 2011-02-28 2012-02-28 2013-02-28 2014-02-28 2015-02-28 2016-02-28 2017-02-28 2018-02-28 regression done !\n",
      "attempt to get argmax of an empty sequence\n",
      "attempt to get argmax of an empty sequence\n",
      "attempt to get argmax of an empty sequence\n",
      "regression start scale[384,385]\n"
     ]
    },
    {
     "name": "stderr",
     "output_type": "stream",
     "text": [
      "/opt/conda/lib/python3.6/site-packages/numpy/core/fromnumeric.py:2909: RuntimeWarning: Mean of empty slice.\n",
      "  out=out, **kwargs)\n",
      "/opt/conda/lib/python3.6/site-packages/numpy/core/_methods.py:80: RuntimeWarning: invalid value encountered in true_divide\n",
      "  ret = ret.dtype.type(ret / rcount)\n"
     ]
    },
    {
     "name": "stdout",
     "output_type": "stream",
     "text": [
      "2010-02-28 2011-02-28 2012-02-28 2013-02-28 2014-02-28 2015-02-28 2016-02-28 2017-02-28 2018-02-28 regression done !\n",
      "regression start scale[385,386]\n",
      "2000-02-28 2001-02-28 2002-02-28 2003-02-28 2004-02-28 2005-02-28 2006-02-28 2007-02-28 2008-02-28 2009-02-28 regression done !\n",
      "regression start scale[385,386]\n",
      "2000-02-28 2001-02-28 2002-02-28 2003-02-28 2004-02-28 2005-02-28 2006-02-28 2007-02-28 2008-02-28 2009-02-28 regression done !\n",
      "regression start scale[386,387]\n",
      "2010-02-28 2011-02-28 2012-02-28 2013-02-28 2014-02-28 2015-02-28 2016-02-28 2017-02-28 2018-02-28 regression done !\n",
      "regression start scale[386,387]\n",
      "2010-02-28 2011-02-28 2012-02-28 2013-02-28 2014-02-28 2015-02-28 2016-02-28 2017-02-28 2018-02-28 regression done !\n",
      "regression start scale[387,388]\n",
      "2010-02-28 2011-02-28 2012-02-28 2013-02-28 2014-02-28 2015-02-28 2016-02-28 2017-02-28 2018-02-28 regression done !\n",
      "regression start scale[387,388]\n",
      "2010-02-28 2011-02-28 2012-02-28 2013-02-28 2014-02-28 2015-02-28 2016-02-28 2017-02-28 2018-02-28 regression done !\n",
      "regression start scale[388,389]\n",
      "2010-02-28 2011-02-28 2012-02-28 2013-02-28 2014-02-28 2015-02-28 2016-02-28 2017-02-28 2018-02-28 regression done !\n",
      "regression start scale[388,389]\n",
      "2000-02-28 2001-02-28 2002-02-28 2003-02-28 2004-02-28 2005-02-28 2006-02-28 2007-02-28 2008-02-28 2009-02-28 regression done !\n",
      "regression start scale[389,390]\n"
     ]
    },
    {
     "name": "stderr",
     "output_type": "stream",
     "text": [
      "/opt/conda/lib/python3.6/site-packages/numpy/core/fromnumeric.py:2909: RuntimeWarning: Mean of empty slice.\n",
      "  out=out, **kwargs)\n",
      "/opt/conda/lib/python3.6/site-packages/numpy/core/_methods.py:80: RuntimeWarning: invalid value encountered in true_divide\n",
      "  ret = ret.dtype.type(ret / rcount)\n"
     ]
    },
    {
     "name": "stdout",
     "output_type": "stream",
     "text": [
      "2000-02-28 2001-02-28 2002-02-28 2003-02-28 2004-02-28 2005-02-28 2006-02-28 2007-02-28 2008-02-28 2009-02-28 regression done !\n",
      "2000-02-28 2001-02-28 2002-02-28 2003-02-28 2004-02-28 2005-02-28 2006-02-28 2007-02-28 2008-02-28 2009-02-28 regression start scale[389,390]\n",
      "regression start scale[390,391]\n",
      "2000-02-28 2001-02-28 2002-02-28 2003-02-28 2004-02-28 2005-02-28 2006-02-28 2007-02-28 2008-02-28 2009-02-28 regression start scale[390,391]\n",
      "2000-02-28 2001-02-28 2002-02-28 2003-02-28 2004-02-28 2005-02-28 2006-02-28 2007-02-28 2008-02-28 2009-02-28 regression start scale[391,392]\n",
      "2000-02-28 2001-02-28 2002-02-28 2003-02-28 2004-02-28 2005-02-28 2006-02-28 2007-02-28 2008-02-28 2009-02-28 regression done !\n",
      "2010-02-28 2011-02-28 2012-02-28 2013-02-28 2014-02-28 2015-02-28 2016-02-28 2017-02-28 2018-02-28 regression done !\n",
      "attempt to get argmax of an empty sequence\n",
      "attempt to get argmax of an empty sequence\n",
      "attempt to get argmax of an empty sequence\n",
      "regression start scale[391,392]\n",
      "regression start scale[392,393]\n",
      "2000-02-28 2001-02-28 2002-02-28 2003-02-28 2004-02-28 2005-02-28 2006-02-28 2007-02-28 2008-02-28 2009-02-28 regression done !\n",
      "regression start scale[392,393]\n",
      "2010-02-28 2011-02-28 2012-02-28 2013-02-28 2014-02-28 2015-02-28 2016-02-28 2017-02-28 2018-02-28 regression done !\n",
      "regression start scale[393,394]\n",
      "2000-02-28 2001-02-28 2002-02-28 2003-02-28 2004-02-28 2005-02-28 2006-02-28 2007-02-28 2008-02-28 2009-02-28 regression done !\n",
      "2010-02-28 2011-02-28 2012-02-28 2013-02-28 2014-02-28 2015-02-28 2016-02-28 2017-02-28 2018-02-28 regression done !\n",
      "regression start scale[394,395]\n",
      "regression start scale[393,394]\n",
      "2010-02-28 2011-02-28 2012-02-28 2013-02-28 2014-02-28 2015-02-28 2016-02-28 2017-02-28 2018-02-28 regression done !\n",
      "regression start scale[394,395]\n",
      "2000-02-28 2001-02-28 2002-02-28 2003-02-28 2004-02-28 2005-02-28 2006-02-28 2007-02-28 2008-02-28 2009-02-28 regression start scale[395,396]\n",
      "2010-02-28 2011-02-28 2012-02-28 2013-02-28 2014-02-28 2015-02-28 2016-02-28 2017-02-28 2018-02-28 regression done !\n",
      "attempt to get argmax of an empty sequence\n",
      "attempt to get argmax of an empty sequence\n",
      "regression start scale[395,396]\n",
      "2010-02-28 2011-02-28 2012-02-28 2013-02-28 2014-02-28 2015-02-28 2016-02-28 2017-02-28 2018-02-28 regression done !\n",
      "attempt to get argmax of an empty sequence\n",
      "regression start scale[396,397]\n",
      "2000-02-28 2001-02-28 2002-02-28 2003-02-28 2004-02-28 2005-02-28 2006-02-28 2007-02-28 2008-02-28 2009-02-28 regression start scale[396,397]\n",
      "2010-02-28 2011-02-28 2012-02-28 2013-02-28 2014-02-28 2015-02-28 2016-02-28 2017-02-28 2018-02-28 regression done !\n",
      "regression start scale[397,398]\n",
      "2000-02-28 2001-02-28 2002-02-28 2003-02-28 2004-02-28 2005-02-28 2006-02-28 2007-02-28 2008-02-28 2009-02-28 regression start scale[397,398]\n"
     ]
    },
    {
     "name": "stderr",
     "output_type": "stream",
     "text": [
      "/opt/conda/lib/python3.6/site-packages/numpy/core/fromnumeric.py:2909: RuntimeWarning: Mean of empty slice.\n",
      "  out=out, **kwargs)\n",
      "/opt/conda/lib/python3.6/site-packages/numpy/core/_methods.py:80: RuntimeWarning: invalid value encountered in true_divide\n",
      "  ret = ret.dtype.type(ret / rcount)\n",
      "/opt/conda/lib/python3.6/site-packages/ipykernel_launcher.py:24: RuntimeWarning: divide by zero encountered in true_divide\n",
      "/opt/conda/lib/python3.6/site-packages/ipykernel_launcher.py:132: RuntimeWarning: divide by zero encountered in double_scalars\n"
     ]
    },
    {
     "name": "stdout",
     "output_type": "stream",
     "text": [
      "2000-02-28 2001-02-28 2002-02-28 2003-02-28 2004-02-28 2005-02-28 2006-02-28 2007-02-28 2008-02-28 2009-02-28 regression done !\n",
      "regression start scale[398,399]\n",
      "2010-02-28 2011-02-28 2012-02-28 2013-02-28 2014-02-28 2015-02-28 2016-02-28 2017-02-28 2018-02-28 regression done !\n",
      "2000-02-28 2001-02-28 2002-02-28 2003-02-28 2004-02-28 2005-02-28 2006-02-28 2007-02-28 2008-02-28 2009-02-28 regression done !\n",
      "regression start scale[398,399]\n",
      "regression start scale[399,400]\n",
      "2000-02-28 2001-02-28 2002-02-28 2003-02-28 2004-02-28 2005-02-28 2006-02-28 2007-02-28 2008-02-28 2009-02-28 regression done !\n",
      "regression start scale[399,400]\n",
      "2010-02-28 2011-02-28 2012-02-28 2013-02-28 2014-02-28 2015-02-28 2016-02-28 2017-02-28 2018-02-28 regression done !\n",
      "2010-02-28 2011-02-28 2012-02-28 2013-02-28 2014-02-28 2015-02-28 2016-02-28 2017-02-28 2018-02-28 regression done !\n",
      "regression start scale[400,401]\n",
      "regression start scale[400,401]\n",
      "2010-02-28 2011-02-28 2012-02-28 2013-02-28 2014-02-28 2015-02-28 2016-02-28 2017-02-28 2018-02-28 regression done !\n",
      "regression start scale[401,402]\n",
      "2010-02-28 2011-02-28 2012-02-28 2013-02-28 2014-02-28 2015-02-28 2016-02-28 2017-02-28 2018-02-28 regression done !\n",
      "regression start scale[401,402]\n",
      "2000-02-28 2001-02-28 2002-02-28 2003-02-28 2004-02-28 2005-02-28 2006-02-28 2007-02-28 2008-02-28 2009-02-28 regression start scale[402,403]\n"
     ]
    },
    {
     "name": "stderr",
     "output_type": "stream",
     "text": [
      "/opt/conda/lib/python3.6/site-packages/numpy/core/fromnumeric.py:2909: RuntimeWarning: Mean of empty slice.\n",
      "  out=out, **kwargs)\n",
      "/opt/conda/lib/python3.6/site-packages/numpy/core/_methods.py:80: RuntimeWarning: invalid value encountered in true_divide\n",
      "  ret = ret.dtype.type(ret / rcount)\n",
      "/opt/conda/lib/python3.6/site-packages/ipykernel_launcher.py:24: RuntimeWarning: divide by zero encountered in true_divide\n",
      "/opt/conda/lib/python3.6/site-packages/ipykernel_launcher.py:132: RuntimeWarning: divide by zero encountered in double_scalars\n"
     ]
    },
    {
     "name": "stdout",
     "output_type": "stream",
     "text": [
      "2000-02-28 2001-02-28 2002-02-28 2003-02-28 2004-02-28 2005-02-28 2006-02-28 2007-02-28 2008-02-28 2009-02-28 regression done !\n",
      "2000-02-28 2001-02-28 2002-02-28 2003-02-28 2004-02-28 2005-02-28 2006-02-28 2007-02-28 2008-02-28 2009-02-28 regression start scale[402,403]\n",
      "regression start scale[403,404]\n",
      "2000-02-28 2001-02-28 2002-02-28 2003-02-28 2004-02-28 2005-02-28 2006-02-28 2007-02-28 2008-02-28 2009-02-28 regression done !\n",
      "attempt to get argmax of an empty sequence\n",
      "regression start scale[403,404]\n"
     ]
    },
    {
     "name": "stderr",
     "output_type": "stream",
     "text": [
      "/opt/conda/lib/python3.6/site-packages/numpy/core/fromnumeric.py:2909: RuntimeWarning: Mean of empty slice.\n",
      "  out=out, **kwargs)\n",
      "/opt/conda/lib/python3.6/site-packages/numpy/core/_methods.py:80: RuntimeWarning: invalid value encountered in true_divide\n",
      "  ret = ret.dtype.type(ret / rcount)\n"
     ]
    },
    {
     "name": "stdout",
     "output_type": "stream",
     "text": [
      "2010-02-28 2011-02-28 2012-02-28 2013-02-28 2014-02-28 2015-02-28 2016-02-28 2017-02-28 2018-02-28 regression done !\n",
      "2000-02-28 2001-02-28 2002-02-28 2003-02-28 2004-02-28 2005-02-28 2006-02-28 2007-02-28 2008-02-28 2009-02-28 regression start scale[404,405]\n",
      "2010-02-28 2011-02-28 2012-02-28 2013-02-28 2014-02-28 2015-02-28 2016-02-28 2017-02-28 2018-02-28 regression done !\n",
      "regression start scale[404,405]\n",
      "regression start scale[405,406]\n",
      "2000-02-28 2001-02-28 2002-02-28 2003-02-28 2004-02-28 2005-02-28 2006-02-28 2007-02-28 2008-02-28 2009-02-28 regression done !\n",
      "regression start scale[405,406]\n",
      "2010-02-28 2011-02-28 2012-02-28 2013-02-28 2014-02-28 2015-02-28 2016-02-28 2017-02-28 2018-02-28 regression done !\n",
      "regression start scale[406,407]\n",
      "2010-02-28 2011-02-28 2012-02-28 2013-02-28 2014-02-28 2015-02-28 2016-02-28 2017-02-28 2018-02-28 regression done !\n",
      "regression start scale[406,407]\n",
      "2000-02-28 2001-02-28 2002-02-28 2003-02-28 2004-02-28 2005-02-28 2006-02-28 2007-02-28 2008-02-28 2009-02-28 regression done !\n",
      "regression start scale[407,408]\n",
      "2010-02-28 2011-02-28 2012-02-28 2013-02-28 2014-02-28 2015-02-28 2016-02-28 2017-02-28 2018-02-28 regression done !\n",
      "regression start scale[407,408]\n",
      "2010-02-28 2011-02-28 2012-02-28 2013-02-28 2014-02-28 2015-02-28 2016-02-28 2017-02-28 2018-02-28 regression done !\n",
      "regression start scale[408,409]\n",
      "2010-02-28 2011-02-28 2012-02-28 2013-02-28 2014-02-28 2015-02-28 2016-02-28 2017-02-28 2018-02-28 regression done !\n",
      "2000-02-28 2001-02-28 2002-02-28 2003-02-28 2004-02-28 2005-02-28 2006-02-28 2007-02-28 2008-02-28 2009-02-28 regression start scale[408,409]\n",
      "regression start scale[409,410]\n",
      "2000-02-28 2001-02-28 2002-02-28 2003-02-28 2004-02-28 2005-02-28 2006-02-28 2007-02-28 2008-02-28 2009-02-28 regression start scale[409,410]\n",
      "2010-02-28 2011-02-28 2012-02-28 2013-02-28 2014-02-28 2015-02-28 2016-02-28 2017-02-28 2018-02-28 regression done !\n",
      "attempt to get argmax of an empty sequence\n",
      "attempt to get argmax of an empty sequence\n",
      "regression start scale[410,411]\n"
     ]
    },
    {
     "name": "stderr",
     "output_type": "stream",
     "text": [
      "/opt/conda/lib/python3.6/site-packages/numpy/core/fromnumeric.py:2909: RuntimeWarning: Mean of empty slice.\n",
      "  out=out, **kwargs)\n",
      "/opt/conda/lib/python3.6/site-packages/numpy/core/_methods.py:80: RuntimeWarning: invalid value encountered in true_divide\n",
      "  ret = ret.dtype.type(ret / rcount)\n",
      "/opt/conda/lib/python3.6/site-packages/ipykernel_launcher.py:24: RuntimeWarning: divide by zero encountered in true_divide\n",
      "/opt/conda/lib/python3.6/site-packages/ipykernel_launcher.py:132: RuntimeWarning: divide by zero encountered in double_scalars\n"
     ]
    },
    {
     "name": "stdout",
     "output_type": "stream",
     "text": [
      "2000-02-28 2001-02-28 2002-02-28 2003-02-28 2004-02-28 2005-02-28 2006-02-28 2007-02-28 2008-02-28 2009-02-28 regression done !\n",
      "regression start scale[410,411]\n",
      "2000-02-28 2001-02-28 2002-02-28 2003-02-28 2004-02-28 2005-02-28 2006-02-28 2007-02-28 2008-02-28 2009-02-28 regression start scale[411,412]\n",
      "2010-02-28 2011-02-28 2012-02-28 2013-02-28 2014-02-28 2015-02-28 2016-02-28 2017-02-28 2018-02-28 regression done !\n",
      "regression start scale[411,412]\n",
      "2000-02-28 2001-02-28 2002-02-28 2003-02-28 2004-02-28 2005-02-28 2006-02-28 2007-02-28 2008-02-28 2009-02-28 regression done !\n",
      "attempt to get argmax of an empty sequence\n",
      "attempt to get argmax of an empty sequence\n",
      "attempt to get argmax of an empty sequence\n",
      "regression start scale[412,413]\n",
      "2000-02-28 2001-02-28 2002-02-28 2003-02-28 2004-02-28 2005-02-28 2006-02-28 2007-02-28 2008-02-28 2009-02-28 regression start scale[412,413]\n",
      "2000-02-28 2001-02-28 2002-02-28 2003-02-28 2004-02-28 2005-02-28 2006-02-28 2007-02-28 2008-02-28 2009-02-28 regression done !\n",
      "regression start scale[413,414]\n",
      "2000-02-28 2001-02-28 2002-02-28 2003-02-28 2004-02-28 2005-02-28 2006-02-28 2007-02-28 2008-02-28 2009-02-28 regression done !\n",
      "regression start scale[413,414]\n",
      "2010-02-28 2011-02-28 2012-02-28 2013-02-28 2014-02-28 2015-02-28 2016-02-28 2017-02-28 2018-02-28 regression done !\n",
      "regression start scale[414,415]\n",
      "2010-02-28 2011-02-28 2012-02-28 2013-02-28 2014-02-28 2015-02-28 2016-02-28 2017-02-28 2018-02-28 regression done !\n",
      "attempt to get argmax of an empty sequence\n",
      "attempt to get argmax of an empty sequence\n",
      "regression start scale[414,415]\n",
      "2010-02-28 2011-02-28 2012-02-28 2013-02-28 2014-02-28 2015-02-28 2016-02-28 2017-02-28 2018-02-28 regression done !\n",
      "regression start scale[415,416]\n",
      "2010-02-28 2011-02-28 2012-02-28 2013-02-28 2014-02-28 2015-02-28 2016-02-28 2017-02-28 2018-02-28 regression done !\n",
      "attempt to get argmax of an empty sequence\n",
      "regression start scale[415,416]\n",
      "2010-02-28 2011-02-28 2012-02-28 2013-02-28 2014-02-28 2015-02-28 2016-02-28 2017-02-28 2018-02-28 regression done !\n",
      "regression start scale[416,417]\n"
     ]
    },
    {
     "name": "stderr",
     "output_type": "stream",
     "text": [
      "/opt/conda/lib/python3.6/site-packages/numpy/core/fromnumeric.py:2909: RuntimeWarning: Mean of empty slice.\n",
      "  out=out, **kwargs)\n",
      "/opt/conda/lib/python3.6/site-packages/numpy/core/_methods.py:80: RuntimeWarning: invalid value encountered in true_divide\n",
      "  ret = ret.dtype.type(ret / rcount)\n",
      "/opt/conda/lib/python3.6/site-packages/ipykernel_launcher.py:24: RuntimeWarning: divide by zero encountered in true_divide\n"
     ]
    },
    {
     "name": "stdout",
     "output_type": "stream",
     "text": [
      "2000-02-28 2001-02-28 2002-02-28 2003-02-28 2004-02-28 2005-02-28 2006-02-28 2007-02-28 2008-02-28 2009-02-28 regression start scale[416,417]\n"
     ]
    },
    {
     "name": "stderr",
     "output_type": "stream",
     "text": [
      "/opt/conda/lib/python3.6/site-packages/ipykernel_launcher.py:132: RuntimeWarning: divide by zero encountered in double_scalars\n"
     ]
    },
    {
     "name": "stdout",
     "output_type": "stream",
     "text": [
      "2000-02-28 2001-02-28 2002-02-28 2003-02-28 2004-02-28 2005-02-28 2006-02-28 2007-02-28 2008-02-28 2009-02-28 regression done !\n",
      "regression start scale[417,418]\n",
      "2010-02-28 2011-02-28 2012-02-28 2013-02-28 2014-02-28 2015-02-28 2016-02-28 2017-02-28 2018-02-28 regression done !\n",
      "regression start scale[417,418]\n"
     ]
    },
    {
     "name": "stderr",
     "output_type": "stream",
     "text": [
      "/opt/conda/lib/python3.6/site-packages/numpy/core/fromnumeric.py:2909: RuntimeWarning: Mean of empty slice.\n",
      "  out=out, **kwargs)\n",
      "/opt/conda/lib/python3.6/site-packages/numpy/core/_methods.py:80: RuntimeWarning: invalid value encountered in true_divide\n",
      "  ret = ret.dtype.type(ret / rcount)\n"
     ]
    },
    {
     "name": "stdout",
     "output_type": "stream",
     "text": [
      "2000-02-28 2001-02-28 2002-02-28 2003-02-28 2004-02-28 2005-02-28 2006-02-28 2007-02-28 2008-02-28 2009-02-28 regression done !\n",
      "2010-02-28 2011-02-28 2012-02-28 2013-02-28 2014-02-28 2015-02-28 2016-02-28 2017-02-28 2018-02-28 regression done !\n",
      "attempt to get argmax of an empty sequence\n",
      "regression start scale[418,419]\n",
      "regression start scale[418,419]\n",
      "2000-02-28 2001-02-28 2002-02-28 2003-02-28 2004-02-28 2005-02-28 2006-02-28 2007-02-28 2008-02-28 2009-02-28 regression start scale[419,420]\n",
      "2000-02-28 2001-02-28 2002-02-28 2003-02-28 2004-02-28 2005-02-28 2006-02-28 2007-02-28 2008-02-28 2009-02-28 regression done !\n",
      "regression start scale[419,420]\n",
      "2000-02-28 2001-02-28 2002-02-28 2003-02-28 2004-02-28 2005-02-28 2006-02-28 2007-02-28 2008-02-28 2009-02-28 regression done !\n",
      "regression start scale[420,421]\n",
      "2010-02-28 2011-02-28 2012-02-28 2013-02-28 2014-02-28 2015-02-28 2016-02-28 2017-02-28 2018-02-28 regression done !\n",
      "regression start scale[420,421]\n",
      "2010-02-28 2011-02-28 2012-02-28 2013-02-28 2014-02-28 2015-02-28 2016-02-28 2017-02-28 2018-02-28 regression done !\n",
      "regression start scale[421,422]\n",
      "2010-02-28 2011-02-28 2012-02-28 2013-02-28 2014-02-28 2015-02-28 2016-02-28 2017-02-28 2018-02-28 regression done !\n",
      "regression start scale[421,422]\n"
     ]
    },
    {
     "name": "stderr",
     "output_type": "stream",
     "text": [
      "/opt/conda/lib/python3.6/site-packages/numpy/core/fromnumeric.py:2909: RuntimeWarning: Mean of empty slice.\n",
      "  out=out, **kwargs)\n",
      "/opt/conda/lib/python3.6/site-packages/numpy/core/_methods.py:80: RuntimeWarning: invalid value encountered in true_divide\n",
      "  ret = ret.dtype.type(ret / rcount)\n"
     ]
    },
    {
     "name": "stdout",
     "output_type": "stream",
     "text": [
      "2000-02-28 2001-02-28 2002-02-28 2003-02-28 2004-02-28 2005-02-28 2006-02-28 2007-02-28 2008-02-28 2009-02-28 regression done !\n",
      "regression start scale[422,423]\n",
      "2010-02-28 2011-02-28 2012-02-28 2013-02-28 2014-02-28 2015-02-28 2016-02-28 2017-02-28 2018-02-28 regression done !\n"
     ]
    },
    {
     "name": "stderr",
     "output_type": "stream",
     "text": [
      "/opt/conda/lib/python3.6/site-packages/numpy/core/fromnumeric.py:2909: RuntimeWarning: Mean of empty slice.\n",
      "  out=out, **kwargs)\n",
      "/opt/conda/lib/python3.6/site-packages/numpy/core/_methods.py:80: RuntimeWarning: invalid value encountered in true_divide\n",
      "  ret = ret.dtype.type(ret / rcount)\n",
      "/opt/conda/lib/python3.6/site-packages/ipykernel_launcher.py:24: RuntimeWarning: divide by zero encountered in true_divide\n"
     ]
    },
    {
     "name": "stdout",
     "output_type": "stream",
     "text": [
      "regression start scale[422,423]\n"
     ]
    },
    {
     "name": "stderr",
     "output_type": "stream",
     "text": [
      "/opt/conda/lib/python3.6/site-packages/ipykernel_launcher.py:132: RuntimeWarning: divide by zero encountered in double_scalars\n"
     ]
    },
    {
     "name": "stdout",
     "output_type": "stream",
     "text": [
      "2000-02-28 2001-02-28 2002-02-28 2003-02-28 2004-02-28 2005-02-28 2006-02-28 2007-02-28 2008-02-28 2009-02-28 regression done !\n",
      "regression start scale[423,424]\n",
      "2000-02-28 2001-02-28 2002-02-28 2003-02-28 2004-02-28 2005-02-28 2006-02-28 2007-02-28 2008-02-28 2009-02-28 regression done !\n",
      "regression start scale[423,424]\n",
      "2010-02-28 2011-02-28 2012-02-28 2013-02-28 2014-02-28 2015-02-28 2016-02-28 2017-02-28 2018-02-28 regression done !\n",
      "regression start scale[424,425]\n",
      "2000-02-28 2001-02-28 2002-02-28 2003-02-28 2004-02-28 2005-02-28 2006-02-28 2007-02-28 2008-02-28 2009-02-28 regression start scale[424,425]\n",
      "2010-02-28 2011-02-28 2012-02-28 2013-02-28 2014-02-28 2015-02-28 2016-02-28 2017-02-28 2018-02-28 regression done !\n",
      "regression start scale[425,426]\n",
      "2000-02-28 2001-02-28 2002-02-28 2003-02-28 2004-02-28 2005-02-28 2006-02-28 2007-02-28 2008-02-28 2009-02-28 regression done !\n",
      "2000-02-28 2001-02-28 2002-02-28 2003-02-28 2004-02-28 2005-02-28 2006-02-28 2007-02-28 2008-02-28 2009-02-28 regression start scale[425,426]\n",
      "regression start scale[426,427]\n",
      "2010-02-28 2011-02-28 2012-02-28 2013-02-28 2014-02-28 2015-02-28 2016-02-28 2017-02-28 2018-02-28 regression done !\n",
      "regression start scale[426,427]\n",
      "2010-02-28 2011-02-28 2012-02-28 2013-02-28 2014-02-28 2015-02-28 2016-02-28 2017-02-28 2018-02-28 regression done !\n",
      "regression start scale[427,428]\n",
      "2000-02-28 2001-02-28 2002-02-28 2003-02-28 2004-02-28 2005-02-28 2006-02-28 2007-02-28 2008-02-28 2009-02-28 regression done !\n",
      "regression start scale[427,428]\n",
      "2010-02-28 2011-02-28 2012-02-28 2013-02-28 2014-02-28 2015-02-28 2016-02-28 2017-02-28 2018-02-28 regression done !\n",
      "attempt to get argmax of an empty sequence\n",
      "attempt to get argmax of an empty sequence\n",
      "regression start scale[428,429]\n"
     ]
    },
    {
     "name": "stderr",
     "output_type": "stream",
     "text": [
      "/opt/conda/lib/python3.6/site-packages/numpy/core/fromnumeric.py:2909: RuntimeWarning: Mean of empty slice.\n",
      "  out=out, **kwargs)\n",
      "/opt/conda/lib/python3.6/site-packages/numpy/core/_methods.py:80: RuntimeWarning: invalid value encountered in true_divide\n",
      "  ret = ret.dtype.type(ret / rcount)\n"
     ]
    },
    {
     "name": "stdout",
     "output_type": "stream",
     "text": [
      "2010-02-28 2011-02-28 2012-02-28 2013-02-28 2014-02-28 2015-02-28 2016-02-28 2017-02-28 2018-02-28 regression done !\n",
      "regression start scale[428,429]\n",
      "2010-02-28 2011-02-28 2012-02-28 2013-02-28 2014-02-28 2015-02-28 2016-02-28 2017-02-28 2018-02-28 regression done !\n",
      "regression start scale[429,430]\n",
      "2010-02-28 2011-02-28 2012-02-28 2013-02-28 2014-02-28 2015-02-28 2016-02-28 2017-02-28 2018-02-28 regression done !\n",
      "regression start scale[429,430]\n",
      "2000-02-28 2001-02-28 2002-02-28 2003-02-28 2004-02-28 2005-02-28 2006-02-28 2007-02-28 2008-02-28 2009-02-28 regression done !\n",
      "2010-02-28 2011-02-28 2012-02-28 2013-02-28 2014-02-28 2015-02-28 2016-02-28 2017-02-28 2018-02-28 regression done !\n",
      "regression start scale[430,431]\n",
      "regression start scale[430,431]\n",
      "2000-02-28 2001-02-28 2002-02-28 2003-02-28 2004-02-28 2005-02-28 2006-02-28 2007-02-28 2008-02-28 2009-02-28 regression start scale[431,432]\n"
     ]
    },
    {
     "name": "stderr",
     "output_type": "stream",
     "text": [
      "/opt/conda/lib/python3.6/site-packages/numpy/core/fromnumeric.py:2909: RuntimeWarning: Mean of empty slice.\n",
      "  out=out, **kwargs)\n",
      "/opt/conda/lib/python3.6/site-packages/numpy/core/_methods.py:80: RuntimeWarning: invalid value encountered in true_divide\n",
      "  ret = ret.dtype.type(ret / rcount)\n",
      "/opt/conda/lib/python3.6/site-packages/ipykernel_launcher.py:24: RuntimeWarning: divide by zero encountered in true_divide\n"
     ]
    },
    {
     "name": "stdout",
     "output_type": "stream",
     "text": [
      "2000-02-28 2001-02-28 2002-02-28 2003-02-28 2004-02-28 2005-02-28 2006-02-28 2007-02-28 2008-02-28 2009-02-28 regression done !\n",
      "attempt to get argmax of an empty sequence\n",
      "attempt to get argmax of an empty sequence\n",
      "regression start scale[431,432]\n"
     ]
    },
    {
     "name": "stderr",
     "output_type": "stream",
     "text": [
      "/opt/conda/lib/python3.6/site-packages/numpy/core/fromnumeric.py:2909: RuntimeWarning: Mean of empty slice.\n",
      "  out=out, **kwargs)\n",
      "/opt/conda/lib/python3.6/site-packages/numpy/core/_methods.py:80: RuntimeWarning: invalid value encountered in true_divide\n",
      "  ret = ret.dtype.type(ret / rcount)\n",
      "/opt/conda/lib/python3.6/site-packages/ipykernel_launcher.py:24: RuntimeWarning: divide by zero encountered in true_divide\n"
     ]
    },
    {
     "name": "stdout",
     "output_type": "stream",
     "text": [
      "2000-02-28 2001-02-28 2002-02-28 2003-02-28 2004-02-28 2005-02-28 2006-02-28 2007-02-28 2008-02-28 2009-02-28 regression done !\n"
     ]
    },
    {
     "name": "stderr",
     "output_type": "stream",
     "text": [
      "/opt/conda/lib/python3.6/site-packages/ipykernel_launcher.py:132: RuntimeWarning: divide by zero encountered in double_scalars\n"
     ]
    },
    {
     "name": "stdout",
     "output_type": "stream",
     "text": [
      "2000-02-28 2001-02-28 2002-02-28 2003-02-28 2004-02-28 2005-02-28 2006-02-28 2007-02-28 2008-02-28 2009-02-28 regression done !\n",
      "regression start scale[432,433]\n",
      "regression start scale[432,433]\n"
     ]
    },
    {
     "name": "stderr",
     "output_type": "stream",
     "text": [
      "/opt/conda/lib/python3.6/site-packages/ipykernel_launcher.py:132: RuntimeWarning: divide by zero encountered in double_scalars\n"
     ]
    },
    {
     "name": "stdout",
     "output_type": "stream",
     "text": [
      "2000-02-28 2001-02-28 2002-02-28 2003-02-28 2004-02-28 2005-02-28 2006-02-28 2007-02-28 2008-02-28 2009-02-28 regression done !\n",
      "2000-02-28 2001-02-28 2002-02-28 2003-02-28 2004-02-28 2005-02-28 2006-02-28 2007-02-28 2008-02-28 2009-02-28 regression start scale[433,434]\n",
      "regression start scale[433,434]\n",
      "2010-02-28 2011-02-28 2012-02-28 2013-02-28 2014-02-28 2015-02-28 2016-02-28 2017-02-28 2018-02-28 regression done !\n",
      "regression start scale[434,435]\n",
      "2010-02-28 2011-02-28 2012-02-28 2013-02-28 2014-02-28 2015-02-28 2016-02-28 2017-02-28 2018-02-28 regression done !\n",
      "regression start scale[434,435]\n"
     ]
    },
    {
     "name": "stderr",
     "output_type": "stream",
     "text": [
      "/opt/conda/lib/python3.6/site-packages/numpy/core/fromnumeric.py:2909: RuntimeWarning: Mean of empty slice.\n",
      "  out=out, **kwargs)\n",
      "/opt/conda/lib/python3.6/site-packages/numpy/core/_methods.py:80: RuntimeWarning: invalid value encountered in true_divide\n",
      "  ret = ret.dtype.type(ret / rcount)\n"
     ]
    },
    {
     "name": "stdout",
     "output_type": "stream",
     "text": [
      "2010-02-28 2011-02-28 2012-02-28 2013-02-28 2014-02-28 2015-02-28 2016-02-28 2017-02-28 2018-02-28 regression done !\n",
      "regression start scale[435,436]\n",
      "2010-02-28 2011-02-28 2012-02-28 2013-02-28 2014-02-28 2015-02-28 2016-02-28 2017-02-28 2018-02-28 regression done !\n",
      "regression start scale[435,436]\n"
     ]
    },
    {
     "name": "stderr",
     "output_type": "stream",
     "text": [
      "/opt/conda/lib/python3.6/site-packages/numpy/core/fromnumeric.py:2909: RuntimeWarning: Mean of empty slice.\n",
      "  out=out, **kwargs)\n",
      "/opt/conda/lib/python3.6/site-packages/numpy/core/_methods.py:80: RuntimeWarning: invalid value encountered in true_divide\n",
      "  ret = ret.dtype.type(ret / rcount)\n"
     ]
    },
    {
     "name": "stdout",
     "output_type": "stream",
     "text": [
      "2000-02-28 2001-02-28 2002-02-28 2003-02-28 2004-02-28 2005-02-28 2006-02-28 2007-02-28 2008-02-28 2009-02-28 regression done !\n",
      "regression start scale[436,437]\n",
      "2010-02-28 2011-02-28 2012-02-28 2013-02-28 2014-02-28 2015-02-28 2016-02-28 2017-02-28 2018-02-28 regression done !\n",
      "regression start scale[436,437]\n",
      "2000-02-28 2001-02-28 2002-02-28 2003-02-28 2004-02-28 2005-02-28 2006-02-28 2007-02-28 2008-02-28 2009-02-28 regression done !\n",
      "regression start scale[437,438]\n"
     ]
    },
    {
     "name": "stderr",
     "output_type": "stream",
     "text": [
      "/opt/conda/lib/python3.6/site-packages/numpy/core/fromnumeric.py:2909: RuntimeWarning: Mean of empty slice.\n",
      "  out=out, **kwargs)\n",
      "/opt/conda/lib/python3.6/site-packages/numpy/core/_methods.py:80: RuntimeWarning: invalid value encountered in true_divide\n",
      "  ret = ret.dtype.type(ret / rcount)\n",
      "/opt/conda/lib/python3.6/site-packages/ipykernel_launcher.py:24: RuntimeWarning: divide by zero encountered in true_divide\n"
     ]
    },
    {
     "name": "stdout",
     "output_type": "stream",
     "text": [
      "2010-02-28 2011-02-28 2012-02-28 2013-02-28 2014-02-28 2015-02-28 2016-02-28 2017-02-28 2018-02-28 regression done !\n",
      "regression start scale[437,438]\n"
     ]
    },
    {
     "name": "stderr",
     "output_type": "stream",
     "text": [
      "/opt/conda/lib/python3.6/site-packages/ipykernel_launcher.py:132: RuntimeWarning: divide by zero encountered in double_scalars\n"
     ]
    },
    {
     "name": "stdout",
     "output_type": "stream",
     "text": [
      "2000-02-28 2001-02-28 2002-02-28 2003-02-28 2004-02-28 2005-02-28 2006-02-28 2007-02-28 2008-02-28 2009-02-28 regression done !\n",
      "regression start scale[438,439]\n",
      "2000-02-28 2001-02-28 2002-02-28 2003-02-28 2004-02-28 2005-02-28 2006-02-28 2007-02-28 2008-02-28 2009-02-28 regression start scale[438,439]\n",
      "2010-02-28 2011-02-28 2012-02-28 2013-02-28 2014-02-28 2015-02-28 2016-02-28 2017-02-28 2018-02-28 regression done !\n",
      "attempt to get argmax of an empty sequence\n",
      "attempt to get argmax of an empty sequence\n",
      "regression start scale[439,440]\n",
      "2000-02-28 2001-02-28 2002-02-28 2003-02-28 2004-02-28 2005-02-28 2006-02-28 2007-02-28 2008-02-28 2009-02-28 regression start scale[439,440]\n",
      "2000-02-28 2001-02-28 2002-02-28 2003-02-28 2004-02-28 2005-02-28 2006-02-28 2007-02-28 2008-02-28 2009-02-28 regression done !\n",
      "regression start scale[440,441]\n",
      "2000-02-28 2001-02-28 2002-02-28 2003-02-28 2004-02-28 2005-02-28 2006-02-28 2007-02-28 2008-02-28 2009-02-28 regression start scale[440,441]\n",
      "2010-02-28 2011-02-28 2012-02-28 2013-02-28 2014-02-28 2015-02-28 2016-02-28 2017-02-28 2018-02-28 regression done !\n",
      "2010-02-28 2011-02-28 2012-02-28 2013-02-28 2014-02-28 2015-02-28 2016-02-28 2017-02-28 2018-02-28 regression done !\n",
      "regression start scale[441,442]\n",
      "regression start scale[441,442]\n",
      "2010-02-28 2011-02-28 2012-02-28 2013-02-28 2014-02-28 2015-02-28 2016-02-28 2017-02-28 2018-02-28 regression done !\n",
      "regression start scale[442,443]\n",
      "2010-02-28 2011-02-28 2012-02-28 2013-02-28 2014-02-28 2015-02-28 2016-02-28 2017-02-28 2018-02-28 regression done !\n",
      "regression start scale[442,443]\n"
     ]
    },
    {
     "name": "stderr",
     "output_type": "stream",
     "text": [
      "/opt/conda/lib/python3.6/site-packages/numpy/core/fromnumeric.py:2909: RuntimeWarning: Mean of empty slice.\n",
      "  out=out, **kwargs)\n",
      "/opt/conda/lib/python3.6/site-packages/numpy/core/_methods.py:80: RuntimeWarning: invalid value encountered in true_divide\n",
      "  ret = ret.dtype.type(ret / rcount)\n"
     ]
    },
    {
     "name": "stdout",
     "output_type": "stream",
     "text": [
      "2010-02-28 2011-02-28 2012-02-28 2013-02-28 2014-02-28 2015-02-28 2016-02-28 2017-02-28 2018-02-28 regression done !\n",
      "regression start scale[443,444]\n"
     ]
    },
    {
     "name": "stderr",
     "output_type": "stream",
     "text": [
      "/opt/conda/lib/python3.6/site-packages/numpy/core/fromnumeric.py:2909: RuntimeWarning: Mean of empty slice.\n",
      "  out=out, **kwargs)\n",
      "/opt/conda/lib/python3.6/site-packages/numpy/core/_methods.py:80: RuntimeWarning: invalid value encountered in true_divide\n",
      "  ret = ret.dtype.type(ret / rcount)\n"
     ]
    },
    {
     "name": "stdout",
     "output_type": "stream",
     "text": [
      "2010-02-28 2011-02-28 2012-02-28 2013-02-28 2014-02-28 2015-02-28 2016-02-28 2017-02-28 2018-02-28 regression done !\n",
      "regression start scale[443,444]\n",
      "2000-02-28 2001-02-28 2002-02-28 2003-02-28 2004-02-28 2005-02-28 2006-02-28 2007-02-28 2008-02-28 2009-02-28 regression done !\n",
      "regression start scale[444,445]\n"
     ]
    },
    {
     "name": "stderr",
     "output_type": "stream",
     "text": [
      "/opt/conda/lib/python3.6/site-packages/numpy/core/fromnumeric.py:2909: RuntimeWarning: Mean of empty slice.\n",
      "  out=out, **kwargs)\n",
      "/opt/conda/lib/python3.6/site-packages/numpy/core/_methods.py:80: RuntimeWarning: invalid value encountered in true_divide\n",
      "  ret = ret.dtype.type(ret / rcount)\n",
      "/opt/conda/lib/python3.6/site-packages/ipykernel_launcher.py:24: RuntimeWarning: divide by zero encountered in true_divide\n",
      "/opt/conda/lib/python3.6/site-packages/ipykernel_launcher.py:132: RuntimeWarning: divide by zero encountered in double_scalars\n"
     ]
    },
    {
     "name": "stdout",
     "output_type": "stream",
     "text": [
      "2000-02-28 2001-02-28 2002-02-28 2003-02-28 2004-02-28 2005-02-28 2006-02-28 2007-02-28 2008-02-28 2009-02-28 regression done !\n",
      "regression start scale[444,445]\n",
      "2000-02-28 2001-02-28 2002-02-28 2003-02-28 2004-02-28 2005-02-28 2006-02-28 2007-02-28 2008-02-28 2009-02-28 regression start scale[445,446]\n",
      "2000-02-28 2001-02-28 2002-02-28 2003-02-28 2004-02-28 2005-02-28 2006-02-28 2007-02-28 2008-02-28 2009-02-28 regression start scale[445,446]\n",
      "2000-02-28 2001-02-28 2002-02-28 2003-02-28 2004-02-28 2005-02-28 2006-02-28 2007-02-28 2008-02-28 2009-02-28 regression done !\n",
      "2010-02-28 2011-02-28 2012-02-28 2013-02-28 2014-02-28 2015-02-28 2016-02-28 2017-02-28 2018-02-28 regression done !\n",
      "regression start scale[446,447]\n",
      "regression start scale[446,447]\n"
     ]
    },
    {
     "name": "stderr",
     "output_type": "stream",
     "text": [
      "/opt/conda/lib/python3.6/site-packages/numpy/core/fromnumeric.py:2909: RuntimeWarning: Mean of empty slice.\n",
      "  out=out, **kwargs)\n",
      "/opt/conda/lib/python3.6/site-packages/numpy/core/_methods.py:80: RuntimeWarning: invalid value encountered in true_divide\n",
      "  ret = ret.dtype.type(ret / rcount)\n",
      "/opt/conda/lib/python3.6/site-packages/ipykernel_launcher.py:24: RuntimeWarning: divide by zero encountered in true_divide\n",
      "/opt/conda/lib/python3.6/site-packages/ipykernel_launcher.py:132: RuntimeWarning: divide by zero encountered in double_scalars\n"
     ]
    },
    {
     "name": "stdout",
     "output_type": "stream",
     "text": [
      "2000-02-28 2001-02-28 2002-02-28 2003-02-28 2004-02-28 2005-02-28 2006-02-28 2007-02-28 2008-02-28 2009-02-28 regression done !\n",
      "regression start scale[447,448]\n",
      "2010-02-28 2011-02-28 2012-02-28 2013-02-28 2014-02-28 2015-02-28 2016-02-28 2017-02-28 2018-02-28 regression done !\n",
      "regression start scale[447,448]\n",
      "2010-02-28 2011-02-28 2012-02-28 2013-02-28 2014-02-28 2015-02-28 2016-02-28 2017-02-28 2018-02-28 regression done !\n",
      "regression start scale[448,449]\n",
      "2010-02-28 2011-02-28 2012-02-28 2013-02-28 2014-02-28 2015-02-28 2016-02-28 2017-02-28 2018-02-28 regression done !\n",
      "attempt to get argmax of an empty sequence\n",
      "attempt to get argmax of an empty sequence\n",
      "attempt to get argmax of an empty sequence\n",
      "2000-02-28 2001-02-28 2002-02-28 2003-02-28 2004-02-28 2005-02-28 2006-02-28 2007-02-28 2008-02-28 2009-02-28 regression done !\n",
      "regression start scale[448,449]\n",
      "regression start scale[449,450]\n",
      "2010-02-28 2011-02-28 2012-02-28 2013-02-28 2014-02-28 2015-02-28 2016-02-28 2017-02-28 2018-02-28 regression done !\n",
      "regression start scale[449,450]\n",
      "2000-02-28 2001-02-28 2002-02-28 2003-02-28 2004-02-28 2005-02-28 2006-02-28 2007-02-28 2008-02-28 2009-02-28 regression done !\n",
      "regression start scale[450,451]\n",
      "2010-02-28 2011-02-28 2012-02-28 2013-02-28 2014-02-28 2015-02-28 2016-02-28 2017-02-28 2018-02-28 regression done !\n",
      "regression start scale[450,451]\n",
      "2010-02-28 2011-02-28 2012-02-28 2013-02-28 2014-02-28 2015-02-28 2016-02-28 2017-02-28 2018-02-28 regression done !\n",
      "attempt to get argmax of an empty sequence\n",
      "2010-02-28 2011-02-28 2012-02-28 2013-02-28 2014-02-28 2015-02-28 2016-02-28 2017-02-28 2018-02-28 regression done !\n",
      "regression start scale[451,452]\n",
      "attempt to get argmax of an empty sequence\n",
      "regression start scale[451,452]\n",
      "2010-02-28 2011-02-28 2012-02-28 2013-02-28 2014-02-28 2015-02-28 2016-02-28 2017-02-28 2018-02-28 regression done !\n",
      "regression start scale[452,453]\n"
     ]
    },
    {
     "name": "stderr",
     "output_type": "stream",
     "text": [
      "/opt/conda/lib/python3.6/site-packages/numpy/core/fromnumeric.py:2909: RuntimeWarning: Mean of empty slice.\n",
      "  out=out, **kwargs)\n",
      "/opt/conda/lib/python3.6/site-packages/numpy/core/_methods.py:80: RuntimeWarning: invalid value encountered in true_divide\n",
      "  ret = ret.dtype.type(ret / rcount)\n",
      "/opt/conda/lib/python3.6/site-packages/ipykernel_launcher.py:24: RuntimeWarning: divide by zero encountered in true_divide\n"
     ]
    },
    {
     "name": "stdout",
     "output_type": "stream",
     "text": [
      "2000-02-28 2001-02-28 2002-02-28 2003-02-28 2004-02-28 2005-02-28 2006-02-28 2007-02-28 2008-02-28 2009-02-28 regression done !\n"
     ]
    },
    {
     "name": "stderr",
     "output_type": "stream",
     "text": [
      "/opt/conda/lib/python3.6/site-packages/ipykernel_launcher.py:132: RuntimeWarning: divide by zero encountered in double_scalars\n"
     ]
    },
    {
     "name": "stdout",
     "output_type": "stream",
     "text": [
      "2000-02-28 2001-02-28 2002-02-28 2003-02-28 2004-02-28 2005-02-28 2006-02-28 2007-02-28 2008-02-28 2009-02-28 regression done !\n",
      "regression start scale[453,454]\n",
      "regression start scale[452,453]\n",
      "2000-02-28 2001-02-28 2002-02-28 2003-02-28 2004-02-28 2005-02-28 2006-02-28 2007-02-28 2008-02-28 2009-02-28 regression start scale[453,454]\n",
      "2000-02-28 2001-02-28 2002-02-28 2003-02-28 2004-02-28 2005-02-28 2006-02-28 2007-02-28 2008-02-28 2009-02-28 regression start scale[454,455]\n",
      "2000-02-28 2001-02-28 2002-02-28 2003-02-28 2004-02-28 2005-02-28 2006-02-28 2007-02-28 2008-02-28 2009-02-28 regression start scale[454,455]\n",
      "2010-02-28 2011-02-28 2012-02-28 2013-02-28 2014-02-28 2015-02-28 2016-02-28 2017-02-28 2018-02-28 regression done !\n",
      "regression start scale[455,456]\n",
      "2000-02-28 2001-02-28 2002-02-28 2003-02-28 2004-02-28 2005-02-28 2006-02-28 2007-02-28 2008-02-28 2009-02-28 regression done !\n",
      "regression start scale[455,456]\n",
      "2010-02-28 2011-02-28 2012-02-28 2013-02-28 2014-02-28 2015-02-28 2016-02-28 2017-02-28 2018-02-28 regression done !\n",
      "regression start scale[456,457]\n",
      "2000-02-28 2001-02-28 2002-02-28 2003-02-28 2004-02-28 2005-02-28 2006-02-28 2007-02-28 2008-02-28 2009-02-28 regression done !\n",
      "regression start scale[456,457]\n"
     ]
    },
    {
     "name": "stderr",
     "output_type": "stream",
     "text": [
      "/opt/conda/lib/python3.6/site-packages/numpy/core/fromnumeric.py:2909: RuntimeWarning: Mean of empty slice.\n",
      "  out=out, **kwargs)\n",
      "/opt/conda/lib/python3.6/site-packages/numpy/core/_methods.py:80: RuntimeWarning: invalid value encountered in true_divide\n",
      "  ret = ret.dtype.type(ret / rcount)\n"
     ]
    },
    {
     "name": "stdout",
     "output_type": "stream",
     "text": [
      "2010-02-28 2011-02-28 2012-02-28 2013-02-28 2014-02-28 2015-02-28 2016-02-28 2017-02-28 2018-02-28 regression done !\n",
      "regression start scale[457,458]\n",
      "2010-02-28 2011-02-28 2012-02-28 2013-02-28 2014-02-28 2015-02-28 2016-02-28 2017-02-28 2018-02-28 regression done !\n",
      "regression start scale[457,458]\n",
      "2010-02-28 2011-02-28 2012-02-28 2013-02-28 2014-02-28 2015-02-28 2016-02-28 2017-02-28 2018-02-28 regression done !\n",
      "attempt to get argmax of an empty sequence\n",
      "attempt to get argmax of an empty sequence\n",
      "attempt to get argmax of an empty sequence\n",
      "regression start scale[458,459]\n"
     ]
    },
    {
     "name": "stderr",
     "output_type": "stream",
     "text": [
      "/opt/conda/lib/python3.6/site-packages/numpy/core/fromnumeric.py:2909: RuntimeWarning: Mean of empty slice.\n",
      "  out=out, **kwargs)\n",
      "/opt/conda/lib/python3.6/site-packages/numpy/core/_methods.py:80: RuntimeWarning: invalid value encountered in true_divide\n",
      "  ret = ret.dtype.type(ret / rcount)\n",
      "/opt/conda/lib/python3.6/site-packages/ipykernel_launcher.py:24: RuntimeWarning: divide by zero encountered in true_divide\n"
     ]
    },
    {
     "name": "stdout",
     "output_type": "stream",
     "text": [
      "2010-02-28 2011-02-28 2012-02-28 2013-02-28 2014-02-28 2015-02-28 2016-02-28 2017-02-28 2018-02-28 regression done !\n"
     ]
    },
    {
     "name": "stderr",
     "output_type": "stream",
     "text": [
      "/opt/conda/lib/python3.6/site-packages/ipykernel_launcher.py:132: RuntimeWarning: divide by zero encountered in double_scalars\n"
     ]
    },
    {
     "name": "stdout",
     "output_type": "stream",
     "text": [
      "2000-02-28 2001-02-28 2002-02-28 2003-02-28 2004-02-28 2005-02-28 2006-02-28 2007-02-28 2008-02-28 2009-02-28 regression done !\n",
      "regression start scale[458,459]\n",
      "regression start scale[459,460]\n",
      "2010-02-28 2011-02-28 2012-02-28 2013-02-28 2014-02-28 2015-02-28 2016-02-28 2017-02-28 2018-02-28 regression done !\n",
      "regression start scale[459,460]\n",
      "2000-02-28 2001-02-28 2002-02-28 2003-02-28 2004-02-28 2005-02-28 2006-02-28 2007-02-28 2008-02-28 2009-02-28 regression start scale[460,461]\n",
      "2000-02-28 2001-02-28 2002-02-28 2003-02-28 2004-02-28 2005-02-28 2006-02-28 2007-02-28 2008-02-28 2009-02-28 regression start scale[460,461]\n",
      "2000-02-28 2001-02-28 2002-02-28 2003-02-28 2004-02-28 2005-02-28 2006-02-28 2007-02-28 2008-02-28 2009-02-28 regression start scale[461,462]\n",
      "2000-02-28 2001-02-28 2002-02-28 2003-02-28 2004-02-28 2005-02-28 2006-02-28 2007-02-28 2008-02-28 2009-02-28 regression done !\n",
      "regression start scale[461,462]\n"
     ]
    },
    {
     "name": "stderr",
     "output_type": "stream",
     "text": [
      "/opt/conda/lib/python3.6/site-packages/numpy/core/fromnumeric.py:2909: RuntimeWarning: Mean of empty slice.\n",
      "  out=out, **kwargs)\n",
      "/opt/conda/lib/python3.6/site-packages/numpy/core/_methods.py:80: RuntimeWarning: invalid value encountered in true_divide\n",
      "  ret = ret.dtype.type(ret / rcount)\n"
     ]
    },
    {
     "name": "stdout",
     "output_type": "stream",
     "text": [
      "2010-02-28 2011-02-28 2012-02-28 2013-02-28 2014-02-28 2015-02-28 2016-02-28 2017-02-28 2018-02-28 regression done !\n",
      "2000-02-28 2001-02-28 2002-02-28 2003-02-28 2004-02-28 2005-02-28 2006-02-28 2007-02-28 2008-02-28 2009-02-28 regression done !\n",
      "regression start scale[462,463]\n",
      "regression start scale[462,463]\n",
      "2010-02-28 2011-02-28 2012-02-28 2013-02-28 2014-02-28 2015-02-28 2016-02-28 2017-02-28 2018-02-28 regression done !\n",
      "regression start scale[463,464]\n",
      "2010-02-28 2011-02-28 2012-02-28 2013-02-28 2014-02-28 2015-02-28 2016-02-28 2017-02-28 2018-02-28 regression done !\n",
      "2010-02-28 2011-02-28 2012-02-28 2013-02-28 2014-02-28 2015-02-28 2016-02-28 2017-02-28 2018-02-28 regression done !\n",
      "regression start scale[463,464]\n",
      "regression start scale[464,465]\n",
      "2010-02-28 2011-02-28 2012-02-28 2013-02-28 2014-02-28 2015-02-28 2016-02-28 2017-02-28 2018-02-28 regression done !\n",
      "2010-02-28 2011-02-28 2012-02-28 2013-02-28 2014-02-28 2015-02-28 2016-02-28 2017-02-28 2018-02-28 regression done !\n",
      "regression start scale[464,465]\n",
      "regression start scale[465,466]\n",
      "2010-02-28 2011-02-28 2012-02-28 2013-02-28 2014-02-28 2015-02-28 2016-02-28 2017-02-28 2018-02-28 regression done !\n",
      "regression start scale[465,466]\n",
      "2000-02-28 2001-02-28 2002-02-28 2003-02-28 2004-02-28 2005-02-28 2006-02-28 2007-02-28 2008-02-28 2009-02-28 regression done !\n",
      "2000-02-28 2001-02-28 2002-02-28 2003-02-28 2004-02-28 2005-02-28 2006-02-28 2007-02-28 2008-02-28 2009-02-28 regression start scale[466,467]\n",
      "regression start scale[466,467]\n",
      "2000-02-28 2001-02-28 2002-02-28 2003-02-28 2004-02-28 2005-02-28 2006-02-28 2007-02-28 2008-02-28 2009-02-28 regression start scale[467,468]\n",
      "2000-02-28 2001-02-28 2002-02-28 2003-02-28 2004-02-28 2005-02-28 2006-02-28 2007-02-28 2008-02-28 2009-02-28 regression done !\n",
      "attempt to get argmax of an empty sequence\n",
      "attempt to get argmax of an empty sequence\n",
      "attempt to get argmax of an empty sequence\n",
      "regression start scale[467,468]\n",
      "2000-02-28 2001-02-28 2002-02-28 2003-02-28 2004-02-28 2005-02-28 2006-02-28 2007-02-28 2008-02-28 2009-02-28 regression done !\n",
      "regression start scale[468,469]\n",
      "2000-02-28 2001-02-28 2002-02-28 2003-02-28 2004-02-28 2005-02-28 2006-02-28 2007-02-28 2008-02-28 2009-02-28 regression done !\n",
      "regression start scale[468,469]\n",
      "2000-02-28 2001-02-28 2002-02-28 2003-02-28 2004-02-28 2005-02-28 2006-02-28 2007-02-28 2008-02-28 2009-02-28 regression start scale[469,470]\n",
      "2000-02-28 2001-02-28 2002-02-28 2003-02-28 2004-02-28 2005-02-28 2006-02-28 2007-02-28 2008-02-28 2009-02-28 regression start scale[469,470]\n",
      "2010-02-28 2011-02-28 2012-02-28 2013-02-28 2014-02-28 2015-02-28 2016-02-28 2017-02-28 2018-02-28 regression done !\n",
      "regression start scale[470,471]\n",
      "2000-02-28 2001-02-28 2002-02-28 2003-02-28 2004-02-28 2005-02-28 2006-02-28 2007-02-28 2008-02-28 2009-02-28 regression done !\n",
      "regression start scale[470,471]\n",
      "2010-02-28 2011-02-28 2012-02-28 2013-02-28 2014-02-28 2015-02-28 2016-02-28 2017-02-28 2018-02-28 regression done !\n",
      "regression start scale[471,472]\n",
      "2010-02-28 2011-02-28 2012-02-28 2013-02-28 2014-02-28 2015-02-28 2016-02-28 2017-02-28 2018-02-28 regression done !\n",
      "regression start scale[471,472]\n",
      "2010-02-28 2011-02-28 2012-02-28 2013-02-28 2014-02-28 2015-02-28 2016-02-28 2017-02-28 2018-02-28 regression done !\n"
     ]
    },
    {
     "name": "stderr",
     "output_type": "stream",
     "text": [
      "/opt/conda/lib/python3.6/site-packages/numpy/core/fromnumeric.py:2909: RuntimeWarning: Mean of empty slice.\n",
      "  out=out, **kwargs)\n",
      "/opt/conda/lib/python3.6/site-packages/numpy/core/_methods.py:80: RuntimeWarning: invalid value encountered in true_divide\n",
      "  ret = ret.dtype.type(ret / rcount)\n"
     ]
    },
    {
     "name": "stdout",
     "output_type": "stream",
     "text": [
      "regression start scale[472,473]\n",
      "2000-02-28 2001-02-28 2002-02-28 2003-02-28 2004-02-28 2005-02-28 2006-02-28 2007-02-28 2008-02-28 2009-02-28 regression done !\n",
      "regression start scale[472,473]\n",
      "2010-02-28 2011-02-28 2012-02-28 2013-02-28 2014-02-28 2015-02-28 2016-02-28 2017-02-28 2018-02-28 regression done !\n",
      "2010-02-28 2011-02-28 2012-02-28 2013-02-28 2014-02-28 2015-02-28 2016-02-28 2017-02-28 2018-02-28 regression done !\n",
      "regression start scale[473,474]\n",
      "regression start scale[473,474]\n",
      "2010-02-28 2011-02-28 2012-02-28 2013-02-28 2014-02-28 2015-02-28 2016-02-28 2017-02-28 2018-02-28 regression done !\n",
      "attempt to get argmax of an empty sequence\n",
      "attempt to get argmax of an empty sequence\n",
      "attempt to get argmax of an empty sequence\n",
      "attempt to get argmax of an empty sequence\n",
      "regression start scale[474,475]\n",
      "2010-02-28 2011-02-28 2012-02-28 2013-02-28 2014-02-28 2015-02-28 2016-02-28 2017-02-28 2018-02-28 regression done !\n",
      "regression start scale[474,475]\n",
      "2000-02-28 2001-02-28 2002-02-28 2003-02-28 2004-02-28 2005-02-28 2006-02-28 2007-02-28 2008-02-28 2009-02-28 regression start scale[475,476]\n",
      "2000-02-28 2001-02-28 2002-02-28 2003-02-28 2004-02-28 2005-02-28 2006-02-28 2007-02-28 2008-02-28 2009-02-28 regression start scale[475,476]\n"
     ]
    },
    {
     "name": "stderr",
     "output_type": "stream",
     "text": [
      "/opt/conda/lib/python3.6/site-packages/numpy/core/fromnumeric.py:2909: RuntimeWarning: Mean of empty slice.\n",
      "  out=out, **kwargs)\n",
      "/opt/conda/lib/python3.6/site-packages/numpy/core/_methods.py:80: RuntimeWarning: invalid value encountered in true_divide\n",
      "  ret = ret.dtype.type(ret / rcount)\n",
      "/opt/conda/lib/python3.6/site-packages/numpy/core/fromnumeric.py:2909: RuntimeWarning: Mean of empty slice.\n",
      "  out=out, **kwargs)\n",
      "/opt/conda/lib/python3.6/site-packages/numpy/core/_methods.py:80: RuntimeWarning: invalid value encountered in true_divide\n",
      "  ret = ret.dtype.type(ret / rcount)\n",
      "/opt/conda/lib/python3.6/site-packages/ipykernel_launcher.py:24: RuntimeWarning: divide by zero encountered in true_divide\n"
     ]
    },
    {
     "name": "stdout",
     "output_type": "stream",
     "text": [
      "2000-02-28 2001-02-28 2002-02-28 2003-02-28 2004-02-28 2005-02-28 2006-02-28 2007-02-28 2008-02-28 2009-02-28 regression done !\n"
     ]
    },
    {
     "name": "stderr",
     "output_type": "stream",
     "text": [
      "/opt/conda/lib/python3.6/site-packages/ipykernel_launcher.py:132: RuntimeWarning: divide by zero encountered in double_scalars\n"
     ]
    },
    {
     "name": "stdout",
     "output_type": "stream",
     "text": [
      "regression start scale[476,477]\n",
      "2000-02-28 2001-02-28 2002-02-28 2003-02-28 2004-02-28 2005-02-28 2006-02-28 2007-02-28 2008-02-28 2009-02-28 regression done !\n",
      "regression start scale[476,477]\n"
     ]
    },
    {
     "name": "stderr",
     "output_type": "stream",
     "text": [
      "/opt/conda/lib/python3.6/site-packages/numpy/core/fromnumeric.py:2909: RuntimeWarning: Mean of empty slice.\n",
      "  out=out, **kwargs)\n",
      "/opt/conda/lib/python3.6/site-packages/numpy/core/_methods.py:80: RuntimeWarning: invalid value encountered in true_divide\n",
      "  ret = ret.dtype.type(ret / rcount)\n",
      "/opt/conda/lib/python3.6/site-packages/ipykernel_launcher.py:24: RuntimeWarning: divide by zero encountered in true_divide\n",
      "/opt/conda/lib/python3.6/site-packages/ipykernel_launcher.py:132: RuntimeWarning: divide by zero encountered in double_scalars\n"
     ]
    },
    {
     "name": "stdout",
     "output_type": "stream",
     "text": [
      "2000-02-28 2001-02-28 2002-02-28 2003-02-28 2004-02-28 2005-02-28 2006-02-28 2007-02-28 2008-02-28 2009-02-28 regression done !\n",
      "regression start scale[477,478]\n",
      "2010-02-28 2011-02-28 2012-02-28 2013-02-28 2014-02-28 2015-02-28 2016-02-28 2017-02-28 2018-02-28 regression done !\n",
      "regression start scale[477,478]\n",
      "2010-02-28 2011-02-28 2012-02-28 2013-02-28 2014-02-28 2015-02-28 2016-02-28 2017-02-28 2018-02-28 regression done !\n",
      "regression start scale[478,479]\n"
     ]
    },
    {
     "name": "stderr",
     "output_type": "stream",
     "text": [
      "/opt/conda/lib/python3.6/site-packages/numpy/core/fromnumeric.py:2909: RuntimeWarning: Mean of empty slice.\n",
      "  out=out, **kwargs)\n",
      "/opt/conda/lib/python3.6/site-packages/numpy/core/_methods.py:80: RuntimeWarning: invalid value encountered in true_divide\n",
      "  ret = ret.dtype.type(ret / rcount)\n"
     ]
    },
    {
     "name": "stdout",
     "output_type": "stream",
     "text": [
      "2010-02-28 2011-02-28 2012-02-28 2013-02-28 2014-02-28 2015-02-28 2016-02-28 2017-02-28 2018-02-28 regression done !\n",
      "regression start scale[478,479]\n",
      "2010-02-28 2011-02-28 2012-02-28 2013-02-28 2014-02-28 2015-02-28 2016-02-28 2017-02-28 2018-02-28 regression done !\n",
      "regression start scale[479,480]\n",
      "2000-02-28 2001-02-28 2002-02-28 2003-02-28 2004-02-28 2005-02-28 2006-02-28 2007-02-28 2008-02-28 2009-02-28 regression start scale[479,480]\n",
      "2010-02-28 2011-02-28 2012-02-28 2013-02-28 2014-02-28 2015-02-28 2016-02-28 2017-02-28 2018-02-28 regression done !\n",
      "regression start scale[480,481]\n",
      "2000-02-28 2001-02-28 2002-02-28 2003-02-28 2004-02-28 2005-02-28 2006-02-28 2007-02-28 2008-02-28 2009-02-28 regression start scale[480,481]\n"
     ]
    },
    {
     "name": "stderr",
     "output_type": "stream",
     "text": [
      "/opt/conda/lib/python3.6/site-packages/numpy/core/fromnumeric.py:2909: RuntimeWarning: Mean of empty slice.\n",
      "  out=out, **kwargs)\n",
      "/opt/conda/lib/python3.6/site-packages/numpy/core/_methods.py:80: RuntimeWarning: invalid value encountered in true_divide\n",
      "  ret = ret.dtype.type(ret / rcount)\n"
     ]
    },
    {
     "name": "stdout",
     "output_type": "stream",
     "text": [
      "2010-02-28 2011-02-28 2012-02-28 2013-02-28 2014-02-28 2015-02-28 2016-02-28 2017-02-28 2018-02-28 regression done !\n"
     ]
    },
    {
     "name": "stderr",
     "output_type": "stream",
     "text": [
      "/opt/conda/lib/python3.6/site-packages/ipykernel_launcher.py:24: RuntimeWarning: divide by zero encountered in true_divide\n"
     ]
    },
    {
     "name": "stdout",
     "output_type": "stream",
     "text": [
      "regression start scale[481,482]\n"
     ]
    },
    {
     "name": "stderr",
     "output_type": "stream",
     "text": [
      "/opt/conda/lib/python3.6/site-packages/ipykernel_launcher.py:132: RuntimeWarning: divide by zero encountered in double_scalars\n"
     ]
    },
    {
     "name": "stdout",
     "output_type": "stream",
     "text": [
      "2000-02-28 2001-02-28 2002-02-28 2003-02-28 2004-02-28 2005-02-28 2006-02-28 2007-02-28 2008-02-28 2009-02-28 regression done !\n",
      "regression start scale[481,482]\n",
      "2000-02-28 2001-02-28 2002-02-28 2003-02-28 2004-02-28 2005-02-28 2006-02-28 2007-02-28 2008-02-28 2009-02-28 regression start scale[482,483]\n",
      "2000-02-28 2001-02-28 2002-02-28 2003-02-28 2004-02-28 2005-02-28 2006-02-28 2007-02-28 2008-02-28 2009-02-28 regression done !\n",
      "attempt to get argmax of an empty sequence\n",
      "attempt to get argmax of an empty sequence\n",
      "regression start scale[482,483]\n",
      "2000-02-28 2001-02-28 2002-02-28 2003-02-28 2004-02-28 2005-02-28 2006-02-28 2007-02-28 2008-02-28 2009-02-28 regression done !\n",
      "regression start scale[483,484]\n",
      "2010-02-28 2011-02-28 2012-02-28 2013-02-28 2014-02-28 2015-02-28 2016-02-28 2017-02-28 2018-02-28 regression done !\n",
      "2010-02-28 2011-02-28 2012-02-28 2013-02-28 2014-02-28 2015-02-28 2016-02-28 2017-02-28 2018-02-28 regression done !\n",
      "regression start scale[483,484]\n",
      "regression start scale[484,485]\n",
      "2000-02-28 2001-02-28 2002-02-28 2003-02-28 2004-02-28 2005-02-28 2006-02-28 2007-02-28 2008-02-28 2009-02-28 regression done !\n",
      "regression start scale[484,485]\n",
      "2010-02-28 2011-02-28 2012-02-28 2013-02-28 2014-02-28 2015-02-28 2016-02-28 2017-02-28 2018-02-28 regression done !\n",
      "attempt to get argmax of an empty sequence\n",
      "regression start scale[485,486]\n",
      "2010-02-28 2011-02-28 2012-02-28 2013-02-28 2014-02-28 2015-02-28 2016-02-28 2017-02-28 2018-02-28 regression done !\n",
      "attempt to get argmax of an empty sequence\n",
      "regression start scale[485,486]\n"
     ]
    },
    {
     "name": "stderr",
     "output_type": "stream",
     "text": [
      "/opt/conda/lib/python3.6/site-packages/numpy/core/fromnumeric.py:2909: RuntimeWarning: Mean of empty slice.\n",
      "  out=out, **kwargs)\n",
      "/opt/conda/lib/python3.6/site-packages/numpy/core/_methods.py:80: RuntimeWarning: invalid value encountered in true_divide\n",
      "  ret = ret.dtype.type(ret / rcount)\n"
     ]
    },
    {
     "name": "stdout",
     "output_type": "stream",
     "text": [
      "2000-02-28 2001-02-28 2002-02-28 2003-02-28 2004-02-28 2005-02-28 2006-02-28 2007-02-28 2008-02-28 2009-02-28 regression done !\n",
      "2010-02-28 2011-02-28 2012-02-28 2013-02-28 2014-02-28 2015-02-28 2016-02-28 2017-02-28 2018-02-28 regression done !\n",
      "regression start scale[486,487]\n"
     ]
    },
    {
     "name": "stderr",
     "output_type": "stream",
     "text": [
      "/opt/conda/lib/python3.6/site-packages/numpy/core/fromnumeric.py:2909: RuntimeWarning: Mean of empty slice.\n",
      "  out=out, **kwargs)\n",
      "/opt/conda/lib/python3.6/site-packages/numpy/core/_methods.py:80: RuntimeWarning: invalid value encountered in true_divide\n",
      "  ret = ret.dtype.type(ret / rcount)\n",
      "/opt/conda/lib/python3.6/site-packages/ipykernel_launcher.py:24: RuntimeWarning: divide by zero encountered in true_divide\n"
     ]
    },
    {
     "name": "stdout",
     "output_type": "stream",
     "text": [
      "2010-02-28 2011-02-28 2012-02-28 2013-02-28 2014-02-28 2015-02-28 2016-02-28 2017-02-28 2018-02-28 regression done !\n",
      "regression start scale[486,487]\n",
      "regression start scale[487,488]\n"
     ]
    },
    {
     "name": "stderr",
     "output_type": "stream",
     "text": [
      "/opt/conda/lib/python3.6/site-packages/numpy/core/fromnumeric.py:2909: RuntimeWarning: Mean of empty slice.\n",
      "  out=out, **kwargs)\n",
      "/opt/conda/lib/python3.6/site-packages/numpy/core/_methods.py:80: RuntimeWarning: invalid value encountered in true_divide\n",
      "  ret = ret.dtype.type(ret / rcount)\n",
      "/opt/conda/lib/python3.6/site-packages/ipykernel_launcher.py:24: RuntimeWarning: divide by zero encountered in true_divide\n",
      "/opt/conda/lib/python3.6/site-packages/ipykernel_launcher.py:132: RuntimeWarning: divide by zero encountered in double_scalars\n"
     ]
    },
    {
     "name": "stdout",
     "output_type": "stream",
     "text": [
      "2000-02-28 2001-02-28 2002-02-28 2003-02-28 2004-02-28 2005-02-28 2006-02-28 2007-02-28 2008-02-28 2009-02-28 regression done !\n",
      "regression start scale[487,488]\n",
      "2000-02-28 2001-02-28 2002-02-28 2003-02-28 2004-02-28 2005-02-28 2006-02-28 2007-02-28 2008-02-28 2009-02-28 regression start scale[488,489]\n"
     ]
    },
    {
     "name": "stderr",
     "output_type": "stream",
     "text": [
      "/opt/conda/lib/python3.6/site-packages/ipykernel_launcher.py:132: RuntimeWarning: divide by zero encountered in double_scalars\n"
     ]
    },
    {
     "name": "stdout",
     "output_type": "stream",
     "text": [
      "2000-02-28 2001-02-28 2002-02-28 2003-02-28 2004-02-28 2005-02-28 2006-02-28 2007-02-28 2008-02-28 2009-02-28 regression done !\n",
      "regression start scale[488,489]\n",
      "2010-02-28 2011-02-28 2012-02-28 2013-02-28 2014-02-28 2015-02-28 2016-02-28 2017-02-28 2018-02-28 regression done !\n",
      "attempt to get argmax of an empty sequence\n",
      "regression start scale[489,490]\n",
      "2000-02-28 2001-02-28 2002-02-28 2003-02-28 2004-02-28 2005-02-28 2006-02-28 2007-02-28 2008-02-28 2009-02-28 regression done !\n",
      "regression start scale[489,490]\n",
      "2000-02-28 2001-02-28 2002-02-28 2003-02-28 2004-02-28 2005-02-28 2006-02-28 2007-02-28 2008-02-28 2009-02-28 regression start scale[490,491]\n",
      "2000-02-28 2001-02-28 2002-02-28 2003-02-28 2004-02-28 2005-02-28 2006-02-28 2007-02-28 2008-02-28 2009-02-28 regression done !\n",
      "regression start scale[490,491]\n",
      "2010-02-28 2011-02-28 2012-02-28 2013-02-28 2014-02-28 2015-02-28 2016-02-28 2017-02-28 2018-02-28 regression done !\n",
      "regression start scale[491,492]\n",
      "2010-02-28 2011-02-28 2012-02-28 2013-02-28 2014-02-28 2015-02-28 2016-02-28 2017-02-28 2018-02-28 regression done !\n",
      "regression start scale[491,492]\n",
      "2010-02-28 2011-02-28 2012-02-28 2013-02-28 2014-02-28 2015-02-28 2016-02-28 2017-02-28 2018-02-28 regression done !\n",
      "regression start scale[492,493]\n",
      "2010-02-28 2011-02-28 2012-02-28 2013-02-28 2014-02-28 2015-02-28 2016-02-28 2017-02-28 2018-02-28 regression done !\n",
      "regression start scale[492,493]\n",
      "2010-02-28 2011-02-28 2012-02-28 2013-02-28 2014-02-28 2015-02-28 2016-02-28 2017-02-28 2018-02-28 regression done !\n",
      "attempt to get argmax of an empty sequence\n",
      "attempt to get argmax of an empty sequence\n",
      "regression start scale[493,494]\n"
     ]
    },
    {
     "name": "stderr",
     "output_type": "stream",
     "text": [
      "/opt/conda/lib/python3.6/site-packages/numpy/core/fromnumeric.py:2909: RuntimeWarning: Mean of empty slice.\n",
      "  out=out, **kwargs)\n",
      "/opt/conda/lib/python3.6/site-packages/numpy/core/_methods.py:80: RuntimeWarning: invalid value encountered in true_divide\n",
      "  ret = ret.dtype.type(ret / rcount)\n",
      "/opt/conda/lib/python3.6/site-packages/ipykernel_launcher.py:24: RuntimeWarning: divide by zero encountered in true_divide\n"
     ]
    },
    {
     "name": "stdout",
     "output_type": "stream",
     "text": [
      "2010-02-28 2011-02-28 2012-02-28 2013-02-28 2014-02-28 2015-02-28 2016-02-28 2017-02-28 2018-02-28 regression done !\n",
      "regression start scale[493,494]\n"
     ]
    },
    {
     "name": "stderr",
     "output_type": "stream",
     "text": [
      "/opt/conda/lib/python3.6/site-packages/ipykernel_launcher.py:132: RuntimeWarning: divide by zero encountered in double_scalars\n"
     ]
    },
    {
     "name": "stdout",
     "output_type": "stream",
     "text": [
      "2000-02-28 2001-02-28 2002-02-28 2003-02-28 2004-02-28 2005-02-28 2006-02-28 2007-02-28 2008-02-28 2009-02-28 regression done !\n",
      "regression start scale[494,495]\n",
      "2000-02-28 2001-02-28 2002-02-28 2003-02-28 2004-02-28 2005-02-28 2006-02-28 2007-02-28 2008-02-28 2009-02-28 regression done !\n",
      "regression start scale[494,495]\n",
      "2000-02-28 2001-02-28 2002-02-28 2003-02-28 2004-02-28 2005-02-28 2006-02-28 2007-02-28 2008-02-28 2009-02-28 regression start scale[495,496]\n",
      "2000-02-28 2001-02-28 2002-02-28 2003-02-28 2004-02-28 2005-02-28 2006-02-28 2007-02-28 2008-02-28 2009-02-28 regression start scale[495,496]\n",
      "2000-02-28 2001-02-28 2002-02-28 2003-02-28 2004-02-28 2005-02-28 2006-02-28 2007-02-28 2008-02-28 2009-02-28 regression start scale[496,497]\n",
      "2010-02-28 2011-02-28 2012-02-28 2013-02-28 2014-02-28 2015-02-28 2016-02-28 2017-02-28 2018-02-28 regression start scale[496,497]\n"
     ]
    },
    {
     "name": "stderr",
     "output_type": "stream",
     "text": [
      "/opt/conda/lib/python3.6/site-packages/numpy/core/fromnumeric.py:2909: RuntimeWarning: Mean of empty slice.\n",
      "  out=out, **kwargs)\n",
      "/opt/conda/lib/python3.6/site-packages/numpy/core/_methods.py:80: RuntimeWarning: invalid value encountered in true_divide\n",
      "  ret = ret.dtype.type(ret / rcount)\n",
      "/opt/conda/lib/python3.6/site-packages/ipykernel_launcher.py:24: RuntimeWarning: divide by zero encountered in true_divide\n",
      "/opt/conda/lib/python3.6/site-packages/ipykernel_launcher.py:132: RuntimeWarning: divide by zero encountered in double_scalars\n"
     ]
    },
    {
     "name": "stdout",
     "output_type": "stream",
     "text": [
      "2000-02-28 2001-02-28 2002-02-28 2003-02-28 2004-02-28 2005-02-28 2006-02-28 2007-02-28 2008-02-28 2009-02-28 regression done !\n",
      "regression start scale[497,498]\n",
      "2010-02-28 2011-02-28 2012-02-28 2013-02-28 2014-02-28 2015-02-28 2016-02-28 2017-02-28 2018-02-28 regression done !\n",
      "regression start scale[497,498]\n",
      "2000-02-28 2001-02-28 2002-02-28 2003-02-28 2004-02-28 2005-02-28 2006-02-28 2007-02-28 2008-02-28 2009-02-28 regression done !\n",
      "regression start scale[498,499]\n",
      "2010-02-28 2011-02-28 2012-02-28 2013-02-28 2014-02-28 2015-02-28 2016-02-28 2017-02-28 2018-02-28 regression done !\n",
      "regression start scale[498,499]\n",
      "2010-02-28 2011-02-28 2012-02-28 2013-02-28 2014-02-28 2015-02-28 2016-02-28 2017-02-28 2018-02-28 regression done !\n",
      "regression start scale[499,500]\n",
      "2010-02-28 2011-02-28 2012-02-28 2013-02-28 2014-02-28 2015-02-28 2016-02-28 2017-02-28 2018-02-28 regression done !\n",
      "regression start scale[499,500]\n",
      "2010-02-28 2011-02-28 2012-02-28 2013-02-28 2014-02-28 2015-02-28 2016-02-28 2017-02-28 2018-02-28 regression done !\n",
      "2000-02-28 2001-02-28 2002-02-28 2003-02-28 2004-02-28 2005-02-28 2006-02-28 2007-02-28 2008-02-28 2009-02-28 regression done !\n"
     ]
    },
    {
     "name": "stderr",
     "output_type": "stream",
     "text": [
      "/opt/conda/lib/python3.6/site-packages/numpy/core/fromnumeric.py:2909: RuntimeWarning: Mean of empty slice.\n",
      "  out=out, **kwargs)\n",
      "/opt/conda/lib/python3.6/site-packages/numpy/core/_methods.py:80: RuntimeWarning: invalid value encountered in true_divide\n",
      "  ret = ret.dtype.type(ret / rcount)\n",
      "/opt/conda/lib/python3.6/site-packages/ipykernel_launcher.py:24: RuntimeWarning: divide by zero encountered in true_divide\n",
      "/opt/conda/lib/python3.6/site-packages/ipykernel_launcher.py:132: RuntimeWarning: divide by zero encountered in double_scalars\n"
     ]
    },
    {
     "name": "stdout",
     "output_type": "stream",
     "text": [
      "2000-02-28 2001-02-28 2002-02-28 2003-02-28 2004-02-28 2005-02-28 2006-02-28 2007-02-28 2008-02-28 2009-02-28 regression done !\n",
      "2010-02-28 2011-02-28 2012-02-28 2013-02-28 2014-02-28 2015-02-28 2016-02-28 2017-02-28 2018-02-28 regression done !\n",
      "2010-02-28 2011-02-28 2012-02-28 2013-02-28 2014-02-28 2015-02-28 2016-02-28 2017-02-28 2018-02-28 regression done !\n",
      "attempt to get argmax of an empty sequence\n",
      "attempt to get argmax of an empty sequence\n",
      "attempt to get argmax of an empty sequence\n",
      "attempt to get argmax of an empty sequence\n",
      "2010-02-28 2011-02-28 2012-02-28 2013-02-28 2014-02-28 2015-02-28 2016-02-28 2017-02-28 2018-02-28 regression done !\n",
      "2000-02-28 2001-02-28 2002-02-28 2003-02-28 2004-02-28 2005-02-28 2006-02-28 2007-02-28 2008-02-28 2009-02-28 regression done !\n",
      "2010-02-28 2011-02-28 2012-02-28 2013-02-28 2014-02-28 2015-02-28 2016-02-28 2017-02-28 2018-02-28 regression done !\n",
      "2000-02-28 2001-02-28 2002-02-28 2003-02-28 2004-02-28 2005-02-28 2006-02-28 2007-02-28 2008-02-28 2009-02-28 regression done !\n",
      "2010-02-28 2011-02-28 2012-02-28 2013-02-28 2014-02-28 2015-02-28 2016-02-28 2017-02-28 2018-02-28 regression done !\n",
      "2010-02-28 2011-02-28 2012-02-28 2013-02-28 2014-02-28 2015-02-28 2016-02-28 2017-02-28 2018-02-28 regression done !\n"
     ]
    },
    {
     "name": "stderr",
     "output_type": "stream",
     "text": [
      "/opt/conda/lib/python3.6/site-packages/numpy/core/fromnumeric.py:2909: RuntimeWarning: Mean of empty slice.\n",
      "  out=out, **kwargs)\n",
      "/opt/conda/lib/python3.6/site-packages/numpy/core/_methods.py:80: RuntimeWarning: invalid value encountered in true_divide\n",
      "  ret = ret.dtype.type(ret / rcount)\n"
     ]
    },
    {
     "name": "stdout",
     "output_type": "stream",
     "text": [
      "2010-02-28 2011-02-28 2012-02-28 2013-02-28 2014-02-28 2015-02-28 2016-02-28 2017-02-28 2018-02-28 regression done !\n",
      "2010-02-28 2011-02-28 2012-02-28 2013-02-28 2014-02-28 2015-02-28 2016-02-28 2017-02-28 2018-02-28 regression done !\n",
      "2010-02-28 2011-02-28 2012-02-28 2013-02-28 2014-02-28 2015-02-28 2016-02-28 2017-02-28 2018-02-28 regression done !\n",
      "attempt to get argmax of an empty sequence\n",
      "attempt to get argmax of an empty sequence\n",
      "attempt to get argmax of an empty sequence\n",
      "attempt to get argmax of an empty sequence\n",
      "2010-02-28 2011-02-28 2012-02-28 2013-02-28 2014-02-28 2015-02-28 2016-02-28 2017-02-28 2018-02-28 regression done !\n"
     ]
    },
    {
     "name": "stderr",
     "output_type": "stream",
     "text": [
      "/opt/conda/lib/python3.6/site-packages/numpy/core/fromnumeric.py:2909: RuntimeWarning: Mean of empty slice.\n",
      "  out=out, **kwargs)\n",
      "/opt/conda/lib/python3.6/site-packages/numpy/core/_methods.py:80: RuntimeWarning: invalid value encountered in true_divide\n",
      "  ret = ret.dtype.type(ret / rcount)\n"
     ]
    },
    {
     "name": "stdout",
     "output_type": "stream",
     "text": [
      "2000-02-28 2001-02-28 2002-02-28 2003-02-28 2004-02-28 2005-02-28 2006-02-28 2007-02-28 2008-02-28 2009-02-28 regression done !\n",
      "2000-02-28 2001-02-28 2002-02-28 2003-02-28 2004-02-28 2005-02-28 2006-02-28 2007-02-28 2008-02-28 2009-02-28 regression done !\n",
      "2010-02-28 2011-02-28 2012-02-28 2013-02-28 2014-02-28 2015-02-28 2016-02-28 2017-02-28 2018-02-28 regression done !\n",
      "2000-02-28 2001-02-28 2002-02-28 2003-02-28 2004-02-28 2005-02-28 2006-02-28 2007-02-28 2008-02-28 2009-02-28 regression done !\n",
      "2000-02-28 2001-02-28 2002-02-28 2003-02-28 2004-02-28 2005-02-28 2006-02-28 2007-02-28 2008-02-28 2009-02-28 regression done !\n",
      "2000-02-28 2001-02-28 2002-02-28 2003-02-28 2004-02-28 2005-02-28 2006-02-28 2007-02-28 2008-02-28 2009-02-28 2000-02-28 2001-02-28 2002-02-28 2003-02-28 2004-02-28 2005-02-28 2006-02-28 2007-02-28 2008-02-28 2009-02-28 2000-02-28 2001-02-28 2002-02-28 2003-02-28 2004-02-28 2005-02-28 2006-02-28 2007-02-28 2008-02-28 2009-02-28 2010-02-28 2011-02-28 2012-02-28 2013-02-28 2014-02-28 2015-02-28 2016-02-28 2017-02-28 2018-02-28 "
     ]
    },
    {
     "data": {
      "text/html": [
       "<div>\n",
       "<style scoped>\n",
       "    .dataframe tbody tr th:only-of-type {\n",
       "        vertical-align: middle;\n",
       "    }\n",
       "\n",
       "    .dataframe tbody tr th {\n",
       "        vertical-align: top;\n",
       "    }\n",
       "\n",
       "    .dataframe thead th {\n",
       "        text-align: right;\n",
       "    }\n",
       "</style>\n",
       "<table border=\"1\" class=\"dataframe\">\n",
       "  <thead>\n",
       "    <tr style=\"text-align: right;\">\n",
       "      <th></th>\n",
       "      <th>symbol</th>\n",
       "      <th>start_date</th>\n",
       "      <th>end_date</th>\n",
       "      <th>policy_name</th>\n",
       "      <th>short</th>\n",
       "      <th>mid</th>\n",
       "      <th>in_hand_asset_drawdown</th>\n",
       "      <th>avg_drawdown</th>\n",
       "      <th>loss_times</th>\n",
       "      <th>float_profit_drawdown</th>\n",
       "      <th>...</th>\n",
       "      <th>mean_month_return</th>\n",
       "      <th>std_month_return</th>\n",
       "      <th>profit_month_rate</th>\n",
       "      <th>win_rate</th>\n",
       "      <th>mar</th>\n",
       "      <th>sharp</th>\n",
       "      <th>rar</th>\n",
       "      <th>deal_count</th>\n",
       "      <th>scale_start</th>\n",
       "      <th>scale_end</th>\n",
       "    </tr>\n",
       "  </thead>\n",
       "  <tbody>\n",
       "    <tr>\n",
       "      <th>0</th>\n",
       "      <td>SZ#002091</td>\n",
       "      <td>2010-01-01</td>\n",
       "      <td>2019-01-01</td>\n",
       "      <td>rocket_break_v7_upgrade_honor_account_v0.3.json</td>\n",
       "      <td>30</td>\n",
       "      <td>240</td>\n",
       "      <td>5.07</td>\n",
       "      <td>5.04579</td>\n",
       "      <td>0</td>\n",
       "      <td>12.60</td>\n",
       "      <td>...</td>\n",
       "      <td>0.032500</td>\n",
       "      <td>1.290615</td>\n",
       "      <td>90.74</td>\n",
       "      <td>0</td>\n",
       "      <td>0.030000</td>\n",
       "      <td>-2.050832</td>\n",
       "      <td>4.654762e+01</td>\n",
       "      <td>0</td>\n",
       "      <td>499.0</td>\n",
       "      <td>500.0</td>\n",
       "    </tr>\n",
       "    <tr>\n",
       "      <th>1</th>\n",
       "      <td>SZ#002091</td>\n",
       "      <td>2000-01-01</td>\n",
       "      <td>2010-01-01</td>\n",
       "      <td>rocket_break_v7_upgrade_honor_account_v0.3.json</td>\n",
       "      <td>30</td>\n",
       "      <td>240</td>\n",
       "      <td>3.61</td>\n",
       "      <td>True</td>\n",
       "      <td>0</td>\n",
       "      <td>12.30</td>\n",
       "      <td>...</td>\n",
       "      <td>-0.028992</td>\n",
       "      <td>0.356405</td>\n",
       "      <td>95.80</td>\n",
       "      <td>0</td>\n",
       "      <td>-1.000000</td>\n",
       "      <td>-45.333333</td>\n",
       "      <td>-1.333333e+00</td>\n",
       "      <td>0</td>\n",
       "      <td>499.0</td>\n",
       "      <td>500.0</td>\n",
       "    </tr>\n",
       "    <tr>\n",
       "      <th>2</th>\n",
       "      <td>SZ#000912</td>\n",
       "      <td>2010-01-01</td>\n",
       "      <td>2019-01-01</td>\n",
       "      <td>rocket_break_v7_upgrade_honor_account_v0.3.json</td>\n",
       "      <td>30</td>\n",
       "      <td>240</td>\n",
       "      <td>6.28</td>\n",
       "      <td>6.28466</td>\n",
       "      <td>0</td>\n",
       "      <td>9.99</td>\n",
       "      <td>...</td>\n",
       "      <td>0.254537</td>\n",
       "      <td>2.018069</td>\n",
       "      <td>96.30</td>\n",
       "      <td>0</td>\n",
       "      <td>2.240000</td>\n",
       "      <td>-1.362024</td>\n",
       "      <td>4.392857e+01</td>\n",
       "      <td>0</td>\n",
       "      <td>498.0</td>\n",
       "      <td>499.0</td>\n",
       "    </tr>\n",
       "    <tr>\n",
       "      <th>3</th>\n",
       "      <td>SZ#000912</td>\n",
       "      <td>2000-01-01</td>\n",
       "      <td>2010-01-01</td>\n",
       "      <td>rocket_break_v7_upgrade_honor_account_v0.3.json</td>\n",
       "      <td>30</td>\n",
       "      <td>240</td>\n",
       "      <td>5.52</td>\n",
       "      <td>5.52197</td>\n",
       "      <td>0</td>\n",
       "      <td>11.23</td>\n",
       "      <td>...</td>\n",
       "      <td>0.013193</td>\n",
       "      <td>1.253902</td>\n",
       "      <td>89.92</td>\n",
       "      <td>0</td>\n",
       "      <td>0.460000</td>\n",
       "      <td>-3.545866</td>\n",
       "      <td>1.516667e+01</td>\n",
       "      <td>0</td>\n",
       "      <td>498.0</td>\n",
       "      <td>499.0</td>\n",
       "    </tr>\n",
       "    <tr>\n",
       "      <th>4</th>\n",
       "      <td>SZ#000677</td>\n",
       "      <td>2010-01-01</td>\n",
       "      <td>2019-01-01</td>\n",
       "      <td>rocket_break_v7_upgrade_honor_account_v0.3.json</td>\n",
       "      <td>30</td>\n",
       "      <td>240</td>\n",
       "      <td>2.76</td>\n",
       "      <td>True</td>\n",
       "      <td>0</td>\n",
       "      <td>5.45</td>\n",
       "      <td>...</td>\n",
       "      <td>-0.063796</td>\n",
       "      <td>0.583619</td>\n",
       "      <td>95.37</td>\n",
       "      <td>0</td>\n",
       "      <td>-0.500000</td>\n",
       "      <td>-15.222572</td>\n",
       "      <td>-6.190476e+00</td>\n",
       "      <td>0</td>\n",
       "      <td>497.0</td>\n",
       "      <td>498.0</td>\n",
       "    </tr>\n",
       "    <tr>\n",
       "      <th>5</th>\n",
       "      <td>SZ#000677</td>\n",
       "      <td>2000-01-01</td>\n",
       "      <td>2010-01-01</td>\n",
       "      <td>rocket_break_v7_upgrade_honor_account_v0.3.json</td>\n",
       "      <td>30</td>\n",
       "      <td>240</td>\n",
       "      <td>5.36</td>\n",
       "      <td>5.3623</td>\n",
       "      <td>0</td>\n",
       "      <td>13.78</td>\n",
       "      <td>...</td>\n",
       "      <td>0.186807</td>\n",
       "      <td>1.510764</td>\n",
       "      <td>88.24</td>\n",
       "      <td>0</td>\n",
       "      <td>0.670000</td>\n",
       "      <td>-0.944280</td>\n",
       "      <td>5.433333e+01</td>\n",
       "      <td>0</td>\n",
       "      <td>497.0</td>\n",
       "      <td>498.0</td>\n",
       "    </tr>\n",
       "    <tr>\n",
       "      <th>6</th>\n",
       "      <td>SZ#000301</td>\n",
       "      <td>2010-01-01</td>\n",
       "      <td>2019-01-01</td>\n",
       "      <td>rocket_break_v7_upgrade_honor_account_v0.3.json</td>\n",
       "      <td>30</td>\n",
       "      <td>240</td>\n",
       "      <td>3.17</td>\n",
       "      <td>3.16524</td>\n",
       "      <td>0</td>\n",
       "      <td>9.59</td>\n",
       "      <td>...</td>\n",
       "      <td>-0.002963</td>\n",
       "      <td>0.804751</td>\n",
       "      <td>94.44</td>\n",
       "      <td>0</td>\n",
       "      <td>0.030000</td>\n",
       "      <td>-11.081657</td>\n",
       "      <td>4.166667e+00</td>\n",
       "      <td>0</td>\n",
       "      <td>496.0</td>\n",
       "      <td>497.0</td>\n",
       "    </tr>\n",
       "    <tr>\n",
       "      <th>7</th>\n",
       "      <td>SZ#000301</td>\n",
       "      <td>2000-01-01</td>\n",
       "      <td>2010-01-01</td>\n",
       "      <td>rocket_break_v7_upgrade_honor_account_v0.3.json</td>\n",
       "      <td>30</td>\n",
       "      <td>240</td>\n",
       "      <td>2.45</td>\n",
       "      <td>2.45052</td>\n",
       "      <td>0</td>\n",
       "      <td>9.91</td>\n",
       "      <td>...</td>\n",
       "      <td>0.482269</td>\n",
       "      <td>4.030232</td>\n",
       "      <td>94.12</td>\n",
       "      <td>0</td>\n",
       "      <td>6.200000</td>\n",
       "      <td>-0.208817</td>\n",
       "      <td>1.256667e+02</td>\n",
       "      <td>0</td>\n",
       "      <td>496.0</td>\n",
       "      <td>497.0</td>\n",
       "    </tr>\n",
       "    <tr>\n",
       "      <th>10</th>\n",
       "      <td>SZ#002090</td>\n",
       "      <td>2010-01-01</td>\n",
       "      <td>2019-01-01</td>\n",
       "      <td>rocket_break_v7_upgrade_honor_account_v0.3.json</td>\n",
       "      <td>30</td>\n",
       "      <td>240</td>\n",
       "      <td>6.84</td>\n",
       "      <td>6.29467</td>\n",
       "      <td>0</td>\n",
       "      <td>14.86</td>\n",
       "      <td>...</td>\n",
       "      <td>0.069630</td>\n",
       "      <td>2.101117</td>\n",
       "      <td>86.11</td>\n",
       "      <td>0</td>\n",
       "      <td>0.470000</td>\n",
       "      <td>-1.832410</td>\n",
       "      <td>3.511905e+01</td>\n",
       "      <td>0</td>\n",
       "      <td>492.0</td>\n",
       "      <td>493.0</td>\n",
       "    </tr>\n",
       "    <tr>\n",
       "      <th>11</th>\n",
       "      <td>SZ#002090</td>\n",
       "      <td>2000-01-01</td>\n",
       "      <td>2010-01-01</td>\n",
       "      <td>rocket_break_v7_upgrade_honor_account_v0.3.json</td>\n",
       "      <td>30</td>\n",
       "      <td>240</td>\n",
       "      <td>3.25</td>\n",
       "      <td>True</td>\n",
       "      <td>0</td>\n",
       "      <td>6.55</td>\n",
       "      <td>...</td>\n",
       "      <td>-0.027311</td>\n",
       "      <td>0.233302</td>\n",
       "      <td>97.48</td>\n",
       "      <td>0</td>\n",
       "      <td>-inf</td>\n",
       "      <td>-inf</td>\n",
       "      <td>0.000000e+00</td>\n",
       "      <td>0</td>\n",
       "      <td>492.0</td>\n",
       "      <td>493.0</td>\n",
       "    </tr>\n",
       "    <tr>\n",
       "      <th>12</th>\n",
       "      <td>SZ#000911</td>\n",
       "      <td>2010-01-01</td>\n",
       "      <td>2019-01-01</td>\n",
       "      <td>rocket_break_v7_upgrade_honor_account_v0.3.json</td>\n",
       "      <td>30</td>\n",
       "      <td>240</td>\n",
       "      <td>4.01</td>\n",
       "      <td>4.00503</td>\n",
       "      <td>0</td>\n",
       "      <td>10.92</td>\n",
       "      <td>...</td>\n",
       "      <td>-0.026296</td>\n",
       "      <td>1.555337</td>\n",
       "      <td>91.67</td>\n",
       "      <td>0</td>\n",
       "      <td>-0.030000</td>\n",
       "      <td>-2.907457</td>\n",
       "      <td>5.047619e+01</td>\n",
       "      <td>0</td>\n",
       "      <td>491.0</td>\n",
       "      <td>492.0</td>\n",
       "    </tr>\n",
       "    <tr>\n",
       "      <th>13</th>\n",
       "      <td>SZ#000911</td>\n",
       "      <td>2000-01-01</td>\n",
       "      <td>2010-01-01</td>\n",
       "      <td>rocket_break_v7_upgrade_honor_account_v0.3.json</td>\n",
       "      <td>30</td>\n",
       "      <td>240</td>\n",
       "      <td>9.95</td>\n",
       "      <td>9.3293</td>\n",
       "      <td>0</td>\n",
       "      <td>17.90</td>\n",
       "      <td>...</td>\n",
       "      <td>0.280252</td>\n",
       "      <td>3.304937</td>\n",
       "      <td>89.08</td>\n",
       "      <td>0</td>\n",
       "      <td>0.440000</td>\n",
       "      <td>-0.640079</td>\n",
       "      <td>6.850000e+01</td>\n",
       "      <td>0</td>\n",
       "      <td>491.0</td>\n",
       "      <td>492.0</td>\n",
       "    </tr>\n",
       "    <tr>\n",
       "      <th>14</th>\n",
       "      <td>SZ#000676</td>\n",
       "      <td>2010-01-01</td>\n",
       "      <td>2019-01-01</td>\n",
       "      <td>rocket_break_v7_upgrade_honor_account_v0.3.json</td>\n",
       "      <td>30</td>\n",
       "      <td>240</td>\n",
       "      <td>1.85</td>\n",
       "      <td>1.855</td>\n",
       "      <td>0</td>\n",
       "      <td>9.15</td>\n",
       "      <td>...</td>\n",
       "      <td>0.968889</td>\n",
       "      <td>8.448707</td>\n",
       "      <td>94.44</td>\n",
       "      <td>0</td>\n",
       "      <td>31.520000</td>\n",
       "      <td>0.287481</td>\n",
       "      <td>2.067857e+02</td>\n",
       "      <td>0</td>\n",
       "      <td>490.0</td>\n",
       "      <td>491.0</td>\n",
       "    </tr>\n",
       "    <tr>\n",
       "      <th>15</th>\n",
       "      <td>SZ#000676</td>\n",
       "      <td>2000-01-01</td>\n",
       "      <td>2010-01-01</td>\n",
       "      <td>rocket_break_v7_upgrade_honor_account_v0.3.json</td>\n",
       "      <td>30</td>\n",
       "      <td>240</td>\n",
       "      <td>7.13</td>\n",
       "      <td>7.12506</td>\n",
       "      <td>0</td>\n",
       "      <td>14.44</td>\n",
       "      <td>...</td>\n",
       "      <td>0.055378</td>\n",
       "      <td>1.391951</td>\n",
       "      <td>90.76</td>\n",
       "      <td>0</td>\n",
       "      <td>0.230000</td>\n",
       "      <td>-2.613691</td>\n",
       "      <td>2.483333e+01</td>\n",
       "      <td>0</td>\n",
       "      <td>490.0</td>\n",
       "      <td>491.0</td>\n",
       "    </tr>\n",
       "    <tr>\n",
       "      <th>18</th>\n",
       "      <td>SZ#002250</td>\n",
       "      <td>2010-01-01</td>\n",
       "      <td>2019-01-01</td>\n",
       "      <td>rocket_break_v7_upgrade_honor_account_v0.3.json</td>\n",
       "      <td>30</td>\n",
       "      <td>240</td>\n",
       "      <td>5.12</td>\n",
       "      <td>5.11966</td>\n",
       "      <td>0</td>\n",
       "      <td>10.30</td>\n",
       "      <td>...</td>\n",
       "      <td>-0.008704</td>\n",
       "      <td>0.892194</td>\n",
       "      <td>91.67</td>\n",
       "      <td>0</td>\n",
       "      <td>-0.030000</td>\n",
       "      <td>-5.119235</td>\n",
       "      <td>5.119048e+00</td>\n",
       "      <td>0</td>\n",
       "      <td>486.0</td>\n",
       "      <td>487.0</td>\n",
       "    </tr>\n",
       "    <tr>\n",
       "      <th>19</th>\n",
       "      <td>SZ#002250</td>\n",
       "      <td>2000-01-01</td>\n",
       "      <td>2010-01-01</td>\n",
       "      <td>rocket_break_v7_upgrade_honor_account_v0.3.json</td>\n",
       "      <td>30</td>\n",
       "      <td>240</td>\n",
       "      <td>1.03</td>\n",
       "      <td>True</td>\n",
       "      <td>0</td>\n",
       "      <td>8.13</td>\n",
       "      <td>...</td>\n",
       "      <td>-0.001008</td>\n",
       "      <td>0.344773</td>\n",
       "      <td>97.48</td>\n",
       "      <td>0</td>\n",
       "      <td>inf</td>\n",
       "      <td>-inf</td>\n",
       "      <td>0.000000e+00</td>\n",
       "      <td>0</td>\n",
       "      <td>486.0</td>\n",
       "      <td>487.0</td>\n",
       "    </tr>\n",
       "    <tr>\n",
       "      <th>20</th>\n",
       "      <td>SZ#002089</td>\n",
       "      <td>2010-01-01</td>\n",
       "      <td>2019-01-01</td>\n",
       "      <td>rocket_break_v7_upgrade_honor_account_v0.3.json</td>\n",
       "      <td>30</td>\n",
       "      <td>240</td>\n",
       "      <td>6.53</td>\n",
       "      <td>6.52533</td>\n",
       "      <td>0</td>\n",
       "      <td>9.58</td>\n",
       "      <td>...</td>\n",
       "      <td>0.071759</td>\n",
       "      <td>1.390736</td>\n",
       "      <td>91.67</td>\n",
       "      <td>0</td>\n",
       "      <td>0.370000</td>\n",
       "      <td>-1.833801</td>\n",
       "      <td>6.607143e+01</td>\n",
       "      <td>0</td>\n",
       "      <td>485.0</td>\n",
       "      <td>486.0</td>\n",
       "    </tr>\n",
       "    <tr>\n",
       "      <th>21</th>\n",
       "      <td>SZ#002089</td>\n",
       "      <td>2000-01-01</td>\n",
       "      <td>2010-01-01</td>\n",
       "      <td>rocket_break_v7_upgrade_honor_account_v0.3.json</td>\n",
       "      <td>30</td>\n",
       "      <td>240</td>\n",
       "      <td>3.35</td>\n",
       "      <td>True</td>\n",
       "      <td>0</td>\n",
       "      <td>10.02</td>\n",
       "      <td>...</td>\n",
       "      <td>0.016134</td>\n",
       "      <td>0.437462</td>\n",
       "      <td>97.48</td>\n",
       "      <td>0</td>\n",
       "      <td>inf</td>\n",
       "      <td>-inf</td>\n",
       "      <td>0.000000e+00</td>\n",
       "      <td>0</td>\n",
       "      <td>485.0</td>\n",
       "      <td>486.0</td>\n",
       "    </tr>\n",
       "    <tr>\n",
       "      <th>22</th>\n",
       "      <td>SZ#000910</td>\n",
       "      <td>2010-01-01</td>\n",
       "      <td>2019-01-01</td>\n",
       "      <td>rocket_break_v7_upgrade_honor_account_v0.3.json</td>\n",
       "      <td>30</td>\n",
       "      <td>240</td>\n",
       "      <td>1.69</td>\n",
       "      <td>1.69187</td>\n",
       "      <td>0</td>\n",
       "      <td>9.65</td>\n",
       "      <td>...</td>\n",
       "      <td>0.378981</td>\n",
       "      <td>3.423632</td>\n",
       "      <td>91.67</td>\n",
       "      <td>0</td>\n",
       "      <td>9.780000</td>\n",
       "      <td>-0.184683</td>\n",
       "      <td>1.054762e+02</td>\n",
       "      <td>0</td>\n",
       "      <td>484.0</td>\n",
       "      <td>485.0</td>\n",
       "    </tr>\n",
       "    <tr>\n",
       "      <th>23</th>\n",
       "      <td>SZ#000910</td>\n",
       "      <td>2000-01-01</td>\n",
       "      <td>2010-01-01</td>\n",
       "      <td>rocket_break_v7_upgrade_honor_account_v0.3.json</td>\n",
       "      <td>30</td>\n",
       "      <td>240</td>\n",
       "      <td>10.72</td>\n",
       "      <td>8.44918</td>\n",
       "      <td>0</td>\n",
       "      <td>15.91</td>\n",
       "      <td>...</td>\n",
       "      <td>-0.049412</td>\n",
       "      <td>0.795284</td>\n",
       "      <td>89.92</td>\n",
       "      <td>0</td>\n",
       "      <td>-0.090000</td>\n",
       "      <td>-15.376474</td>\n",
       "      <td>3.166667e+00</td>\n",
       "      <td>0</td>\n",
       "      <td>484.0</td>\n",
       "      <td>485.0</td>\n",
       "    </tr>\n",
       "    <tr>\n",
       "      <th>24</th>\n",
       "      <td>SZ#000673</td>\n",
       "      <td>2010-01-01</td>\n",
       "      <td>2019-01-01</td>\n",
       "      <td>rocket_break_v7_upgrade_honor_account_v0.3.json</td>\n",
       "      <td>30</td>\n",
       "      <td>240</td>\n",
       "      <td>6.66</td>\n",
       "      <td>6.03646</td>\n",
       "      <td>0</td>\n",
       "      <td>10.51</td>\n",
       "      <td>...</td>\n",
       "      <td>0.077685</td>\n",
       "      <td>1.443345</td>\n",
       "      <td>87.04</td>\n",
       "      <td>0</td>\n",
       "      <td>0.250000</td>\n",
       "      <td>-1.458526</td>\n",
       "      <td>9.511905e+01</td>\n",
       "      <td>0</td>\n",
       "      <td>483.0</td>\n",
       "      <td>484.0</td>\n",
       "    </tr>\n",
       "    <tr>\n",
       "      <th>25</th>\n",
       "      <td>SZ#000673</td>\n",
       "      <td>2000-01-01</td>\n",
       "      <td>2010-01-01</td>\n",
       "      <td>rocket_break_v7_upgrade_honor_account_v0.3.json</td>\n",
       "      <td>30</td>\n",
       "      <td>240</td>\n",
       "      <td>7.34</td>\n",
       "      <td>7.34007</td>\n",
       "      <td>0</td>\n",
       "      <td>16.06</td>\n",
       "      <td>...</td>\n",
       "      <td>0.140504</td>\n",
       "      <td>3.063358</td>\n",
       "      <td>89.92</td>\n",
       "      <td>0</td>\n",
       "      <td>0.140000</td>\n",
       "      <td>-3.122513</td>\n",
       "      <td>2.416667e+01</td>\n",
       "      <td>0</td>\n",
       "      <td>483.0</td>\n",
       "      <td>484.0</td>\n",
       "    </tr>\n",
       "    <tr>\n",
       "      <th>26</th>\n",
       "      <td>SZ#000159</td>\n",
       "      <td>2010-01-01</td>\n",
       "      <td>2019-01-01</td>\n",
       "      <td>rocket_break_v7_upgrade_honor_account_v0.3.json</td>\n",
       "      <td>30</td>\n",
       "      <td>240</td>\n",
       "      <td>6.72</td>\n",
       "      <td>6.71566</td>\n",
       "      <td>0</td>\n",
       "      <td>14.64</td>\n",
       "      <td>...</td>\n",
       "      <td>-0.089167</td>\n",
       "      <td>0.593094</td>\n",
       "      <td>87.04</td>\n",
       "      <td>0</td>\n",
       "      <td>-0.130000</td>\n",
       "      <td>-9.500059</td>\n",
       "      <td>1.083333e+01</td>\n",
       "      <td>0</td>\n",
       "      <td>482.0</td>\n",
       "      <td>483.0</td>\n",
       "    </tr>\n",
       "    <tr>\n",
       "      <th>27</th>\n",
       "      <td>SZ#000159</td>\n",
       "      <td>2000-01-01</td>\n",
       "      <td>2010-01-01</td>\n",
       "      <td>rocket_break_v7_upgrade_honor_account_v0.3.json</td>\n",
       "      <td>30</td>\n",
       "      <td>240</td>\n",
       "      <td>16.36</td>\n",
       "      <td>14.9709</td>\n",
       "      <td>0</td>\n",
       "      <td>19.25</td>\n",
       "      <td>...</td>\n",
       "      <td>-0.138992</td>\n",
       "      <td>1.153122</td>\n",
       "      <td>90.76</td>\n",
       "      <td>0</td>\n",
       "      <td>-0.500000</td>\n",
       "      <td>-4.761177</td>\n",
       "      <td>-2.150000e+01</td>\n",
       "      <td>0</td>\n",
       "      <td>482.0</td>\n",
       "      <td>483.0</td>\n",
       "    </tr>\n",
       "    <tr>\n",
       "      <th>30</th>\n",
       "      <td>SZ#002249</td>\n",
       "      <td>2010-01-01</td>\n",
       "      <td>2019-01-01</td>\n",
       "      <td>rocket_break_v7_upgrade_honor_account_v0.3.json</td>\n",
       "      <td>30</td>\n",
       "      <td>240</td>\n",
       "      <td>11.49</td>\n",
       "      <td>11.4932</td>\n",
       "      <td>0</td>\n",
       "      <td>13.82</td>\n",
       "      <td>...</td>\n",
       "      <td>0.183889</td>\n",
       "      <td>2.694025</td>\n",
       "      <td>90.74</td>\n",
       "      <td>0</td>\n",
       "      <td>0.300000</td>\n",
       "      <td>-1.235369</td>\n",
       "      <td>1.408333e+02</td>\n",
       "      <td>0</td>\n",
       "      <td>479.0</td>\n",
       "      <td>480.0</td>\n",
       "    </tr>\n",
       "    <tr>\n",
       "      <th>31</th>\n",
       "      <td>SZ#002249</td>\n",
       "      <td>2000-01-01</td>\n",
       "      <td>2010-01-01</td>\n",
       "      <td>rocket_break_v7_upgrade_honor_account_v0.3.json</td>\n",
       "      <td>30</td>\n",
       "      <td>240</td>\n",
       "      <td>3.45</td>\n",
       "      <td>True</td>\n",
       "      <td>0</td>\n",
       "      <td>4.77</td>\n",
       "      <td>...</td>\n",
       "      <td>-0.029328</td>\n",
       "      <td>0.225271</td>\n",
       "      <td>98.32</td>\n",
       "      <td>0</td>\n",
       "      <td>-inf</td>\n",
       "      <td>-inf</td>\n",
       "      <td>0.000000e+00</td>\n",
       "      <td>0</td>\n",
       "      <td>479.0</td>\n",
       "      <td>480.0</td>\n",
       "    </tr>\n",
       "    <tr>\n",
       "      <th>32</th>\n",
       "      <td>SZ#002088</td>\n",
       "      <td>2010-01-01</td>\n",
       "      <td>2019-01-01</td>\n",
       "      <td>rocket_break_v7_upgrade_honor_account_v0.3.json</td>\n",
       "      <td>30</td>\n",
       "      <td>240</td>\n",
       "      <td>6.23</td>\n",
       "      <td>6.22804</td>\n",
       "      <td>0</td>\n",
       "      <td>11.44</td>\n",
       "      <td>...</td>\n",
       "      <td>-0.045278</td>\n",
       "      <td>1.053665</td>\n",
       "      <td>90.74</td>\n",
       "      <td>0</td>\n",
       "      <td>-0.100000</td>\n",
       "      <td>-7.032982</td>\n",
       "      <td>1.190476e+00</td>\n",
       "      <td>0</td>\n",
       "      <td>478.0</td>\n",
       "      <td>479.0</td>\n",
       "    </tr>\n",
       "    <tr>\n",
       "      <th>33</th>\n",
       "      <td>SZ#002088</td>\n",
       "      <td>2000-01-01</td>\n",
       "      <td>2010-01-01</td>\n",
       "      <td>rocket_break_v7_upgrade_honor_account_v0.3.json</td>\n",
       "      <td>30</td>\n",
       "      <td>240</td>\n",
       "      <td>1.70</td>\n",
       "      <td>True</td>\n",
       "      <td>0</td>\n",
       "      <td>7.42</td>\n",
       "      <td>...</td>\n",
       "      <td>-0.014706</td>\n",
       "      <td>0.488192</td>\n",
       "      <td>98.32</td>\n",
       "      <td>0</td>\n",
       "      <td>-inf</td>\n",
       "      <td>-inf</td>\n",
       "      <td>0.000000e+00</td>\n",
       "      <td>0</td>\n",
       "      <td>478.0</td>\n",
       "      <td>479.0</td>\n",
       "    </tr>\n",
       "    <tr>\n",
       "      <th>34</th>\n",
       "      <td>SZ#000909</td>\n",
       "      <td>2010-01-01</td>\n",
       "      <td>2019-01-01</td>\n",
       "      <td>rocket_break_v7_upgrade_honor_account_v0.3.json</td>\n",
       "      <td>30</td>\n",
       "      <td>240</td>\n",
       "      <td>2.85</td>\n",
       "      <td>2.84696</td>\n",
       "      <td>0</td>\n",
       "      <td>9.54</td>\n",
       "      <td>...</td>\n",
       "      <td>0.093796</td>\n",
       "      <td>1.108476</td>\n",
       "      <td>93.52</td>\n",
       "      <td>0</td>\n",
       "      <td>0.900000</td>\n",
       "      <td>-2.135337</td>\n",
       "      <td>4.702381e+01</td>\n",
       "      <td>0</td>\n",
       "      <td>477.0</td>\n",
       "      <td>478.0</td>\n",
       "    </tr>\n",
       "    <tr>\n",
       "      <th>35</th>\n",
       "      <td>SZ#000909</td>\n",
       "      <td>2000-01-01</td>\n",
       "      <td>2010-01-01</td>\n",
       "      <td>rocket_break_v7_upgrade_honor_account_v0.3.json</td>\n",
       "      <td>30</td>\n",
       "      <td>240</td>\n",
       "      <td>5.23</td>\n",
       "      <td>5.23145</td>\n",
       "      <td>0</td>\n",
       "      <td>11.96</td>\n",
       "      <td>...</td>\n",
       "      <td>0.528151</td>\n",
       "      <td>4.174309</td>\n",
       "      <td>94.12</td>\n",
       "      <td>0</td>\n",
       "      <td>2.930000</td>\n",
       "      <td>-0.476721</td>\n",
       "      <td>8.016667e+01</td>\n",
       "      <td>0</td>\n",
       "      <td>477.0</td>\n",
       "      <td>478.0</td>\n",
       "    </tr>\n",
       "    <tr>\n",
       "      <th>...</th>\n",
       "      <td>...</td>\n",
       "      <td>...</td>\n",
       "      <td>...</td>\n",
       "      <td>...</td>\n",
       "      <td>...</td>\n",
       "      <td>...</td>\n",
       "      <td>...</td>\n",
       "      <td>...</td>\n",
       "      <td>...</td>\n",
       "      <td>...</td>\n",
       "      <td>...</td>\n",
       "      <td>...</td>\n",
       "      <td>...</td>\n",
       "      <td>...</td>\n",
       "      <td>...</td>\n",
       "      <td>...</td>\n",
       "      <td>...</td>\n",
       "      <td>...</td>\n",
       "      <td>...</td>\n",
       "      <td>...</td>\n",
       "      <td>...</td>\n",
       "    </tr>\n",
       "    <tr>\n",
       "      <th>766</th>\n",
       "      <td>SZ#002023</td>\n",
       "      <td>2010-01-01</td>\n",
       "      <td>2019-01-01</td>\n",
       "      <td>rocket_break_v7_upgrade_honor_account_v0.3.json</td>\n",
       "      <td>30</td>\n",
       "      <td>240</td>\n",
       "      <td>12.80</td>\n",
       "      <td>12.2769</td>\n",
       "      <td>0</td>\n",
       "      <td>15.27</td>\n",
       "      <td>...</td>\n",
       "      <td>-0.095370</td>\n",
       "      <td>1.014682</td>\n",
       "      <td>87.04</td>\n",
       "      <td>0</td>\n",
       "      <td>-0.060000</td>\n",
       "      <td>-4.422042</td>\n",
       "      <td>3.345238e+01</td>\n",
       "      <td>0</td>\n",
       "      <td>23.0</td>\n",
       "      <td>24.0</td>\n",
       "    </tr>\n",
       "    <tr>\n",
       "      <th>767</th>\n",
       "      <td>SZ#002023</td>\n",
       "      <td>2000-01-01</td>\n",
       "      <td>2010-01-01</td>\n",
       "      <td>rocket_break_v7_upgrade_honor_account_v0.3.json</td>\n",
       "      <td>30</td>\n",
       "      <td>240</td>\n",
       "      <td>16.01</td>\n",
       "      <td>16.011</td>\n",
       "      <td>0</td>\n",
       "      <td>18.24</td>\n",
       "      <td>...</td>\n",
       "      <td>-0.124034</td>\n",
       "      <td>0.940504</td>\n",
       "      <td>91.60</td>\n",
       "      <td>0</td>\n",
       "      <td>-0.250000</td>\n",
       "      <td>-6.718817</td>\n",
       "      <td>-1.566667e+01</td>\n",
       "      <td>0</td>\n",
       "      <td>23.0</td>\n",
       "      <td>24.0</td>\n",
       "    </tr>\n",
       "    <tr>\n",
       "      <th>768</th>\n",
       "      <td>SZ#000809</td>\n",
       "      <td>2010-01-01</td>\n",
       "      <td>2019-01-01</td>\n",
       "      <td>rocket_break_v7_upgrade_honor_account_v0.3.json</td>\n",
       "      <td>30</td>\n",
       "      <td>240</td>\n",
       "      <td>5.10</td>\n",
       "      <td>5.1037</td>\n",
       "      <td>0</td>\n",
       "      <td>6.99</td>\n",
       "      <td>...</td>\n",
       "      <td>-0.017130</td>\n",
       "      <td>1.024186</td>\n",
       "      <td>93.52</td>\n",
       "      <td>0</td>\n",
       "      <td>-0.050000</td>\n",
       "      <td>-3.829061</td>\n",
       "      <td>2.107143e+01</td>\n",
       "      <td>0</td>\n",
       "      <td>22.0</td>\n",
       "      <td>23.0</td>\n",
       "    </tr>\n",
       "    <tr>\n",
       "      <th>769</th>\n",
       "      <td>SZ#000809</td>\n",
       "      <td>2000-01-01</td>\n",
       "      <td>2010-01-01</td>\n",
       "      <td>rocket_break_v7_upgrade_honor_account_v0.3.json</td>\n",
       "      <td>30</td>\n",
       "      <td>240</td>\n",
       "      <td>5.36</td>\n",
       "      <td>5.36038</td>\n",
       "      <td>0</td>\n",
       "      <td>12.64</td>\n",
       "      <td>...</td>\n",
       "      <td>0.294622</td>\n",
       "      <td>3.084760</td>\n",
       "      <td>94.12</td>\n",
       "      <td>0</td>\n",
       "      <td>0.890000</td>\n",
       "      <td>-5.296678</td>\n",
       "      <td>1.266667e+01</td>\n",
       "      <td>0</td>\n",
       "      <td>22.0</td>\n",
       "      <td>23.0</td>\n",
       "    </tr>\n",
       "    <tr>\n",
       "      <th>770</th>\n",
       "      <td>SZ#000582</td>\n",
       "      <td>2010-01-01</td>\n",
       "      <td>2019-01-01</td>\n",
       "      <td>rocket_break_v7_upgrade_honor_account_v0.3.json</td>\n",
       "      <td>30</td>\n",
       "      <td>240</td>\n",
       "      <td>2.96</td>\n",
       "      <td>2.96083</td>\n",
       "      <td>0</td>\n",
       "      <td>7.13</td>\n",
       "      <td>...</td>\n",
       "      <td>-0.046574</td>\n",
       "      <td>0.377375</td>\n",
       "      <td>92.59</td>\n",
       "      <td>0</td>\n",
       "      <td>-0.330000</td>\n",
       "      <td>-19.411350</td>\n",
       "      <td>-4.642857e+00</td>\n",
       "      <td>0</td>\n",
       "      <td>21.0</td>\n",
       "      <td>22.0</td>\n",
       "    </tr>\n",
       "    <tr>\n",
       "      <th>771</th>\n",
       "      <td>SZ#000582</td>\n",
       "      <td>2000-01-01</td>\n",
       "      <td>2010-01-01</td>\n",
       "      <td>rocket_break_v7_upgrade_honor_account_v0.3.json</td>\n",
       "      <td>30</td>\n",
       "      <td>240</td>\n",
       "      <td>6.96</td>\n",
       "      <td>6.95971</td>\n",
       "      <td>0</td>\n",
       "      <td>10.13</td>\n",
       "      <td>...</td>\n",
       "      <td>0.041345</td>\n",
       "      <td>0.884103</td>\n",
       "      <td>93.28</td>\n",
       "      <td>0</td>\n",
       "      <td>0.080000</td>\n",
       "      <td>-4.438877</td>\n",
       "      <td>1.383333e+01</td>\n",
       "      <td>0</td>\n",
       "      <td>21.0</td>\n",
       "      <td>22.0</td>\n",
       "    </tr>\n",
       "    <tr>\n",
       "      <th>772</th>\n",
       "      <td>SZ#000004</td>\n",
       "      <td>2010-01-01</td>\n",
       "      <td>2019-01-01</td>\n",
       "      <td>rocket_break_v7_upgrade_honor_account_v0.3.json</td>\n",
       "      <td>30</td>\n",
       "      <td>240</td>\n",
       "      <td>11.05</td>\n",
       "      <td>10.1827</td>\n",
       "      <td>0</td>\n",
       "      <td>14.65</td>\n",
       "      <td>...</td>\n",
       "      <td>-0.056019</td>\n",
       "      <td>1.054966</td>\n",
       "      <td>87.96</td>\n",
       "      <td>0</td>\n",
       "      <td>-0.050000</td>\n",
       "      <td>-5.174021</td>\n",
       "      <td>1.869048e+01</td>\n",
       "      <td>0</td>\n",
       "      <td>20.0</td>\n",
       "      <td>21.0</td>\n",
       "    </tr>\n",
       "    <tr>\n",
       "      <th>773</th>\n",
       "      <td>SZ#000004</td>\n",
       "      <td>2000-01-01</td>\n",
       "      <td>2010-01-01</td>\n",
       "      <td>rocket_break_v7_upgrade_honor_account_v0.3.json</td>\n",
       "      <td>30</td>\n",
       "      <td>240</td>\n",
       "      <td>1.08</td>\n",
       "      <td>True</td>\n",
       "      <td>0</td>\n",
       "      <td>12.07</td>\n",
       "      <td>...</td>\n",
       "      <td>0.353866</td>\n",
       "      <td>1.964229</td>\n",
       "      <td>97.48</td>\n",
       "      <td>0</td>\n",
       "      <td>26.190000</td>\n",
       "      <td>-0.754434</td>\n",
       "      <td>6.250000e+01</td>\n",
       "      <td>0</td>\n",
       "      <td>20.0</td>\n",
       "      <td>21.0</td>\n",
       "    </tr>\n",
       "    <tr>\n",
       "      <th>777</th>\n",
       "      <td>SZ#002022</td>\n",
       "      <td>2010-01-01</td>\n",
       "      <td>2019-01-01</td>\n",
       "      <td>rocket_break_v7_upgrade_honor_account_v0.3.json</td>\n",
       "      <td>30</td>\n",
       "      <td>240</td>\n",
       "      <td>3.54</td>\n",
       "      <td>3.53609</td>\n",
       "      <td>0</td>\n",
       "      <td>11.47</td>\n",
       "      <td>...</td>\n",
       "      <td>0.158704</td>\n",
       "      <td>1.670082</td>\n",
       "      <td>89.81</td>\n",
       "      <td>0</td>\n",
       "      <td>1.690000</td>\n",
       "      <td>-0.836411</td>\n",
       "      <td>8.750000e+01</td>\n",
       "      <td>0</td>\n",
       "      <td>16.0</td>\n",
       "      <td>17.0</td>\n",
       "    </tr>\n",
       "    <tr>\n",
       "      <th>778</th>\n",
       "      <td>SZ#002022</td>\n",
       "      <td>2000-01-01</td>\n",
       "      <td>2010-01-01</td>\n",
       "      <td>rocket_break_v7_upgrade_honor_account_v0.3.json</td>\n",
       "      <td>30</td>\n",
       "      <td>240</td>\n",
       "      <td>5.30</td>\n",
       "      <td>5.30466</td>\n",
       "      <td>0</td>\n",
       "      <td>11.29</td>\n",
       "      <td>...</td>\n",
       "      <td>0.178067</td>\n",
       "      <td>2.081268</td>\n",
       "      <td>91.60</td>\n",
       "      <td>0</td>\n",
       "      <td>1.270000</td>\n",
       "      <td>-1.921754</td>\n",
       "      <td>2.933333e+01</td>\n",
       "      <td>0</td>\n",
       "      <td>16.0</td>\n",
       "      <td>17.0</td>\n",
       "    </tr>\n",
       "    <tr>\n",
       "      <th>779</th>\n",
       "      <td>SZ#000807</td>\n",
       "      <td>2010-01-01</td>\n",
       "      <td>2019-01-01</td>\n",
       "      <td>rocket_break_v7_upgrade_honor_account_v0.3.json</td>\n",
       "      <td>30</td>\n",
       "      <td>240</td>\n",
       "      <td>1.80</td>\n",
       "      <td>1.79647</td>\n",
       "      <td>0</td>\n",
       "      <td>7.23</td>\n",
       "      <td>...</td>\n",
       "      <td>0.128704</td>\n",
       "      <td>1.225432</td>\n",
       "      <td>96.30</td>\n",
       "      <td>0</td>\n",
       "      <td>3.570000</td>\n",
       "      <td>-2.851015</td>\n",
       "      <td>2.797619e+01</td>\n",
       "      <td>0</td>\n",
       "      <td>15.0</td>\n",
       "      <td>16.0</td>\n",
       "    </tr>\n",
       "    <tr>\n",
       "      <th>780</th>\n",
       "      <td>SZ#000807</td>\n",
       "      <td>2000-01-01</td>\n",
       "      <td>2010-01-01</td>\n",
       "      <td>rocket_break_v7_upgrade_honor_account_v0.3.json</td>\n",
       "      <td>30</td>\n",
       "      <td>240</td>\n",
       "      <td>5.86</td>\n",
       "      <td>4.9828</td>\n",
       "      <td>0</td>\n",
       "      <td>14.36</td>\n",
       "      <td>...</td>\n",
       "      <td>0.684538</td>\n",
       "      <td>5.282655</td>\n",
       "      <td>90.76</td>\n",
       "      <td>0</td>\n",
       "      <td>2.610000</td>\n",
       "      <td>-0.167866</td>\n",
       "      <td>1.286667e+02</td>\n",
       "      <td>0</td>\n",
       "      <td>15.0</td>\n",
       "      <td>16.0</td>\n",
       "    </tr>\n",
       "    <tr>\n",
       "      <th>781</th>\n",
       "      <td>SZ#000581</td>\n",
       "      <td>2010-01-01</td>\n",
       "      <td>2019-01-01</td>\n",
       "      <td>rocket_break_v7_upgrade_honor_account_v0.3.json</td>\n",
       "      <td>30</td>\n",
       "      <td>240</td>\n",
       "      <td>7.24</td>\n",
       "      <td>7.24384</td>\n",
       "      <td>0</td>\n",
       "      <td>14.94</td>\n",
       "      <td>...</td>\n",
       "      <td>-0.051852</td>\n",
       "      <td>1.059666</td>\n",
       "      <td>86.11</td>\n",
       "      <td>0</td>\n",
       "      <td>0.070000</td>\n",
       "      <td>0.072693</td>\n",
       "      <td>-1.210714e+02</td>\n",
       "      <td>0</td>\n",
       "      <td>14.0</td>\n",
       "      <td>15.0</td>\n",
       "    </tr>\n",
       "    <tr>\n",
       "      <th>782</th>\n",
       "      <td>SZ#000581</td>\n",
       "      <td>2000-01-01</td>\n",
       "      <td>2010-01-01</td>\n",
       "      <td>rocket_break_v7_upgrade_honor_account_v0.3.json</td>\n",
       "      <td>30</td>\n",
       "      <td>240</td>\n",
       "      <td>7.19</td>\n",
       "      <td>7.18774</td>\n",
       "      <td>0</td>\n",
       "      <td>12.40</td>\n",
       "      <td>...</td>\n",
       "      <td>0.060000</td>\n",
       "      <td>1.708506</td>\n",
       "      <td>94.96</td>\n",
       "      <td>0</td>\n",
       "      <td>0.340000</td>\n",
       "      <td>-3.078320</td>\n",
       "      <td>1.716667e+01</td>\n",
       "      <td>0</td>\n",
       "      <td>14.0</td>\n",
       "      <td>15.0</td>\n",
       "    </tr>\n",
       "    <tr>\n",
       "      <th>783</th>\n",
       "      <td>SZ#000002</td>\n",
       "      <td>2010-01-01</td>\n",
       "      <td>2019-01-01</td>\n",
       "      <td>rocket_break_v7_upgrade_honor_account_v0.3.json</td>\n",
       "      <td>30</td>\n",
       "      <td>240</td>\n",
       "      <td>4.68</td>\n",
       "      <td>4.1426</td>\n",
       "      <td>0</td>\n",
       "      <td>11.72</td>\n",
       "      <td>...</td>\n",
       "      <td>0.181019</td>\n",
       "      <td>2.771247</td>\n",
       "      <td>87.96</td>\n",
       "      <td>0</td>\n",
       "      <td>0.540000</td>\n",
       "      <td>-0.901684</td>\n",
       "      <td>5.523810e+01</td>\n",
       "      <td>0</td>\n",
       "      <td>13.0</td>\n",
       "      <td>14.0</td>\n",
       "    </tr>\n",
       "    <tr>\n",
       "      <th>784</th>\n",
       "      <td>SZ#000002</td>\n",
       "      <td>2000-01-01</td>\n",
       "      <td>2010-01-01</td>\n",
       "      <td>rocket_break_v7_upgrade_honor_account_v0.3.json</td>\n",
       "      <td>30</td>\n",
       "      <td>240</td>\n",
       "      <td>1.48</td>\n",
       "      <td>True</td>\n",
       "      <td>0</td>\n",
       "      <td>6.93</td>\n",
       "      <td>...</td>\n",
       "      <td>0.040000</td>\n",
       "      <td>0.741501</td>\n",
       "      <td>98.32</td>\n",
       "      <td>0</td>\n",
       "      <td>2.920000</td>\n",
       "      <td>-34.520755</td>\n",
       "      <td>-2.333333e+00</td>\n",
       "      <td>0</td>\n",
       "      <td>13.0</td>\n",
       "      <td>14.0</td>\n",
       "    </tr>\n",
       "    <tr>\n",
       "      <th>788</th>\n",
       "      <td>SZ#002021</td>\n",
       "      <td>2010-01-01</td>\n",
       "      <td>2019-01-01</td>\n",
       "      <td>rocket_break_v7_upgrade_honor_account_v0.3.json</td>\n",
       "      <td>30</td>\n",
       "      <td>240</td>\n",
       "      <td>6.89</td>\n",
       "      <td>6.88961</td>\n",
       "      <td>0</td>\n",
       "      <td>13.09</td>\n",
       "      <td>...</td>\n",
       "      <td>0.117222</td>\n",
       "      <td>3.307848</td>\n",
       "      <td>94.44</td>\n",
       "      <td>0</td>\n",
       "      <td>0.440000</td>\n",
       "      <td>-2.113774</td>\n",
       "      <td>3.511905e+01</td>\n",
       "      <td>0</td>\n",
       "      <td>9.0</td>\n",
       "      <td>10.0</td>\n",
       "    </tr>\n",
       "    <tr>\n",
       "      <th>789</th>\n",
       "      <td>SZ#002021</td>\n",
       "      <td>2000-01-01</td>\n",
       "      <td>2010-01-01</td>\n",
       "      <td>rocket_break_v7_upgrade_honor_account_v0.3.json</td>\n",
       "      <td>30</td>\n",
       "      <td>240</td>\n",
       "      <td>8.42</td>\n",
       "      <td>8.4168</td>\n",
       "      <td>0</td>\n",
       "      <td>12.74</td>\n",
       "      <td>...</td>\n",
       "      <td>0.074622</td>\n",
       "      <td>0.997934</td>\n",
       "      <td>93.28</td>\n",
       "      <td>0</td>\n",
       "      <td>0.360000</td>\n",
       "      <td>-22.929845</td>\n",
       "      <td>8.958074e-17</td>\n",
       "      <td>0</td>\n",
       "      <td>9.0</td>\n",
       "      <td>10.0</td>\n",
       "    </tr>\n",
       "    <tr>\n",
       "      <th>790</th>\n",
       "      <td>SZ#000806</td>\n",
       "      <td>2010-01-01</td>\n",
       "      <td>2019-01-01</td>\n",
       "      <td>rocket_break_v7_upgrade_honor_account_v0.3.json</td>\n",
       "      <td>30</td>\n",
       "      <td>240</td>\n",
       "      <td>3.45</td>\n",
       "      <td>3.44596</td>\n",
       "      <td>0</td>\n",
       "      <td>9.17</td>\n",
       "      <td>...</td>\n",
       "      <td>0.619907</td>\n",
       "      <td>3.432134</td>\n",
       "      <td>96.30</td>\n",
       "      <td>0</td>\n",
       "      <td>5.720000</td>\n",
       "      <td>0.259724</td>\n",
       "      <td>2.133333e+02</td>\n",
       "      <td>0</td>\n",
       "      <td>8.0</td>\n",
       "      <td>9.0</td>\n",
       "    </tr>\n",
       "    <tr>\n",
       "      <th>791</th>\n",
       "      <td>SZ#000806</td>\n",
       "      <td>2000-01-01</td>\n",
       "      <td>2010-01-01</td>\n",
       "      <td>rocket_break_v7_upgrade_honor_account_v0.3.json</td>\n",
       "      <td>30</td>\n",
       "      <td>240</td>\n",
       "      <td>9.76</td>\n",
       "      <td>9.75729</td>\n",
       "      <td>0</td>\n",
       "      <td>16.30</td>\n",
       "      <td>...</td>\n",
       "      <td>0.143361</td>\n",
       "      <td>2.289267</td>\n",
       "      <td>89.92</td>\n",
       "      <td>0</td>\n",
       "      <td>0.500000</td>\n",
       "      <td>-1.766663</td>\n",
       "      <td>3.100000e+01</td>\n",
       "      <td>0</td>\n",
       "      <td>8.0</td>\n",
       "      <td>9.0</td>\n",
       "    </tr>\n",
       "    <tr>\n",
       "      <th>792</th>\n",
       "      <td>SZ#000576</td>\n",
       "      <td>2010-01-01</td>\n",
       "      <td>2019-01-01</td>\n",
       "      <td>rocket_break_v7_upgrade_honor_account_v0.3.json</td>\n",
       "      <td>30</td>\n",
       "      <td>240</td>\n",
       "      <td>6.23</td>\n",
       "      <td>5.35538</td>\n",
       "      <td>0</td>\n",
       "      <td>11.65</td>\n",
       "      <td>...</td>\n",
       "      <td>0.393333</td>\n",
       "      <td>3.275753</td>\n",
       "      <td>86.11</td>\n",
       "      <td>0</td>\n",
       "      <td>1.070000</td>\n",
       "      <td>0.384075</td>\n",
       "      <td>7.595238e+01</td>\n",
       "      <td>0</td>\n",
       "      <td>7.0</td>\n",
       "      <td>8.0</td>\n",
       "    </tr>\n",
       "    <tr>\n",
       "      <th>793</th>\n",
       "      <td>SZ#000576</td>\n",
       "      <td>2000-01-01</td>\n",
       "      <td>2010-01-01</td>\n",
       "      <td>rocket_break_v7_upgrade_honor_account_v0.3.json</td>\n",
       "      <td>30</td>\n",
       "      <td>240</td>\n",
       "      <td>2.72</td>\n",
       "      <td>2.71923</td>\n",
       "      <td>0</td>\n",
       "      <td>9.14</td>\n",
       "      <td>...</td>\n",
       "      <td>0.223950</td>\n",
       "      <td>2.299082</td>\n",
       "      <td>93.28</td>\n",
       "      <td>0</td>\n",
       "      <td>1.720000</td>\n",
       "      <td>-1.093761</td>\n",
       "      <td>5.933333e+01</td>\n",
       "      <td>0</td>\n",
       "      <td>7.0</td>\n",
       "      <td>8.0</td>\n",
       "    </tr>\n",
       "    <tr>\n",
       "      <th>794</th>\n",
       "      <td>SZ#000001</td>\n",
       "      <td>2010-01-01</td>\n",
       "      <td>2019-01-01</td>\n",
       "      <td>rocket_break_v7_upgrade_honor_account_v0.3.json</td>\n",
       "      <td>30</td>\n",
       "      <td>240</td>\n",
       "      <td>0.38</td>\n",
       "      <td>0.37787</td>\n",
       "      <td>0</td>\n",
       "      <td>7.94</td>\n",
       "      <td>...</td>\n",
       "      <td>0.003796</td>\n",
       "      <td>1.073382</td>\n",
       "      <td>91.67</td>\n",
       "      <td>0</td>\n",
       "      <td>2.890000</td>\n",
       "      <td>-6.829906</td>\n",
       "      <td>1.166667e+01</td>\n",
       "      <td>0</td>\n",
       "      <td>6.0</td>\n",
       "      <td>7.0</td>\n",
       "    </tr>\n",
       "    <tr>\n",
       "      <th>795</th>\n",
       "      <td>SZ#000001</td>\n",
       "      <td>2000-01-01</td>\n",
       "      <td>2010-01-01</td>\n",
       "      <td>rocket_break_v7_upgrade_honor_account_v0.3.json</td>\n",
       "      <td>30</td>\n",
       "      <td>240</td>\n",
       "      <td>4.23</td>\n",
       "      <td>4.22899</td>\n",
       "      <td>0</td>\n",
       "      <td>12.79</td>\n",
       "      <td>...</td>\n",
       "      <td>0.421261</td>\n",
       "      <td>2.967548</td>\n",
       "      <td>91.60</td>\n",
       "      <td>0</td>\n",
       "      <td>1.860000</td>\n",
       "      <td>-0.634320</td>\n",
       "      <td>7.450000e+01</td>\n",
       "      <td>0</td>\n",
       "      <td>6.0</td>\n",
       "      <td>7.0</td>\n",
       "    </tr>\n",
       "    <tr>\n",
       "      <th>798</th>\n",
       "      <td>SZ#002181</td>\n",
       "      <td>2010-01-01</td>\n",
       "      <td>2019-01-01</td>\n",
       "      <td>rocket_break_v7_upgrade_honor_account_v0.3.json</td>\n",
       "      <td>30</td>\n",
       "      <td>240</td>\n",
       "      <td>5.94</td>\n",
       "      <td>5.94414</td>\n",
       "      <td>0</td>\n",
       "      <td>13.34</td>\n",
       "      <td>...</td>\n",
       "      <td>0.105648</td>\n",
       "      <td>2.087785</td>\n",
       "      <td>89.81</td>\n",
       "      <td>0</td>\n",
       "      <td>0.390000</td>\n",
       "      <td>-1.634998</td>\n",
       "      <td>4.666667e+01</td>\n",
       "      <td>0</td>\n",
       "      <td>3.0</td>\n",
       "      <td>4.0</td>\n",
       "    </tr>\n",
       "    <tr>\n",
       "      <th>799</th>\n",
       "      <td>SZ#002181</td>\n",
       "      <td>2000-01-01</td>\n",
       "      <td>2010-01-01</td>\n",
       "      <td>rocket_break_v7_upgrade_honor_account_v0.3.json</td>\n",
       "      <td>30</td>\n",
       "      <td>240</td>\n",
       "      <td>0.88</td>\n",
       "      <td>True</td>\n",
       "      <td>0</td>\n",
       "      <td>6.75</td>\n",
       "      <td>...</td>\n",
       "      <td>-0.006639</td>\n",
       "      <td>0.051688</td>\n",
       "      <td>98.32</td>\n",
       "      <td>0</td>\n",
       "      <td>-inf</td>\n",
       "      <td>-inf</td>\n",
       "      <td>0.000000e+00</td>\n",
       "      <td>0</td>\n",
       "      <td>3.0</td>\n",
       "      <td>4.0</td>\n",
       "    </tr>\n",
       "    <tr>\n",
       "      <th>800</th>\n",
       "      <td>SZ#002020</td>\n",
       "      <td>2010-01-01</td>\n",
       "      <td>2019-01-01</td>\n",
       "      <td>rocket_break_v7_upgrade_honor_account_v0.3.json</td>\n",
       "      <td>30</td>\n",
       "      <td>240</td>\n",
       "      <td>7.28</td>\n",
       "      <td>6.42641</td>\n",
       "      <td>0</td>\n",
       "      <td>12.42</td>\n",
       "      <td>...</td>\n",
       "      <td>0.084630</td>\n",
       "      <td>2.096431</td>\n",
       "      <td>83.33</td>\n",
       "      <td>0</td>\n",
       "      <td>0.140000</td>\n",
       "      <td>-1.418031</td>\n",
       "      <td>5.952381e+01</td>\n",
       "      <td>0</td>\n",
       "      <td>2.0</td>\n",
       "      <td>3.0</td>\n",
       "    </tr>\n",
       "    <tr>\n",
       "      <th>801</th>\n",
       "      <td>SZ#002020</td>\n",
       "      <td>2000-01-01</td>\n",
       "      <td>2010-01-01</td>\n",
       "      <td>rocket_break_v7_upgrade_honor_account_v0.3.json</td>\n",
       "      <td>30</td>\n",
       "      <td>240</td>\n",
       "      <td>5.24</td>\n",
       "      <td>5.23537</td>\n",
       "      <td>0</td>\n",
       "      <td>12.58</td>\n",
       "      <td>...</td>\n",
       "      <td>0.085966</td>\n",
       "      <td>1.973728</td>\n",
       "      <td>93.28</td>\n",
       "      <td>0</td>\n",
       "      <td>0.770000</td>\n",
       "      <td>-3.329209</td>\n",
       "      <td>1.783333e+01</td>\n",
       "      <td>0</td>\n",
       "      <td>2.0</td>\n",
       "      <td>3.0</td>\n",
       "    </tr>\n",
       "    <tr>\n",
       "      <th>803</th>\n",
       "      <td>SZ#000573</td>\n",
       "      <td>2010-01-01</td>\n",
       "      <td>2019-01-01</td>\n",
       "      <td>rocket_break_v7_upgrade_honor_account_v0.3.json</td>\n",
       "      <td>30</td>\n",
       "      <td>240</td>\n",
       "      <td>7.21</td>\n",
       "      <td>7.21236</td>\n",
       "      <td>0</td>\n",
       "      <td>12.97</td>\n",
       "      <td>...</td>\n",
       "      <td>-0.033611</td>\n",
       "      <td>1.478065</td>\n",
       "      <td>90.74</td>\n",
       "      <td>0</td>\n",
       "      <td>-0.130000</td>\n",
       "      <td>-7.903330</td>\n",
       "      <td>-3.095238e+00</td>\n",
       "      <td>0</td>\n",
       "      <td>0.0</td>\n",
       "      <td>1.0</td>\n",
       "    </tr>\n",
       "    <tr>\n",
       "      <th>804</th>\n",
       "      <td>SZ#000573</td>\n",
       "      <td>2000-01-01</td>\n",
       "      <td>2010-01-01</td>\n",
       "      <td>rocket_break_v7_upgrade_honor_account_v0.3.json</td>\n",
       "      <td>30</td>\n",
       "      <td>240</td>\n",
       "      <td>1.85</td>\n",
       "      <td>1.85042</td>\n",
       "      <td>0</td>\n",
       "      <td>11.00</td>\n",
       "      <td>...</td>\n",
       "      <td>0.077899</td>\n",
       "      <td>1.136779</td>\n",
       "      <td>95.80</td>\n",
       "      <td>0</td>\n",
       "      <td>2.550000</td>\n",
       "      <td>-3.385309</td>\n",
       "      <td>2.233333e+01</td>\n",
       "      <td>0</td>\n",
       "      <td>0.0</td>\n",
       "      <td>1.0</td>\n",
       "    </tr>\n",
       "  </tbody>\n",
       "</table>\n",
       "<p>622 rows × 24 columns</p>\n",
       "</div>"
      ],
      "text/plain": [
       "        symbol  start_date    end_date  \\\n",
       "0    SZ#002091  2010-01-01  2019-01-01   \n",
       "1    SZ#002091  2000-01-01  2010-01-01   \n",
       "2    SZ#000912  2010-01-01  2019-01-01   \n",
       "3    SZ#000912  2000-01-01  2010-01-01   \n",
       "4    SZ#000677  2010-01-01  2019-01-01   \n",
       "5    SZ#000677  2000-01-01  2010-01-01   \n",
       "6    SZ#000301  2010-01-01  2019-01-01   \n",
       "7    SZ#000301  2000-01-01  2010-01-01   \n",
       "10   SZ#002090  2010-01-01  2019-01-01   \n",
       "11   SZ#002090  2000-01-01  2010-01-01   \n",
       "12   SZ#000911  2010-01-01  2019-01-01   \n",
       "13   SZ#000911  2000-01-01  2010-01-01   \n",
       "14   SZ#000676  2010-01-01  2019-01-01   \n",
       "15   SZ#000676  2000-01-01  2010-01-01   \n",
       "18   SZ#002250  2010-01-01  2019-01-01   \n",
       "19   SZ#002250  2000-01-01  2010-01-01   \n",
       "20   SZ#002089  2010-01-01  2019-01-01   \n",
       "21   SZ#002089  2000-01-01  2010-01-01   \n",
       "22   SZ#000910  2010-01-01  2019-01-01   \n",
       "23   SZ#000910  2000-01-01  2010-01-01   \n",
       "24   SZ#000673  2010-01-01  2019-01-01   \n",
       "25   SZ#000673  2000-01-01  2010-01-01   \n",
       "26   SZ#000159  2010-01-01  2019-01-01   \n",
       "27   SZ#000159  2000-01-01  2010-01-01   \n",
       "30   SZ#002249  2010-01-01  2019-01-01   \n",
       "31   SZ#002249  2000-01-01  2010-01-01   \n",
       "32   SZ#002088  2010-01-01  2019-01-01   \n",
       "33   SZ#002088  2000-01-01  2010-01-01   \n",
       "34   SZ#000909  2010-01-01  2019-01-01   \n",
       "35   SZ#000909  2000-01-01  2010-01-01   \n",
       "..         ...         ...         ...   \n",
       "766  SZ#002023  2010-01-01  2019-01-01   \n",
       "767  SZ#002023  2000-01-01  2010-01-01   \n",
       "768  SZ#000809  2010-01-01  2019-01-01   \n",
       "769  SZ#000809  2000-01-01  2010-01-01   \n",
       "770  SZ#000582  2010-01-01  2019-01-01   \n",
       "771  SZ#000582  2000-01-01  2010-01-01   \n",
       "772  SZ#000004  2010-01-01  2019-01-01   \n",
       "773  SZ#000004  2000-01-01  2010-01-01   \n",
       "777  SZ#002022  2010-01-01  2019-01-01   \n",
       "778  SZ#002022  2000-01-01  2010-01-01   \n",
       "779  SZ#000807  2010-01-01  2019-01-01   \n",
       "780  SZ#000807  2000-01-01  2010-01-01   \n",
       "781  SZ#000581  2010-01-01  2019-01-01   \n",
       "782  SZ#000581  2000-01-01  2010-01-01   \n",
       "783  SZ#000002  2010-01-01  2019-01-01   \n",
       "784  SZ#000002  2000-01-01  2010-01-01   \n",
       "788  SZ#002021  2010-01-01  2019-01-01   \n",
       "789  SZ#002021  2000-01-01  2010-01-01   \n",
       "790  SZ#000806  2010-01-01  2019-01-01   \n",
       "791  SZ#000806  2000-01-01  2010-01-01   \n",
       "792  SZ#000576  2010-01-01  2019-01-01   \n",
       "793  SZ#000576  2000-01-01  2010-01-01   \n",
       "794  SZ#000001  2010-01-01  2019-01-01   \n",
       "795  SZ#000001  2000-01-01  2010-01-01   \n",
       "798  SZ#002181  2010-01-01  2019-01-01   \n",
       "799  SZ#002181  2000-01-01  2010-01-01   \n",
       "800  SZ#002020  2010-01-01  2019-01-01   \n",
       "801  SZ#002020  2000-01-01  2010-01-01   \n",
       "803  SZ#000573  2010-01-01  2019-01-01   \n",
       "804  SZ#000573  2000-01-01  2010-01-01   \n",
       "\n",
       "                                         policy_name short  mid  \\\n",
       "0    rocket_break_v7_upgrade_honor_account_v0.3.json    30  240   \n",
       "1    rocket_break_v7_upgrade_honor_account_v0.3.json    30  240   \n",
       "2    rocket_break_v7_upgrade_honor_account_v0.3.json    30  240   \n",
       "3    rocket_break_v7_upgrade_honor_account_v0.3.json    30  240   \n",
       "4    rocket_break_v7_upgrade_honor_account_v0.3.json    30  240   \n",
       "5    rocket_break_v7_upgrade_honor_account_v0.3.json    30  240   \n",
       "6    rocket_break_v7_upgrade_honor_account_v0.3.json    30  240   \n",
       "7    rocket_break_v7_upgrade_honor_account_v0.3.json    30  240   \n",
       "10   rocket_break_v7_upgrade_honor_account_v0.3.json    30  240   \n",
       "11   rocket_break_v7_upgrade_honor_account_v0.3.json    30  240   \n",
       "12   rocket_break_v7_upgrade_honor_account_v0.3.json    30  240   \n",
       "13   rocket_break_v7_upgrade_honor_account_v0.3.json    30  240   \n",
       "14   rocket_break_v7_upgrade_honor_account_v0.3.json    30  240   \n",
       "15   rocket_break_v7_upgrade_honor_account_v0.3.json    30  240   \n",
       "18   rocket_break_v7_upgrade_honor_account_v0.3.json    30  240   \n",
       "19   rocket_break_v7_upgrade_honor_account_v0.3.json    30  240   \n",
       "20   rocket_break_v7_upgrade_honor_account_v0.3.json    30  240   \n",
       "21   rocket_break_v7_upgrade_honor_account_v0.3.json    30  240   \n",
       "22   rocket_break_v7_upgrade_honor_account_v0.3.json    30  240   \n",
       "23   rocket_break_v7_upgrade_honor_account_v0.3.json    30  240   \n",
       "24   rocket_break_v7_upgrade_honor_account_v0.3.json    30  240   \n",
       "25   rocket_break_v7_upgrade_honor_account_v0.3.json    30  240   \n",
       "26   rocket_break_v7_upgrade_honor_account_v0.3.json    30  240   \n",
       "27   rocket_break_v7_upgrade_honor_account_v0.3.json    30  240   \n",
       "30   rocket_break_v7_upgrade_honor_account_v0.3.json    30  240   \n",
       "31   rocket_break_v7_upgrade_honor_account_v0.3.json    30  240   \n",
       "32   rocket_break_v7_upgrade_honor_account_v0.3.json    30  240   \n",
       "33   rocket_break_v7_upgrade_honor_account_v0.3.json    30  240   \n",
       "34   rocket_break_v7_upgrade_honor_account_v0.3.json    30  240   \n",
       "35   rocket_break_v7_upgrade_honor_account_v0.3.json    30  240   \n",
       "..                                               ...   ...  ...   \n",
       "766  rocket_break_v7_upgrade_honor_account_v0.3.json    30  240   \n",
       "767  rocket_break_v7_upgrade_honor_account_v0.3.json    30  240   \n",
       "768  rocket_break_v7_upgrade_honor_account_v0.3.json    30  240   \n",
       "769  rocket_break_v7_upgrade_honor_account_v0.3.json    30  240   \n",
       "770  rocket_break_v7_upgrade_honor_account_v0.3.json    30  240   \n",
       "771  rocket_break_v7_upgrade_honor_account_v0.3.json    30  240   \n",
       "772  rocket_break_v7_upgrade_honor_account_v0.3.json    30  240   \n",
       "773  rocket_break_v7_upgrade_honor_account_v0.3.json    30  240   \n",
       "777  rocket_break_v7_upgrade_honor_account_v0.3.json    30  240   \n",
       "778  rocket_break_v7_upgrade_honor_account_v0.3.json    30  240   \n",
       "779  rocket_break_v7_upgrade_honor_account_v0.3.json    30  240   \n",
       "780  rocket_break_v7_upgrade_honor_account_v0.3.json    30  240   \n",
       "781  rocket_break_v7_upgrade_honor_account_v0.3.json    30  240   \n",
       "782  rocket_break_v7_upgrade_honor_account_v0.3.json    30  240   \n",
       "783  rocket_break_v7_upgrade_honor_account_v0.3.json    30  240   \n",
       "784  rocket_break_v7_upgrade_honor_account_v0.3.json    30  240   \n",
       "788  rocket_break_v7_upgrade_honor_account_v0.3.json    30  240   \n",
       "789  rocket_break_v7_upgrade_honor_account_v0.3.json    30  240   \n",
       "790  rocket_break_v7_upgrade_honor_account_v0.3.json    30  240   \n",
       "791  rocket_break_v7_upgrade_honor_account_v0.3.json    30  240   \n",
       "792  rocket_break_v7_upgrade_honor_account_v0.3.json    30  240   \n",
       "793  rocket_break_v7_upgrade_honor_account_v0.3.json    30  240   \n",
       "794  rocket_break_v7_upgrade_honor_account_v0.3.json    30  240   \n",
       "795  rocket_break_v7_upgrade_honor_account_v0.3.json    30  240   \n",
       "798  rocket_break_v7_upgrade_honor_account_v0.3.json    30  240   \n",
       "799  rocket_break_v7_upgrade_honor_account_v0.3.json    30  240   \n",
       "800  rocket_break_v7_upgrade_honor_account_v0.3.json    30  240   \n",
       "801  rocket_break_v7_upgrade_honor_account_v0.3.json    30  240   \n",
       "803  rocket_break_v7_upgrade_honor_account_v0.3.json    30  240   \n",
       "804  rocket_break_v7_upgrade_honor_account_v0.3.json    30  240   \n",
       "\n",
       "     in_hand_asset_drawdown avg_drawdown loss_times  float_profit_drawdown  \\\n",
       "0                      5.07      5.04579          0                  12.60   \n",
       "1                      3.61         True          0                  12.30   \n",
       "2                      6.28      6.28466          0                   9.99   \n",
       "3                      5.52      5.52197          0                  11.23   \n",
       "4                      2.76         True          0                   5.45   \n",
       "5                      5.36       5.3623          0                  13.78   \n",
       "6                      3.17      3.16524          0                   9.59   \n",
       "7                      2.45      2.45052          0                   9.91   \n",
       "10                     6.84      6.29467          0                  14.86   \n",
       "11                     3.25         True          0                   6.55   \n",
       "12                     4.01      4.00503          0                  10.92   \n",
       "13                     9.95       9.3293          0                  17.90   \n",
       "14                     1.85        1.855          0                   9.15   \n",
       "15                     7.13      7.12506          0                  14.44   \n",
       "18                     5.12      5.11966          0                  10.30   \n",
       "19                     1.03         True          0                   8.13   \n",
       "20                     6.53      6.52533          0                   9.58   \n",
       "21                     3.35         True          0                  10.02   \n",
       "22                     1.69      1.69187          0                   9.65   \n",
       "23                    10.72      8.44918          0                  15.91   \n",
       "24                     6.66      6.03646          0                  10.51   \n",
       "25                     7.34      7.34007          0                  16.06   \n",
       "26                     6.72      6.71566          0                  14.64   \n",
       "27                    16.36      14.9709          0                  19.25   \n",
       "30                    11.49      11.4932          0                  13.82   \n",
       "31                     3.45         True          0                   4.77   \n",
       "32                     6.23      6.22804          0                  11.44   \n",
       "33                     1.70         True          0                   7.42   \n",
       "34                     2.85      2.84696          0                   9.54   \n",
       "35                     5.23      5.23145          0                  11.96   \n",
       "..                      ...          ...        ...                    ...   \n",
       "766                   12.80      12.2769          0                  15.27   \n",
       "767                   16.01       16.011          0                  18.24   \n",
       "768                    5.10       5.1037          0                   6.99   \n",
       "769                    5.36      5.36038          0                  12.64   \n",
       "770                    2.96      2.96083          0                   7.13   \n",
       "771                    6.96      6.95971          0                  10.13   \n",
       "772                   11.05      10.1827          0                  14.65   \n",
       "773                    1.08         True          0                  12.07   \n",
       "777                    3.54      3.53609          0                  11.47   \n",
       "778                    5.30      5.30466          0                  11.29   \n",
       "779                    1.80      1.79647          0                   7.23   \n",
       "780                    5.86       4.9828          0                  14.36   \n",
       "781                    7.24      7.24384          0                  14.94   \n",
       "782                    7.19      7.18774          0                  12.40   \n",
       "783                    4.68       4.1426          0                  11.72   \n",
       "784                    1.48         True          0                   6.93   \n",
       "788                    6.89      6.88961          0                  13.09   \n",
       "789                    8.42       8.4168          0                  12.74   \n",
       "790                    3.45      3.44596          0                   9.17   \n",
       "791                    9.76      9.75729          0                  16.30   \n",
       "792                    6.23      5.35538          0                  11.65   \n",
       "793                    2.72      2.71923          0                   9.14   \n",
       "794                    0.38      0.37787          0                   7.94   \n",
       "795                    4.23      4.22899          0                  12.79   \n",
       "798                    5.94      5.94414          0                  13.34   \n",
       "799                    0.88         True          0                   6.75   \n",
       "800                    7.28      6.42641          0                  12.42   \n",
       "801                    5.24      5.23537          0                  12.58   \n",
       "803                    7.21      7.21236          0                  12.97   \n",
       "804                    1.85      1.85042          0                  11.00   \n",
       "\n",
       "       ...      mean_month_return  std_month_return  profit_month_rate  \\\n",
       "0      ...               0.032500          1.290615              90.74   \n",
       "1      ...              -0.028992          0.356405              95.80   \n",
       "2      ...               0.254537          2.018069              96.30   \n",
       "3      ...               0.013193          1.253902              89.92   \n",
       "4      ...              -0.063796          0.583619              95.37   \n",
       "5      ...               0.186807          1.510764              88.24   \n",
       "6      ...              -0.002963          0.804751              94.44   \n",
       "7      ...               0.482269          4.030232              94.12   \n",
       "10     ...               0.069630          2.101117              86.11   \n",
       "11     ...              -0.027311          0.233302              97.48   \n",
       "12     ...              -0.026296          1.555337              91.67   \n",
       "13     ...               0.280252          3.304937              89.08   \n",
       "14     ...               0.968889          8.448707              94.44   \n",
       "15     ...               0.055378          1.391951              90.76   \n",
       "18     ...              -0.008704          0.892194              91.67   \n",
       "19     ...              -0.001008          0.344773              97.48   \n",
       "20     ...               0.071759          1.390736              91.67   \n",
       "21     ...               0.016134          0.437462              97.48   \n",
       "22     ...               0.378981          3.423632              91.67   \n",
       "23     ...              -0.049412          0.795284              89.92   \n",
       "24     ...               0.077685          1.443345              87.04   \n",
       "25     ...               0.140504          3.063358              89.92   \n",
       "26     ...              -0.089167          0.593094              87.04   \n",
       "27     ...              -0.138992          1.153122              90.76   \n",
       "30     ...               0.183889          2.694025              90.74   \n",
       "31     ...              -0.029328          0.225271              98.32   \n",
       "32     ...              -0.045278          1.053665              90.74   \n",
       "33     ...              -0.014706          0.488192              98.32   \n",
       "34     ...               0.093796          1.108476              93.52   \n",
       "35     ...               0.528151          4.174309              94.12   \n",
       "..     ...                    ...               ...                ...   \n",
       "766    ...              -0.095370          1.014682              87.04   \n",
       "767    ...              -0.124034          0.940504              91.60   \n",
       "768    ...              -0.017130          1.024186              93.52   \n",
       "769    ...               0.294622          3.084760              94.12   \n",
       "770    ...              -0.046574          0.377375              92.59   \n",
       "771    ...               0.041345          0.884103              93.28   \n",
       "772    ...              -0.056019          1.054966              87.96   \n",
       "773    ...               0.353866          1.964229              97.48   \n",
       "777    ...               0.158704          1.670082              89.81   \n",
       "778    ...               0.178067          2.081268              91.60   \n",
       "779    ...               0.128704          1.225432              96.30   \n",
       "780    ...               0.684538          5.282655              90.76   \n",
       "781    ...              -0.051852          1.059666              86.11   \n",
       "782    ...               0.060000          1.708506              94.96   \n",
       "783    ...               0.181019          2.771247              87.96   \n",
       "784    ...               0.040000          0.741501              98.32   \n",
       "788    ...               0.117222          3.307848              94.44   \n",
       "789    ...               0.074622          0.997934              93.28   \n",
       "790    ...               0.619907          3.432134              96.30   \n",
       "791    ...               0.143361          2.289267              89.92   \n",
       "792    ...               0.393333          3.275753              86.11   \n",
       "793    ...               0.223950          2.299082              93.28   \n",
       "794    ...               0.003796          1.073382              91.67   \n",
       "795    ...               0.421261          2.967548              91.60   \n",
       "798    ...               0.105648          2.087785              89.81   \n",
       "799    ...              -0.006639          0.051688              98.32   \n",
       "800    ...               0.084630          2.096431              83.33   \n",
       "801    ...               0.085966          1.973728              93.28   \n",
       "803    ...              -0.033611          1.478065              90.74   \n",
       "804    ...               0.077899          1.136779              95.80   \n",
       "\n",
       "     win_rate        mar      sharp           rar deal_count  scale_start  \\\n",
       "0           0   0.030000  -2.050832  4.654762e+01          0        499.0   \n",
       "1           0  -1.000000 -45.333333 -1.333333e+00          0        499.0   \n",
       "2           0   2.240000  -1.362024  4.392857e+01          0        498.0   \n",
       "3           0   0.460000  -3.545866  1.516667e+01          0        498.0   \n",
       "4           0  -0.500000 -15.222572 -6.190476e+00          0        497.0   \n",
       "5           0   0.670000  -0.944280  5.433333e+01          0        497.0   \n",
       "6           0   0.030000 -11.081657  4.166667e+00          0        496.0   \n",
       "7           0   6.200000  -0.208817  1.256667e+02          0        496.0   \n",
       "10          0   0.470000  -1.832410  3.511905e+01          0        492.0   \n",
       "11          0       -inf       -inf  0.000000e+00          0        492.0   \n",
       "12          0  -0.030000  -2.907457  5.047619e+01          0        491.0   \n",
       "13          0   0.440000  -0.640079  6.850000e+01          0        491.0   \n",
       "14          0  31.520000   0.287481  2.067857e+02          0        490.0   \n",
       "15          0   0.230000  -2.613691  2.483333e+01          0        490.0   \n",
       "18          0  -0.030000  -5.119235  5.119048e+00          0        486.0   \n",
       "19          0        inf       -inf  0.000000e+00          0        486.0   \n",
       "20          0   0.370000  -1.833801  6.607143e+01          0        485.0   \n",
       "21          0        inf       -inf  0.000000e+00          0        485.0   \n",
       "22          0   9.780000  -0.184683  1.054762e+02          0        484.0   \n",
       "23          0  -0.090000 -15.376474  3.166667e+00          0        484.0   \n",
       "24          0   0.250000  -1.458526  9.511905e+01          0        483.0   \n",
       "25          0   0.140000  -3.122513  2.416667e+01          0        483.0   \n",
       "26          0  -0.130000  -9.500059  1.083333e+01          0        482.0   \n",
       "27          0  -0.500000  -4.761177 -2.150000e+01          0        482.0   \n",
       "30          0   0.300000  -1.235369  1.408333e+02          0        479.0   \n",
       "31          0       -inf       -inf  0.000000e+00          0        479.0   \n",
       "32          0  -0.100000  -7.032982  1.190476e+00          0        478.0   \n",
       "33          0       -inf       -inf  0.000000e+00          0        478.0   \n",
       "34          0   0.900000  -2.135337  4.702381e+01          0        477.0   \n",
       "35          0   2.930000  -0.476721  8.016667e+01          0        477.0   \n",
       "..        ...        ...        ...           ...        ...          ...   \n",
       "766         0  -0.060000  -4.422042  3.345238e+01          0         23.0   \n",
       "767         0  -0.250000  -6.718817 -1.566667e+01          0         23.0   \n",
       "768         0  -0.050000  -3.829061  2.107143e+01          0         22.0   \n",
       "769         0   0.890000  -5.296678  1.266667e+01          0         22.0   \n",
       "770         0  -0.330000 -19.411350 -4.642857e+00          0         21.0   \n",
       "771         0   0.080000  -4.438877  1.383333e+01          0         21.0   \n",
       "772         0  -0.050000  -5.174021  1.869048e+01          0         20.0   \n",
       "773         0  26.190000  -0.754434  6.250000e+01          0         20.0   \n",
       "777         0   1.690000  -0.836411  8.750000e+01          0         16.0   \n",
       "778         0   1.270000  -1.921754  2.933333e+01          0         16.0   \n",
       "779         0   3.570000  -2.851015  2.797619e+01          0         15.0   \n",
       "780         0   2.610000  -0.167866  1.286667e+02          0         15.0   \n",
       "781         0   0.070000   0.072693 -1.210714e+02          0         14.0   \n",
       "782         0   0.340000  -3.078320  1.716667e+01          0         14.0   \n",
       "783         0   0.540000  -0.901684  5.523810e+01          0         13.0   \n",
       "784         0   2.920000 -34.520755 -2.333333e+00          0         13.0   \n",
       "788         0   0.440000  -2.113774  3.511905e+01          0          9.0   \n",
       "789         0   0.360000 -22.929845  8.958074e-17          0          9.0   \n",
       "790         0   5.720000   0.259724  2.133333e+02          0          8.0   \n",
       "791         0   0.500000  -1.766663  3.100000e+01          0          8.0   \n",
       "792         0   1.070000   0.384075  7.595238e+01          0          7.0   \n",
       "793         0   1.720000  -1.093761  5.933333e+01          0          7.0   \n",
       "794         0   2.890000  -6.829906  1.166667e+01          0          6.0   \n",
       "795         0   1.860000  -0.634320  7.450000e+01          0          6.0   \n",
       "798         0   0.390000  -1.634998  4.666667e+01          0          3.0   \n",
       "799         0       -inf       -inf  0.000000e+00          0          3.0   \n",
       "800         0   0.140000  -1.418031  5.952381e+01          0          2.0   \n",
       "801         0   0.770000  -3.329209  1.783333e+01          0          2.0   \n",
       "803         0  -0.130000  -7.903330 -3.095238e+00          0          0.0   \n",
       "804         0   2.550000  -3.385309  2.233333e+01          0          0.0   \n",
       "\n",
       "     scale_end  \n",
       "0        500.0  \n",
       "1        500.0  \n",
       "2        499.0  \n",
       "3        499.0  \n",
       "4        498.0  \n",
       "5        498.0  \n",
       "6        497.0  \n",
       "7        497.0  \n",
       "10       493.0  \n",
       "11       493.0  \n",
       "12       492.0  \n",
       "13       492.0  \n",
       "14       491.0  \n",
       "15       491.0  \n",
       "18       487.0  \n",
       "19       487.0  \n",
       "20       486.0  \n",
       "21       486.0  \n",
       "22       485.0  \n",
       "23       485.0  \n",
       "24       484.0  \n",
       "25       484.0  \n",
       "26       483.0  \n",
       "27       483.0  \n",
       "30       480.0  \n",
       "31       480.0  \n",
       "32       479.0  \n",
       "33       479.0  \n",
       "34       478.0  \n",
       "35       478.0  \n",
       "..         ...  \n",
       "766       24.0  \n",
       "767       24.0  \n",
       "768       23.0  \n",
       "769       23.0  \n",
       "770       22.0  \n",
       "771       22.0  \n",
       "772       21.0  \n",
       "773       21.0  \n",
       "777       17.0  \n",
       "778       17.0  \n",
       "779       16.0  \n",
       "780       16.0  \n",
       "781       15.0  \n",
       "782       15.0  \n",
       "783       14.0  \n",
       "784       14.0  \n",
       "788       10.0  \n",
       "789       10.0  \n",
       "790        9.0  \n",
       "791        9.0  \n",
       "792        8.0  \n",
       "793        8.0  \n",
       "794        7.0  \n",
       "795        7.0  \n",
       "798        4.0  \n",
       "799        4.0  \n",
       "800        3.0  \n",
       "801        3.0  \n",
       "803        1.0  \n",
       "804        1.0  \n",
       "\n",
       "[622 rows x 24 columns]"
      ]
     },
     "execution_count": 15,
     "metadata": {},
     "output_type": "execute_result"
    }
   ],
   "source": [
    "from multiprocessing import Pool, TimeoutError\n",
    "\n",
    "%run ProRocketRegression.ipynb\n",
    "%run Constant.ipynb\n",
    "\n",
    "display_columns = ['symbol','start_date','end_date','scale_start','scale_end','in_hand_asset_drawdown','avg_drawdown',\n",
    "               'float_profit_drawdown','avg_year_return','year_regular_return','mean_year_return',\n",
    "               'mean_month_return','profit_month_rate']\n",
    "\n",
    "# 单支股票对于不同周期测试\n",
    "def simulate(scale_start,scale_end,start_date,end_date,draw_pic=False):\n",
    "    policy_name='rocket_break_v7_upgrade_honor_account_v0.3.json'\n",
    "    \n",
    "    regression = ProRocketRegression(scale_start,scale_end,start_date,end_date,policy_name)\n",
    "\n",
    "    evaluation_df = regression.start_regression()\n",
    "    \n",
    "    if(draw_pic==True):\n",
    "        plt.rc('figure', figsize=(14,8))\n",
    "        regression.account.asset['assets'].plot(kind='bar')\n",
    "        plt.show()\n",
    "\n",
    "        plt.rc('figure', figsize=(14,8))\n",
    "        regression.account.asset['space_per'].plot(kind='bar')\n",
    "        plt.show()\n",
    "    \n",
    "    return evaluation_df\n",
    "    \n",
    "\n",
    "def parallel_run(process_num,max_stocks):\n",
    "    pool = Pool(processes=process_num)\n",
    "    \n",
    "    start_1 = '2000-01-01'\n",
    "    end_1 = '2010-01-01'\n",
    "    start_2 = '2010-01-01'\n",
    "    end_2 = '2019-01-01'\n",
    "    \n",
    "    tasks = []\n",
    "    for i in range(0,max_stocks):\n",
    "        task = pool.apply_async(simulate, (i,i+1,start_1,end_1))\n",
    "        tasks.append(task)\n",
    "        task = pool.apply_async(simulate, (i,i+1,start_2,end_2))\n",
    "        tasks.append(task)\n",
    "\n",
    "    evaluation_df = pd.DataFrame(columns=evaluation_columns)\n",
    "    for task in tasks:\n",
    "        try:\n",
    "            one_evaluation = task.get()\n",
    "            evaluation_df = pd.concat([one_evaluation,evaluation_df], ignore_index=True, sort=False)\n",
    "#             display(evaluation_df[display_columns][:30])\n",
    "        except Exception as e:\n",
    "            print(str(e))\n",
    "\n",
    "    pool.close()\n",
    "    pool.join()\n",
    "    \n",
    "    evaluation_df.to_csv(report_dir+'all_single_stocks_in_two_decades_evaluation_df.csv',index=False)\n",
    "\n",
    "    return evaluation_df\n",
    "  \n",
    "\n",
    "def filter_missing_symbols(evaluation_df):\n",
    "    count_df = evaluation_df[['symbol','start_date','end_date','avg_year_return']].groupby(by='symbol')['start_date'].count()\n",
    "    symbols = list(count_df[count_df==1].index.values)\n",
    "    \n",
    "    for symbol in symbols:\n",
    "        evaluation_df = evaluation_df[evaluation_df['symbol']!=symbol]\n",
    "\n",
    "    return evaluation_df\n",
    "\n",
    "    \n",
    "# evaluation_df = parallel_run(24,500)\n",
    "# evaluation_df = filter_missing_symbols(evaluation_df)\n",
    "# evaluation_df\n"
   ]
  },
  {
   "cell_type": "code",
   "execution_count": 41,
   "metadata": {
    "scrolled": false
   },
   "outputs": [
    {
     "data": {
      "text/plain": [
       "array(['SZ#000656', 'SZ#000869', 'SZ#000617', 'SZ#000820', 'SZ#000878',\n",
       "       'SZ#000007', 'SZ#000589', 'SZ#000587', 'SZ#002024', 'SZ#000655',\n",
       "       'SZ#000301', 'SZ#000909', 'SZ#000807', 'SZ#000885', 'SZ#000605',\n",
       "       'SZ#000633', 'SZ#000584', 'SZ#000590', 'SZ#000603', 'SZ#000004',\n",
       "       'SZ#000821', 'SZ#000863', 'SZ#000828', 'SZ#000613', 'SZ#002036',\n",
       "       'SZ#000623', 'SZ#000672', 'SZ#000819', 'SZ#000862', 'SZ#000596'], dtype=object)"
      ]
     },
     "execution_count": 41,
     "metadata": {},
     "output_type": "execute_result"
    },
    {
     "name": "stdout",
     "output_type": "stream",
     "text": [
      "\n"
     ]
    },
    {
     "data": {
      "text/plain": [
       "array(['SZ#002231', 'SZ#000912', 'SZ#000027', 'SZ#002055', 'SZ#000020',\n",
       "       'SZ#002240', 'SZ#002236', 'SZ#000029', 'SZ#000910', 'SZ#000016',\n",
       "       'SZ#000008', 'SZ#000892', 'SZ#000863', 'SZ#000625', 'SZ#000668',\n",
       "       'SZ#000806', 'SZ#000662', 'SZ#000058', 'SZ#000835', 'SZ#002044',\n",
       "       'SZ#002195', 'SZ#000584', 'SZ#000626', 'SZ#000815', 'SZ#000587',\n",
       "       'SZ#000616', 'SZ#000667', 'SZ#000062', 'SZ#000676', 'SZ#000638'], dtype=object)"
      ]
     },
     "execution_count": 41,
     "metadata": {},
     "output_type": "execute_result"
    }
   ],
   "source": [
    "avg_year_return_df_00 = evaluation_df[evaluation_df['start_date']=='2000-01-01'].sort_values('avg_year_return')[['symbol','avg_year_return']]\n",
    "avg_year_return_df_00 = avg_year_return_df_00[avg_year_return_df_00['avg_year_return']<400]\n",
    "\n",
    "avg_year_return_df_10 = evaluation_df[evaluation_df['start_date']=='2010-01-01'].sort_values('avg_year_return')[['symbol','avg_year_return']]\n",
    "\n",
    "\n",
    "avg_year_return_df_00[-30:]['symbol'].values\n",
    "print()\n",
    "avg_year_return_df_10[-30:]['symbol'].values\n"
   ]
  },
  {
   "cell_type": "code",
   "execution_count": null,
   "metadata": {},
   "outputs": [],
   "source": [
    "\n",
    "\n",
    "def parallel_run(process_num,max_stocks):\n",
    "    pool = Pool(processes=process_num)\n",
    "    \n",
    "    start_1 = '2000-01-01'\n",
    "    end_1 = '2010-01-01'\n",
    "    start_2 = '2010-01-01'\n",
    "    end_2 = '2019-01-01'\n",
    "    \n",
    "    tasks = []\n",
    "    for i in range(0,max_stocks):\n",
    "        task = pool.apply_async(simulate, (i,i+1,start_1,end_1))\n",
    "        tasks.append(task)\n",
    "        task = pool.apply_async(simulate, (i,i+1,start_2,end_2))\n",
    "        tasks.append(task)\n",
    "\n",
    "    evaluation_df = pd.DataFrame(columns=evaluation_columns)\n",
    "    for task in tasks:\n",
    "        try:\n",
    "            one_evaluation = task.get()\n",
    "            evaluation_df = pd.concat([one_evaluation,evaluation_df], ignore_index=True, sort=False)\n",
    "#             display(evaluation_df[display_columns][:30])\n",
    "        except Exception as e:\n",
    "            print(str(e))\n",
    "\n",
    "    pool.close()\n",
    "    pool.join()\n",
    "    \n",
    "    evaluation_df.to_csv(report_dir+'all_single_stocks_in_two_decades_evaluation_df.csv',index=False)\n",
    "\n",
    "    return evaluation_df"
   ]
  },
  {
   "cell_type": "code",
   "execution_count": 39,
   "metadata": {},
   "outputs": [
    {
     "name": "stdout",
     "output_type": "stream",
     "text": [
      "avg_return_00_count 33 total:293\n",
      "avg_return_10_count 44 total:311\n"
     ]
    },
    {
     "data": {
      "text/html": [
       "<div>\n",
       "<style scoped>\n",
       "    .dataframe tbody tr th:only-of-type {\n",
       "        vertical-align: middle;\n",
       "    }\n",
       "\n",
       "    .dataframe tbody tr th {\n",
       "        vertical-align: top;\n",
       "    }\n",
       "\n",
       "    .dataframe thead th {\n",
       "        text-align: right;\n",
       "    }\n",
       "</style>\n",
       "<table border=\"1\" class=\"dataframe\">\n",
       "  <thead>\n",
       "    <tr style=\"text-align: right;\">\n",
       "      <th></th>\n",
       "      <th>symbol</th>\n",
       "      <th>avg_year_return</th>\n",
       "    </tr>\n",
       "  </thead>\n",
       "  <tbody>\n",
       "    <tr>\n",
       "      <th>201</th>\n",
       "      <td>SZ#002073</td>\n",
       "      <td>-0.70</td>\n",
       "    </tr>\n",
       "    <tr>\n",
       "      <th>174</th>\n",
       "      <td>SZ#000088</td>\n",
       "      <td>-0.57</td>\n",
       "    </tr>\n",
       "    <tr>\n",
       "      <th>125</th>\n",
       "      <td>SZ#000899</td>\n",
       "      <td>-0.56</td>\n",
       "    </tr>\n",
       "    <tr>\n",
       "      <th>48</th>\n",
       "      <td>SZ#000671</td>\n",
       "      <td>-0.54</td>\n",
       "    </tr>\n",
       "    <tr>\n",
       "      <th>330</th>\n",
       "      <td>SZ#000055</td>\n",
       "      <td>-0.47</td>\n",
       "    </tr>\n",
       "    <tr>\n",
       "      <th>576</th>\n",
       "      <td>SZ#000025</td>\n",
       "      <td>-0.47</td>\n",
       "    </tr>\n",
       "    <tr>\n",
       "      <th>72</th>\n",
       "      <td>SZ#000155</td>\n",
       "      <td>-0.46</td>\n",
       "    </tr>\n",
       "    <tr>\n",
       "      <th>451</th>\n",
       "      <td>SZ#000037</td>\n",
       "      <td>-0.37</td>\n",
       "    </tr>\n",
       "    <tr>\n",
       "      <th>203</th>\n",
       "      <td>SZ#000889</td>\n",
       "      <td>-0.37</td>\n",
       "    </tr>\n",
       "    <tr>\n",
       "      <th>665</th>\n",
       "      <td>SZ#002032</td>\n",
       "      <td>-0.33</td>\n",
       "    </tr>\n",
       "    <tr>\n",
       "      <th>341</th>\n",
       "      <td>SZ#000050</td>\n",
       "      <td>-0.21</td>\n",
       "    </tr>\n",
       "    <tr>\n",
       "      <th>553</th>\n",
       "      <td>SZ#000606</td>\n",
       "      <td>-0.19</td>\n",
       "    </tr>\n",
       "    <tr>\n",
       "      <th>495</th>\n",
       "      <td>SZ#000611</td>\n",
       "      <td>-0.09</td>\n",
       "    </tr>\n",
       "    <tr>\n",
       "      <th>758</th>\n",
       "      <td>SZ#000810</td>\n",
       "      <td>-0.08</td>\n",
       "    </tr>\n",
       "    <tr>\n",
       "      <th>196</th>\n",
       "      <td>SZ#000070</td>\n",
       "      <td>-0.08</td>\n",
       "    </tr>\n",
       "    <tr>\n",
       "      <th>306</th>\n",
       "      <td>SZ#000632</td>\n",
       "      <td>-0.01</td>\n",
       "    </tr>\n",
       "    <tr>\n",
       "      <th>515</th>\n",
       "      <td>SZ#000837</td>\n",
       "      <td>0.00</td>\n",
       "    </tr>\n",
       "    <tr>\n",
       "      <th>58</th>\n",
       "      <td>SZ#000906</td>\n",
       "      <td>0.01</td>\n",
       "    </tr>\n",
       "    <tr>\n",
       "      <th>412</th>\n",
       "      <td>SZ#002054</td>\n",
       "      <td>0.08</td>\n",
       "    </tr>\n",
       "    <tr>\n",
       "      <th>79</th>\n",
       "      <td>SZ#000903</td>\n",
       "      <td>0.10</td>\n",
       "    </tr>\n",
       "  </tbody>\n",
       "</table>\n",
       "</div>"
      ],
      "text/plain": [
       "        symbol  avg_year_return\n",
       "201  SZ#002073            -0.70\n",
       "174  SZ#000088            -0.57\n",
       "125  SZ#000899            -0.56\n",
       "48   SZ#000671            -0.54\n",
       "330  SZ#000055            -0.47\n",
       "576  SZ#000025            -0.47\n",
       "72   SZ#000155            -0.46\n",
       "451  SZ#000037            -0.37\n",
       "203  SZ#000889            -0.37\n",
       "665  SZ#002032            -0.33\n",
       "341  SZ#000050            -0.21\n",
       "553  SZ#000606            -0.19\n",
       "495  SZ#000611            -0.09\n",
       "758  SZ#000810            -0.08\n",
       "196  SZ#000070            -0.08\n",
       "306  SZ#000632            -0.01\n",
       "515  SZ#000837             0.00\n",
       "58   SZ#000906             0.01\n",
       "412  SZ#002054             0.08\n",
       "79   SZ#000903             0.10"
      ]
     },
     "execution_count": 39,
     "metadata": {},
     "output_type": "execute_result"
    }
   ],
   "source": [
    "\n",
    "avg_return_00_count = avg_year_return_df_00[avg_year_return_df_00['avg_year_return']>10].shape[0]\n",
    "avg_return_10_count = avg_year_return_df_10[avg_year_return_df_10['avg_year_return']>10].shape[0]\n",
    "\n",
    "print('avg_return_00_count ' +str(avg_return_00_count)+' total:'+str(avg_year_return_df_00.shape[0]))\n",
    "print('avg_return_10_count ' +str(avg_return_10_count)+' total:'+str(avg_year_return_df_10.shape[0]))\n",
    "\n",
    "\n"
   ]
  },
  {
   "cell_type": "code",
   "execution_count": null,
   "metadata": {},
   "outputs": [],
   "source": []
  },
  {
   "cell_type": "code",
   "execution_count": null,
   "metadata": {},
   "outputs": [],
   "source": []
  },
  {
   "cell_type": "code",
   "execution_count": null,
   "metadata": {},
   "outputs": [],
   "source": []
  },
  {
   "cell_type": "code",
   "execution_count": 16,
   "metadata": {},
   "outputs": [
    {
     "data": {
      "text/plain": [
       "[<matplotlib.lines.Line2D at 0x7fb9205d8cc0>]"
      ]
     },
     "execution_count": 16,
     "metadata": {},
     "output_type": "execute_result"
    },
    {
     "data": {
      "text/plain": [
       "[<matplotlib.lines.Line2D at 0x7fb920576198>]"
      ]
     },
     "execution_count": 16,
     "metadata": {},
     "output_type": "execute_result"
    },
    {
     "data": {
      "image/png": "[encoded data removed]",
      "text/plain": [
       "<Figure size 1296x864 with 1 Axes>"
      ]
     },
     "metadata": {
      "needs_background": "light"
     },
     "output_type": "display_data"
    }
   ],
   "source": [
    "# evaluation_df = evaluation_df[(evaluation_df['year_regular_return']>-50) & (evaluation_df['year_regular_return']<50)]\n",
    "# evaluation_df = evaluation_df[abs(evaluation_df['year_regular_return'])>10]\n",
    "\n",
    "\n",
    "y = evaluation_df[evaluation_df['start_date']=='2000-01-01']['year_regular_return']\n",
    "x = range(0,len(y))\n",
    "plt.rc('figure', figsize=(18,12))\n",
    "plt.plot(x,y,c='r')\n",
    "\n",
    "y = evaluation_df[evaluation_df['start_date']=='2010-01-01']['year_regular_return']\n",
    "x = range(0,len(y))\n",
    "plt.rc('figure', figsize=(18,12))\n",
    "plt.plot(x,y,c='g')\n",
    "\n",
    "plt.show()"
   ]
  },
  {
   "cell_type": "code",
   "execution_count": 14,
   "metadata": {
    "scrolled": false
   },
   "outputs": [
    {
     "data": {
      "text/html": [
       "<div>\n",
       "<style scoped>\n",
       "    .dataframe tbody tr th:only-of-type {\n",
       "        vertical-align: middle;\n",
       "    }\n",
       "\n",
       "    .dataframe tbody tr th {\n",
       "        vertical-align: top;\n",
       "    }\n",
       "\n",
       "    .dataframe thead th {\n",
       "        text-align: right;\n",
       "    }\n",
       "</style>\n",
       "<table border=\"1\" class=\"dataframe\">\n",
       "  <thead>\n",
       "    <tr style=\"text-align: right;\">\n",
       "      <th></th>\n",
       "    </tr>\n",
       "  </thead>\n",
       "  <tbody>\n",
       "    <tr>\n",
       "      <th>symbol</th>\n",
       "    </tr>\n",
       "    <tr>\n",
       "      <th>start_date</th>\n",
       "    </tr>\n",
       "    <tr>\n",
       "      <th>end_date</th>\n",
       "    </tr>\n",
       "    <tr>\n",
       "      <th>policy_name</th>\n",
       "    </tr>\n",
       "    <tr>\n",
       "      <th>short</th>\n",
       "    </tr>\n",
       "    <tr>\n",
       "      <th>mid</th>\n",
       "    </tr>\n",
       "    <tr>\n",
       "      <th>in_hand_asset_drawdown</th>\n",
       "    </tr>\n",
       "    <tr>\n",
       "      <th>avg_drawdown</th>\n",
       "    </tr>\n",
       "    <tr>\n",
       "      <th>loss_times</th>\n",
       "    </tr>\n",
       "    <tr>\n",
       "      <th>float_profit_drawdown</th>\n",
       "    </tr>\n",
       "    <tr>\n",
       "      <th>avg_year_return</th>\n",
       "    </tr>\n",
       "    <tr>\n",
       "      <th>year_regular_return</th>\n",
       "    </tr>\n",
       "    <tr>\n",
       "      <th>mean_year_return</th>\n",
       "    </tr>\n",
       "    <tr>\n",
       "      <th>std_year_return</th>\n",
       "    </tr>\n",
       "    <tr>\n",
       "      <th>mean_month_return</th>\n",
       "    </tr>\n",
       "    <tr>\n",
       "      <th>std_month_return</th>\n",
       "    </tr>\n",
       "    <tr>\n",
       "      <th>profit_month_rate</th>\n",
       "    </tr>\n",
       "    <tr>\n",
       "      <th>win_rate</th>\n",
       "    </tr>\n",
       "    <tr>\n",
       "      <th>mar</th>\n",
       "    </tr>\n",
       "    <tr>\n",
       "      <th>sharp</th>\n",
       "    </tr>\n",
       "    <tr>\n",
       "      <th>rar</th>\n",
       "    </tr>\n",
       "    <tr>\n",
       "      <th>deal_count</th>\n",
       "    </tr>\n",
       "    <tr>\n",
       "      <th>scale_start</th>\n",
       "    </tr>\n",
       "    <tr>\n",
       "      <th>scale_end</th>\n",
       "    </tr>\n",
       "  </tbody>\n",
       "</table>\n",
       "</div>"
      ],
      "text/plain": [
       "Empty DataFrame\n",
       "Columns: []\n",
       "Index: [symbol, start_date, end_date, policy_name, short, mid, in_hand_asset_drawdown, avg_drawdown, loss_times, float_profit_drawdown, avg_year_return, year_regular_return, mean_year_return, std_year_return, mean_month_return, std_month_return, profit_month_rate, win_rate, mar, sharp, rar, deal_count, scale_start, scale_end]"
      ]
     },
     "execution_count": 14,
     "metadata": {},
     "output_type": "execute_result"
    }
   ],
   "source": [
    "evaluation_df[evaluation_df['year_regular_return']>50].T"
   ]
  },
  {
   "cell_type": "code",
   "execution_count": null,
   "metadata": {},
   "outputs": [],
   "source": []
  }
 ],
 "metadata": {
  "kernelspec": {
   "display_name": "Python 3",
   "language": "python",
   "name": "python3"
  },
  "language_info": {
   "codemirror_mode": {
    "name": "ipython",
    "version": 3
   },
   "file_extension": ".py",
   "mimetype": "text/x-python",
   "name": "python",
   "nbconvert_exporter": "python",
   "pygments_lexer": "ipython3",
   "version": "3.6.8"
  }
 },
 "nbformat": 4,
 "nbformat_minor": 2
}
