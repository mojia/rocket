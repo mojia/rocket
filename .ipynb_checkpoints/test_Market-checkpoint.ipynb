{
 "cells": [
  {
   "cell_type": "code",
   "execution_count": 15,
   "metadata": {
    "scrolled": false
   },
   "outputs": [
    {
     "name": "stdout",
     "output_type": "stream",
     "text": [
      "2015-05-22 is_strong_market True\n",
      "2015-05-22 is_week_market False\n",
      "\n",
      "2015-06-19 is_strong_market True\n",
      "2015-06-19 is_week_market False\n",
      "\n",
      "2015-06-26 is_strong_market True\n",
      "2015-06-26 is_week_market False\n",
      "\n",
      "2015-07-03 is_strong_market False\n",
      "2015-07-03 is_week_market False\n",
      "\n",
      "2015-07-10 is_strong_market False\n",
      "2015-07-10 is_week_market False\n",
      "\n",
      "2015-07-17 is_strong_market False\n",
      "2015-07-17 is_week_market False\n",
      "\n",
      "2015-07-24 is_strong_market False\n",
      "2015-07-24 is_week_market False\n",
      "\n",
      "2015-07-31 is_strong_market False\n",
      "2015-07-31 is_week_market False\n",
      "\n",
      "2015-08-07 is_strong_market False\n",
      "2015-08-07 is_week_market False\n",
      "\n",
      "2015-08-21 is_strong_market False\n",
      "2015-08-21 is_week_market False\n",
      "\n",
      "2015-08-28 is_strong_market False\n",
      "2015-08-28 is_week_market False\n",
      "\n",
      "2015-09-04 is_strong_market False\n",
      "2015-09-04 is_week_market False\n",
      "\n",
      "2015-09-11 is_strong_market False\n",
      "2015-09-11 is_week_market True\n",
      "\n",
      "2015-09-18 is_strong_market False\n",
      "2015-09-18 is_week_market True\n",
      "\n",
      "2015-09-25 is_strong_market False\n",
      "2015-09-25 is_week_market True\n",
      "\n"
     ]
    }
   ],
   "source": [
    "%run Market.ipynb\n",
    "\n",
    "market = Market(30,60)\n",
    "\n",
    "for date in ['2015-05-22','2015-06-19','2015-06-26','2015-07-03','2015-07-10','2015-07-17',\n",
    "             '2015-07-24','2015-07-31','2015-08-07','2015-08-21','2015-08-28',\n",
    "             '2015-09-04','2015-09-11','2015-09-18','2015-09-25']:\n",
    "    print(date +' is_strong_market ' + str(market.is_strong_market(date)))\n",
    "    print(date +' is_week_market ' + str(market.is_week_market(date)))\n",
    "    print()\n",
    "\n",
    "\n"
   ]
  },
  {
   "cell_type": "code",
   "execution_count": 13,
   "metadata": {},
   "outputs": [
    {
     "data": {
      "text/plain": [
       "'2015-09-11'"
      ]
     },
     "execution_count": 13,
     "metadata": {},
     "output_type": "execute_result"
    }
   ],
   "source": [
    "%run Market.ipynb\n",
    "\n",
    "market = Market(30,60)\n",
    "\n",
    "market.convert_to_week_k_cur_date('2015-09-10')"
   ]
  },
  {
   "cell_type": "code",
   "execution_count": null,
   "metadata": {},
   "outputs": [],
   "source": []
  }
 ],
 "metadata": {
  "kernelspec": {
   "display_name": "ai",
   "language": "python",
   "name": "ai"
  },
  "language_info": {
   "codemirror_mode": {
    "name": "ipython",
    "version": 3
   },
   "file_extension": ".py",
   "mimetype": "text/x-python",
   "name": "python",
   "nbconvert_exporter": "python",
   "pygments_lexer": "ipython3",
   "version": "3.6.6"
  }
 },
 "nbformat": 4,
 "nbformat_minor": 2
}
