{
 "cells": [
  {
   "cell_type": "code",
   "execution_count": 1,
   "metadata": {},
   "outputs": [],
   "source": [
    "%run Metric.ipynb\n",
    "%run BreakSectionManager.ipynb\n",
    "\n",
    "\n",
    "class BreakHighestAnalyser:\n",
    "    cate_single_level_sections = 'single_level'\n",
    "    cate_resonate_on_week_and_day = 'resonate_WD'\n",
    "    \n",
    "    def __init__(self,scale,level,short,mid):\n",
    "        self.scale = scale\n",
    "        self.level = level\n",
    "        self.short = short\n",
    "        self.mid = mid\n",
    "        \n",
    "        self.symbols = get_symbols(scale)\n",
    "\n",
    "        \n",
    "    def build_sections_file_path(self, cate):\n",
    "        return beak_sections_of_multip_symbols_dir + cate +'_'+str(self.short) +'_'+str(self.mid) +'_'+self.level +'_'+str(self.scale)+ '_all_sections_' + break_section_version+'.txt'\n",
    "        \n",
    "    def get_all_sections_of_all_symbols(self):\n",
    "        file_path = self.build_sections_file_path(self.cate_single_level_sections)\n",
    "        \n",
    "        all_sections_df = pd.DataFrame(columns=break_section_columns)\n",
    "\n",
    "        if(os.path.exists(file_path)):\n",
    "            all_sections_df = pd.read_csv(file_path)\n",
    "        else:\n",
    "            for i in range(0, len(self.symbols)):\n",
    "                sectionManager = BreakSectionManager(self.symbols[i], self.level, self.short, self.mid)\n",
    "                temp_section = sectionManager.get_all_break_sections()\n",
    "\n",
    "                all_sections_df = pd.concat([temp_section,all_sections_df], ignore_index=True, sort=False)\n",
    "\n",
    "            all_sections_df.to_csv(file_path, index=0)\n",
    "        \n",
    "        print('get_all_sections_of_all_symbols done total:' + str(all_sections_df.shape[0]))\n",
    "        return all_sections_df\n",
    "        "
   ]
  },
  {
   "cell_type": "code",
   "execution_count": null,
   "metadata": {},
   "outputs": [],
   "source": []
  }
 ],
 "metadata": {
  "kernelspec": {
   "display_name": "ai",
   "language": "python",
   "name": "ai"
  },
  "language_info": {
   "codemirror_mode": {
    "name": "ipython",
    "version": 3
   },
   "file_extension": ".py",
   "mimetype": "text/x-python",
   "name": "python",
   "nbconvert_exporter": "python",
   "pygments_lexer": "ipython3",
   "version": "3.6.6"
  }
 },
 "nbformat": 4,
 "nbformat_minor": 2
}
