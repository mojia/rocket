{
 "cells": [
  {
   "cell_type": "code",
   "execution_count": null,
   "metadata": {},
   "outputs": [],
   "source": [
    "import pandas as pd\n",
    "\n",
    "\n",
    "data = pd.DataFrame(columns=['date','profit_rate','account_money','year'])\n",
    "\n",
    "data.loc[data.shape[0]]=['2004-05-13',0,100000,2004]\n",
    "data.loc[data.shape[0]]=['2004-07-30',-6.84932,97070,2004]\n",
    "data.loc[data.shape[0]]=['2004-09-27',-6.42202,94403,2004]\n",
    "data.loc[data.shape[0]]=['2004-12-14',-4.58716,92548,2004]\n",
    "\n",
    "data.loc[data.shape[0]]=['2005-01-31',-11.5044,87985,2005]\n",
    "data.loc[data.shape[0]]=['2005-01-31',-11.5044,87985,2005]\n",
    "data.loc[data.shape[0]]=['2005-03-14',-5.40541,85951,2005]\n",
    "data.loc[data.shape[0]]=['2006-06-04',-7.40541,81951,2006]\n",
    "\n",
    "\n",
    "data"
   ]
  },
  {
   "cell_type": "code",
   "execution_count": null,
   "metadata": {
    "scrolled": false
   },
   "outputs": [],
   "source": [
    "import pandas as pd\n",
    "dir = '/Users/xinwang/stock/data/day/'\n",
    "file_name=  'day_report_df.csv'\n",
    "\n",
    "sections = pd.read_csv(dir+file_name)\n",
    "\n",
    "sections['ampl'].shape"
   ]
  },
  {
   "cell_type": "code",
   "execution_count": null,
   "metadata": {},
   "outputs": [],
   "source": [
    "bins = [-100,0,20,40,60,70,90,120,150,500]\n",
    "cuts = pd.cut(sections['ampl'], bins)\n",
    "\n",
    "def get_status(group):\n",
    "    return {\n",
    "        'count':group.count()*100.0/1942\n",
    "    }\n",
    "    \n",
    "\n",
    "bins_count = sections['ampl'].groupby(cuts).apply(get_status).unstack()\n",
    "bins_count"
   ]
  },
  {
   "cell_type": "code",
   "execution_count": null,
   "metadata": {},
   "outputs": [],
   "source": [
    "sections[(sections['ampl']<=10) & (sections['ampl']>0)].shape"
   ]
  },
  {
   "cell_type": "code",
   "execution_count": null,
   "metadata": {},
   "outputs": [],
   "source": [
    "114*100.0/sections.shape[0]"
   ]
  },
  {
   "cell_type": "code",
   "execution_count": null,
   "metadata": {},
   "outputs": [],
   "source": [
    "sections.shape[0]"
   ]
  },
  {
   "cell_type": "code",
   "execution_count": null,
   "metadata": {},
   "outputs": [],
   "source": [
    "from datetime import datetime\n",
    "datetime.now().strftime('%Y-%m-%d_%H:%M')"
   ]
  },
  {
   "cell_type": "code",
   "execution_count": 4,
   "metadata": {
    "scrolled": false
   },
   "outputs": [
    {
     "name": "stdout",
     "output_type": "stream",
     "text": [
      "<class 'pandas.core.frame.DataFrame'>\n",
      "RangeIndex: 422 entries, 0 to 421\n",
      "Data columns (total 8 columns):\n",
      "date        422 non-null object\n",
      "open        373 non-null float64\n",
      "high        373 non-null float64\n",
      "low         373 non-null float64\n",
      "close       373 non-null float64\n",
      "volume      422 non-null int64\n",
      "amount      422 non-null float64\n",
      "datetime    422 non-null datetime64[ns]\n",
      "dtypes: datetime64[ns](1), float64(5), int64(1), object(1)\n",
      "memory usage: 26.5+ KB\n"
     ]
    }
   ],
   "source": [
    "import pandas as pd\n",
    "import datetime as dt\n",
    "\n",
    "day_dir='/Users/xinwang/stock/data/day/'\n",
    "file_name='D_SZ#300168.txt'\n",
    "\n",
    "k_columns = ['date','open','high','low','close','volume','amount']\n",
    "\n",
    "stock_data = pd.read_csv(day_dir+file_name,header=None, names=k_columns)\n",
    "\n",
    "period_type = 'W'\n",
    "stock_data['date'] = pd.to_datetime(stock_data['date'])\n",
    "\n",
    "stock_data.set_index('date',inplace=True)\n",
    "\n",
    "w_data = stock_data.resample(period_type).last()\n",
    "\n",
    "w_data['open'] = stock_data['open'].resample(period_type).first()\n",
    "w_data['high'] = stock_data['high'].resample(period_type).max()\n",
    "w_data['low'] = stock_data['low'].resample(period_type).min()\n",
    "w_data['volume'] = stock_data['volume'].resample(period_type).sum()\n",
    "w_data['amount'] = stock_data['amount'].resample(period_type).sum()\n",
    "\n",
    "w_data.reset_index(inplace=True)\n",
    "w_data['date'] = w_data['date'].apply(lambda x: x + dt.timedelta(days = -2))\n",
    "w_data['datetime'] = w_data['date']\n",
    "w_data['date'] = w_data['date'].apply(lambda x: x.strftime('%Y-%m-%d'))\n",
    "\n",
    "w_data.info()\n"
   ]
  },
  {
   "cell_type": "code",
   "execution_count": 11,
   "metadata": {},
   "outputs": [],
   "source": [
    "import pandas as pd\n",
    "import datetime as dt\n",
    "\n",
    "report_dir='/Users/xinwang/stock/data/report/'\n",
    "report_columns = ['symbol','s_date','e_date','ampl','ma_per','periods']\n",
    "\n",
    "day_report_df = pd.read_csv(report_dir+'day_report_df.csv')\n",
    "week_report_df = pd.read_csv(report_dir+'week_report_df.csv')\n",
    "\n"
   ]
  },
  {
   "cell_type": "code",
   "execution_count": 27,
   "metadata": {},
   "outputs": [
    {
     "name": "stdout",
     "output_type": "stream",
     "text": [
      "2010-08-12 up boll:11.38652704066211 low boll:9.95347295933789\n",
      "2010-08-12 False\n",
      "\n",
      "2010-08-13 up boll:11.350789980896971 low boll:10.08921001910303\n",
      "2010-08-13 True\n",
      "\n",
      "2010-08-16 up boll:11.324910612398103 low boll:10.195089387601897\n",
      "2010-08-16 True\n",
      "\n",
      "2010-08-17 up boll:11.3309566837323 low boll:10.269043316267702\n",
      "2010-08-17 True\n",
      "\n",
      "2010-08-18 up boll:11.281265226366186 low boll:10.398734773633814\n",
      "2010-08-18 True\n",
      "\n",
      "2010-08-19 up boll:11.239136464314056 low boll:10.520863535685946\n",
      "2010-08-19 True\n",
      "\n",
      "2010-08-20 up boll:11.25440083246528 low boll:10.485599167534719\n",
      "2010-08-20 False\n",
      "\n",
      "2010-08-23 up boll:11.28085960590429 low boll:10.41914039409571\n",
      "2010-08-23 False\n",
      "\n"
     ]
    }
   ],
   "source": [
    "import pandas as pd\n",
    "import numpy as np\n",
    "\n",
    "day_dir='/Users/xinwang/stock/data/day/'\n",
    "k_columns = ['date','open','high','low','close','volume','amount']\n",
    "\n",
    "data = pd.read_csv(day_dir+'D_SZ#002386.txt',header=None, names=k_columns)\n",
    "\n",
    "def previous_series(cur_date,latest_n):\n",
    "    cur_index = data[data['date']==cur_date].index.values[0]\n",
    "    start_index = cur_index.astype(int)-latest_n+1\n",
    "\n",
    "    latest_part = data[start_index:cur_index+1]\n",
    "\n",
    "    return latest_part\n",
    "\n",
    "def ma(cur_date,periods):\n",
    "    periods_part = previous_series(cur_date, periods)['close']\n",
    "    return round(periods_part.mean(),2)\n",
    "\n",
    "def std(cur_date, periods):\n",
    "    periods_part = previous_series(cur_date, periods)['close']\n",
    "    return np.std(periods_part)\n",
    "\n",
    "\n",
    "#     {参数 N: 2，250，20 }\n",
    "# BOLL:MA(CLOSE,M); UB:BOLL+2*STD(CLOSE,M); LB:BOLL-2*STD(CLOSE,M);\n",
    "def boll(cur_date):\n",
    "    M=20\n",
    "    price = data[data['date']==cur_date]['close'].values[0]\n",
    "\n",
    "    boll = ma(cur_date, M)\n",
    "    up_boll = boll + 2 * std(cur_date,M)\n",
    "    low_boll = boll - 2 * std(cur_date,M)\n",
    "    print(cur_date+ ' up boll:'+str(up_boll) +' low boll:'+str(low_boll))\n",
    "    return boll\n",
    "        \n",
    "\n",
    "def is_on_boll(cur_date):\n",
    "    boll_value = boll(cur_date)\n",
    "    \n",
    "    price = data[data['date']==cur_date]['close'].values[0]\n",
    "    \n",
    "    if(price>boll_value):\n",
    "        return True\n",
    "    else:\n",
    "        return False\n",
    "        \n",
    "for date in ['2010-08-12','2010-08-13','2010-08-16','2010-08-17','2010-08-18',\n",
    "            '2010-08-19','2010-08-20','2010-08-23']:\n",
    "    print(date +' '+ str(is_on_boll(date)))\n",
    "    print()\n"
   ]
  },
  {
   "cell_type": "code",
   "execution_count": null,
   "metadata": {},
   "outputs": [],
   "source": []
  }
 ],
 "metadata": {
  "kernelspec": {
   "display_name": "ai",
   "language": "python",
   "name": "ai"
  },
  "language_info": {
   "codemirror_mode": {
    "name": "ipython",
    "version": 3
   },
   "file_extension": ".py",
   "mimetype": "text/x-python",
   "name": "python",
   "nbconvert_exporter": "python",
   "pygments_lexer": "ipython3",
   "version": "3.6.6"
  }
 },
 "nbformat": 4,
 "nbformat_minor": 2
}
