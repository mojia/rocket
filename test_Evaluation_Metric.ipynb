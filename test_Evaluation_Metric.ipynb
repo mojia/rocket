{
 "cells": [
  {
   "cell_type": "code",
   "execution_count": 74,
   "metadata": {},
   "outputs": [
    {
     "data": {
      "text/plain": [
       "60.0"
      ]
     },
     "execution_count": 74,
     "metadata": {},
     "output_type": "execute_result"
    }
   ],
   "source": [
    "%run Evaluation_Metric.ipynb\n",
    "\n",
    "\n",
    "array=[1,2,3,4,5,2,4,6,8,10,8,9]\n",
    "metric = Evaluation_Metric(None)\n",
    "drawdown = metric.max_drawdown_per(array)\n",
    "drawdown"
   ]
  },
  {
   "cell_type": "code",
   "execution_count": 11,
   "metadata": {},
   "outputs": [
    {
     "data": {
      "text/plain": [
       "5"
      ]
     },
     "execution_count": 11,
     "metadata": {},
     "output_type": "execute_result"
    }
   ],
   "source": [
    "%run Evaluation_Metric.ipynb\n",
    "\n",
    "\n",
    "metric = Evaluation_Metric(None)\n",
    "profits=[2,-1,-2,-3,4,5,-1,-3,6,-1,-2,-1,-2,-4,1,9,8]\n",
    "loss_times = metric.continue_loss_times(profits)\n",
    "loss_times"
   ]
  },
  {
   "cell_type": "code",
   "execution_count": 71,
   "metadata": {
    "scrolled": false
   },
   "outputs": [
    {
     "name": "stdout",
     "output_type": "stream",
     "text": [
      "last_days_array [5, 3, 13, 40, 7, 17, 2, 4, 1, 1, 3, 6, 1, 3, 2, 2, 1, 3]\n",
      "avg drawdown 23.3333333333\n",
      "max_drawdown 57.17\n"
     ]
    }
   ],
   "source": [
    "%run Evaluation_Metric.ipynb\n",
    "%run Constant.ipynb\n",
    "%run Account.ipynb\n",
    "\n",
    "policy_name = 'rocket_break_baseline.json'\n",
    "policy_loader = Policy_Loader(policy_name)\n",
    "context = policy_loader.get_context()\n",
    "        \n",
    "\n",
    "account = Account('','',context,policy_name)\n",
    "asset_df = pd.read_csv(report_dir+'SZ#000573_10_240_Day_account_asset.csv')\n",
    "account.asset = asset_df\n",
    "\n",
    "metric = Evaluation_Metric(account)\n",
    "print('avg drawdown ' + str(metric.avg_max_drawdown_days()))\n",
    "\n",
    "max_drawdown = metric.max_drawdown()\n",
    "print('max_drawdown ' + str(max_drawdown))"
   ]
  },
  {
   "cell_type": "code",
   "execution_count": 80,
   "metadata": {},
   "outputs": [
    {
     "name": "stdout",
     "output_type": "stream",
     "text": [
      "cagr_array:[23.399999999999999, 77.200000000000003, 45.799999999999997, 29.100000000000001, 16.5, 12.199999999999999, 15.0, 12.1]\n"
     ]
    },
    {
     "data": {
      "text/plain": [
       "-599.40476190476193"
      ]
     },
     "execution_count": 80,
     "metadata": {},
     "output_type": "execute_result"
    }
   ],
   "source": [
    "%run Evaluation_Metric.ipynb\n",
    "%run Constant.ipynb\n",
    "%run Account.ipynb\n",
    "\n",
    "policy_name = 'rocket_break_baseline.json'\n",
    "policy_loader = Policy_Loader(policy_name)\n",
    "context = policy_loader.get_context()\n",
    "        \n",
    "\n",
    "account = Account('','',context,policy_name)\n",
    "asset_df = pd.read_csv(report_dir+'SZ#000573_10_240_Day_account_asset.csv')\n",
    "account.asset = asset_df\n",
    "\n",
    "metric = Evaluation_Metric(account)\n",
    "metric.get_RAR()\n"
   ]
  },
  {
   "cell_type": "code",
   "execution_count": 65,
   "metadata": {},
   "outputs": [
    {
     "name": "stdout",
     "output_type": "stream",
     "text": [
      "year_asset_value_array [100000.0, 123407.0, 313935.0, 309668.0, 278150.0, 214454.0, 199469.0, 266247.0, 249003.0]\n"
     ]
    },
    {
     "data": {
      "text/plain": [
       "[23.399999999999999,\n",
       " 77.200000000000003,\n",
       " 45.799999999999997,\n",
       " 29.100000000000001,\n",
       " 16.5,\n",
       " 12.199999999999999,\n",
       " 15.0,\n",
       " 12.1]"
      ]
     },
     "execution_count": 65,
     "metadata": {},
     "output_type": "execute_result"
    }
   ],
   "source": [
    "%run Evaluation_Metric.ipynb\n",
    "%run Constant.ipynb\n",
    "%run Account.ipynb\n",
    "\n",
    "policy_name = 'rocket_break_baseline.json'\n",
    "policy_loader = Policy_Loader(policy_name)\n",
    "context = policy_loader.get_context()\n",
    "        \n",
    "\n",
    "account = Account('','',context,policy_name)\n",
    "asset_df = pd.read_csv(report_dir+'SZ#000573_10_240_Day_account_asset.csv')\n",
    "account.asset = asset_df\n",
    "\n",
    "metric = Evaluation_Metric(account)\n",
    "metric.get_CAGR_array()"
   ]
  },
  {
   "cell_type": "code",
   "execution_count": 75,
   "metadata": {
    "scrolled": false
   },
   "outputs": [
    {
     "name": "stdout",
     "output_type": "stream",
     "text": [
      "drawndown_array [ 57.16841667  57.16841667  56.70076708  56.70076708  56.54488389\n",
      "  55.99929271  55.66426017  55.28734857  55.28734857  55.28734857\n",
      "  54.75222715  54.72198116  54.72198116  54.72198116  54.43929746\n",
      "  54.43929746  53.59124634  53.49701844  53.40279054  53.02587894\n",
      "  52.93165104  52.56986243  52.49192083  52.17782783  51.86838805\n",
      "  51.42400462  50.104814    50.104814    47.73748339  47.6595418\n",
      "  46.95806742  46.56835943  46.25659304  46.17865145  45.94482666\n",
      "  45.86688506  45.83314914  45.47089521  45.32129388  44.7757027\n",
      "  44.46393631  44.38599471  43.84040353  43.68452033  43.37275394\n",
      "  43.29481235  43.29481235  43.21687075  43.06098755  42.74922117\n",
      "  42.51539637  42.28157158  42.20362998  42.06659237  41.6580388\n",
      "  41.58009721  41.57241938  41.51751127  41.40769505  41.40769505\n",
      "  41.02333827  41.02333827  40.72273964  40.72273964  40.69388961\n",
      "  40.48891484  40.17714845  39.74602672  39.74602672  39.70554363\n",
      "  39.67390166  39.63155727  38.46243331  38.32446505  38.18952139\n",
      "  38.15066692  38.05457773  38.05457773  37.83866787  37.83866787\n",
      "  37.78469041  37.76095894  37.28958677  37.1099721   36.90523     36.70118588\n",
      "  36.30031014  36.20212699  35.96108969  35.96108969  35.82591337\n",
      "  35.82591337  35.73447741  35.73447741  35.69306366  35.55556073\n",
      "  35.35570451  35.28520808  35.28520808  35.01485544  35.01485544\n",
      "  34.87967911  34.48741185  33.79826853  33.79826853  33.70799588\n",
      "  33.60143692  33.31828789  33.12238692  32.98465132  32.85203428\n",
      "  32.72430312  32.58168163  32.31132899  32.14916393  32.14916393\n",
      "  32.12543246  31.84716932  31.83437294  31.7706237   31.50027105\n",
      "  31.22991841  31.11544896  31.09427676  30.97003553  30.82415678\n",
      "  30.74621518  30.74621518  30.43444879  30.32090999  30.06312106\n",
      "  29.98727342  29.81091601  29.35420152  29.3144164   29.26532483\n",
      "  28.80977364  28.64179205  28.64155939  28.47334514  28.38749305\n",
      "  28.3835378   28.30513088  28.30513088  28.23370381  27.95218341\n",
      "  27.95218341  27.63227387  27.29584536  27.29584536  27.16299566\n",
      "  26.95941686  26.95941686  26.82610183  26.77119372  26.32518165\n",
      "  25.98154064  25.78191708  25.16513149  25.13697945  24.57393866\n",
      "  24.09977455  23.55395071  23.02557648  22.58584627  22.46253568\n",
      "  22.18101529  22.18101529  21.6179745   20.63265311  20.39906098\n",
      "  20.35113271  19.92885212  19.92885212  19.50657152  19.12353106\n",
      "  18.64781798  18.54870419  18.38048994  18.38048994  18.16242306\n",
      "  17.20131505  16.86656166  16.56057639  16.56057639  16.19370465\n",
      "  16.02549039  15.91983772  15.52084763  15.52084763  15.52084763\n",
      "  15.35263338  15.35263338  15.27909905  15.18441913  15.01620487\n",
      "  15.00896725  14.67977637  14.63836038  14.34334786  14.34334786\n",
      "  14.31799105  13.67725238  13.67049085  13.67049085  13.64451568\n",
      "  13.37162537  13.35688304  13.09873505  13.03651371  12.82941958\n",
      "  12.82941958  12.39577504  12.39577504  12.39577504  12.07540571\n",
      "  12.07540571  11.75503637  11.75503637  11.66930081  11.43466704\n",
      "  11.14727705  11.11429771  10.97906279  10.64272223  10.36983192\n",
      "  10.12310119  10.0969416    9.76636821   9.66363973   9.51245104\n",
      "   9.33278088   9.23966086   9.22297442   8.63947957   8.26385003\n",
      "   8.26385003   8.2309737    8.0226443    7.88822048   7.88822048\n",
      "   7.87214862   7.65797865   7.36803847   7.2698657    7.15513201\n",
      "   6.91723082   6.82225784   6.5639817    6.54936753   6.54936753\n",
      "   6.53294662   6.53294022   6.53294022   6.38570229   6.38570229\n",
      "   6.14864962   5.75254419   5.6344432    5.38006841   5.38006841\n",
      "   5.3382481    5.22958563   5.1093679    4.91202564   4.88318411\n",
      "   4.64641395   4.63913533   4.55832063   4.50755456   4.50755456\n",
      "   4.35529775   4.22719661   3.82046439   3.66070994   3.66070994\n",
      "   3.52852238   3.50322531   3.48932442   3.25248977   3.16727398\n",
      "   3.07432481   3.05246579   3.00179345   2.92363752   2.78784837\n",
      "   2.59947468   2.4363646    2.30574361   2.25377728   2.25377728\n",
      "   2.18312251   2.02181364   1.94909168   1.87814773   1.86928094\n",
      "   1.56887569   1.5371624    1.50251819   1.45826589   1.36599333\n",
      "   0.99888226   0.93327809   0.88782057   0.78056762   0.7685812\n",
      "   0.62218539   0.51155466   0.39028381   0.3842906    0.3110927\n",
      "   0.27289031   0.16682025   0.           0.           0.           0.           0.\n",
      "   0.           0.           0.           0.           0.           0.           0.\n",
      "   0.           0.           0.           0.           0.           0.           0.\n",
      "   0.           0.           0.           0.           0.           0.           0.\n",
      "   0.           0.           0.           0.           0.           0.           0.\n",
      "   0.           0.           0.           0.           0.           0.           0.\n",
      "   0.           0.           0.           0.           0.        ]\n",
      "drawndown_array [ 57.16841667  57.16841667  56.70076708  56.70076708  56.54488389\n",
      "  55.99929271  55.66426017  55.28734857  55.28734857  55.28734857\n",
      "  54.75222715  54.72198116  54.72198116  54.72198116  54.43929746\n",
      "  54.43929746  53.59124634  53.49701844  53.40279054  53.02587894\n",
      "  52.93165104  52.56986243  52.49192083  52.17782783  51.86838805\n",
      "  51.42400462  50.104814    50.104814    47.73748339  47.6595418\n",
      "  46.95806742  46.56835943  46.25659304  46.17865145  45.94482666\n",
      "  45.86688506  45.83314914  45.47089521  45.32129388  44.7757027\n",
      "  44.46393631  44.38599471  43.84040353  43.68452033  43.37275394\n",
      "  43.29481235  43.29481235  43.21687075  43.06098755  42.74922117\n",
      "  42.51539637  42.28157158  42.20362998  42.06659237  41.6580388\n",
      "  41.58009721  41.57241938  41.51751127  41.40769505  41.40769505\n",
      "  41.02333827  41.02333827  40.72273964  40.72273964  40.69388961\n",
      "  40.48891484  40.17714845  39.74602672  39.74602672  39.70554363\n",
      "  39.67390166]\n"
     ]
    },
    {
     "data": {
      "text/plain": [
       "47.445997876750972"
      ]
     },
     "execution_count": 75,
     "metadata": {},
     "output_type": "execute_result"
    }
   ],
   "source": [
    "%run Evaluation_Metric.ipynb\n",
    "%run Constant.ipynb\n",
    "%run Account.ipynb\n",
    "\n",
    "policy_name = 'rocket_break_baseline.json'\n",
    "policy_loader = Policy_Loader(policy_name)\n",
    "context = policy_loader.get_context()\n",
    "        \n",
    "\n",
    "account = Account('','',context,policy_name)\n",
    "asset_df = pd.read_csv(report_dir+'SZ#000573_10_240_Day_account_asset.csv')\n",
    "account.asset = asset_df\n",
    "\n",
    "metric = Evaluation_Metric(account)\n",
    "metric.avg_max_drawdown()\n"
   ]
  },
  {
   "cell_type": "code",
   "execution_count": 62,
   "metadata": {},
   "outputs": [
    {
     "data": {
      "image/png": "[encoded data removed]",
      "text/plain": [
       "<Figure size 432x288 with 1 Axes>"
      ]
     },
     "metadata": {},
     "output_type": "display_data"
    },
    {
     "name": "stdout",
     "output_type": "stream",
     "text": [
      "\\drawndown_array\n",
      "[ 57.16841667  57.16841667  56.70076708  56.70076708  56.54488389\n",
      "  55.99929271  55.66426017  55.28734857  55.28734857  55.28734857\n",
      "  54.75222715  54.72198116  54.72198116  54.72198116  54.43929746\n",
      "  54.43929746  53.59124634  53.49701844  53.40279054  53.02587894\n",
      "  52.93165104  52.56986243  52.49192083  52.17782783  51.86838805\n",
      "  51.42400462  50.104814    50.104814    47.73748339  47.6595418\n",
      "  46.95806742  46.56835943  46.25659304  46.17865145  45.94482666\n",
      "  45.86688506  45.83314914  45.47089521  45.32129388  44.7757027\n",
      "  44.46393631  44.38599471  43.84040353  43.68452033  43.37275394\n",
      "  43.29481235  43.29481235  43.21687075  43.06098755  42.74922117\n",
      "  42.51539637  42.28157158  42.20362998  42.06659237  41.6580388\n",
      "  41.58009721  41.57241938  41.51751127  41.40769505  41.40769505\n",
      "  41.02333827  41.02333827  40.72273964  40.72273964  40.69388961\n",
      "  40.48891484  40.17714845  39.74602672  39.74602672  39.70554363\n",
      "  39.67390166]\n"
     ]
    },
    {
     "data": {
      "text/plain": [
       "array([-1.97622634])"
      ]
     },
     "execution_count": 62,
     "metadata": {},
     "output_type": "execute_result"
    }
   ],
   "source": [
    "%run Evaluation_Metric.ipynb\n",
    "%run Constant.ipynb\n",
    "%run Account.ipynb\n",
    "\n",
    "policy_name = 'rocket_break_baseline.json'\n",
    "policy_loader = Policy_Loader(policy_name)\n",
    "context = policy_loader.get_context()\n",
    "        \n",
    "\n",
    "account = Account('','',context,policy_name)\n",
    "asset_df = pd.read_csv(report_dir+'SZ#000573_10_240_Day_account_asset.csv')\n",
    "account.asset = asset_df\n",
    "\n",
    "metric = Evaluation_Metric(account)\n",
    "metric.get_R2()\n"
   ]
  },
  {
   "cell_type": "code",
   "execution_count": null,
   "metadata": {},
   "outputs": [],
   "source": []
  }
 ],
 "metadata": {
  "kernelspec": {
   "display_name": "Python 3",
   "language": "python",
   "name": "python3"
  },
  "language_info": {
   "codemirror_mode": {
    "name": "ipython",
    "version": 3
   },
   "file_extension": ".py",
   "mimetype": "text/x-python",
   "name": "python",
   "nbconvert_exporter": "python",
   "pygments_lexer": "ipython3",
   "version": "3.6.8"
  }
 },
 "nbformat": 4,
 "nbformat_minor": 2
}
