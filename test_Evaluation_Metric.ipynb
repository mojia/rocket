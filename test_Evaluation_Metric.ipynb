{
 "cells": [
  {
   "cell_type": "code",
   "execution_count": null,
   "metadata": {},
   "outputs": [],
   "source": [
    "%run Evaluation_Metric.ipynb\n",
    "\n",
    "\n",
    "array=[1,2,3,4,5,2,4,6,8,10,8,9]\n",
    "metric = Evaluation_Metric(None)\n",
    "drawdown = metric.max_drawdown_per(array)\n",
    "drawdown"
   ]
  },
  {
   "cell_type": "code",
   "execution_count": 11,
   "metadata": {},
   "outputs": [
    {
     "data": {
      "text/plain": [
       "5"
      ]
     },
     "execution_count": 11,
     "metadata": {},
     "output_type": "execute_result"
    }
   ],
   "source": [
    "%run Evaluation_Metric.ipynb\n",
    "\n",
    "\n",
    "metric = Evaluation_Metric(None)\n",
    "profits=[2,-1,-2,-3,4,5,-1,-3,6,-1,-2,-1,-2,-4,1,9,8]\n",
    "loss_times = metric.continue_loss_times(profits)\n",
    "loss_times"
   ]
  },
  {
   "cell_type": "code",
   "execution_count": null,
   "metadata": {},
   "outputs": [],
   "source": []
  }
 ],
 "metadata": {
  "kernelspec": {
   "display_name": "Python 3",
   "language": "python",
   "name": "python3"
  },
  "language_info": {
   "codemirror_mode": {
    "name": "ipython",
    "version": 3
   },
   "file_extension": ".py",
   "mimetype": "text/x-python",
   "name": "python",
   "nbconvert_exporter": "python",
   "pygments_lexer": "ipython3",
   "version": "3.6.8"
  }
 },
 "nbformat": 4,
 "nbformat_minor": 2
}
