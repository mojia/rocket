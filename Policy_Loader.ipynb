{
 "cells": [
  {
   "cell_type": "code",
   "execution_count": 25,
   "metadata": {},
   "outputs": [
    {
     "data": {
      "text/plain": [
       "{'short': 5, 'mid': 10, 'scale_start': 0, 'scale_end': 3, 'level': 'Day'}"
      ]
     },
     "execution_count": 25,
     "metadata": {},
     "output_type": "execute_result"
    }
   ],
   "source": [
    "import json\n",
    "\n",
    "%run Policy_Constant.ipynb\n",
    "\n",
    "\n",
    "class Policy_Loader:\n",
    "    \n",
    "    def __init__(self,policy_name):\n",
    "        self.policy_name = policy_name\n",
    "        self.data = self.load_policy()\n",
    "        \n",
    "    def enabled_log_debug(self):\n",
    "        return Debug==self.data['runtime']['Log']\n",
    "    \n",
    "    def enabled_log_info(self):\n",
    "        return Info==self.data['runtime']['Log']\n",
    "    \n",
    "    def enabled_log_error(self):\n",
    "        return Error==self.data['runtime']['Log']\n",
    "        \n",
    "    def load_policy(self):\n",
    "        with open(self.policy_name, 'r') as f:\n",
    "            data = json.load(f)\n",
    "            \n",
    "        return data\n",
    "        \n",
    "    def get_buy_approach(self):\n",
    "        return self.data['policy']['strategy']['open_position']['buy_approach']\n",
    "        \n",
    "        \n",
    "    def get_max_number_of_stocks(self):\n",
    "        return self.data['policy']['risk']['max_number_of_stocks']\n",
    "    \n",
    "    def get_init_cash(self):\n",
    "        return self.data['policy']['account']['init_cash']\n",
    "        \n",
    "    def get_context(self):\n",
    "        return self.data['policy']['context']\n",
    "    \n",
    "    def enabled_stop_loss(self):\n",
    "        return \"True\"==self.data['policy']['risk']['stop_loss']['enabled']\n",
    "    \n",
    "    def get_stop_loss_approach(self):\n",
    "        return self.data['policy']['risk']['stop_loss']['approach']\n",
    "    \n",
    "    def get_stop_loss_fixed_percent(self):\n",
    "        return self.data['policy']['risk']['stop_loss']['approach']['fixed_percent']['percent']\n",
    "\n",
    "    def enabled_stop_profit(self):\n",
    "        return \"True\"==self.data['policy']['profit']['stop_profit']['enabled']\n",
    "    \n",
    "    \n",
    "    def enable_one_account_position(self):\n",
    "        return \"True\"==self.data['policy']['risk']['enable_one_account_position']\n",
    "        \n",
    "        \n",
    "    def get_one_account_position(self,market):\n",
    "        position = self.data['policy']['risk']['one_account_position']\n",
    "        return position[market]\n",
    "    \n",
    "    def get_sell_method(self):\n",
    "        return self.data['policy']['strategy']['close_position']['sell']['method']\n",
    "        \n",
    "    def get_exec_strategy(self):\n",
    "        strategy = self.data['policy']['strategy']['stype']\n",
    "        return strategy\n",
    "        "
   ]
  },
  {
   "cell_type": "code",
   "execution_count": null,
   "metadata": {},
   "outputs": [],
   "source": []
  }
 ],
 "metadata": {
  "kernelspec": {
   "display_name": "Python 3",
   "language": "python",
   "name": "python3"
  },
  "language_info": {
   "codemirror_mode": {
    "name": "ipython",
    "version": 3
   },
   "file_extension": ".py",
   "mimetype": "text/x-python",
   "name": "python",
   "nbconvert_exporter": "python",
   "pygments_lexer": "ipython3",
   "version": "3.6.8"
  }
 },
 "nbformat": 4,
 "nbformat_minor": 2
}
