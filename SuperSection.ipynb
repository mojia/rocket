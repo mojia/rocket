{
 "cells": [
  {
   "cell_type": "code",
   "execution_count": null,
   "metadata": {},
   "outputs": [],
   "source": [
    "import pandas as pd\n",
    "\n",
    "%run SectionAnalyser.ipynb\n",
    "%run Util.ipynb\n",
    "%run Metric.ipynb\n",
    "\n",
    "\n",
    "def get_cut_bins_percent(part,short,mid):    \n",
    "    total = part.shape[0]\n",
    "    \n",
    "    per_array = [short,mid,total]\n",
    "    for i in [3,5,10,20,30,40,50,100,10000]:\n",
    "        bins=[-100,i]\n",
    "        cuts = pd.cut(part['d_enter_to_highest_incre_per'],bins)\n",
    "        \n",
    "        cuts_counts = pd.value_counts(cuts)\n",
    "        \n",
    "        max_increase_per = round(100*pd.value_counts(cuts).values[0]/total,2)\n",
    "    \n",
    "        per_array.append(max_increase_per)\n",
    "        \n",
    "    return per_array\n",
    "\n",
    "\n",
    "\n",
    "def run_max_increase_per_test(scale,short,mid):\n",
    "    sectionAnalyser = SectionAnalyser(scale, short, mid)\n",
    "\n",
    "    day_sections_df = sectionAnalyser.build_cross_resonate_on_week_and_day()\n",
    "    day_sections_df =  day_sections_df[day_sections_df['d_ma_mid_dire']=='Up']\n",
    "    day_sections_df['entry_to_max_increase_per'] = 0\n",
    "        \n",
    "    part=day_sections_df[['symbol','d_s_date','d_e_date','d_enter_to_highest_incre_per']]\n",
    "\n",
    "    per_array = get_cut_bins_percent(part,short,mid)\n",
    "    increase_df.loc[increase_df.shape[0] +1] = per_array\n",
    "    print(str(increase_df))\n",
    "    \n",
    "    \n",
    "increase_df = pd.DataFrame(columns=['ma_short','ma_mid','total','3','5','10','20','30','40','50','100','10000'])\n",
    "\n",
    "short_array = [10]\n",
    "mid_array = [120,150,180,210]\n",
    "\n",
    "scale=100\n",
    "for short in short_array:\n",
    "    for mid in mid_array:\n",
    "        if(short<mid):\n",
    "            print('run '+ str(short) +' ' + str(mid)+'\\n')\n",
    "            run_max_increase_per_test(scale,short,mid)\n",
    "\n",
    "        \n",
    "increase_df"
   ]
  },
  {
   "cell_type": "code",
   "execution_count": null,
   "metadata": {},
   "outputs": [],
   "source": []
  },
  {
   "cell_type": "code",
   "execution_count": null,
   "metadata": {},
   "outputs": [],
   "source": []
  },
  {
   "cell_type": "code",
   "execution_count": null,
   "metadata": {},
   "outputs": [],
   "source": []
  },
  {
   "cell_type": "code",
   "execution_count": null,
   "metadata": {},
   "outputs": [],
   "source": []
  },
  {
   "cell_type": "raw",
   "metadata": {},
   "source": [
    "%run SectionAnalyser.ipynb\n",
    "\n",
    "sectionAnalyser = SectionAnalyser(1, 30, 60)\n",
    "\n",
    "day_sections_df = sectionAnalyser.build_cross_resonate_on_week_and_day()\n",
    "day_sections_df"
   ]
  },
  {
   "cell_type": "code",
   "execution_count": null,
   "metadata": {},
   "outputs": [],
   "source": []
  },
  {
   "cell_type": "code",
   "execution_count": null,
   "metadata": {},
   "outputs": [],
   "source": []
  }
 ],
 "metadata": {
  "kernelspec": {
   "display_name": "ai",
   "language": "python",
   "name": "ai"
  },
  "language_info": {
   "codemirror_mode": {
    "name": "ipython",
    "version": 3
   },
   "file_extension": ".py",
   "mimetype": "text/x-python",
   "name": "python",
   "nbconvert_exporter": "python",
   "pygments_lexer": "ipython3",
   "version": "3.6.6"
  }
 },
 "nbformat": 4,
 "nbformat_minor": 2
}
