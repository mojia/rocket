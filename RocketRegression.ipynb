{
 "cells": [
  {
   "cell_type": "code",
   "execution_count": 6,
   "metadata": {
    "scrolled": false
   },
   "outputs": [],
   "source": [
    "import datetime as dt\n",
    "import time\n",
    "import logging as log\n",
    "from multiprocessing import Pool, TimeoutError\n",
    "\n",
    "%run BreakSectionManager.ipynb\n",
    "%run Util.ipynb\n",
    "%run Constant.ipynb\n",
    "%run Metric.ipynb\n",
    "%run Operation.ipynb\n",
    "%run Account.ipynb\n",
    "%run Policy_Loader.ipynb\n",
    "%run Evaluation.ipynb\n",
    "\n",
    "\n",
    "class RocketRegression:\n",
    "    \n",
    "    def __init__(self, policy_name):\n",
    "        self.policy_name = policy_name\n",
    "        self.policy_loader = Policy_Loader(self.policy_name)\n",
    "        self.debug = self.policy_loader.enabled_log_debug()\n",
    "        self.context = self.policy_loader.get_context()\n",
    "        \n",
    "        self.level = self.context['level']\n",
    "        self.short = self.context['short']\n",
    "        self.mid = self.context['mid']\n",
    "        \n",
    "    def build_operation_file_path(self,symbol,regression_end_date):\n",
    "        return report_dir+'operations_'+symbol+'_'+str(self.short)+'_'+str(self.mid)+'_'+self.level+'_'+regression_end_date+'_'+operation_version+'.csv'\n",
    "    \n",
    "    def build_deal_file_path(self,symbol,regression_end_date):\n",
    "        return report_dir+'deals_'+symbol+'_'+str(self.short)+'_'+str(self.mid)+'_'+self.level+'_'+regression_end_date+'_'+operation_version+'.csv'\n",
    "        \n",
    "    def build_asset_file_path(self,symbol,regression_end_date):\n",
    "        return report_dir+'account_asset_'+symbol+'_'+str(self.short)+'_'+str(self.mid)+'_'+self.level+'_'+regression_end_date+'_'+operation_version+'.csv'\n",
    "    \n",
    "    def persist(self,account,operation_df,symbol,regression_end_date):\n",
    "        account.get_asset_df().to_csv(self.build_asset_file_path(symbol,regression_end_date),index=False)\n",
    "        account.deal_df.to_csv(self.build_deal_file_path(symbol,regression_end_date),index=False)\n",
    "        operation_df.to_csv(self.build_operation_file_path(symbol,regression_end_date), index=False)\n",
    "        \n",
    "    \n",
    "    def start_regression_on_one_stock(self,symbol,regression_end_date):\n",
    "        start = time.time()\n",
    "        sectionManager = BreakSectionManager(symbol,self.context)\n",
    "        section_df = sectionManager.get_all_break_sections()\n",
    "        section_df = section_df[section_df['d_s_datetime']<to_datetime(regression_end_date)]\n",
    "        \n",
    "        metric = Metric(symbol,self.context)\n",
    "        \n",
    "        stock_start_date = metric.get_stock_start_date()\n",
    "        stock_end_date = metric.get_stock_end_date()\n",
    "        log.info('stock_start_date ' + stock_start_date+' stock_end_date:'+stock_end_date)\n",
    "        \n",
    "        account = Account(stock_start_date,stock_end_date,self.context,self.policy_name)\n",
    "        operation = Operation(account,symbol,self.context,self.policy_name)\n",
    "        \n",
    "        for key,row in section_df.iterrows():\n",
    "            start_date = row['d_s_date']\n",
    "            end_date = row['d_e_date']\n",
    "            \n",
    "            start_datetime = to_datetime(start_date)\n",
    "            end_datetime = to_datetime(end_date)\n",
    "\n",
    "            buy_price = metric.get_cur_price(start_date)\n",
    "            \n",
    "            if(self.debug==True):\n",
    "                print('\\n'+row['symbol']+' section '+start_date+'===>'+end_date)\n",
    "            while(start_datetime<=end_datetime):\n",
    "                cur_date = start_datetime.strftime(YMD_format)\n",
    "                \n",
    "                if(metric.is_today_open(cur_date)):\n",
    "                    account.daily_audit(cur_date)\n",
    "\n",
    "                    if(account.can_open_new_stock()==True):\n",
    "                        if(operation.is_buy_point(cur_date)==True):\n",
    "                            operation.open_opsition(cur_date)\n",
    "\n",
    "                    if(account.has_shares()==True):\n",
    "                        if(operation.is_sell_point(cur_date)==True):\n",
    "                            operation.sell_stock(cur_date)\n",
    "\n",
    "                start_datetime += dt.timedelta(days = 1)\n",
    "                \n",
    "        operation_df = operation.get_operations()\n",
    "        self.persist(account,operation_df,symbol,regression_end_date)\n",
    "        \n",
    "        evaluation = Evaluation(account,self.context,self.policy_name)\n",
    "        evaluation_df = evaluation.get_evaluation_report(symbol,stock_start_date,stock_end_date,\n",
    "                                                         operation_df)\n",
    "\n",
    "        end = time.time()\n",
    "        if(self.debug==False):\n",
    "            print(symbol+' regression cost time ' + str(round(end-start,1))+' seconds')\n",
    "        return evaluation_df\n",
    "    \n",
    "    \n",
    "    def start_sync_regression(self,scale,regression_end_date):\n",
    "        evaluation_df = pd.DataFrame(columns=evaluation_columns)\n",
    "        symbols = get_symbols(scale,home)\n",
    "        total = len(symbols) \n",
    "        \n",
    "        for symbol in symbols:\n",
    "            one_evaluation = self.start_regression_on_one_stock(symbol,regression_end_date)\n",
    "            evaluation_df = pd.concat([one_evaluation,evaluation_df], ignore_index=True, sort=False)\n",
    "           \n",
    "        \n",
    "        evaluation_df['loss_times'] =evaluation_df['loss_times'].astype('int')\n",
    "        evaluation_df['deal_count'] =evaluation_df['deal_count'].astype('int')\n",
    "        evaluation_df['r2'] =evaluation_df['r2'].astype('float')\n",
    "        evaluation_df['rar'] =evaluation_df['rar'].astype('float')\n",
    "\n",
    "        return evaluation_df\n",
    "    \n",
    "    def start_regression(self,scale,regression_end_date,process_num):\n",
    "        print('context:' + str(self.context))\n",
    "        \n",
    "        if(process_num==1):\n",
    "            return self.start_sync_regression(scale,regression_end_date)\n",
    "        \n",
    "        evaluation_df = pd.DataFrame(columns=evaluation_columns)\n",
    "        symbols = get_symbols(scale,home)\n",
    "        total = len(symbols) \n",
    "        \n",
    "        pool = Pool(processes=process_num)\n",
    "        tasks = []\n",
    "        for symbol in symbols:\n",
    "            task = pool.apply_async(self.start_regression_on_one_stock, (symbol,regression_end_date))\n",
    "            tasks.append(task)\n",
    "            \n",
    "        for task in tasks:\n",
    "            try:\n",
    "                one_evaluation = task.get()\n",
    "                evaluation_df = pd.concat([one_evaluation,evaluation_df], ignore_index=True, sort=False)\n",
    "            except Exception as e:\n",
    "                print(str(e))\n",
    "        \n",
    "        pool.close()\n",
    "        pool.join()\n",
    "        \n",
    "        evaluation_df['loss_times'] =evaluation_df['loss_times'].astype('int')\n",
    "        evaluation_df['deal_count'] =evaluation_df['deal_count'].astype('int')\n",
    "        evaluation_df['r2'] =evaluation_df['r2'].astype('float')\n",
    "        evaluation_df['rar'] =evaluation_df['rar'].astype('float')\n",
    "\n",
    "        return evaluation_df\n",
    "    "
   ]
  },
  {
   "cell_type": "code",
   "execution_count": null,
   "metadata": {
    "scrolled": false
   },
   "outputs": [
    {
     "name": "stdout",
     "output_type": "stream",
     "text": [
      "context:{'short': 20, 'mid': 240, 'scale_start': 0, 'scale_end': 3, 'level': 'Day'}\n"
     ]
    },
    {
     "name": "stderr",
     "output_type": "stream",
     "text": [
      "/opt/conda/lib/python3.6/site-packages/numpy/core/_methods.py:135: RuntimeWarning: Degrees of freedom <= 0 for slice\n",
      "  keepdims=keepdims)\n",
      "/opt/conda/lib/python3.6/site-packages/numpy/core/_methods.py:127: RuntimeWarning: invalid value encountered in double_scalars\n",
      "  ret = ret.dtype.type(ret / rcount)\n",
      "/opt/conda/lib/python3.6/site-packages/numpy/core/_methods.py:135: RuntimeWarning: Degrees of freedom <= 0 for slice\n",
      "  keepdims=keepdims)\n",
      "/opt/conda/lib/python3.6/site-packages/numpy/core/_methods.py:127: RuntimeWarning: invalid value encountered in double_scalars\n",
      "  ret = ret.dtype.type(ret / rcount)\n"
     ]
    },
    {
     "name": "stdout",
     "output_type": "stream",
     "text": [
      "SZ#002345 regression cost time 33.5 seconds\n",
      "SZ#002343 regression cost time 33.5 seconds\n"
     ]
    },
    {
     "name": "stderr",
     "output_type": "stream",
     "text": [
      "/opt/conda/lib/python3.6/site-packages/numpy/core/fromnumeric.py:2909: RuntimeWarning: Mean of empty slice.\n",
      "  out=out, **kwargs)\n",
      "/opt/conda/lib/python3.6/site-packages/numpy/core/_methods.py:80: RuntimeWarning: invalid value encountered in double_scalars\n",
      "  ret = ret.dtype.type(ret / rcount)\n"
     ]
    },
    {
     "name": "stdout",
     "output_type": "stream",
     "text": [
      "SZ#002505 regression cost time 35.6 seconds\n"
     ]
    },
    {
     "name": "stderr",
     "output_type": "stream",
     "text": [
      "/opt/conda/lib/python3.6/site-packages/numpy/core/_methods.py:135: RuntimeWarning: Degrees of freedom <= 0 for slice\n",
      "  keepdims=keepdims)\n",
      "/opt/conda/lib/python3.6/site-packages/numpy/core/_methods.py:127: RuntimeWarning: invalid value encountered in double_scalars\n",
      "  ret = ret.dtype.type(ret / rcount)\n"
     ]
    },
    {
     "name": "stdout",
     "output_type": "stream",
     "text": [
      "SZ#002181 regression cost time 39.1 seconds\n",
      "SZ#002183 regression cost time 43.5 seconds\n"
     ]
    },
    {
     "name": "stderr",
     "output_type": "stream",
     "text": [
      "/opt/conda/lib/python3.6/site-packages/numpy/core/fromnumeric.py:2909: RuntimeWarning: Mean of empty slice.\n",
      "  out=out, **kwargs)\n",
      "/opt/conda/lib/python3.6/site-packages/numpy/core/_methods.py:80: RuntimeWarning: invalid value encountered in double_scalars\n",
      "  ret = ret.dtype.type(ret / rcount)\n",
      "/opt/conda/lib/python3.6/site-packages/numpy/core/fromnumeric.py:2909: RuntimeWarning: Mean of empty slice.\n",
      "  out=out, **kwargs)\n",
      "/opt/conda/lib/python3.6/site-packages/numpy/core/_methods.py:80: RuntimeWarning: invalid value encountered in double_scalars\n",
      "  ret = ret.dtype.type(ret / rcount)\n"
     ]
    },
    {
     "name": "stdout",
     "output_type": "stream",
     "text": [
      "SZ#002182 regression cost time 52.9 seconds\n",
      "SZ#000582 regression cost time 66.3 seconds\n",
      "SZ#000809 regression cost time 67.2 seconds\n"
     ]
    },
    {
     "name": "stderr",
     "output_type": "stream",
     "text": [
      "/opt/conda/lib/python3.6/site-packages/numpy/core/fromnumeric.py:2909: RuntimeWarning: Mean of empty slice.\n",
      "  out=out, **kwargs)\n",
      "/opt/conda/lib/python3.6/site-packages/numpy/core/_methods.py:80: RuntimeWarning: invalid value encountered in double_scalars\n",
      "  ret = ret.dtype.type(ret / rcount)\n",
      "/opt/conda/lib/python3.6/site-packages/numpy/core/fromnumeric.py:2909: RuntimeWarning: Mean of empty slice.\n",
      "  out=out, **kwargs)\n",
      "/opt/conda/lib/python3.6/site-packages/numpy/core/_methods.py:80: RuntimeWarning: invalid value encountered in double_scalars\n",
      "  ret = ret.dtype.type(ret / rcount)\n"
     ]
    },
    {
     "name": "stdout",
     "output_type": "stream",
     "text": [
      "SZ#002346 regression cost time 35.4 seconds\n",
      "SZ#002184 regression cost time 67.2 seconds\n",
      "SZ#000803 regression cost time 77.0 seconds\n",
      "SZ#000004 regression cost time 86.0 seconds\n",
      "SZ#002021 regression cost time 86.0 seconds\n"
     ]
    },
    {
     "name": "stderr",
     "output_type": "stream",
     "text": [
      "/opt/conda/lib/python3.6/site-packages/numpy/core/_methods.py:135: RuntimeWarning: Degrees of freedom <= 0 for slice\n",
      "  keepdims=keepdims)\n",
      "/opt/conda/lib/python3.6/site-packages/numpy/core/_methods.py:127: RuntimeWarning: invalid value encountered in double_scalars\n",
      "  ret = ret.dtype.type(ret / rcount)\n"
     ]
    },
    {
     "name": "stdout",
     "output_type": "stream",
     "text": [
      "SZ#000573 regression cost time 90.2 seconds\n",
      "SZ#002020 regression cost time 90.4 seconds\n",
      "list.remove(x): x not in list\n",
      "SZ#000005 regression cost time 63.6 seconds\n",
      "SZ#000806 regression cost time 99.1 seconds\n",
      "SZ#000001 regression cost time 101.5 seconds\n",
      "SZ#000576 regression cost time 104.3 seconds\n",
      "list.remove(x): x not in list\n",
      "SZ#002023 regression cost time 104.7 seconds\n",
      "SZ#002507 regression cost time 71.4 seconds\n"
     ]
    },
    {
     "name": "stderr",
     "output_type": "stream",
     "text": [
      "/opt/conda/lib/python3.6/site-packages/numpy/core/fromnumeric.py:2909: RuntimeWarning: Mean of empty slice.\n",
      "  out=out, **kwargs)\n",
      "/opt/conda/lib/python3.6/site-packages/numpy/core/_methods.py:80: RuntimeWarning: invalid value encountered in double_scalars\n",
      "  ret = ret.dtype.type(ret / rcount)\n",
      "/opt/conda/lib/python3.6/site-packages/numpy/core/fromnumeric.py:2909: RuntimeWarning: Mean of empty slice.\n",
      "  out=out, **kwargs)\n",
      "/opt/conda/lib/python3.6/site-packages/numpy/core/_methods.py:80: RuntimeWarning: invalid value encountered in double_scalars\n",
      "  ret = ret.dtype.type(ret / rcount)\n"
     ]
    },
    {
     "name": "stdout",
     "output_type": "stream",
     "text": [
      "SZ#002186 regression cost time 27.8 seconds\n",
      "SZ#000807 regression cost time 114.5 seconds\n",
      "SZ#002348 regression cost time 29.0 seconds\n",
      "SZ#000581 regression cost time 116.3 seconds\n"
     ]
    },
    {
     "name": "stderr",
     "output_type": "stream",
     "text": [
      "/opt/conda/lib/python3.6/site-packages/numpy/core/fromnumeric.py:2909: RuntimeWarning: Mean of empty slice.\n",
      "  out=out, **kwargs)\n",
      "/opt/conda/lib/python3.6/site-packages/numpy/core/_methods.py:80: RuntimeWarning: invalid value encountered in double_scalars\n",
      "  ret = ret.dtype.type(ret / rcount)\n",
      "/opt/conda/lib/python3.6/site-packages/numpy/core/fromnumeric.py:2909: RuntimeWarning: Mean of empty slice.\n",
      "  out=out, **kwargs)\n",
      "/opt/conda/lib/python3.6/site-packages/numpy/core/_methods.py:80: RuntimeWarning: invalid value encountered in double_scalars\n",
      "  ret = ret.dtype.type(ret / rcount)\n"
     ]
    },
    {
     "name": "stdout",
     "output_type": "stream",
     "text": [
      "SZ#000002 regression cost time 119.3 seconds\n",
      "SZ#002022 regression cost time 121.4 seconds\n",
      "list.remove(x): x not in list\n",
      "SZ#002185 regression cost time 78.1 seconds\n",
      "SZ#000584 regression cost time 87.8 seconds\n",
      "SZ#002349 regression cost time 22.1 seconds\n",
      "SZ#002509 regression cost time 40.7 seconds\n",
      "SZ#000585 regression cost time 63.3 seconds\n",
      "SZ#000810 regression cost time 92.4 seconds\n",
      "SZ#002025 regression cost time 59.3 seconds\n",
      "SZ#002510 regression cost time 32.0 seconds\n",
      "SZ#002187 regression cost time 35.9 seconds\n"
     ]
    },
    {
     "name": "stderr",
     "output_type": "stream",
     "text": [
      "/opt/conda/lib/python3.6/site-packages/numpy/core/fromnumeric.py:2909: RuntimeWarning: Mean of empty slice.\n",
      "  out=out, **kwargs)\n",
      "/opt/conda/lib/python3.6/site-packages/numpy/core/_methods.py:80: RuntimeWarning: invalid value encountered in double_scalars\n",
      "  ret = ret.dtype.type(ret / rcount)\n",
      "/opt/conda/lib/python3.6/site-packages/numpy/core/fromnumeric.py:2909: RuntimeWarning: Mean of empty slice.\n",
      "  out=out, **kwargs)\n",
      "/opt/conda/lib/python3.6/site-packages/numpy/core/_methods.py:80: RuntimeWarning: invalid value encountered in double_scalars\n",
      "  ret = ret.dtype.type(ret / rcount)\n"
     ]
    },
    {
     "name": "stdout",
     "output_type": "stream",
     "text": [
      "SZ#002350 regression cost time 20.5 seconds\n"
     ]
    },
    {
     "name": "stderr",
     "output_type": "stream",
     "text": [
      "/opt/conda/lib/python3.6/site-packages/numpy/core/fromnumeric.py:2909: RuntimeWarning: Mean of empty slice.\n",
      "  out=out, **kwargs)\n",
      "/opt/conda/lib/python3.6/site-packages/numpy/core/_methods.py:80: RuntimeWarning: invalid value encountered in double_scalars\n",
      "  ret = ret.dtype.type(ret / rcount)\n",
      "/opt/conda/lib/python3.6/site-packages/numpy/core/fromnumeric.py:2909: RuntimeWarning: Mean of empty slice.\n",
      "  out=out, **kwargs)\n",
      "/opt/conda/lib/python3.6/site-packages/numpy/core/_methods.py:80: RuntimeWarning: invalid value encountered in double_scalars\n",
      "  ret = ret.dtype.type(ret / rcount)\n"
     ]
    },
    {
     "name": "stdout",
     "output_type": "stream",
     "text": [
      "SZ#000006 regression cost time 73.8 seconds\n"
     ]
    },
    {
     "name": "stderr",
     "output_type": "stream",
     "text": [
      "/opt/conda/lib/python3.6/site-packages/numpy/core/fromnumeric.py:2909: RuntimeWarning: Mean of empty slice.\n",
      "  out=out, **kwargs)\n",
      "/opt/conda/lib/python3.6/site-packages/numpy/core/_methods.py:80: RuntimeWarning: invalid value encountered in double_scalars\n",
      "  ret = ret.dtype.type(ret / rcount)\n",
      "/opt/conda/lib/python3.6/site-packages/numpy/core/fromnumeric.py:2909: RuntimeWarning: Mean of empty slice.\n",
      "  out=out, **kwargs)\n",
      "/opt/conda/lib/python3.6/site-packages/numpy/core/_methods.py:80: RuntimeWarning: invalid value encountered in double_scalars\n",
      "  ret = ret.dtype.type(ret / rcount)\n"
     ]
    },
    {
     "name": "stdout",
     "output_type": "stream",
     "text": [
      "SZ#002188 regression cost time 24.9 seconds\n",
      "SZ#002508 regression cost time 75.4 seconds\n",
      "SZ#002024 regression cost time 107.9 seconds\n",
      "list.remove(x): x not in list\n",
      "SZ#002511 regression cost time 28.9 seconds\n",
      "SZ#000007 regression cost time 62.8 seconds\n"
     ]
    },
    {
     "name": "stderr",
     "output_type": "stream",
     "text": [
      "/opt/conda/lib/python3.6/site-packages/numpy/core/fromnumeric.py:2909: RuntimeWarning: Mean of empty slice.\n",
      "  out=out, **kwargs)\n",
      "/opt/conda/lib/python3.6/site-packages/numpy/core/_methods.py:80: RuntimeWarning: invalid value encountered in double_scalars\n",
      "  ret = ret.dtype.type(ret / rcount)\n"
     ]
    },
    {
     "name": "stdout",
     "output_type": "stream",
     "text": [
      "SZ#002512 regression cost time 17.1 seconds\n",
      "SZ#002026 regression cost time 54.6 seconds\n",
      "SZ#000811 regression cost time 79.9 seconds\n",
      "SZ#000586 regression cost time 65.5 seconds\n"
     ]
    },
    {
     "name": "stderr",
     "output_type": "stream",
     "text": [
      "/opt/conda/lib/python3.6/site-packages/numpy/core/_methods.py:135: RuntimeWarning: Degrees of freedom <= 0 for slice\n",
      "  keepdims=keepdims)\n",
      "/opt/conda/lib/python3.6/site-packages/numpy/core/_methods.py:127: RuntimeWarning: invalid value encountered in double_scalars\n",
      "  ret = ret.dtype.type(ret / rcount)\n"
     ]
    },
    {
     "name": "stdout",
     "output_type": "stream",
     "text": [
      "SZ#002351 regression cost time 27.6 seconds\n",
      "SZ#000587 regression cost time 45.1 seconds\n"
     ]
    },
    {
     "name": "stderr",
     "output_type": "stream",
     "text": [
      "/opt/conda/lib/python3.6/site-packages/numpy/core/fromnumeric.py:2909: RuntimeWarning: Mean of empty slice.\n",
      "  out=out, **kwargs)\n",
      "/opt/conda/lib/python3.6/site-packages/numpy/core/_methods.py:80: RuntimeWarning: invalid value encountered in double_scalars\n",
      "  ret = ret.dtype.type(ret / rcount)\n",
      "/opt/conda/lib/python3.6/site-packages/numpy/core/fromnumeric.py:2909: RuntimeWarning: Mean of empty slice.\n",
      "  out=out, **kwargs)\n",
      "/opt/conda/lib/python3.6/site-packages/numpy/core/_methods.py:80: RuntimeWarning: invalid value encountered in double_scalars\n",
      "  ret = ret.dtype.type(ret / rcount)\n"
     ]
    },
    {
     "name": "stdout",
     "output_type": "stream",
     "text": [
      "SZ#002189 regression cost time 29.2 seconds\n"
     ]
    },
    {
     "name": "stderr",
     "output_type": "stream",
     "text": [
      "/opt/conda/lib/python3.6/site-packages/numpy/core/fromnumeric.py:2909: RuntimeWarning: Mean of empty slice.\n",
      "  out=out, **kwargs)\n",
      "/opt/conda/lib/python3.6/site-packages/numpy/core/_methods.py:80: RuntimeWarning: invalid value encountered in double_scalars\n",
      "  ret = ret.dtype.type(ret / rcount)\n"
     ]
    },
    {
     "name": "stdout",
     "output_type": "stream",
     "text": [
      "SZ#002352 regression cost time 20.2 seconds\n",
      "SZ#000812 regression cost time 66.2 seconds\n",
      "SZ#002027 regression cost time 48.6 seconds\n",
      "SZ#000813 regression cost time 49.4 seconds\n",
      "SZ#000008 regression cost time 60.3 seconds\n",
      "SZ#000010 regression cost time 37.2 seconds\n"
     ]
    },
    {
     "name": "stderr",
     "output_type": "stream",
     "text": [
      "/opt/conda/lib/python3.6/site-packages/numpy/core/fromnumeric.py:2909: RuntimeWarning: Mean of empty slice.\n",
      "  out=out, **kwargs)\n",
      "/opt/conda/lib/python3.6/site-packages/numpy/core/_methods.py:80: RuntimeWarning: invalid value encountered in double_scalars\n",
      "  ret = ret.dtype.type(ret / rcount)\n",
      "/opt/conda/lib/python3.6/site-packages/numpy/core/fromnumeric.py:2909: RuntimeWarning: Mean of empty slice.\n",
      "  out=out, **kwargs)\n",
      "/opt/conda/lib/python3.6/site-packages/numpy/core/_methods.py:80: RuntimeWarning: invalid value encountered in double_scalars\n",
      "  ret = ret.dtype.type(ret / rcount)\n"
     ]
    },
    {
     "name": "stdout",
     "output_type": "stream",
     "text": [
      "SZ#000009 regression cost time 52.7 seconds\n",
      "SZ#002190 regression cost time 33.8 seconds\n"
     ]
    },
    {
     "name": "stderr",
     "output_type": "stream",
     "text": [
      "/opt/conda/lib/python3.6/site-packages/numpy/core/fromnumeric.py:2909: RuntimeWarning: Mean of empty slice.\n",
      "  out=out, **kwargs)\n",
      "/opt/conda/lib/python3.6/site-packages/numpy/core/_methods.py:80: RuntimeWarning: invalid value encountered in double_scalars\n",
      "  ret = ret.dtype.type(ret / rcount)\n",
      "/opt/conda/lib/python3.6/site-packages/numpy/core/fromnumeric.py:2909: RuntimeWarning: Mean of empty slice.\n",
      "  out=out, **kwargs)\n",
      "/opt/conda/lib/python3.6/site-packages/numpy/core/_methods.py:80: RuntimeWarning: invalid value encountered in double_scalars\n",
      "  ret = ret.dtype.type(ret / rcount)\n"
     ]
    },
    {
     "name": "stdout",
     "output_type": "stream",
     "text": [
      "SZ#000590 regression cost time 39.0 seconds\n"
     ]
    },
    {
     "name": "stderr",
     "output_type": "stream",
     "text": [
      "/opt/conda/lib/python3.6/site-packages/numpy/core/fromnumeric.py:2909: RuntimeWarning: Mean of empty slice.\n",
      "  out=out, **kwargs)\n",
      "/opt/conda/lib/python3.6/site-packages/numpy/core/_methods.py:80: RuntimeWarning: invalid value encountered in double_scalars\n",
      "  ret = ret.dtype.type(ret / rcount)\n"
     ]
    },
    {
     "name": "stdout",
     "output_type": "stream",
     "text": [
      "SZ#002514 regression cost time 18.9 seconds\n",
      "SZ#002515 regression cost time 14.8 seconds\n",
      "SZ#002354 regression cost time 16.5 seconds\n",
      "SZ#000815 regression cost time 54.6 seconds\n",
      "SZ#000589 regression cost time 58.6 seconds\n",
      "SZ#002353 regression cost time 26.4 seconds\n",
      "SZ#002191 regression cost time 30.9 seconds\n",
      "SZ#000011 regression cost time 38.8 seconds\n",
      "SZ#000816 regression cost time 51.6 seconds\n",
      "SZ#000592 regression cost time 34.4 seconds\n",
      "SZ#002355 regression cost time 17.0 seconds\n"
     ]
    },
    {
     "name": "stderr",
     "output_type": "stream",
     "text": [
      "/opt/conda/lib/python3.6/site-packages/numpy/core/fromnumeric.py:2909: RuntimeWarning: Mean of empty slice.\n",
      "  out=out, **kwargs)\n",
      "/opt/conda/lib/python3.6/site-packages/numpy/core/_methods.py:80: RuntimeWarning: invalid value encountered in double_scalars\n",
      "  ret = ret.dtype.type(ret / rcount)\n",
      "/opt/conda/lib/python3.6/site-packages/numpy/core/fromnumeric.py:2909: RuntimeWarning: Mean of empty slice.\n",
      "  out=out, **kwargs)\n",
      "/opt/conda/lib/python3.6/site-packages/numpy/core/_methods.py:80: RuntimeWarning: invalid value encountered in double_scalars\n",
      "  ret = ret.dtype.type(ret / rcount)\n"
     ]
    },
    {
     "name": "stdout",
     "output_type": "stream",
     "text": [
      "SZ#000012 regression cost time 35.9 seconds\n"
     ]
    },
    {
     "name": "stderr",
     "output_type": "stream",
     "text": [
      "/opt/conda/lib/python3.6/site-packages/numpy/core/fromnumeric.py:2909: RuntimeWarning: Mean of empty slice.\n",
      "  out=out, **kwargs)\n",
      "/opt/conda/lib/python3.6/site-packages/numpy/core/_methods.py:80: RuntimeWarning: invalid value encountered in double_scalars\n",
      "  ret = ret.dtype.type(ret / rcount)\n",
      "/opt/conda/lib/python3.6/site-packages/numpy/core/fromnumeric.py:2909: RuntimeWarning: Mean of empty slice.\n",
      "  out=out, **kwargs)\n",
      "/opt/conda/lib/python3.6/site-packages/numpy/core/_methods.py:80: RuntimeWarning: invalid value encountered in double_scalars\n",
      "  ret = ret.dtype.type(ret / rcount)\n"
     ]
    },
    {
     "name": "stdout",
     "output_type": "stream",
     "text": [
      "SZ#002029 regression cost time 55.7 seconds\n",
      "SZ#002192 regression cost time 33.5 seconds\n",
      "SZ#000818 regression cost time 45.0 seconds\n",
      "SZ#002516 regression cost time 20.1 seconds\n",
      "SZ#000819 regression cost time 39.9 seconds\n",
      "SZ#002193 regression cost time 24.5 seconds\n",
      "SZ#002356 regression cost time 12.2 seconds\n",
      "SZ#002031 regression cost time 39.8 seconds\n",
      "SZ#002030 regression cost time 49.5 seconds\n"
     ]
    },
    {
     "name": "stderr",
     "output_type": "stream",
     "text": [
      "/opt/conda/lib/python3.6/site-packages/ipykernel_launcher.py:81: RuntimeWarning: divide by zero encountered in double_scalars\n"
     ]
    },
    {
     "name": "stdout",
     "output_type": "stream",
     "text": [
      "SZ#000591 regression cost time 50.8 seconds\n",
      "SZ#002028 regression cost time 75.6 seconds\n"
     ]
    },
    {
     "name": "stderr",
     "output_type": "stream",
     "text": [
      "/opt/conda/lib/python3.6/site-packages/numpy/core/fromnumeric.py:2909: RuntimeWarning: Mean of empty slice.\n",
      "  out=out, **kwargs)\n",
      "/opt/conda/lib/python3.6/site-packages/numpy/core/_methods.py:80: RuntimeWarning: invalid value encountered in double_scalars\n",
      "  ret = ret.dtype.type(ret / rcount)\n"
     ]
    },
    {
     "name": "stdout",
     "output_type": "stream",
     "text": [
      "list.remove(x): x not in list\n",
      "SZ#002517 regression cost time 15.2 seconds\n"
     ]
    },
    {
     "name": "stderr",
     "output_type": "stream",
     "text": [
      "/opt/conda/lib/python3.6/site-packages/numpy/core/fromnumeric.py:2909: RuntimeWarning: Mean of empty slice.\n",
      "  out=out, **kwargs)\n",
      "/opt/conda/lib/python3.6/site-packages/numpy/core/_methods.py:80: RuntimeWarning: invalid value encountered in double_scalars\n",
      "  ret = ret.dtype.type(ret / rcount)\n",
      "/opt/conda/lib/python3.6/site-packages/numpy/core/fromnumeric.py:2909: RuntimeWarning: Mean of empty slice.\n",
      "  out=out, **kwargs)\n",
      "/opt/conda/lib/python3.6/site-packages/numpy/core/_methods.py:80: RuntimeWarning: invalid value encountered in double_scalars\n",
      "  ret = ret.dtype.type(ret / rcount)\n"
     ]
    },
    {
     "name": "stdout",
     "output_type": "stream",
     "text": [
      "SZ#002194 regression cost time 22.4 seconds\n",
      "SZ#002357 regression cost time 14.2 seconds\n",
      "SZ#000014 regression cost time 51.8 seconds\n",
      "SZ#000017 regression cost time 24.1 seconds\n",
      "SZ#002518 regression cost time 19.0 seconds\n"
     ]
    },
    {
     "name": "stderr",
     "output_type": "stream",
     "text": [
      "/opt/conda/lib/python3.6/site-packages/numpy/core/fromnumeric.py:2909: RuntimeWarning: Mean of empty slice.\n",
      "  out=out, **kwargs)\n",
      "/opt/conda/lib/python3.6/site-packages/numpy/core/_methods.py:80: RuntimeWarning: invalid value encountered in double_scalars\n",
      "  ret = ret.dtype.type(ret / rcount)\n"
     ]
    },
    {
     "name": "stdout",
     "output_type": "stream",
     "text": [
      "SZ#002519 regression cost time 14.4 seconds\n",
      "SZ#002195 regression cost time 21.6 seconds\n",
      "SZ#000820 regression cost time 47.7 seconds\n"
     ]
    }
   ],
   "source": [
    "regression = RocketRegression('rocket_break_v4_enable_reducing_position_based_ATR.json')\n",
    "\n",
    "regression_end='2019-05-30'\n",
    "scale=300\n",
    "process_num=24\n",
    "\n",
    "evaluation_df = regression.start_regression(scale,regression_end,process_num)\n",
    "evaluation_df.describe()"
   ]
  },
  {
   "cell_type": "code",
   "execution_count": null,
   "metadata": {},
   "outputs": [],
   "source": [
    "print('Helo')"
   ]
  },
  {
   "cell_type": "code",
   "execution_count": null,
   "metadata": {},
   "outputs": [],
   "source": []
  }
 ],
 "metadata": {
  "kernelspec": {
   "display_name": "Python 3",
   "language": "python",
   "name": "python3"
  },
  "language_info": {
   "codemirror_mode": {
    "name": "ipython",
    "version": 3
   },
   "file_extension": ".py",
   "mimetype": "text/x-python",
   "name": "python",
   "nbconvert_exporter": "python",
   "pygments_lexer": "ipython3",
   "version": "3.6.8"
  }
 },
 "nbformat": 4,
 "nbformat_minor": 2
}
