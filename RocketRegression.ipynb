{
 "cells": [
  {
   "cell_type": "code",
   "execution_count": 41,
   "metadata": {},
   "outputs": [],
   "source": [
    "import datetime as dt\n",
    "import logging as log\n",
    "\n",
    "%run BreakSectionManager.ipynb\n",
    "%run Util.ipynb\n",
    "%run Constant.ipynb\n",
    "%run Metric.ipynb\n",
    "%run Operation.ipynb\n",
    "%run Account.ipynb\n",
    "%run Policy_Loader.ipynb\n",
    "\n",
    "\n",
    "class RocketRegression:\n",
    "    \n",
    "    def __init__(self, policy_name):\n",
    "        self.policy_name = policy_name\n",
    "        self.policy_loader = Policy_Loader(self.policy_name)\n",
    "        self.debug = self.policy_loader.enabled_log_debug()\n",
    "        self.context = self.policy_loader.get_context()\n",
    "        \n",
    "        self.level = self.context['level']\n",
    "        self.short = self.context['short']\n",
    "        self.mid = self.context['mid']\n",
    "        \n",
    "        \n",
    "    def start_regression_on_one_stock(self,symbol):\n",
    "        sectionManager = BreakSectionManager(symbol,self.context)\n",
    "        section_df = sectionManager.get_all_break_sections()\n",
    "        \n",
    "        metric = Metric(symbol,self.context)\n",
    "        \n",
    "        stock_start_date = metric.get_stock_start_date()\n",
    "        stock_end_date = metric.get_stock_end_date()\n",
    "        log.info('stock_start_date ' + stock_start_date+' stock_end_date:'+stock_end_date)\n",
    "        \n",
    "        account = Account(stock_start_date,stock_end_date,self.context,self.policy_name)\n",
    "        operation = Operation(account,symbol,self.context,self.policy_name)\n",
    "        \n",
    "        for key,row in section_df.iterrows():\n",
    "            start_date = row['d_s_date']\n",
    "            end_date = row['d_e_date']\n",
    "            \n",
    "            start_datetime = to_datetime(start_date)\n",
    "            end_datetime = to_datetime(end_date)\n",
    "\n",
    "            buy_price = metric.get_cur_price(start_date)\n",
    "            \n",
    "            while(start_datetime<end_datetime):\n",
    "                cur_date = start_datetime.strftime(YMD_format)\n",
    "                    \n",
    "                if(account.can_open_new_stock()==True):\n",
    "                    if(operation.is_buy_point(cur_date)==True):\n",
    "                        operation.open_opsition(cur_date)\n",
    "                        \n",
    "                if(account.has_shares()==True):\n",
    "                    if(operation.is_sell_point(cur_date)==True):\n",
    "                        operation.sell_stock(cur_date)\n",
    "                        \n",
    "                start_datetime += dt.timedelta(days = 1)\n",
    "                        \n",
    "        operations = account.get_operations()\n",
    "        \n",
    "        return operations\n",
    "    "
   ]
  },
  {
   "cell_type": "code",
   "execution_count": 42,
   "metadata": {
    "scrolled": false
   },
   "outputs": [
    {
     "name": "stdout",
     "output_type": "stream",
     "text": [
      "2000-03-09 buy SZ#000001 price:3.55 100 position:{'SZ#000001': 100} unknow_market space:0.36\n",
      "2000-05-25 buy SZ#000001 price:3.28 100 position:{'SZ#000001': 200} unknow_market space:0.66\n"
     ]
    },
    {
     "ename": "KeyError",
     "evalue": "'SZ#000001'",
     "output_type": "error",
     "traceback": [
      "\u001b[0;31m---------------------------------------------------------------------------\u001b[0m",
      "\u001b[0;31mKeyError\u001b[0m                                  Traceback (most recent call last)",
      "\u001b[0;32m<ipython-input-42-ec64926bb596>\u001b[0m in \u001b[0;36m<module>\u001b[0;34m\u001b[0m\n\u001b[1;32m      1\u001b[0m \u001b[0mregression\u001b[0m \u001b[0;34m=\u001b[0m \u001b[0mRocketRegression\u001b[0m\u001b[0;34m(\u001b[0m\u001b[0;34m'rocket_break_baseline.json'\u001b[0m\u001b[0;34m)\u001b[0m\u001b[0;34m\u001b[0m\u001b[0;34m\u001b[0m\u001b[0m\n\u001b[1;32m      2\u001b[0m \u001b[0;34m\u001b[0m\u001b[0m\n\u001b[0;32m----> 3\u001b[0;31m \u001b[0moperations\u001b[0m \u001b[0;34m=\u001b[0m \u001b[0mregression\u001b[0m\u001b[0;34m.\u001b[0m\u001b[0mstart_regression_on_one_stock\u001b[0m\u001b[0;34m(\u001b[0m\u001b[0;34m'SZ#000001'\u001b[0m\u001b[0;34m)\u001b[0m\u001b[0;34m\u001b[0m\u001b[0;34m\u001b[0m\u001b[0m\n\u001b[0m\u001b[1;32m      4\u001b[0m \u001b[0moperations\u001b[0m\u001b[0;34m\u001b[0m\u001b[0;34m\u001b[0m\u001b[0m\n",
      "\u001b[0;32m<ipython-input-41-c6ee602d5af3>\u001b[0m in \u001b[0;36mstart_regression_on_one_stock\u001b[0;34m(self, symbol)\u001b[0m\n\u001b[1;32m     55\u001b[0m                 \u001b[0;32mif\u001b[0m\u001b[0;34m(\u001b[0m\u001b[0maccount\u001b[0m\u001b[0;34m.\u001b[0m\u001b[0mhas_shares\u001b[0m\u001b[0;34m(\u001b[0m\u001b[0;34m)\u001b[0m\u001b[0;34m==\u001b[0m\u001b[0;32mTrue\u001b[0m\u001b[0;34m)\u001b[0m\u001b[0;34m:\u001b[0m\u001b[0;34m\u001b[0m\u001b[0;34m\u001b[0m\u001b[0m\n\u001b[1;32m     56\u001b[0m                     \u001b[0;32mif\u001b[0m\u001b[0;34m(\u001b[0m\u001b[0moperation\u001b[0m\u001b[0;34m.\u001b[0m\u001b[0mis_sell_point\u001b[0m\u001b[0;34m(\u001b[0m\u001b[0mcur_date\u001b[0m\u001b[0;34m)\u001b[0m\u001b[0;34m==\u001b[0m\u001b[0;32mTrue\u001b[0m\u001b[0;34m)\u001b[0m\u001b[0;34m:\u001b[0m\u001b[0;34m\u001b[0m\u001b[0;34m\u001b[0m\u001b[0m\n\u001b[0;32m---> 57\u001b[0;31m                         \u001b[0moperation\u001b[0m\u001b[0;34m.\u001b[0m\u001b[0msell_stock\u001b[0m\u001b[0;34m(\u001b[0m\u001b[0mcur_date\u001b[0m\u001b[0;34m)\u001b[0m\u001b[0;34m\u001b[0m\u001b[0;34m\u001b[0m\u001b[0m\n\u001b[0m\u001b[1;32m     58\u001b[0m \u001b[0;34m\u001b[0m\u001b[0m\n\u001b[1;32m     59\u001b[0m                 \u001b[0mstart_datetime\u001b[0m \u001b[0;34m+=\u001b[0m \u001b[0mdt\u001b[0m\u001b[0;34m.\u001b[0m\u001b[0mtimedelta\u001b[0m\u001b[0;34m(\u001b[0m\u001b[0mdays\u001b[0m \u001b[0;34m=\u001b[0m \u001b[0;36m1\u001b[0m\u001b[0;34m)\u001b[0m\u001b[0;34m\u001b[0m\u001b[0;34m\u001b[0m\u001b[0m\n",
      "\u001b[0;32m<ipython-input-41-4b2d98aa0cd8>\u001b[0m in \u001b[0;36msell_stock\u001b[0;34m(self, cur_date, sell_type)\u001b[0m\n\u001b[1;32m     54\u001b[0m \u001b[0;34m\u001b[0m\u001b[0m\n\u001b[1;32m     55\u001b[0m         \u001b[0;32mif\u001b[0m\u001b[0;34m(\u001b[0m\u001b[0msell_shares\u001b[0m\u001b[0;34m>\u001b[0m\u001b[0;36m0\u001b[0m\u001b[0;34m)\u001b[0m\u001b[0;34m:\u001b[0m\u001b[0;34m\u001b[0m\u001b[0;34m\u001b[0m\u001b[0m\n\u001b[0;32m---> 56\u001b[0;31m             \u001b[0mself\u001b[0m\u001b[0;34m.\u001b[0m\u001b[0maccount\u001b[0m\u001b[0;34m.\u001b[0m\u001b[0msell_stock\u001b[0m\u001b[0;34m(\u001b[0m\u001b[0mself\u001b[0m\u001b[0;34m.\u001b[0m\u001b[0msymbol\u001b[0m\u001b[0;34m,\u001b[0m\u001b[0mcur_date\u001b[0m\u001b[0;34m,\u001b[0m\u001b[0msell_price\u001b[0m\u001b[0;34m,\u001b[0m\u001b[0msell_shares\u001b[0m\u001b[0;34m)\u001b[0m\u001b[0;34m\u001b[0m\u001b[0;34m\u001b[0m\u001b[0m\n\u001b[0m\u001b[1;32m     57\u001b[0m \u001b[0;34m\u001b[0m\u001b[0m\n\u001b[1;32m     58\u001b[0m         \u001b[0mprofit_rate\u001b[0m \u001b[0;34m=\u001b[0m \u001b[0;34m(\u001b[0m\u001b[0msell_price\u001b[0m\u001b[0;34m-\u001b[0m\u001b[0mself\u001b[0m\u001b[0;34m.\u001b[0m\u001b[0maccount\u001b[0m\u001b[0;34m.\u001b[0m\u001b[0mget_last_time_buy_price\u001b[0m\u001b[0;34m(\u001b[0m\u001b[0mself\u001b[0m\u001b[0;34m.\u001b[0m\u001b[0msymbol\u001b[0m\u001b[0;34m)\u001b[0m\u001b[0;34m)\u001b[0m\u001b[0;34m*\u001b[0m\u001b[0;36m100\u001b[0m\u001b[0;34m/\u001b[0m\u001b[0mself\u001b[0m\u001b[0;34m.\u001b[0m\u001b[0maccount\u001b[0m\u001b[0;34m.\u001b[0m\u001b[0mget_last_time_buy_price\u001b[0m\u001b[0;34m(\u001b[0m\u001b[0mself\u001b[0m\u001b[0;34m.\u001b[0m\u001b[0msymbol\u001b[0m\u001b[0;34m)\u001b[0m\u001b[0;34m\u001b[0m\u001b[0;34m\u001b[0m\u001b[0m\n",
      "\u001b[0;32m<ipython-input-41-00c52f60ba20>\u001b[0m in \u001b[0;36msell_stock\u001b[0;34m(self, symbol, date, price, sell_shares)\u001b[0m\n\u001b[1;32m     85\u001b[0m             \u001b[0;32mdel\u001b[0m\u001b[0;34m(\u001b[0m\u001b[0mself\u001b[0m\u001b[0;34m.\u001b[0m\u001b[0mposition\u001b[0m\u001b[0;34m[\u001b[0m\u001b[0msymbol\u001b[0m\u001b[0;34m]\u001b[0m\u001b[0;34m)\u001b[0m\u001b[0;34m\u001b[0m\u001b[0;34m\u001b[0m\u001b[0m\n\u001b[1;32m     86\u001b[0m             \u001b[0;32mdel\u001b[0m\u001b[0;34m(\u001b[0m\u001b[0mself\u001b[0m\u001b[0;34m.\u001b[0m\u001b[0mmetric_d_k\u001b[0m\u001b[0;34m[\u001b[0m\u001b[0msymbol\u001b[0m\u001b[0;34m]\u001b[0m\u001b[0;34m)\u001b[0m\u001b[0;34m\u001b[0m\u001b[0;34m\u001b[0m\u001b[0m\n\u001b[0;32m---> 87\u001b[0;31m             \u001b[0;32mdel\u001b[0m\u001b[0;34m(\u001b[0m\u001b[0mself\u001b[0m\u001b[0;34m.\u001b[0m\u001b[0mincrease_per\u001b[0m\u001b[0;34m[\u001b[0m\u001b[0msymbol\u001b[0m\u001b[0;34m]\u001b[0m\u001b[0;34m)\u001b[0m\u001b[0;34m\u001b[0m\u001b[0;34m\u001b[0m\u001b[0m\n\u001b[0m\u001b[1;32m     88\u001b[0m             \u001b[0mself\u001b[0m\u001b[0;34m.\u001b[0m\u001b[0mdeal_df\u001b[0m\u001b[0;34m.\u001b[0m\u001b[0mloc\u001b[0m\u001b[0;34m[\u001b[0m\u001b[0;34m(\u001b[0m\u001b[0mself\u001b[0m\u001b[0;34m.\u001b[0m\u001b[0mdeal_df\u001b[0m\u001b[0;34m[\u001b[0m\u001b[0;34m'symbol'\u001b[0m\u001b[0;34m]\u001b[0m\u001b[0;34m==\u001b[0m\u001b[0msymbol\u001b[0m\u001b[0;34m)\u001b[0m \u001b[0;34m&\u001b[0m \u001b[0;34m(\u001b[0m\u001b[0mself\u001b[0m\u001b[0;34m.\u001b[0m\u001b[0mdeal_df\u001b[0m\u001b[0;34m[\u001b[0m\u001b[0;34m'status'\u001b[0m\u001b[0;34m]\u001b[0m\u001b[0;34m==\u001b[0m\u001b[0mdeal_open\u001b[0m\u001b[0;34m)\u001b[0m\u001b[0;34m,\u001b[0m\u001b[0;34m'status'\u001b[0m\u001b[0;34m]\u001b[0m\u001b[0;34m=\u001b[0m\u001b[0mdeal_closed\u001b[0m\u001b[0;34m\u001b[0m\u001b[0;34m\u001b[0m\u001b[0m\n\u001b[1;32m     89\u001b[0m \u001b[0;34m\u001b[0m\u001b[0m\n",
      "\u001b[0;31mKeyError\u001b[0m: 'SZ#000001'"
     ]
    }
   ],
   "source": [
    "regression = RocketRegression('rocket_break_baseline.json')\n",
    "\n",
    "operations = regression.start_regression_on_one_stock('SZ#000001')\n",
    "operations"
   ]
  },
  {
   "cell_type": "code",
   "execution_count": null,
   "metadata": {},
   "outputs": [],
   "source": []
  }
 ],
 "metadata": {
  "kernelspec": {
   "display_name": "Python 3",
   "language": "python",
   "name": "python3"
  },
  "language_info": {
   "codemirror_mode": {
    "name": "ipython",
    "version": 3
   },
   "file_extension": ".py",
   "mimetype": "text/x-python",
   "name": "python",
   "nbconvert_exporter": "python",
   "pygments_lexer": "ipython3",
   "version": "3.6.8"
  }
 },
 "nbformat": 4,
 "nbformat_minor": 2
}
