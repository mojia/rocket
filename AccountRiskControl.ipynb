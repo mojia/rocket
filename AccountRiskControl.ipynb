{
 "cells": [
  {
   "cell_type": "code",
   "execution_count": null,
   "metadata": {},
   "outputs": [],
   "source": [
    "%run Market.ipynb\n",
    "%run Policy_Loader.ipynb\n",
    "%run PolicyCons.ipynb\n",
    "\n",
    "# Account level risk control\n",
    "class AccountRiskControl:\n",
    "#     max_space_in_strong_market=100\n",
    "#     max_space_in_unknown_market=50\n",
    "#     max_space_in_weak_market=30\n",
    "    \n",
    "    def __init__(self,account,symbol,context,policy_name):\n",
    "        self.account = account\n",
    "        self.symbol = symbol\n",
    "        self.context = context\n",
    "        \n",
    "        self.short = context['short']\n",
    "        self.mid = context['mid']\n",
    "        self.policy_name = policy_name\n",
    "        \n",
    "        self.policy_loader = Policy_Loader(self.policy_name)\n",
    "        self.market = Market(context)\n",
    "        self.pCons = PolicyCons()\n",
    "    \n",
    "            \n",
    "    #   牛市总仓位不超过80%\n",
    "    #   猴市总仓位不超过40%\n",
    "    #   熊市总仓位不超过20%\n",
    "    #   单笔仓位不超过30%\n",
    "    def get_market_space(self,cur_date):\n",
    "        market_status = self.market.get_market_status(cur_date)\n",
    "        \n",
    "        return self.policy_loader.get_one_account_position(market_status)\n",
    "\n",
    "    \n",
    "    def get_max_space_of_account(self,cur_date):\n",
    "        #没有开启仓位控制，就全仓\n",
    "        if(self.policy_loader.enable_one_account_position()==False):\n",
    "            return 100\n",
    "        else:\n",
    "            market_space = self.get_market_space(cur_date)\n",
    "            cur_space = self.account.get_space_per_of_account(cur_date)\n",
    "\n",
    "            if(cur_space>=market_space):\n",
    "                return 0\n",
    "            else:\n",
    "                return market_space-cur_space\n",
    "\n",
    "    \n",
    "            \n",
    "        "
   ]
  }
 ],
 "metadata": {
  "kernelspec": {
   "display_name": "Python 3",
   "language": "python",
   "name": "python3"
  },
  "language_info": {
   "codemirror_mode": {
    "name": "ipython",
    "version": 3
   },
   "file_extension": ".py",
   "mimetype": "text/x-python",
   "name": "python",
   "nbconvert_exporter": "python",
   "pygments_lexer": "ipython3",
   "version": "3.6.8"
  }
 },
 "nbformat": 4,
 "nbformat_minor": 2
}
