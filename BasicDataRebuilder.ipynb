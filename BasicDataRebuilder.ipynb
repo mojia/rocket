{
 "cells": [
  {
   "cell_type": "code",
   "execution_count": null,
   "metadata": {},
   "outputs": [],
   "source": [
    "# 当版本升级的时候，基础数据需要重新构建，比如sections,chan_bi,chan_k\n",
    "%run Util.ipynb\n",
    "%run SectionManager.ipynb\n",
    "%run ChanBiAnalyser.ipynb\n",
    "\n",
    "class BasicDataRebuilder:\n",
    "    \n",
    "    def __init__(self):\n",
    "        pass\n",
    "        \n",
    "        \n",
    "    def rebuild_chan_data(self,scale_start,scale_end,short,mid):\n",
    "        symbols = get_symbol_slices(scale_start,scale_end)\n",
    "        \n",
    "        total = len(symbols)\n",
    "        print('rebuild chan data get ' + str(total)+' symbols')\n",
    "        \n",
    "        progress = 0\n",
    "        for symbol in symbols:\n",
    "            chanbiAnalyser = ChanBiAnalyser(symbol, level_day, short, mid)\n",
    "            chanbiAnalyser.init_chan_data()\n",
    "            \n",
    "            progress += 1\n",
    "            if(progress%2==0):\n",
    "                print(str(round(100*progress/total,2)),end=' ')\n",
    "            \n",
    "        \n",
    "\n",
    "    def rebuild_all_sections(self,scale_start,scale_end,level,short,mid):\n",
    "        symbols = get_symbol_slices(scale_start,scale_end)\n",
    "        \n",
    "        total = len(symbols)\n",
    "        print('rebuild_all_sections get ' + str(total)+' symbols')\n",
    "        \n",
    "        progress = 0\n",
    "        for symbol in symbols:\n",
    "            sectionManager = SectionManager(symbol, level, short, mid)\n",
    "            section_df = sectionManager.get_all_cross_sections()\n",
    "            \n",
    "            progress += 1\n",
    "            if(progress%2==0):\n",
    "                print(str(round(100*progress/total,2)),end=' ')\n",
    "            \n",
    "        \n"
   ]
  }
 ],
 "metadata": {
  "kernelspec": {
   "display_name": "Python 3",
   "language": "python",
   "name": "python3"
  },
  "language_info": {
   "codemirror_mode": {
    "name": "ipython",
    "version": 3
   },
   "file_extension": ".py",
   "mimetype": "text/x-python",
   "name": "python",
   "nbconvert_exporter": "python",
   "pygments_lexer": "ipython3",
   "version": "3.6.8"
  }
 },
 "nbformat": 4,
 "nbformat_minor": 2
}
