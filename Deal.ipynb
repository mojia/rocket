{
 "cells": [
  {
   "cell_type": "code",
   "execution_count": null,
   "metadata": {},
   "outputs": [],
   "source": [
    "Buy_operate_type = 'Buy'\n",
    "Sell_operate_type = 'Sell'\n",
    "\n",
    "class Deal:\n",
    "    \n",
    "    def __init__(self, symbol, date, price, shares, operate_type):\n",
    "        self.symbol = symbol\n",
    "        self.date = date\n",
    "        self.price = price\n",
    "        self.shares = shares\n",
    "        self.operate_type = operate_type\n",
    "        \n",
    "    def to_array(self):\n",
    "        return [self.symbol, self.date, self.price, self.shares, self.operate_type]\n",
    "    \n",
    "        "
   ]
  }
 ],
 "metadata": {
  "kernelspec": {
   "display_name": "ai",
   "language": "python",
   "name": "ai"
  },
  "language_info": {
   "codemirror_mode": {
    "name": "ipython",
    "version": 3
   },
   "file_extension": ".py",
   "mimetype": "text/x-python",
   "name": "python",
   "nbconvert_exporter": "python",
   "pygments_lexer": "ipython3",
   "version": "3.6.6"
  }
 },
 "nbformat": 4,
 "nbformat_minor": 2
}
