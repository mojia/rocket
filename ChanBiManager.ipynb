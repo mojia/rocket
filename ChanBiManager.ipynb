{
 "cells": [
  {
   "cell_type": "code",
   "execution_count": null,
   "metadata": {},
   "outputs": [],
   "source": [
    "%run ChanBiAnalyser.ipynb\n",
    "\n",
    "chan_bi_map = {}\n",
    "\n",
    "class ChanBiManager(object):\n",
    "    _instance = None\n",
    "    \n",
    "    def __new__(cls, *args, **kw):\n",
    "        if not cls._instance:\n",
    "            cls._instance = super(ChanBiManager, cls).__new__(cls, *args, **kw)\n",
    "        return cls._instance\n",
    "    \n",
    "    def get_analyser(self,symbol,level,short,mid):\n",
    "        cache_key = symbol+'_'+level+'_'+str(short)+'_'+str(mid)\n",
    "        \n",
    "        if(cache_key in chan_bi_map.keys()):\n",
    "            return chan_bi_map[cache_key]\n",
    "        else:\n",
    "            analyser = ChanBiAnalyser(symbol,level,short,mid)\n",
    "            chan_bi_map[cache_key]=analyser\n",
    "            \n",
    "            return chan_bi_map[cache_key]\n",
    "    \n",
    "        "
   ]
  },
  {
   "cell_type": "code",
   "execution_count": null,
   "metadata": {},
   "outputs": [],
   "source": []
  }
 ],
 "metadata": {
  "kernelspec": {
   "display_name": "ai",
   "language": "python",
   "name": "ai"
  },
  "language_info": {
   "codemirror_mode": {
    "name": "ipython",
    "version": 3
   },
   "file_extension": ".py",
   "mimetype": "text/x-python",
   "name": "python",
   "nbconvert_exporter": "python",
   "pygments_lexer": "ipython3",
   "version": "3.6.6"
  }
 },
 "nbformat": 4,
 "nbformat_minor": 2
}
