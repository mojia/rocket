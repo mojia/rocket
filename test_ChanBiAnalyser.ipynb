{
 "cells": [
  {
   "cell_type": "code",
   "execution_count": 7,
   "metadata": {
    "scrolled": false
   },
   "outputs": [
    {
     "data": {
      "text/html": [
       "<div>\n",
       "<style scoped>\n",
       "    .dataframe tbody tr th:only-of-type {\n",
       "        vertical-align: middle;\n",
       "    }\n",
       "\n",
       "    .dataframe tbody tr th {\n",
       "        vertical-align: top;\n",
       "    }\n",
       "\n",
       "    .dataframe thead th {\n",
       "        text-align: right;\n",
       "    }\n",
       "</style>\n",
       "<table border=\"1\" class=\"dataframe\">\n",
       "  <thead>\n",
       "    <tr style=\"text-align: right;\">\n",
       "      <th></th>\n",
       "      <th>index</th>\n",
       "      <th>symbol</th>\n",
       "      <th>date</th>\n",
       "      <th>turning_point</th>\n",
       "      <th>high</th>\n",
       "      <th>low</th>\n",
       "      <th>confirm</th>\n",
       "      <th>price</th>\n",
       "      <th>increase</th>\n",
       "      <th>datetime</th>\n",
       "    </tr>\n",
       "  </thead>\n",
       "  <tbody>\n",
       "    <tr>\n",
       "      <th>0</th>\n",
       "      <td>55</td>\n",
       "      <td>SZ#000001</td>\n",
       "      <td>2000-10-19</td>\n",
       "      <td>bottom</td>\n",
       "      <td>2.97</td>\n",
       "      <td>2.90</td>\n",
       "      <td>YES</td>\n",
       "      <td>2.90</td>\n",
       "      <td>-7.05</td>\n",
       "      <td>2000-10-19</td>\n",
       "    </tr>\n",
       "    <tr>\n",
       "      <th>1</th>\n",
       "      <td>62</td>\n",
       "      <td>SZ#000001</td>\n",
       "      <td>2000-11-24</td>\n",
       "      <td>top</td>\n",
       "      <td>3.32</td>\n",
       "      <td>3.17</td>\n",
       "      <td>YES</td>\n",
       "      <td>3.32</td>\n",
       "      <td>14.48</td>\n",
       "      <td>2000-11-24</td>\n",
       "    </tr>\n",
       "    <tr>\n",
       "      <th>2</th>\n",
       "      <td>69</td>\n",
       "      <td>SZ#000001</td>\n",
       "      <td>2001-01-09</td>\n",
       "      <td>bottom</td>\n",
       "      <td>2.77</td>\n",
       "      <td>2.69</td>\n",
       "      <td>YES</td>\n",
       "      <td>2.69</td>\n",
       "      <td>-18.98</td>\n",
       "      <td>2001-01-09</td>\n",
       "    </tr>\n",
       "  </tbody>\n",
       "</table>\n",
       "</div>"
      ],
      "text/plain": [
       "  index     symbol        date turning_point  high   low confirm  price  \\\n",
       "0    55  SZ#000001  2000-10-19        bottom  2.97  2.90     YES   2.90   \n",
       "1    62  SZ#000001  2000-11-24           top  3.32  3.17     YES   3.32   \n",
       "2    69  SZ#000001  2001-01-09        bottom  2.77  2.69     YES   2.69   \n",
       "\n",
       "   increase   datetime  \n",
       "0     -7.05 2000-10-19  \n",
       "1     14.48 2000-11-24  \n",
       "2    -18.98 2001-01-09  "
      ]
     },
     "execution_count": 7,
     "metadata": {},
     "output_type": "execute_result"
    }
   ],
   "source": [
    "%run ChanBiAnalyser.ipynb\n",
    "%run ChanBiManager.ipynb\n",
    "     \n",
    "chanbi_manager = ChanBiManager()\n",
    "chanBiAnalyser = chanbi_manager.get_analyser('SZ#000001',level_day,30,60)\n",
    "\n",
    "chan_bi_df = chanBiAnalyser.get_chan_bis_between('2000-11-16','2000-12-28')\n",
    "chan_bi_df\n"
   ]
  },
  {
   "cell_type": "code",
   "execution_count": null,
   "metadata": {},
   "outputs": [],
   "source": []
  }
 ],
 "metadata": {
  "kernelspec": {
   "display_name": "ai",
   "language": "python",
   "name": "ai"
  },
  "language_info": {
   "codemirror_mode": {
    "name": "ipython",
    "version": 3
   },
   "file_extension": ".py",
   "mimetype": "text/x-python",
   "name": "python",
   "nbconvert_exporter": "python",
   "pygments_lexer": "ipython3",
   "version": "3.6.6"
  }
 },
 "nbformat": 4,
 "nbformat_minor": 2
}
