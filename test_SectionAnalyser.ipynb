{
 "cells": [
  {
   "cell_type": "code",
   "execution_count": 1,
   "metadata": {
    "scrolled": true
   },
   "outputs": [
    {
     "data": {
      "text/plain": [
       "'/Users/xinwang/stock/data/sections/single_level_10_30_Day_1_all_sections_V0.8.txt'"
      ]
     },
     "execution_count": 1,
     "metadata": {},
     "output_type": "execute_result"
    }
   ],
   "source": [
    "%run SectionAnalyser.ipynb\n",
    "%run Util.ipynb\n",
    "\n",
    "sectionAnalyser = SectionAnalyser(scale=1, short=10, mid=30)\n",
    "\n",
    "sectionAnalyser.build_sections_file_path('single_level',level_day)"
   ]
  },
  {
   "cell_type": "code",
   "execution_count": 6,
   "metadata": {
    "scrolled": false
   },
   "outputs": [
    {
     "name": "stdout",
     "output_type": "stream",
     "text": [
      "start to analyse Week level SZ#000001 all cross sections...\n",
      "start to analyse Week level SZ#000652 all cross sections...\n",
      "start to analyse Week level SZ#000960 all cross sections...\n",
      "get_all_sections_of_all_symbols done total:46\n",
      "start to analyse Day level SZ#000001 all cross sections...\n",
      "start to analyse Day level SZ#000652 all cross sections...\n",
      "start to analyse Day level SZ#000960 all cross sections...\n",
      "get_all_sections_of_all_symbols done total:248\n",
      "threshold 10, over count size:52 total size:248 rate 20.967741935483872\n",
      "threshold 20, over count size:27 total size:248 rate 10.887096774193548\n",
      "threshold 30, over count size:19 total size:248 rate 7.661290322580645\n",
      "threshold 40, over count size:13 total size:248 rate 5.241935483870968\n",
      "threshold 50, over count size:9 total size:248 rate 3.629032258064516\n",
      "threshold 60, over count size:8 total size:248 rate 3.225806451612903\n",
      "threshold 70, over count size:7 total size:248 rate 2.8225806451612905\n",
      "threshold 80, over count size:6 total size:248 rate 2.4193548387096775\n",
      "threshold 90, over count size:5 total size:248 rate 2.0161290322580645\n"
     ]
    }
   ],
   "source": [
    "%run SectionAnalyser.ipynb\n",
    "%run Util.ipynb\n",
    "\n",
    "sectionAnalyser = SectionAnalyser(scale=3, short=10, mid=30)\n",
    "\n",
    "week_sections_df = sectionAnalyser.get_all_sections_of_all_symbols(level_week)\n",
    "week_sections_df\n",
    "\n",
    "\n",
    "day_sections_df = sectionAnalyser.get_all_sections_of_all_symbols(level_day)\n",
    "sectionAnalyser.get_price_incre_percent_report(day_sections_df)\n"
   ]
  },
  {
   "cell_type": "code",
   "execution_count": null,
   "metadata": {},
   "outputs": [],
   "source": []
  },
  {
   "cell_type": "code",
   "execution_count": null,
   "metadata": {},
   "outputs": [],
   "source": []
  },
  {
   "cell_type": "code",
   "execution_count": null,
   "metadata": {},
   "outputs": [],
   "source": []
  },
  {
   "cell_type": "code",
   "execution_count": null,
   "metadata": {},
   "outputs": [],
   "source": []
  },
  {
   "cell_type": "code",
   "execution_count": null,
   "metadata": {
    "scrolled": false
   },
   "outputs": [],
   "source": [
    "%run SectionAnalyser.ipynb\n",
    "%run Util.ipynb\n",
    "%run Metric.ipynb\n",
    "\n",
    "short=30\n",
    "mid=60\n",
    "sectionAnalyser = SectionAnalyser(100, short, mid)\n",
    "\n",
    "\n",
    "day_sections_df = sectionAnalyser.get_all_sections_of_all_symbols(level_day)\n",
    "day_sections_df['entry_to_max_increase_per'] = 0\n",
    "\n",
    "for key,row in day_sections_df.iterrows():\n",
    "    metric = Metric(row['symbol'],level_day,short,mid)\n",
    "    \n",
    "    start_date = row['s_date']\n",
    "    end_date = row['e_date']\n",
    "    \n",
    "    max_price_series = metric.get_max_price_date(start_date,end_date)\n",
    "    highest_price = max_price_series['high']\n",
    "    entry_price = metric.get_cur_price(start_date)\n",
    "    \n",
    "    entry_to_max_increase_percent = round(100*(highest_price-entry_price)/entry_price,2)\n",
    "    \n",
    "    day_sections_df.loc[key,'entry_to_max_increase_per'] = entry_to_max_increase_percent\n",
    "    \n",
    "    metric.clean_metric()\n",
    "\n",
    "\n",
    "day_sections_df[['symbol','s_date','e_date','entry_to_max_increase_per']]"
   ]
  },
  {
   "cell_type": "code",
   "execution_count": null,
   "metadata": {},
   "outputs": [],
   "source": []
  },
  {
   "cell_type": "code",
   "execution_count": null,
   "metadata": {},
   "outputs": [],
   "source": [
    "%run ChanBiAnalyser.ipynb\n",
    "\n",
    "part=day_sections_df[['symbol','s_date','e_date','entry_to_max_increase_per']]\n",
    "\n",
    "all_chan_bi_df = pd.DataFrame()\n",
    "for key,row in day_sections_df.iterrows():\n",
    "    chanBiAnalyser = ChanBiAnalyser(row['symbol'],level_day,row['s_date'],row['e_date'],30,60)\n",
    "    chan_bi_df = chanBiAnalyser.get_chan_bi()\n",
    "    \n",
    "    all_chan_bi_df = pd.concat([chan_bi_df,all_chan_bi_df], ignore_index=True, sort=False)\n",
    "    \n",
    "all_chan_bi_df\n"
   ]
  },
  {
   "cell_type": "code",
   "execution_count": null,
   "metadata": {},
   "outputs": [],
   "source": []
  },
  {
   "cell_type": "code",
   "execution_count": null,
   "metadata": {},
   "outputs": [],
   "source": []
  },
  {
   "cell_type": "code",
   "execution_count": null,
   "metadata": {},
   "outputs": [],
   "source": []
  },
  {
   "cell_type": "code",
   "execution_count": null,
   "metadata": {},
   "outputs": [],
   "source": []
  },
  {
   "cell_type": "code",
   "execution_count": null,
   "metadata": {},
   "outputs": [],
   "source": []
  },
  {
   "cell_type": "code",
   "execution_count": null,
   "metadata": {},
   "outputs": [],
   "source": []
  },
  {
   "cell_type": "code",
   "execution_count": null,
   "metadata": {},
   "outputs": [],
   "source": []
  },
  {
   "cell_type": "code",
   "execution_count": null,
   "metadata": {},
   "outputs": [],
   "source": []
  },
  {
   "cell_type": "code",
   "execution_count": null,
   "metadata": {},
   "outputs": [],
   "source": []
  },
  {
   "cell_type": "code",
   "execution_count": null,
   "metadata": {},
   "outputs": [],
   "source": []
  },
  {
   "cell_type": "code",
   "execution_count": null,
   "metadata": {},
   "outputs": [],
   "source": [
    "\n",
    "bins=[-100,50,100,20000]\n",
    "cuts = pd.cut(part['entry_to_max_increase_per'],bins)\n",
    "\n",
    "total = part.shape[0]\n",
    "print('total ' + str(total))\n",
    "\n",
    "\n",
    "df = pd.DataFrame(columns=['bin','max_increase_per'])\n",
    "df['bin'] = pd.value_counts(cuts).index\n",
    "df['max_increase_per'] = pd.value_counts(cuts).values\n",
    "df['max_increase_per'] = round(100*df['max_increase_per']/total,2)\n",
    "\n",
    "df"
   ]
  },
  {
   "cell_type": "code",
   "execution_count": null,
   "metadata": {},
   "outputs": [],
   "source": []
  },
  {
   "cell_type": "code",
   "execution_count": null,
   "metadata": {},
   "outputs": [],
   "source": []
  },
  {
   "cell_type": "code",
   "execution_count": null,
   "metadata": {},
   "outputs": [],
   "source": []
  },
  {
   "cell_type": "code",
   "execution_count": null,
   "metadata": {},
   "outputs": [],
   "source": [
    "%run SectionAnalyser.ipynb\n",
    "%run Util.ipynb\n",
    "\n",
    "sectionAnalyser = SectionAnalyser(scale=3, short=30, mid=60)\n",
    "bi_df = sectionAnalyser.split_sections_into_chan_bi(level_day)\n",
    "bi_df"
   ]
  },
  {
   "cell_type": "code",
   "execution_count": null,
   "metadata": {},
   "outputs": [],
   "source": []
  },
  {
   "cell_type": "code",
   "execution_count": null,
   "metadata": {},
   "outputs": [],
   "source": []
  },
  {
   "cell_type": "code",
   "execution_count": null,
   "metadata": {},
   "outputs": [],
   "source": []
  },
  {
   "cell_type": "code",
   "execution_count": null,
   "metadata": {},
   "outputs": [],
   "source": []
  },
  {
   "cell_type": "code",
   "execution_count": null,
   "metadata": {},
   "outputs": [],
   "source": []
  },
  {
   "cell_type": "code",
   "execution_count": null,
   "metadata": {},
   "outputs": [],
   "source": []
  },
  {
   "cell_type": "code",
   "execution_count": null,
   "metadata": {
    "scrolled": false
   },
   "outputs": [],
   "source": [
    "resonate_df = sectionAnalyser.get_cross_resonate_on_week_and_day()\n",
    "resonate_df"
   ]
  },
  {
   "cell_type": "code",
   "execution_count": null,
   "metadata": {},
   "outputs": [],
   "source": [
    "def report(df):\n",
    "    avg_percent = df['d_price_incre'].mean()\n",
    "    print('avg d_price_incre:' + str(avg_percent))\n",
    "    \n",
    "    for threshold in [10,20,40,60,80]:\n",
    "        over_count = df[df['d_price_incre'] > threshold].shape[0]\n",
    "        total = df.shape[0]\n",
    "\n",
    "        if(total>0):\n",
    "            rate = 100*over_count/total\n",
    "            print('threshold '+ str(threshold) + ', over count size:'+ str(over_count) +\n",
    "                  ' total size:'+str(total) + ' rate ' +str(rate))    \n",
    "\n",
    "                    \n",
    "report(resonate_df[(resonate_df['d_ma_mid_dire']=='Up')])\n",
    "\n",
    "\n",
    "\n"
   ]
  },
  {
   "cell_type": "code",
   "execution_count": null,
   "metadata": {},
   "outputs": [],
   "source": [
    "d_boll_up_resonate_df = resonate_df[(resonate_df['d_boll']==True) & (resonate_df['d_ma_short_dire']=='Up')]\n",
    "\n",
    "for threshold in [10,20,40,60,80]:\n",
    "            over_count = d_boll_up_resonate_df[d_boll_up_resonate_df['d_price_incre'] > threshold].shape[0]\n",
    "            total = d_boll_up_resonate_df.shape[0]\n",
    "\n",
    "            if(total>0):\n",
    "                rate = 100*over_count/total\n",
    "                print('threshold '+ str(threshold) + ', over count size:'+ str(over_count) +\n",
    "                      ' total size:'+str(total) + ' rate ' +str(rate))"
   ]
  },
  {
   "cell_type": "code",
   "execution_count": null,
   "metadata": {},
   "outputs": [],
   "source": []
  },
  {
   "cell_type": "code",
   "execution_count": null,
   "metadata": {},
   "outputs": [],
   "source": []
  },
  {
   "cell_type": "code",
   "execution_count": null,
   "metadata": {},
   "outputs": [],
   "source": []
  },
  {
   "cell_type": "code",
   "execution_count": null,
   "metadata": {},
   "outputs": [],
   "source": []
  }
 ],
 "metadata": {
  "kernelspec": {
   "display_name": "ai",
   "language": "python",
   "name": "ai"
  },
  "language_info": {
   "codemirror_mode": {
    "name": "ipython",
    "version": 3
   },
   "file_extension": ".py",
   "mimetype": "text/x-python",
   "name": "python",
   "nbconvert_exporter": "python",
   "pygments_lexer": "ipython3",
   "version": "3.6.6"
  }
 },
 "nbformat": 4,
 "nbformat_minor": 2
}
