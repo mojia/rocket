{
 "cells": [
  {
   "cell_type": "code",
   "execution_count": 43,
   "metadata": {},
   "outputs": [],
   "source": [
    "%run Util.ipynb\n",
    "%run BreakSectionManager.ipynb\n",
    "%run EAdvantage.ipynb\n",
    "\n",
    "class EAdvantageOneStock(EAdvantage):\n",
    "    \n",
    "    def __init__(self,symbol,short,mid):\n",
    "        self.symbol = symbol\n",
    "        self.short = short\n",
    "        self.mid = mid\n",
    "        \n",
    "        \n",
    "    def compute_Mfe_Mae_distribution(self,start_date,end_date):\n",
    "        start_datetime = to_datetime(start_date)\n",
    "        end_datetime = to_datetime(end_date)\n",
    "        \n",
    "        analyser = BreakSectionManager(self.symbol,level_day,self.short,self.mid)\n",
    "        sections_df = analyser.get_all_break_sections()\n",
    "        sections_df = sections_df[(sections_df['d_s_datetime']>=start_datetime) & (sections_df['d_s_datetime']<=end_datetime)]\n",
    "        \n",
    "        sections_df = sections_df.dropna(subset=['mae'])\n",
    "        \n",
    "        sections_df['e_rate'] = sections_df['mfe']/sections_df['mae']\n",
    "        sections_df = sections_df.dropna(subset=['e_rate'])\n",
    "        \n",
    "        sections_df = sections_df[(sections_df['e_rate']>0) & (sections_df['e_rate']<1000)]\n",
    "        \n",
    "        return sections_df\n",
    "        \n"
   ]
  },
  {
   "cell_type": "code",
   "execution_count": null,
   "metadata": {},
   "outputs": [
    {
     "name": "stdout",
     "output_type": "stream",
     "text": [
      "build SZ#000929 break sections\n",
      "start to analyse Day level SZ#000929 all break sections...\n"
     ]
    }
   ],
   "source": [
    "\n",
    "last_date = '2001-01-01'\n",
    "\n",
    "dates_df = pd.DataFrame(columns=['short','mid','P50','P60','P70','P80','mean','median'])\n",
    "\n",
    "for short in [5,10,30,60]:\n",
    "    for mid in [10,30,60,90,120]:\n",
    "        eAdvantageOneStock = EAdvantageOneStock('SZ#000929',short,mid)\n",
    "        for date in ['2003-01-01','2006-01-01','2009-01-01','2011-01-01','2014-01-01','2015-01-01',\n",
    "                    '2018-01-01','2019-01-01']:\n",
    "            distribute = eAdvantageOneStock.compute_Mfe_Mae_distribution(last_date,date)\n",
    "            per_df = eAdvantageOneStock.get_Per_x(distribute)\n",
    "\n",
    "            dates_df = pd.concat([per_df,dates_df], ignore_index=True, sort=False)\n",
    "            last_date = date\n",
    "\n",
    "            \n",
    "dates_df"
   ]
  },
  {
   "cell_type": "code",
   "execution_count": null,
   "metadata": {},
   "outputs": [],
   "source": []
  }
 ],
 "metadata": {
  "kernelspec": {
   "display_name": "Python 3",
   "language": "python",
   "name": "python3"
  },
  "language_info": {
   "codemirror_mode": {
    "name": "ipython",
    "version": 3
   },
   "file_extension": ".py",
   "mimetype": "text/x-python",
   "name": "python",
   "nbconvert_exporter": "python",
   "pygments_lexer": "ipython3",
   "version": "3.6.8"
  }
 },
 "nbformat": 4,
 "nbformat_minor": 2
}
