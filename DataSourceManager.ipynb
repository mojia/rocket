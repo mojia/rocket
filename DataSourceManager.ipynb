{
 "cells": [
  {
   "cell_type": "code",
   "execution_count": null,
   "metadata": {},
   "outputs": [],
   "source": [
    "%run DataSource.ipynb\n",
    "\n",
    "class DataSourceManager(object):\n",
    "    _instance = None\n",
    "    data_source_map = {}\n",
    "    \n",
    "    def __new__(cls, *args, **kw):\n",
    "        if not cls._instance:\n",
    "            cls._instance = super(DataSourceManager, cls).__new__(cls, *args, **kw)\n",
    "        return cls._instance\n",
    "    \n",
    "    def get_data_source(self,symbol,level):\n",
    "        cache_key = symbol+'_'+level\n",
    "        \n",
    "        if(cache_key in self.data_source_map.keys()):\n",
    "            return self.data_source_map[cache_key]\n",
    "        else:\n",
    "            self.data_source_map[cache_key]=DataSource(symbol,level)\n",
    "            return self.data_source_map[cache_key]\n",
    "        \n",
    "        \n",
    "    "
   ]
  }
 ],
 "metadata": {
  "kernelspec": {
   "display_name": "ai",
   "language": "python",
   "name": "ai"
  },
  "language_info": {
   "codemirror_mode": {
    "name": "ipython",
    "version": 3
   },
   "file_extension": ".py",
   "mimetype": "text/x-python",
   "name": "python",
   "nbconvert_exporter": "python",
   "pygments_lexer": "ipython3",
   "version": "3.6.6"
  }
 },
 "nbformat": 4,
 "nbformat_minor": 2
}
