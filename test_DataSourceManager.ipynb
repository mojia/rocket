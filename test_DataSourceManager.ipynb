{
 "cells": [
  {
   "cell_type": "code",
   "execution_count": 1,
   "metadata": {},
   "outputs": [
    {
     "name": "stdout",
     "output_type": "stream",
     "text": [
      "{'SZ#002586_Day': <__main__.DataSource object at 0x10af9deb8>}\n",
      "{'SZ#002586_Day': <__main__.DataSource object at 0x10af9deb8>}\n",
      "\n",
      "{'SZ#002586_Day': <__main__.DataSource object at 0x10af9deb8>, 'SZ#002587_Day': <__main__.DataSource object at 0x10b5bdb38>}\n",
      "{'SZ#002586_Day': <__main__.DataSource object at 0x10af9deb8>, 'SZ#002587_Day': <__main__.DataSource object at 0x10b5bdb38>}\n"
     ]
    }
   ],
   "source": [
    "%run DataSourceManager.ipynb\n",
    "%run Util.ipynb\n",
    "\n",
    "dm_1 = DataSourceManager()\n",
    "dm_2 = DataSourceManager()\n",
    "\n",
    "symbol_1 = 'SZ#002586'\n",
    "symbol_2 = 'SZ#002587'\n",
    "\n",
    "dm_1.get_data_source(symbol_1,level_day)\n",
    "print(str(dm_1.data_source_map))\n",
    "print(str(dm_2.data_source_map))\n",
    "print()\n",
    "\n",
    "dm_2.get_data_source(symbol_2,level_day)\n",
    "print(str(dm_1.data_source_map))\n",
    "print(str(dm_2.data_source_map))\n",
    "\n"
   ]
  },
  {
   "cell_type": "code",
   "execution_count": null,
   "metadata": {},
   "outputs": [],
   "source": []
  }
 ],
 "metadata": {
  "kernelspec": {
   "display_name": "ai",
   "language": "python",
   "name": "ai"
  },
  "language_info": {
   "codemirror_mode": {
    "name": "ipython",
    "version": 3
   },
   "file_extension": ".py",
   "mimetype": "text/x-python",
   "name": "python",
   "nbconvert_exporter": "python",
   "pygments_lexer": "ipython3",
   "version": "3.6.6"
  }
 },
 "nbformat": 4,
 "nbformat_minor": 2
}
